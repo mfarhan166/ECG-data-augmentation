{
 "cells": [
  {
   "cell_type": "markdown",
   "metadata": {
    "id": "SsTzc3oi726u"
   },
   "source": [
    "# **Building a Convolutional Neural Network with Keras**"
   ]
  },
  {
   "cell_type": "code",
   "execution_count": 1,
   "metadata": {},
   "outputs": [
    {
     "name": "stdout",
     "output_type": "stream",
     "text": [
      "2.9.1\n"
     ]
    }
   ],
   "source": [
    "#Tensorflow version\n",
    "\n",
    "import tensorflow as tf\n",
    "print(tf.__version__)"
   ]
  },
  {
   "cell_type": "code",
   "execution_count": 2,
   "metadata": {},
   "outputs": [],
   "source": [
    "#Importing libraries\n",
    "\n",
    "import tensorflow as tf\n",
    "from tensorflow import keras\n",
    "from keras.layers import Input, Conv2D, Dense, Flatten, BatchNormalization, Dropout, MaxPooling2D, GlobalMaxPooling2D\n",
    "from keras.models import Model\n",
    "import matplotlib.pyplot as plt\n",
    "from keras.applications.efficientnet import EfficientNetB0\n",
    "from keras.preprocessing import image\n",
    "#from keras.preprocessing.image import load_img\n",
    "from keras.models import Sequential\n",
    "import numpy as np\n",
    "from tensorflow.keras import regularizers"
   ]
  },
  {
   "cell_type": "code",
   "execution_count": 3,
   "metadata": {},
   "outputs": [],
   "source": [
    "#17000 samples original dataset\n",
    "\n",
    "train_dir='/home/ubuntu/From_Laptop/multi-class-NEW/12-Lead_ECG/12-Leads-Graphs/Training/'\n",
    "val_dir='/home/ubuntu/From_Laptop/multi-class-NEW/12-Lead_ECG/12-Leads-Graphs/Validation/'"
   ]
  },
  {
   "cell_type": "code",
   "execution_count": 4,
   "metadata": {},
   "outputs": [
    {
     "name": "stdout",
     "output_type": "stream",
     "text": [
      "Found 13040 files belonging to 5 classes.\n"
     ]
    },
    {
     "name": "stderr",
     "output_type": "stream",
     "text": [
      "2023-02-07 19:30:31.606431: I tensorflow/stream_executor/cuda/cuda_gpu_executor.cc:975] successful NUMA node read from SysFS had negative value (-1), but there must be at least one NUMA node, so returning NUMA node zero\n",
      "2023-02-07 19:30:31.700658: I tensorflow/stream_executor/cuda/cuda_gpu_executor.cc:975] successful NUMA node read from SysFS had negative value (-1), but there must be at least one NUMA node, so returning NUMA node zero\n",
      "2023-02-07 19:30:31.701090: I tensorflow/stream_executor/cuda/cuda_gpu_executor.cc:975] successful NUMA node read from SysFS had negative value (-1), but there must be at least one NUMA node, so returning NUMA node zero\n",
      "2023-02-07 19:30:31.722104: I tensorflow/core/platform/cpu_feature_guard.cc:193] This TensorFlow binary is optimized with oneAPI Deep Neural Network Library (oneDNN) to use the following CPU instructions in performance-critical operations:  AVX2 FMA\n",
      "To enable them in other operations, rebuild TensorFlow with the appropriate compiler flags.\n",
      "2023-02-07 19:30:31.722724: I tensorflow/stream_executor/cuda/cuda_gpu_executor.cc:975] successful NUMA node read from SysFS had negative value (-1), but there must be at least one NUMA node, so returning NUMA node zero\n",
      "2023-02-07 19:30:31.723107: I tensorflow/stream_executor/cuda/cuda_gpu_executor.cc:975] successful NUMA node read from SysFS had negative value (-1), but there must be at least one NUMA node, so returning NUMA node zero\n",
      "2023-02-07 19:30:31.723449: I tensorflow/stream_executor/cuda/cuda_gpu_executor.cc:975] successful NUMA node read from SysFS had negative value (-1), but there must be at least one NUMA node, so returning NUMA node zero\n",
      "2023-02-07 19:30:32.626422: I tensorflow/stream_executor/cuda/cuda_gpu_executor.cc:975] successful NUMA node read from SysFS had negative value (-1), but there must be at least one NUMA node, so returning NUMA node zero\n",
      "2023-02-07 19:30:32.626617: I tensorflow/stream_executor/cuda/cuda_gpu_executor.cc:975] successful NUMA node read from SysFS had negative value (-1), but there must be at least one NUMA node, so returning NUMA node zero\n",
      "2023-02-07 19:30:32.626770: I tensorflow/stream_executor/cuda/cuda_gpu_executor.cc:975] successful NUMA node read from SysFS had negative value (-1), but there must be at least one NUMA node, so returning NUMA node zero\n",
      "2023-02-07 19:30:32.626892: I tensorflow/core/common_runtime/gpu/gpu_device.cc:1532] Created device /job:localhost/replica:0/task:0/device:GPU:0 with 7380 MB memory:  -> device: 0, name: NVIDIA GeForce GTX 1080, pci bus id: 0000:00:05.0, compute capability: 6.1\n"
     ]
    },
    {
     "name": "stdout",
     "output_type": "stream",
     "text": [
      "Found 5179 files belonging to 5 classes.\n"
     ]
    }
   ],
   "source": [
    "from tensorflow.keras import layers\n",
    "\n",
    "train_data = tf.keras.preprocessing.image_dataset_from_directory(directory=train_dir,\n",
    "                                                                 image_size=(256,256),\n",
    "                                                                 label_mode='categorical', batch_size=64, \n",
    "                                                                 )\n",
    "val_data = tf.keras.preprocessing.image_dataset_from_directory(directory=val_dir,\n",
    "                                                                 image_size=(256,256),\n",
    "                                                                 label_mode='categorical', batch_size=64,\n",
    "                                                                )"
   ]
  },
  {
   "cell_type": "code",
   "execution_count": 5,
   "metadata": {},
   "outputs": [],
   "source": [
    "#Normalization of the data\n",
    "\n",
    "nrmzln_layer = layers.experimental.preprocessing.Rescaling(1./255)\n",
    "\n",
    "train_data = train_data.map(lambda x,\n",
    "                          y: (nrmzln_layer(x), y))\n",
    "\n",
    "val_data = val_data.map(lambda x,\n",
    "                          y: (nrmzln_layer(x), y))"
   ]
  },
  {
   "cell_type": "code",
   "execution_count": 6,
   "metadata": {},
   "outputs": [],
   "source": [
    "#Custom Model Architecture\n",
    "\n",
    "from keras.layers import LeakyReLU\n",
    "model = tf.keras.models.Sequential([\n",
    "                                    \n",
    "    # First convolution layer \n",
    "    tf.keras.layers.Conv2D(32, 3, activation=LeakyReLU(alpha=0.01),padding=\"same\", input_shape=(256, 256, 3),use_bias=True),\n",
    "    tf.keras.layers.MaxPooling2D(2, 2),\n",
    "    tf.keras.layers.Dropout(0.50),\n",
    "    \n",
    "\n",
    "    # Second convolution layer \n",
    "    tf.keras.layers.Conv2D(64, 3, activation=LeakyReLU(alpha=0.01),padding=\"same\",use_bias=True),\n",
    "    tf.keras.layers.MaxPooling2D(2,2),\n",
    "    BatchNormalization(),\n",
    "    tf.keras.layers.Dropout(0.25),\n",
    "\n",
    "    \n",
    "    # Third convolution layer  \n",
    "    tf.keras.layers.Conv2D(128, 2, activation=LeakyReLU(alpha=0.01),padding=\"same\",use_bias=True),\n",
    "    tf.keras.layers.MaxPooling2D(2,2),\n",
    "    BatchNormalization(),\n",
    "    tf.keras.layers.Dropout(0.15),\n",
    "\n",
    "    # Fourth convolution layer \n",
    "    tf.keras.layers.Conv2D(96, 1, activation=LeakyReLU(alpha=0.01),padding=\"same\",use_bias=True),\n",
    "    tf.keras.layers.MaxPooling2D(2,2),\n",
    "    tf.keras.layers.Dropout(0.10),\n",
    "\n",
    "    # Flatten the pooled feature maps\n",
    "    tf.keras.layers.Flatten(),\n",
    "\n",
    "    # Fully connected hidden layer\n",
    "    tf.keras.layers.Dense(96, activation=LeakyReLU(alpha=0.01),use_bias=True),\n",
    "\n",
    "    # Output layer\n",
    "    tf.keras.layers.Dense(5, activation='softmax',activity_regularizer=regularizers.L2(0.001))  \n",
    "\n",
    "])\n"
   ]
  },
  {
   "cell_type": "code",
   "execution_count": 7,
   "metadata": {},
   "outputs": [
    {
     "name": "stdout",
     "output_type": "stream",
     "text": [
      "Model: \"sequential\"\n",
      "_________________________________________________________________\n",
      " Layer (type)                Output Shape              Param #   \n",
      "=================================================================\n",
      " conv2d (Conv2D)             (None, 256, 256, 32)      896       \n",
      "                                                                 \n",
      " max_pooling2d (MaxPooling2D  (None, 128, 128, 32)     0         \n",
      " )                                                               \n",
      "                                                                 \n",
      " dropout (Dropout)           (None, 128, 128, 32)      0         \n",
      "                                                                 \n",
      " conv2d_1 (Conv2D)           (None, 128, 128, 64)      18496     \n",
      "                                                                 \n",
      " max_pooling2d_1 (MaxPooling  (None, 64, 64, 64)       0         \n",
      " 2D)                                                             \n",
      "                                                                 \n",
      " batch_normalization (BatchN  (None, 64, 64, 64)       256       \n",
      " ormalization)                                                   \n",
      "                                                                 \n",
      " dropout_1 (Dropout)         (None, 64, 64, 64)        0         \n",
      "                                                                 \n",
      " conv2d_2 (Conv2D)           (None, 64, 64, 128)       32896     \n",
      "                                                                 \n",
      " max_pooling2d_2 (MaxPooling  (None, 32, 32, 128)      0         \n",
      " 2D)                                                             \n",
      "                                                                 \n",
      " batch_normalization_1 (Batc  (None, 32, 32, 128)      512       \n",
      " hNormalization)                                                 \n",
      "                                                                 \n",
      " dropout_2 (Dropout)         (None, 32, 32, 128)       0         \n",
      "                                                                 \n",
      " conv2d_3 (Conv2D)           (None, 32, 32, 96)        12384     \n",
      "                                                                 \n",
      " max_pooling2d_3 (MaxPooling  (None, 16, 16, 96)       0         \n",
      " 2D)                                                             \n",
      "                                                                 \n",
      " dropout_3 (Dropout)         (None, 16, 16, 96)        0         \n",
      "                                                                 \n",
      " flatten (Flatten)           (None, 24576)             0         \n",
      "                                                                 \n",
      " dense (Dense)               (None, 96)                2359392   \n",
      "                                                                 \n",
      " dense_1 (Dense)             (None, 5)                 485       \n",
      "                                                                 \n",
      "=================================================================\n",
      "Total params: 2,425,317\n",
      "Trainable params: 2,424,933\n",
      "Non-trainable params: 384\n",
      "_________________________________________________________________\n"
     ]
    }
   ],
   "source": [
    "#print model summary\n",
    "\n",
    "model.summary()"
   ]
  },
  {
   "cell_type": "code",
   "execution_count": 8,
   "metadata": {},
   "outputs": [],
   "source": [
    "#Performance evaluation Metrics delcaration \n",
    "\n",
    "from tensorflow.keras.optimizers import Adam\n",
    "from tensorflow.keras.metrics import SensitivityAtSpecificity,SpecificityAtSensitivity,Recall,Precision\n",
    "\n",
    "model.compile(loss=tf.losses.categorical_crossentropy,\n",
    "              optimizer=Adam(learning_rate=0.001),\n",
    "              metrics=['accuracy',SensitivityAtSpecificity(0.5),SpecificityAtSensitivity(0.5),Recall(0.5),Precision(0.5)]) \n"
   ]
  },
  {
   "cell_type": "code",
   "execution_count": 9,
   "metadata": {},
   "outputs": [
    {
     "name": "stdout",
     "output_type": "stream",
     "text": [
      "Device Spec:  /job:localhost/replica:0/device:GPU:*\n",
      "WARNING:tensorflow:`period` argument is deprecated. Please use `save_freq` to specify the frequency in number of batches seen.\n",
      "Epoch 1/150\n"
     ]
    },
    {
     "name": "stderr",
     "output_type": "stream",
     "text": [
      "2023-02-07 19:30:55.948954: I tensorflow/stream_executor/cuda/cuda_dnn.cc:384] Loaded cuDNN version 8100\n",
      "2023-02-07 19:30:56.424882: I tensorflow/core/platform/default/subprocess.cc:304] Start cannot spawn child process: No such file or directory\n"
     ]
    },
    {
     "name": "stdout",
     "output_type": "stream",
     "text": [
      "204/204 [==============================] - ETA: 0s - loss: 4.4610 - accuracy: 0.3524 - sensitivity_at_specificity: 0.7030 - specificity_at_sensitivity: 0.7226 - recall: 0.0829 - precision: 0.3460\n",
      "Epoch 1: val_accuracy improved from -inf to 0.13750, saving model to ECG_Spectrogram_Model.h5\n",
      "204/204 [==============================] - 35s 156ms/step - loss: 4.4610 - accuracy: 0.3524 - sensitivity_at_specificity: 0.7030 - specificity_at_sensitivity: 0.7226 - recall: 0.0829 - precision: 0.3460 - val_loss: 1.6426 - val_accuracy: 0.1375 - val_sensitivity_at_specificity: 0.3906 - val_specificity_at_sensitivity: 0.1469 - val_recall: 0.0000e+00 - val_precision: 0.0000e+00\n",
      "Epoch 2/150\n",
      "204/204 [==============================] - ETA: 0s - loss: 1.3783 - accuracy: 0.4325 - sensitivity_at_specificity: 0.8120 - specificity_at_sensitivity: 0.8204 - recall: 0.1712 - precision: 0.5780\n",
      "Epoch 2: val_accuracy improved from 0.13750 to 0.15000, saving model to ECG_Spectrogram_Model.h5\n",
      "204/204 [==============================] - 31s 151ms/step - loss: 1.3783 - accuracy: 0.4325 - sensitivity_at_specificity: 0.8120 - specificity_at_sensitivity: 0.8204 - recall: 0.1712 - precision: 0.5780 - val_loss: 1.8798 - val_accuracy: 0.1500 - val_sensitivity_at_specificity: 0.4094 - val_specificity_at_sensitivity: 0.2414 - val_recall: 0.0000e+00 - val_precision: 0.0000e+00\n",
      "Epoch 3/150\n",
      "204/204 [==============================] - ETA: 0s - loss: 1.2840 - accuracy: 0.4955 - sensitivity_at_specificity: 0.8666 - specificity_at_sensitivity: 0.8768 - recall: 0.2647 - precision: 0.6213\n",
      "Epoch 3: val_accuracy improved from 0.15000 to 0.25000, saving model to ECG_Spectrogram_Model.h5\n",
      "204/204 [==============================] - 31s 151ms/step - loss: 1.2840 - accuracy: 0.4955 - sensitivity_at_specificity: 0.8666 - specificity_at_sensitivity: 0.8768 - recall: 0.2647 - precision: 0.6213 - val_loss: 1.9612 - val_accuracy: 0.2500 - val_sensitivity_at_specificity: 0.6594 - val_specificity_at_sensitivity: 0.6523 - val_recall: 0.2500 - val_precision: 0.2500\n",
      "Epoch 4/150\n",
      "204/204 [==============================] - ETA: 0s - loss: 1.2089 - accuracy: 0.5245 - sensitivity_at_specificity: 0.8906 - specificity_at_sensitivity: 0.8983 - recall: 0.3317 - precision: 0.6602\n",
      "Epoch 4: val_accuracy improved from 0.25000 to 0.53438, saving model to ECG_Spectrogram_Model.h5\n",
      "204/204 [==============================] - 31s 151ms/step - loss: 1.2089 - accuracy: 0.5245 - sensitivity_at_specificity: 0.8906 - specificity_at_sensitivity: 0.8983 - recall: 0.3317 - precision: 0.6602 - val_loss: 1.5943 - val_accuracy: 0.5344 - val_sensitivity_at_specificity: 0.8344 - val_specificity_at_sensitivity: 0.9039 - val_recall: 0.4906 - val_precision: 0.5772\n",
      "Epoch 5/150\n",
      "204/204 [==============================] - ETA: 0s - loss: 1.0855 - accuracy: 0.5735 - sensitivity_at_specificity: 0.9227 - specificity_at_sensitivity: 0.9280 - recall: 0.3890 - precision: 0.7229\n",
      "Epoch 5: val_accuracy did not improve from 0.53438\n",
      "204/204 [==============================] - 31s 150ms/step - loss: 1.0855 - accuracy: 0.5735 - sensitivity_at_specificity: 0.9227 - specificity_at_sensitivity: 0.9280 - recall: 0.3890 - precision: 0.7229 - val_loss: 1.8682 - val_accuracy: 0.2625 - val_sensitivity_at_specificity: 0.9000 - val_specificity_at_sensitivity: 0.7672 - val_recall: 0.2625 - val_precision: 0.2642\n",
      "Epoch 6/150\n",
      "204/204 [==============================] - ETA: 0s - loss: 0.9891 - accuracy: 0.6169 - sensitivity_at_specificity: 0.9483 - specificity_at_sensitivity: 0.9482 - recall: 0.4454 - precision: 0.7494\n",
      "Epoch 6: val_accuracy improved from 0.53438 to 0.55937, saving model to ECG_Spectrogram_Model.h5\n",
      "204/204 [==============================] - 31s 153ms/step - loss: 0.9891 - accuracy: 0.6169 - sensitivity_at_specificity: 0.9483 - specificity_at_sensitivity: 0.9482 - recall: 0.4454 - precision: 0.7494 - val_loss: 1.3198 - val_accuracy: 0.5594 - val_sensitivity_at_specificity: 0.9250 - val_specificity_at_sensitivity: 0.9375 - val_recall: 0.5344 - val_precision: 0.6129\n",
      "Epoch 7/150\n",
      "204/204 [==============================] - ETA: 0s - loss: 0.9346 - accuracy: 0.6447 - sensitivity_at_specificity: 0.9586 - specificity_at_sensitivity: 0.9565 - recall: 0.4916 - precision: 0.7510\n",
      "Epoch 7: val_accuracy did not improve from 0.55937\n",
      "204/204 [==============================] - 31s 152ms/step - loss: 0.9346 - accuracy: 0.6447 - sensitivity_at_specificity: 0.9586 - specificity_at_sensitivity: 0.9565 - recall: 0.4916 - precision: 0.7510 - val_loss: 1.8676 - val_accuracy: 0.5594 - val_sensitivity_at_specificity: 0.8844 - val_specificity_at_sensitivity: 0.9297 - val_recall: 0.5562 - val_precision: 0.5742\n",
      "Epoch 8/150\n",
      "204/204 [==============================] - ETA: 0s - loss: 0.8973 - accuracy: 0.6600 - sensitivity_at_specificity: 0.9639 - specificity_at_sensitivity: 0.9634 - recall: 0.5303 - precision: 0.7570\n",
      "Epoch 8: val_accuracy improved from 0.55937 to 0.60938, saving model to ECG_Spectrogram_Model.h5\n",
      "204/204 [==============================] - 31s 153ms/step - loss: 0.8973 - accuracy: 0.6600 - sensitivity_at_specificity: 0.9639 - specificity_at_sensitivity: 0.9634 - recall: 0.5303 - precision: 0.7570 - val_loss: 1.1388 - val_accuracy: 0.6094 - val_sensitivity_at_specificity: 0.9438 - val_specificity_at_sensitivity: 0.9500 - val_recall: 0.5813 - val_precision: 0.6788\n",
      "Epoch 9/150\n",
      "204/204 [==============================] - ETA: 0s - loss: 0.8619 - accuracy: 0.6774 - sensitivity_at_specificity: 0.9677 - specificity_at_sensitivity: 0.9688 - recall: 0.5623 - precision: 0.7637\n",
      "Epoch 9: val_accuracy did not improve from 0.60938\n",
      "204/204 [==============================] - 31s 153ms/step - loss: 0.8619 - accuracy: 0.6774 - sensitivity_at_specificity: 0.9677 - specificity_at_sensitivity: 0.9688 - recall: 0.5623 - precision: 0.7637 - val_loss: 1.4560 - val_accuracy: 0.5781 - val_sensitivity_at_specificity: 0.9406 - val_specificity_at_sensitivity: 0.9500 - val_recall: 0.5781 - val_precision: 0.6026\n",
      "Epoch 10/150\n",
      "204/204 [==============================] - ETA: 0s - loss: 0.8228 - accuracy: 0.6882 - sensitivity_at_specificity: 0.9724 - specificity_at_sensitivity: 0.9737 - recall: 0.5936 - precision: 0.7703\n",
      "Epoch 10: val_accuracy did not improve from 0.60938\n",
      "204/204 [==============================] - 31s 152ms/step - loss: 0.8228 - accuracy: 0.6882 - sensitivity_at_specificity: 0.9724 - specificity_at_sensitivity: 0.9737 - recall: 0.5936 - precision: 0.7703 - val_loss: 1.4779 - val_accuracy: 0.5500 - val_sensitivity_at_specificity: 0.9656 - val_specificity_at_sensitivity: 0.9328 - val_recall: 0.5375 - val_precision: 0.5639\n",
      "Epoch 11/150\n",
      "204/204 [==============================] - ETA: 0s - loss: 0.8031 - accuracy: 0.6974 - sensitivity_at_specificity: 0.9748 - specificity_at_sensitivity: 0.9753 - recall: 0.6081 - precision: 0.7683\n",
      "Epoch 11: val_accuracy did not improve from 0.60938\n",
      "204/204 [==============================] - 31s 152ms/step - loss: 0.8031 - accuracy: 0.6974 - sensitivity_at_specificity: 0.9748 - specificity_at_sensitivity: 0.9753 - recall: 0.6081 - precision: 0.7683 - val_loss: 1.6479 - val_accuracy: 0.5688 - val_sensitivity_at_specificity: 0.9281 - val_specificity_at_sensitivity: 0.9469 - val_recall: 0.5656 - val_precision: 0.5783\n",
      "Epoch 12/150\n",
      "204/204 [==============================] - ETA: 0s - loss: 0.7594 - accuracy: 0.7144 - sensitivity_at_specificity: 0.9785 - specificity_at_sensitivity: 0.9787 - recall: 0.6315 - precision: 0.7845\n",
      "Epoch 12: val_accuracy did not improve from 0.60938\n",
      "204/204 [==============================] - 31s 152ms/step - loss: 0.7594 - accuracy: 0.7144 - sensitivity_at_specificity: 0.9785 - specificity_at_sensitivity: 0.9787 - recall: 0.6315 - precision: 0.7845 - val_loss: 1.8972 - val_accuracy: 0.5656 - val_sensitivity_at_specificity: 0.8719 - val_specificity_at_sensitivity: 0.9539 - val_recall: 0.5625 - val_precision: 0.5941\n",
      "Epoch 13/150\n",
      "204/204 [==============================] - ETA: 0s - loss: 0.7302 - accuracy: 0.7307 - sensitivity_at_specificity: 0.9803 - specificity_at_sensitivity: 0.9816 - recall: 0.6496 - precision: 0.7901\n",
      "Epoch 13: val_accuracy did not improve from 0.60938\n",
      "204/204 [==============================] - 31s 152ms/step - loss: 0.7302 - accuracy: 0.7307 - sensitivity_at_specificity: 0.9803 - specificity_at_sensitivity: 0.9816 - recall: 0.6496 - precision: 0.7901 - val_loss: 3.0469 - val_accuracy: 0.4844 - val_sensitivity_at_specificity: 0.7063 - val_specificity_at_sensitivity: 0.8625 - val_recall: 0.4844 - val_precision: 0.4859\n"
     ]
    },
    {
     "name": "stdout",
     "output_type": "stream",
     "text": [
      "Epoch 14/150\n",
      "204/204 [==============================] - ETA: 0s - loss: 0.7156 - accuracy: 0.7327 - sensitivity_at_specificity: 0.9843 - specificity_at_sensitivity: 0.9824 - recall: 0.6613 - precision: 0.7926\n",
      "Epoch 14: val_accuracy did not improve from 0.60938\n",
      "204/204 [==============================] - 31s 152ms/step - loss: 0.7156 - accuracy: 0.7327 - sensitivity_at_specificity: 0.9843 - specificity_at_sensitivity: 0.9824 - recall: 0.6613 - precision: 0.7926 - val_loss: 1.3972 - val_accuracy: 0.6094 - val_sensitivity_at_specificity: 0.9250 - val_specificity_at_sensitivity: 0.9664 - val_recall: 0.6062 - val_precision: 0.6382\n",
      "Epoch 15/150\n",
      "204/204 [==============================] - ETA: 0s - loss: 0.6966 - accuracy: 0.7439 - sensitivity_at_specificity: 0.9836 - specificity_at_sensitivity: 0.9836 - recall: 0.6757 - precision: 0.8001\n",
      "Epoch 15: val_accuracy improved from 0.60938 to 0.63125, saving model to ECG_Spectrogram_Model.h5\n",
      "204/204 [==============================] - 31s 153ms/step - loss: 0.6966 - accuracy: 0.7439 - sensitivity_at_specificity: 0.9836 - specificity_at_sensitivity: 0.9836 - recall: 0.6757 - precision: 0.8001 - val_loss: 1.3511 - val_accuracy: 0.6313 - val_sensitivity_at_specificity: 0.9250 - val_specificity_at_sensitivity: 0.9578 - val_recall: 0.6281 - val_precision: 0.6484\n",
      "Epoch 16/150\n",
      "204/204 [==============================] - ETA: 0s - loss: 0.7002 - accuracy: 0.7412 - sensitivity_at_specificity: 0.9817 - specificity_at_sensitivity: 0.9838 - recall: 0.6759 - precision: 0.7977\n",
      "Epoch 16: val_accuracy did not improve from 0.63125\n",
      "204/204 [==============================] - 31s 152ms/step - loss: 0.7002 - accuracy: 0.7412 - sensitivity_at_specificity: 0.9817 - specificity_at_sensitivity: 0.9838 - recall: 0.6759 - precision: 0.7977 - val_loss: 1.2242 - val_accuracy: 0.6125 - val_sensitivity_at_specificity: 0.9594 - val_specificity_at_sensitivity: 0.9445 - val_recall: 0.5813 - val_precision: 0.6348\n",
      "Epoch 17/150\n",
      "204/204 [==============================] - ETA: 0s - loss: 0.6740 - accuracy: 0.7465 - sensitivity_at_specificity: 0.9870 - specificity_at_sensitivity: 0.9853 - recall: 0.6837 - precision: 0.8013\n",
      "Epoch 17: val_accuracy did not improve from 0.63125\n",
      "204/204 [==============================] - 31s 152ms/step - loss: 0.6740 - accuracy: 0.7465 - sensitivity_at_specificity: 0.9870 - specificity_at_sensitivity: 0.9853 - recall: 0.6837 - precision: 0.8013 - val_loss: 1.6194 - val_accuracy: 0.6094 - val_sensitivity_at_specificity: 0.9031 - val_specificity_at_sensitivity: 0.9680 - val_recall: 0.5969 - val_precision: 0.6283\n",
      "Epoch 18/150\n",
      "204/204 [==============================] - ETA: 0s - loss: 0.6620 - accuracy: 0.7574 - sensitivity_at_specificity: 0.9860 - specificity_at_sensitivity: 0.9865 - recall: 0.6965 - precision: 0.8101\n",
      "Epoch 18: val_accuracy improved from 0.63125 to 0.65312, saving model to ECG_Spectrogram_Model.h5\n",
      "204/204 [==============================] - 31s 153ms/step - loss: 0.6620 - accuracy: 0.7574 - sensitivity_at_specificity: 0.9860 - specificity_at_sensitivity: 0.9865 - recall: 0.6965 - precision: 0.8101 - val_loss: 1.4667 - val_accuracy: 0.6531 - val_sensitivity_at_specificity: 0.8938 - val_specificity_at_sensitivity: 0.9719 - val_recall: 0.6438 - val_precision: 0.6667\n",
      "Epoch 19/150\n",
      "204/204 [==============================] - ETA: 0s - loss: 0.6434 - accuracy: 0.7594 - sensitivity_at_specificity: 0.9872 - specificity_at_sensitivity: 0.9873 - recall: 0.7030 - precision: 0.8112\n",
      "Epoch 19: val_accuracy did not improve from 0.65312\n",
      "204/204 [==============================] - 31s 152ms/step - loss: 0.6434 - accuracy: 0.7594 - sensitivity_at_specificity: 0.9872 - specificity_at_sensitivity: 0.9873 - recall: 0.7030 - precision: 0.8112 - val_loss: 1.4102 - val_accuracy: 0.6000 - val_sensitivity_at_specificity: 0.9062 - val_specificity_at_sensitivity: 0.9500 - val_recall: 0.5844 - val_precision: 0.6318\n",
      "Epoch 20/150\n",
      "204/204 [==============================] - ETA: 0s - loss: 0.6292 - accuracy: 0.7673 - sensitivity_at_specificity: 0.9880 - specificity_at_sensitivity: 0.9890 - recall: 0.7103 - precision: 0.8138\n",
      "Epoch 20: val_accuracy improved from 0.65312 to 0.66562, saving model to ECG_Spectrogram_Model.h5\n",
      "204/204 [==============================] - 31s 153ms/step - loss: 0.6292 - accuracy: 0.7673 - sensitivity_at_specificity: 0.9880 - specificity_at_sensitivity: 0.9890 - recall: 0.7103 - precision: 0.8138 - val_loss: 1.2386 - val_accuracy: 0.6656 - val_sensitivity_at_specificity: 0.9312 - val_specificity_at_sensitivity: 0.9633 - val_recall: 0.6469 - val_precision: 0.6923\n",
      "Epoch 21/150\n",
      "204/204 [==============================] - ETA: 0s - loss: 0.6185 - accuracy: 0.7728 - sensitivity_at_specificity: 0.9880 - specificity_at_sensitivity: 0.9887 - recall: 0.7171 - precision: 0.8194\n",
      "Epoch 21: val_accuracy improved from 0.66562 to 0.72188, saving model to ECG_Spectrogram_Model.h5\n",
      "204/204 [==============================] - 31s 153ms/step - loss: 0.6185 - accuracy: 0.7728 - sensitivity_at_specificity: 0.9880 - specificity_at_sensitivity: 0.9887 - recall: 0.7171 - precision: 0.8194 - val_loss: 0.8241 - val_accuracy: 0.7219 - val_sensitivity_at_specificity: 0.9750 - val_specificity_at_sensitivity: 0.9812 - val_recall: 0.7063 - val_precision: 0.7609\n",
      "Epoch 22/150\n",
      "204/204 [==============================] - ETA: 0s - loss: 0.6174 - accuracy: 0.7717 - sensitivity_at_specificity: 0.9915 - specificity_at_sensitivity: 0.9892 - recall: 0.7187 - precision: 0.8187\n",
      "Epoch 22: val_accuracy did not improve from 0.72188\n",
      "204/204 [==============================] - 31s 151ms/step - loss: 0.6174 - accuracy: 0.7717 - sensitivity_at_specificity: 0.9915 - specificity_at_sensitivity: 0.9892 - recall: 0.7187 - precision: 0.8187 - val_loss: 0.9032 - val_accuracy: 0.6938 - val_sensitivity_at_specificity: 0.9781 - val_specificity_at_sensitivity: 0.9820 - val_recall: 0.6750 - val_precision: 0.7248\n",
      "Epoch 23/150\n",
      "204/204 [==============================] - ETA: 0s - loss: 0.6010 - accuracy: 0.7782 - sensitivity_at_specificity: 0.9913 - specificity_at_sensitivity: 0.9900 - recall: 0.7241 - precision: 0.8243\n",
      "Epoch 23: val_accuracy did not improve from 0.72188\n",
      "204/204 [==============================] - 31s 151ms/step - loss: 0.6010 - accuracy: 0.7782 - sensitivity_at_specificity: 0.9913 - specificity_at_sensitivity: 0.9900 - recall: 0.7241 - precision: 0.8243 - val_loss: 1.1537 - val_accuracy: 0.6750 - val_sensitivity_at_specificity: 0.9406 - val_specificity_at_sensitivity: 0.9703 - val_recall: 0.6656 - val_precision: 0.7007\n",
      "Epoch 24/150\n",
      "204/204 [==============================] - ETA: 0s - loss: 0.5878 - accuracy: 0.7835 - sensitivity_at_specificity: 0.9919 - specificity_at_sensitivity: 0.9902 - recall: 0.7325 - precision: 0.8240\n",
      "Epoch 24: val_accuracy did not improve from 0.72188\n",
      "204/204 [==============================] - 31s 152ms/step - loss: 0.5878 - accuracy: 0.7835 - sensitivity_at_specificity: 0.9919 - specificity_at_sensitivity: 0.9902 - recall: 0.7325 - precision: 0.8240 - val_loss: 1.1379 - val_accuracy: 0.6625 - val_sensitivity_at_specificity: 0.9375 - val_specificity_at_sensitivity: 0.9734 - val_recall: 0.6594 - val_precision: 0.6851\n",
      "Epoch 25/150\n",
      "204/204 [==============================] - ETA: 0s - loss: 0.5776 - accuracy: 0.7856 - sensitivity_at_specificity: 0.9917 - specificity_at_sensitivity: 0.9910 - recall: 0.7345 - precision: 0.8279\n",
      "Epoch 25: val_accuracy did not improve from 0.72188\n",
      "204/204 [==============================] - 31s 152ms/step - loss: 0.5776 - accuracy: 0.7856 - sensitivity_at_specificity: 0.9917 - specificity_at_sensitivity: 0.9910 - recall: 0.7345 - precision: 0.8279 - val_loss: 0.9996 - val_accuracy: 0.7031 - val_sensitivity_at_specificity: 0.9500 - val_specificity_at_sensitivity: 0.9836 - val_recall: 0.7000 - val_precision: 0.7273\n",
      "Epoch 26/150\n",
      "204/204 [==============================] - ETA: 0s - loss: 0.5656 - accuracy: 0.7870 - sensitivity_at_specificity: 0.9918 - specificity_at_sensitivity: 0.9919 - recall: 0.7406 - precision: 0.8300\n",
      "Epoch 26: val_accuracy did not improve from 0.72188\n",
      "204/204 [==============================] - 31s 152ms/step - loss: 0.5656 - accuracy: 0.7870 - sensitivity_at_specificity: 0.9918 - specificity_at_sensitivity: 0.9919 - recall: 0.7406 - precision: 0.8300 - val_loss: 1.1332 - val_accuracy: 0.6594 - val_sensitivity_at_specificity: 0.9406 - val_specificity_at_sensitivity: 0.9766 - val_recall: 0.6531 - val_precision: 0.6808\n"
     ]
    },
    {
     "name": "stdout",
     "output_type": "stream",
     "text": [
      "Epoch 27/150\n",
      "204/204 [==============================] - ETA: 0s - loss: 0.5491 - accuracy: 0.7979 - sensitivity_at_specificity: 0.9925 - specificity_at_sensitivity: 0.9919 - recall: 0.7505 - precision: 0.8403\n",
      "Epoch 27: val_accuracy improved from 0.72188 to 0.76250, saving model to ECG_Spectrogram_Model.h5\n",
      "204/204 [==============================] - 31s 153ms/step - loss: 0.5491 - accuracy: 0.7979 - sensitivity_at_specificity: 0.9925 - specificity_at_sensitivity: 0.9919 - recall: 0.7505 - precision: 0.8403 - val_loss: 0.7531 - val_accuracy: 0.7625 - val_sensitivity_at_specificity: 0.9719 - val_specificity_at_sensitivity: 0.9875 - val_recall: 0.7375 - val_precision: 0.7687\n",
      "Epoch 28/150\n",
      "204/204 [==============================] - ETA: 0s - loss: 0.5389 - accuracy: 0.7969 - sensitivity_at_specificity: 0.9959 - specificity_at_sensitivity: 0.9929 - recall: 0.7514 - precision: 0.8355\n",
      "Epoch 28: val_accuracy did not improve from 0.76250\n",
      "204/204 [==============================] - 31s 152ms/step - loss: 0.5389 - accuracy: 0.7969 - sensitivity_at_specificity: 0.9959 - specificity_at_sensitivity: 0.9929 - recall: 0.7514 - precision: 0.8355 - val_loss: 1.3785 - val_accuracy: 0.6281 - val_sensitivity_at_specificity: 0.9219 - val_specificity_at_sensitivity: 0.9594 - val_recall: 0.6219 - val_precision: 0.6358\n",
      "Epoch 29/150\n",
      "204/204 [==============================] - ETA: 0s - loss: 0.5275 - accuracy: 0.8049 - sensitivity_at_specificity: 0.9955 - specificity_at_sensitivity: 0.9932 - recall: 0.7590 - precision: 0.8429\n",
      "Epoch 29: val_accuracy improved from 0.76250 to 0.80625, saving model to ECG_Spectrogram_Model.h5\n",
      "204/204 [==============================] - 31s 153ms/step - loss: 0.5275 - accuracy: 0.8049 - sensitivity_at_specificity: 0.9955 - specificity_at_sensitivity: 0.9932 - recall: 0.7590 - precision: 0.8429 - val_loss: 0.5520 - val_accuracy: 0.8062 - val_sensitivity_at_specificity: 0.9906 - val_specificity_at_sensitivity: 0.9961 - val_recall: 0.7906 - val_precision: 0.8241\n",
      "Epoch 30/150\n",
      "204/204 [==============================] - ETA: 0s - loss: 0.5241 - accuracy: 0.8079 - sensitivity_at_specificity: 0.9949 - specificity_at_sensitivity: 0.9931 - recall: 0.7662 - precision: 0.8473\n",
      "Epoch 30: val_accuracy did not improve from 0.80625\n",
      "204/204 [==============================] - 31s 151ms/step - loss: 0.5241 - accuracy: 0.8079 - sensitivity_at_specificity: 0.9949 - specificity_at_sensitivity: 0.9931 - recall: 0.7662 - precision: 0.8473 - val_loss: 0.6797 - val_accuracy: 0.7469 - val_sensitivity_at_specificity: 0.9937 - val_specificity_at_sensitivity: 0.9883 - val_recall: 0.7312 - val_precision: 0.7826\n",
      "Epoch 31/150\n",
      "204/204 [==============================] - ETA: 0s - loss: 0.5027 - accuracy: 0.8168 - sensitivity_at_specificity: 0.9960 - specificity_at_sensitivity: 0.9943 - recall: 0.7773 - precision: 0.8516\n",
      "Epoch 31: val_accuracy did not improve from 0.80625\n",
      "204/204 [==============================] - 31s 152ms/step - loss: 0.5027 - accuracy: 0.8168 - sensitivity_at_specificity: 0.9960 - specificity_at_sensitivity: 0.9943 - recall: 0.7773 - precision: 0.8516 - val_loss: 0.7970 - val_accuracy: 0.7531 - val_sensitivity_at_specificity: 0.9750 - val_specificity_at_sensitivity: 0.9914 - val_recall: 0.7469 - val_precision: 0.7836\n",
      "Epoch 32/150\n",
      "204/204 [==============================] - ETA: 0s - loss: 0.4959 - accuracy: 0.8137 - sensitivity_at_specificity: 0.9952 - specificity_at_sensitivity: 0.9943 - recall: 0.7769 - precision: 0.8488\n",
      "Epoch 32: val_accuracy did not improve from 0.80625\n",
      "204/204 [==============================] - 31s 152ms/step - loss: 0.4959 - accuracy: 0.8137 - sensitivity_at_specificity: 0.9952 - specificity_at_sensitivity: 0.9943 - recall: 0.7769 - precision: 0.8488 - val_loss: 0.7790 - val_accuracy: 0.7531 - val_sensitivity_at_specificity: 0.9812 - val_specificity_at_sensitivity: 0.9914 - val_recall: 0.7437 - val_precision: 0.7677\n",
      "Epoch 33/150\n",
      "204/204 [==============================] - ETA: 0s - loss: 0.4837 - accuracy: 0.8202 - sensitivity_at_specificity: 0.9956 - specificity_at_sensitivity: 0.9944 - recall: 0.7827 - precision: 0.8511\n",
      "Epoch 33: val_accuracy did not improve from 0.80625\n",
      "204/204 [==============================] - 31s 152ms/step - loss: 0.4837 - accuracy: 0.8202 - sensitivity_at_specificity: 0.9956 - specificity_at_sensitivity: 0.9944 - recall: 0.7827 - precision: 0.8511 - val_loss: 0.7411 - val_accuracy: 0.7531 - val_sensitivity_at_specificity: 0.9844 - val_specificity_at_sensitivity: 0.9945 - val_recall: 0.7312 - val_precision: 0.7697\n",
      "Epoch 34/150\n",
      "204/204 [==============================] - ETA: 0s - loss: 0.4603 - accuracy: 0.8286 - sensitivity_at_specificity: 0.9965 - specificity_at_sensitivity: 0.9954 - recall: 0.7947 - precision: 0.8603\n",
      "Epoch 34: val_accuracy did not improve from 0.80625\n",
      "204/204 [==============================] - 31s 152ms/step - loss: 0.4603 - accuracy: 0.8286 - sensitivity_at_specificity: 0.9965 - specificity_at_sensitivity: 0.9954 - recall: 0.7947 - precision: 0.8603 - val_loss: 0.5863 - val_accuracy: 0.7875 - val_sensitivity_at_specificity: 0.9906 - val_specificity_at_sensitivity: 0.9906 - val_recall: 0.7625 - val_precision: 0.8243\n",
      "Epoch 35/150\n",
      "204/204 [==============================] - ETA: 0s - loss: 0.4604 - accuracy: 0.8277 - sensitivity_at_specificity: 0.9957 - specificity_at_sensitivity: 0.9956 - recall: 0.7934 - precision: 0.8588\n",
      "Epoch 35: val_accuracy did not improve from 0.80625\n",
      "204/204 [==============================] - 31s 152ms/step - loss: 0.4604 - accuracy: 0.8277 - sensitivity_at_specificity: 0.9957 - specificity_at_sensitivity: 0.9956 - recall: 0.7934 - precision: 0.8588 - val_loss: 0.7882 - val_accuracy: 0.7344 - val_sensitivity_at_specificity: 0.9719 - val_specificity_at_sensitivity: 0.9922 - val_recall: 0.7188 - val_precision: 0.7516\n",
      "Epoch 36/150\n",
      "204/204 [==============================] - ETA: 0s - loss: 0.4385 - accuracy: 0.8357 - sensitivity_at_specificity: 0.9963 - specificity_at_sensitivity: 0.9962 - recall: 0.8035 - precision: 0.8655\n",
      "Epoch 36: val_accuracy did not improve from 0.80625\n",
      "204/204 [==============================] - 31s 152ms/step - loss: 0.4385 - accuracy: 0.8357 - sensitivity_at_specificity: 0.9963 - specificity_at_sensitivity: 0.9962 - recall: 0.8035 - precision: 0.8655 - val_loss: 0.7038 - val_accuracy: 0.7594 - val_sensitivity_at_specificity: 0.9812 - val_specificity_at_sensitivity: 0.9937 - val_recall: 0.7500 - val_precision: 0.7792\n"
     ]
    }
   ],
   "source": [
    "#Model Execution\n",
    "\n",
    "from keras.callbacks import ModelCheckpoint, EarlyStopping\n",
    "\n",
    "# Initializing Device Specification\n",
    "device_spec = tf.DeviceSpec(job =\"localhost\", replica = 0, device_type = \"GPU\")\n",
    " \n",
    "# Printing the DeviceSpec\n",
    "print('Device Spec: ', device_spec.to_string())\n",
    " \n",
    "# Enabling device logging\n",
    "tf.debugging.set_log_device_placement(True)\n",
    " \n",
    "# Specifying the device\n",
    "with tf.device(device_spec):\n",
    "    \n",
    "#with tf.device('/gpu:10'):\n",
    "    \n",
    "    checkpoint = ModelCheckpoint(\"ECG_Spectrogram_Model.h5\", monitor='val_accuracy', verbose=1, save_best_only=True, save_weights_only=False, mode='auto', period=1)\n",
    "    mycallback=tf.keras.callbacks.EarlyStopping(monitor=\"val_accuracy\", patience=7, mode=\"auto\")\n",
    "    \n",
    "    history = model.fit(\n",
    "          train_data,\n",
    "          #steps_per_epoch=20, \n",
    "          epochs=150,\n",
    "          verbose=1,\n",
    "          validation_data = val_data,\n",
    "          validation_steps=5, \n",
    "          callbacks = [mycallback,checkpoint]\n",
    "    ) "
   ]
  },
  {
   "cell_type": "code",
   "execution_count": 10,
   "metadata": {},
   "outputs": [
    {
     "name": "stdout",
     "output_type": "stream",
     "text": [
      "Training Accuracy:  0.8356595039367676\n",
      "Validation Accuracy:  0.8062499761581421\n",
      "Validation Specificity:  0.99609375\n",
      "Validation Sensitivity:  0.9937499761581421\n",
      "Validation Recall:  0.7906249761581421\n",
      "Validation Precision:  0.8243243098258972\n",
      "Validation Loss:  0.5519780516624451\n"
     ]
    }
   ],
   "source": [
    "Training_Accuracy=history.history['accuracy']\n",
    "Validation_Accuracy=history.history['val_accuracy']\n",
    "Validation_Specificity=history.history['val_specificity_at_sensitivity']\n",
    "Validation_Sensitivity=history.history['val_sensitivity_at_specificity']\n",
    "Validation_Recall=history.history['val_recall']\n",
    "Validation_Precision=history.history['val_precision']\n",
    "Validation_Loss=history.history['val_loss']\n",
    "\n",
    "print(\"Training Accuracy: \",max(Training_Accuracy))\n",
    "print(\"Validation Accuracy: \",max(Validation_Accuracy))\n",
    "print(\"Validation Specificity: \",max(Validation_Specificity))\n",
    "print(\"Validation Sensitivity: \",max(Validation_Sensitivity))\n",
    "print(\"Validation Recall: \",max(Validation_Recall))\n",
    "print(\"Validation Precision: \",max(Validation_Precision))\n",
    "print(\"Validation Loss: \",min(Validation_Loss))"
   ]
  },
  {
   "cell_type": "code",
   "execution_count": 11,
   "metadata": {},
   "outputs": [
    {
     "data": {
      "image/png": "[encoded data removed]",
      "text/plain": [
       "<Figure size 720x432 with 1 Axes>"
      ]
     },
     "metadata": {
      "needs_background": "light"
     },
     "output_type": "display_data"
    }
   ],
   "source": [
    "#Accuracy Graph\n",
    "plt.figure(figsize=(10,6))\n",
    "plt.plot(history.history['accuracy'])\n",
    "plt.plot(history.history['val_accuracy'])\n",
    "plt.title('Model accuracy')\n",
    "plt.ylabel('Accuracy')\n",
    "plt.xlabel('Epoch')\n",
    "plt.legend(['Train', 'Test'], loc='upper left')\n",
    "plt.show()"
   ]
  },
  {
   "cell_type": "code",
   "execution_count": 12,
   "metadata": {},
   "outputs": [
    {
     "data": {
      "image/png": "[encoded data removed]",
      "text/plain": [
       "<Figure size 720x432 with 1 Axes>"
      ]
     },
     "metadata": {
      "needs_background": "light"
     },
     "output_type": "display_data"
    }
   ],
   "source": [
    "#Loss graph\n",
    "plt.figure(figsize=(10,6))\n",
    "plt.plot(history.history['loss'])\n",
    "plt.plot(history.history['val_loss'])\n",
    "plt.title('Model Loss')\n",
    "plt.ylabel('Loss')\n",
    "plt.xlabel('Epoch')\n",
    "plt.legend(['Train', 'Test'], loc='upper left')\n",
    "plt.show()"
   ]
  },
  {
   "cell_type": "code",
   "execution_count": null,
   "metadata": {},
   "outputs": [],
   "source": []
  }
 ],
 "metadata": {
  "accelerator": "GPU",
  "colab": {
   "collapsed_sections": [
    "7e88OLey6Bgd"
   ],
   "provenance": []
  },
  "gpuClass": "standard",
  "kernelspec": {
   "display_name": "Python 3 (ipykernel)",
   "language": "python",
   "name": "python3"
  },
  "language_info": {
   "codemirror_mode": {
    "name": "ipython",
    "version": 3
   },
   "file_extension": ".py",
   "mimetype": "text/x-python",
   "name": "python",
   "nbconvert_exporter": "python",
   "pygments_lexer": "ipython3",
   "version": "3.10.6"
  }
 },
 "nbformat": 4,
 "nbformat_minor": 4
}
