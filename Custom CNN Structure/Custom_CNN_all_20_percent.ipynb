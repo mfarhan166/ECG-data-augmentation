{
 "cells": [
  {
   "cell_type": "markdown",
   "metadata": {
    "id": "SsTzc3oi726u"
   },
   "source": [
    "# **Building a Convolutional Neural Network with Keras**"
   ]
  },
  {
   "cell_type": "code",
   "execution_count": 1,
   "metadata": {},
   "outputs": [
    {
     "name": "stdout",
     "output_type": "stream",
     "text": [
      "2.9.1\n"
     ]
    }
   ],
   "source": [
    "#Tensorflow version\n",
    "\n",
    "import tensorflow as tf\n",
    "print(tf.__version__)"
   ]
  },
  {
   "cell_type": "code",
   "execution_count": 2,
   "metadata": {},
   "outputs": [],
   "source": [
    "#Importing libraries\n",
    "\n",
    "import tensorflow as tf\n",
    "from tensorflow import keras\n",
    "from keras.layers import Input, Conv2D, Dense, Flatten, BatchNormalization, Dropout, MaxPooling2D, GlobalMaxPooling2D\n",
    "from keras.models import Model\n",
    "import matplotlib.pyplot as plt\n",
    "from keras.applications.efficientnet import EfficientNetB0\n",
    "from keras.preprocessing import image\n",
    "#from keras.preprocessing.image import load_img\n",
    "from keras.models import Sequential\n",
    "import numpy as np\n",
    "from tensorflow.keras import regularizers"
   ]
  },
  {
   "cell_type": "code",
   "execution_count": 3,
   "metadata": {},
   "outputs": [],
   "source": [
    "# 10 percent\n",
    "train_dir='/home/ubuntu/From_Laptop/multi-class-NEW/12-Lead_ECG_version_2/DA_version_3/Model_Training/20 percent/Training/'\n",
    "val_dir='/home/ubuntu/From_Laptop/multi-class-NEW/12-Lead_ECG_version_2/DA_version_3/Model_Training/20 percent/Validation/'\n"
   ]
  },
  {
   "cell_type": "code",
   "execution_count": 4,
   "metadata": {},
   "outputs": [
    {
     "name": "stdout",
     "output_type": "stream",
     "text": [
      "Found 30805 files belonging to 5 classes.\n"
     ]
    },
    {
     "name": "stderr",
     "output_type": "stream",
     "text": [
      "2023-02-07 14:44:22.308066: I tensorflow/stream_executor/cuda/cuda_gpu_executor.cc:975] successful NUMA node read from SysFS had negative value (-1), but there must be at least one NUMA node, so returning NUMA node zero\n",
      "2023-02-07 14:44:22.340652: I tensorflow/stream_executor/cuda/cuda_gpu_executor.cc:975] successful NUMA node read from SysFS had negative value (-1), but there must be at least one NUMA node, so returning NUMA node zero\n",
      "2023-02-07 14:44:22.340984: I tensorflow/stream_executor/cuda/cuda_gpu_executor.cc:975] successful NUMA node read from SysFS had negative value (-1), but there must be at least one NUMA node, so returning NUMA node zero\n",
      "2023-02-07 14:44:22.362199: I tensorflow/core/platform/cpu_feature_guard.cc:193] This TensorFlow binary is optimized with oneAPI Deep Neural Network Library (oneDNN) to use the following CPU instructions in performance-critical operations:  AVX2 FMA\n",
      "To enable them in other operations, rebuild TensorFlow with the appropriate compiler flags.\n",
      "2023-02-07 14:44:22.362976: I tensorflow/stream_executor/cuda/cuda_gpu_executor.cc:975] successful NUMA node read from SysFS had negative value (-1), but there must be at least one NUMA node, so returning NUMA node zero\n",
      "2023-02-07 14:44:22.363405: I tensorflow/stream_executor/cuda/cuda_gpu_executor.cc:975] successful NUMA node read from SysFS had negative value (-1), but there must be at least one NUMA node, so returning NUMA node zero\n",
      "2023-02-07 14:44:22.363749: I tensorflow/stream_executor/cuda/cuda_gpu_executor.cc:975] successful NUMA node read from SysFS had negative value (-1), but there must be at least one NUMA node, so returning NUMA node zero\n",
      "2023-02-07 14:44:22.868620: I tensorflow/stream_executor/cuda/cuda_gpu_executor.cc:975] successful NUMA node read from SysFS had negative value (-1), but there must be at least one NUMA node, so returning NUMA node zero\n",
      "2023-02-07 14:44:22.868806: I tensorflow/stream_executor/cuda/cuda_gpu_executor.cc:975] successful NUMA node read from SysFS had negative value (-1), but there must be at least one NUMA node, so returning NUMA node zero\n",
      "2023-02-07 14:44:22.868991: I tensorflow/stream_executor/cuda/cuda_gpu_executor.cc:975] successful NUMA node read from SysFS had negative value (-1), but there must be at least one NUMA node, so returning NUMA node zero\n",
      "2023-02-07 14:44:22.869124: I tensorflow/core/common_runtime/gpu/gpu_device.cc:1532] Created device /job:localhost/replica:0/task:0/device:GPU:0 with 7380 MB memory:  -> device: 0, name: NVIDIA GeForce GTX 1080, pci bus id: 0000:00:05.0, compute capability: 6.1\n"
     ]
    },
    {
     "name": "stdout",
     "output_type": "stream",
     "text": [
      "Found 8188 files belonging to 5 classes.\n"
     ]
    }
   ],
   "source": [
    "from tensorflow.keras import layers\n",
    "\n",
    "train_data = tf.keras.preprocessing.image_dataset_from_directory(directory=train_dir,\n",
    "                                                                 image_size=(256,256),\n",
    "                                                                 label_mode='categorical', batch_size=64, \n",
    "                                                                 )\n",
    "val_data = tf.keras.preprocessing.image_dataset_from_directory(directory=val_dir,\n",
    "                                                                 image_size=(256,256),\n",
    "                                                                 label_mode='categorical', batch_size=64,\n",
    "                                                                )"
   ]
  },
  {
   "cell_type": "code",
   "execution_count": 5,
   "metadata": {},
   "outputs": [],
   "source": [
    "#Normalization of the data\n",
    "\n",
    "nrmzln_layer = layers.experimental.preprocessing.Rescaling(1./255)\n",
    "\n",
    "train_data = train_data.map(lambda x,\n",
    "                          y: (nrmzln_layer(x), y))\n",
    "\n",
    "val_data = val_data.map(lambda x,\n",
    "                          y: (nrmzln_layer(x), y))"
   ]
  },
  {
   "cell_type": "code",
   "execution_count": 6,
   "metadata": {},
   "outputs": [],
   "source": [
    "#Custom Model Architecture\n",
    "\n",
    "from keras.layers import LeakyReLU\n",
    "model = tf.keras.models.Sequential([\n",
    "                                    \n",
    "    # First convolution layer \n",
    "    tf.keras.layers.Conv2D(32, 3, activation=LeakyReLU(alpha=0.01),padding=\"same\", input_shape=(256, 256, 3),use_bias=True),\n",
    "    tf.keras.layers.MaxPooling2D(2, 2),\n",
    "    tf.keras.layers.Dropout(0.50),\n",
    "    \n",
    "\n",
    "    # Second convolution layer \n",
    "    tf.keras.layers.Conv2D(64, 3, activation=LeakyReLU(alpha=0.01),padding=\"same\",use_bias=True),\n",
    "    tf.keras.layers.MaxPooling2D(2,2),\n",
    "    BatchNormalization(),\n",
    "    tf.keras.layers.Dropout(0.25),\n",
    "\n",
    "    \n",
    "    # Third convolution layer  \n",
    "    tf.keras.layers.Conv2D(128, 2, activation=LeakyReLU(alpha=0.01),padding=\"same\",use_bias=True),\n",
    "    tf.keras.layers.MaxPooling2D(2,2),\n",
    "    BatchNormalization(),\n",
    "    tf.keras.layers.Dropout(0.15),\n",
    "\n",
    "    # Fourth convolution layer \n",
    "    tf.keras.layers.Conv2D(64, 1, activation=LeakyReLU(alpha=0.01),padding=\"same\",use_bias=True),\n",
    "    tf.keras.layers.MaxPooling2D(2,2),\n",
    "    tf.keras.layers.Dropout(0.10),\n",
    "\n",
    "    # Flatten the pooled feature maps\n",
    "    tf.keras.layers.Flatten(),\n",
    "\n",
    "    # Fully connected hidden layer\n",
    "    tf.keras.layers.Dense(96, activation=LeakyReLU(alpha=0.01),use_bias=True),\n",
    "\n",
    "    # Output layer\n",
    "    tf.keras.layers.Dense(5, activation='softmax',activity_regularizer=regularizers.L2(0.001))  \n",
    "\n",
    "])\n"
   ]
  },
  {
   "cell_type": "code",
   "execution_count": 7,
   "metadata": {},
   "outputs": [
    {
     "name": "stdout",
     "output_type": "stream",
     "text": [
      "Model: \"sequential\"\n",
      "_________________________________________________________________\n",
      " Layer (type)                Output Shape              Param #   \n",
      "=================================================================\n",
      " conv2d (Conv2D)             (None, 256, 256, 32)      896       \n",
      "                                                                 \n",
      " max_pooling2d (MaxPooling2D  (None, 128, 128, 32)     0         \n",
      " )                                                               \n",
      "                                                                 \n",
      " dropout (Dropout)           (None, 128, 128, 32)      0         \n",
      "                                                                 \n",
      " conv2d_1 (Conv2D)           (None, 128, 128, 64)      18496     \n",
      "                                                                 \n",
      " max_pooling2d_1 (MaxPooling  (None, 64, 64, 64)       0         \n",
      " 2D)                                                             \n",
      "                                                                 \n",
      " batch_normalization (BatchN  (None, 64, 64, 64)       256       \n",
      " ormalization)                                                   \n",
      "                                                                 \n",
      " dropout_1 (Dropout)         (None, 64, 64, 64)        0         \n",
      "                                                                 \n",
      " conv2d_2 (Conv2D)           (None, 64, 64, 128)       32896     \n",
      "                                                                 \n",
      " max_pooling2d_2 (MaxPooling  (None, 32, 32, 128)      0         \n",
      " 2D)                                                             \n",
      "                                                                 \n",
      " batch_normalization_1 (Batc  (None, 32, 32, 128)      512       \n",
      " hNormalization)                                                 \n",
      "                                                                 \n",
      " dropout_2 (Dropout)         (None, 32, 32, 128)       0         \n",
      "                                                                 \n",
      " conv2d_3 (Conv2D)           (None, 32, 32, 64)        8256      \n",
      "                                                                 \n",
      " max_pooling2d_3 (MaxPooling  (None, 16, 16, 64)       0         \n",
      " 2D)                                                             \n",
      "                                                                 \n",
      " dropout_3 (Dropout)         (None, 16, 16, 64)        0         \n",
      "                                                                 \n",
      " flatten (Flatten)           (None, 16384)             0         \n",
      "                                                                 \n",
      " dense (Dense)               (None, 96)                1572960   \n",
      "                                                                 \n",
      " dense_1 (Dense)             (None, 5)                 485       \n",
      "                                                                 \n",
      "=================================================================\n",
      "Total params: 1,634,757\n",
      "Trainable params: 1,634,373\n",
      "Non-trainable params: 384\n",
      "_________________________________________________________________\n"
     ]
    }
   ],
   "source": [
    "#print model summary\n",
    "\n",
    "model.summary()"
   ]
  },
  {
   "cell_type": "code",
   "execution_count": 8,
   "metadata": {},
   "outputs": [],
   "source": [
    "#Performance evaluation Metrics delcaration \n",
    "\n",
    "from tensorflow.keras.optimizers import Adam\n",
    "from tensorflow.keras.metrics import SensitivityAtSpecificity,SpecificityAtSensitivity,Recall,Precision\n",
    "\n",
    "model.compile(loss=tf.losses.categorical_crossentropy,\n",
    "              optimizer=Adam(learning_rate=0.001),\n",
    "              metrics=['accuracy',SensitivityAtSpecificity(0.5),SpecificityAtSensitivity(0.5),Recall(0.5),Precision(0.5)]) \n"
   ]
  },
  {
   "cell_type": "code",
   "execution_count": 9,
   "metadata": {},
   "outputs": [
    {
     "name": "stdout",
     "output_type": "stream",
     "text": [
      "Device Spec:  /job:localhost/replica:0/device:GPU:*\n",
      "WARNING:tensorflow:`period` argument is deprecated. Please use `save_freq` to specify the frequency in number of batches seen.\n",
      "Epoch 1/150\n"
     ]
    },
    {
     "name": "stderr",
     "output_type": "stream",
     "text": [
      "2023-02-07 14:44:32.653158: I tensorflow/stream_executor/cuda/cuda_dnn.cc:384] Loaded cuDNN version 8100\n",
      "2023-02-07 14:44:32.910990: I tensorflow/core/platform/default/subprocess.cc:304] Start cannot spawn child process: No such file or directory\n"
     ]
    },
    {
     "name": "stdout",
     "output_type": "stream",
     "text": [
      "482/482 [==============================] - ETA: 0s - loss: 1.9698 - accuracy: 0.2834 - sensitivity_at_specificity: 0.6262 - specificity_at_sensitivity: 0.6110 - recall: 0.0330 - precision: 0.4120\n",
      "Epoch 1: val_accuracy improved from -inf to 0.20625, saving model to ECG_Spectrogram_Model.h5\n",
      "482/482 [==============================] - 75s 149ms/step - loss: 1.9698 - accuracy: 0.2834 - sensitivity_at_specificity: 0.6262 - specificity_at_sensitivity: 0.6110 - recall: 0.0330 - precision: 0.4120 - val_loss: 4.5333 - val_accuracy: 0.2062 - val_sensitivity_at_specificity: 0.3781 - val_specificity_at_sensitivity: 0.0000e+00 - val_recall: 0.2062 - val_precision: 0.2062\n",
      "Epoch 2/150\n",
      "482/482 [==============================] - ETA: 0s - loss: 0.9777 - accuracy: 0.6113 - sensitivity_at_specificity: 0.9553 - specificity_at_sensitivity: 0.9433 - recall: 0.4648 - precision: 0.7143\n",
      "Epoch 2: val_accuracy improved from 0.20625 to 0.37813, saving model to ECG_Spectrogram_Model.h5\n",
      "482/482 [==============================] - 71s 148ms/step - loss: 0.9777 - accuracy: 0.6113 - sensitivity_at_specificity: 0.9553 - specificity_at_sensitivity: 0.9433 - recall: 0.4648 - precision: 0.7143 - val_loss: 1.7054 - val_accuracy: 0.3781 - val_sensitivity_at_specificity: 0.6906 - val_specificity_at_sensitivity: 0.6719 - val_recall: 0.3344 - val_precision: 0.5023\n",
      "Epoch 3/150\n",
      "482/482 [==============================] - ETA: 0s - loss: 0.6690 - accuracy: 0.7457 - sensitivity_at_specificity: 0.9903 - specificity_at_sensitivity: 0.9837 - recall: 0.6786 - precision: 0.7986\n",
      "Epoch 3: val_accuracy improved from 0.37813 to 0.76250, saving model to ECG_Spectrogram_Model.h5\n",
      "482/482 [==============================] - 72s 149ms/step - loss: 0.6690 - accuracy: 0.7457 - sensitivity_at_specificity: 0.9903 - specificity_at_sensitivity: 0.9837 - recall: 0.6786 - precision: 0.7986 - val_loss: 0.6268 - val_accuracy: 0.7625 - val_sensitivity_at_specificity: 0.9875 - val_specificity_at_sensitivity: 0.9937 - val_recall: 0.6969 - val_precision: 0.8352\n",
      "Epoch 4/150\n",
      "482/482 [==============================] - ETA: 0s - loss: 0.5291 - accuracy: 0.8077 - sensitivity_at_specificity: 0.9935 - specificity_at_sensitivity: 0.9924 - recall: 0.7720 - precision: 0.8432\n",
      "Epoch 4: val_accuracy did not improve from 0.76250\n",
      "482/482 [==============================] - 72s 149ms/step - loss: 0.5291 - accuracy: 0.8077 - sensitivity_at_specificity: 0.9935 - specificity_at_sensitivity: 0.9924 - recall: 0.7720 - precision: 0.8432 - val_loss: 0.8408 - val_accuracy: 0.5875 - val_sensitivity_at_specificity: 0.9937 - val_specificity_at_sensitivity: 0.9273 - val_recall: 0.4938 - val_precision: 0.6320\n",
      "Epoch 5/150\n",
      "482/482 [==============================] - ETA: 0s - loss: 0.4496 - accuracy: 0.8389 - sensitivity_at_specificity: 0.9974 - specificity_at_sensitivity: 0.9958 - recall: 0.8104 - precision: 0.8662\n",
      "Epoch 5: val_accuracy improved from 0.76250 to 0.83125, saving model to ECG_Spectrogram_Model.h5\n",
      "482/482 [==============================] - 72s 150ms/step - loss: 0.4496 - accuracy: 0.8389 - sensitivity_at_specificity: 0.9974 - specificity_at_sensitivity: 0.9958 - recall: 0.8104 - precision: 0.8662 - val_loss: 0.5244 - val_accuracy: 0.8313 - val_sensitivity_at_specificity: 0.9969 - val_specificity_at_sensitivity: 0.9945 - val_recall: 0.7500 - val_precision: 0.8727\n",
      "Epoch 6/150\n",
      "482/482 [==============================] - ETA: 0s - loss: 0.4169 - accuracy: 0.8489 - sensitivity_at_specificity: 0.9976 - specificity_at_sensitivity: 0.9967 - recall: 0.8258 - precision: 0.8740\n",
      "Epoch 6: val_accuracy did not improve from 0.83125\n",
      "482/482 [==============================] - 73s 150ms/step - loss: 0.4169 - accuracy: 0.8489 - sensitivity_at_specificity: 0.9976 - specificity_at_sensitivity: 0.9967 - recall: 0.8258 - precision: 0.8740 - val_loss: 0.7156 - val_accuracy: 0.6687 - val_sensitivity_at_specificity: 0.9969 - val_specificity_at_sensitivity: 0.9742 - val_recall: 0.6031 - val_precision: 0.7311\n",
      "Epoch 7/150\n",
      "482/482 [==============================] - ETA: 0s - loss: 0.3823 - accuracy: 0.8607 - sensitivity_at_specificity: 0.9979 - specificity_at_sensitivity: 0.9978 - recall: 0.8402 - precision: 0.8836\n",
      "Epoch 7: val_accuracy did not improve from 0.83125\n",
      "482/482 [==============================] - 72s 149ms/step - loss: 0.3823 - accuracy: 0.8607 - sensitivity_at_specificity: 0.9979 - specificity_at_sensitivity: 0.9978 - recall: 0.8402 - precision: 0.8836 - val_loss: 0.5227 - val_accuracy: 0.8000 - val_sensitivity_at_specificity: 1.0000 - val_specificity_at_sensitivity: 0.9961 - val_recall: 0.7406 - val_precision: 0.8434\n",
      "Epoch 8/150\n",
      "482/482 [==============================] - ETA: 0s - loss: 0.3820 - accuracy: 0.8617 - sensitivity_at_specificity: 0.9980 - specificity_at_sensitivity: 0.9977 - recall: 0.8415 - precision: 0.8844\n",
      "Epoch 8: val_accuracy improved from 0.83125 to 0.84375, saving model to ECG_Spectrogram_Model.h5\n",
      "482/482 [==============================] - 72s 150ms/step - loss: 0.3820 - accuracy: 0.8617 - sensitivity_at_specificity: 0.9980 - specificity_at_sensitivity: 0.9977 - recall: 0.8415 - precision: 0.8844 - val_loss: 0.4531 - val_accuracy: 0.8438 - val_sensitivity_at_specificity: 1.0000 - val_specificity_at_sensitivity: 0.9969 - val_recall: 0.7969 - val_precision: 0.8947\n",
      "Epoch 9/150\n",
      "482/482 [==============================] - ETA: 0s - loss: 0.3609 - accuracy: 0.8705 - sensitivity_at_specificity: 0.9984 - specificity_at_sensitivity: 0.9980 - recall: 0.8507 - precision: 0.8908\n",
      "Epoch 9: val_accuracy improved from 0.84375 to 0.86563, saving model to ECG_Spectrogram_Model.h5\n",
      "482/482 [==============================] - 72s 150ms/step - loss: 0.3609 - accuracy: 0.8705 - sensitivity_at_specificity: 0.9984 - specificity_at_sensitivity: 0.9980 - recall: 0.8507 - precision: 0.8908 - val_loss: 0.4022 - val_accuracy: 0.8656 - val_sensitivity_at_specificity: 0.9969 - val_specificity_at_sensitivity: 0.9969 - val_recall: 0.8313 - val_precision: 0.9078\n",
      "Epoch 10/150\n",
      "482/482 [==============================] - ETA: 0s - loss: 0.3547 - accuracy: 0.8719 - sensitivity_at_specificity: 0.9983 - specificity_at_sensitivity: 0.9982 - recall: 0.8529 - precision: 0.8908\n",
      "Epoch 10: val_accuracy did not improve from 0.86563\n",
      "482/482 [==============================] - 72s 149ms/step - loss: 0.3547 - accuracy: 0.8719 - sensitivity_at_specificity: 0.9983 - specificity_at_sensitivity: 0.9982 - recall: 0.8529 - precision: 0.8908 - val_loss: 1.0039 - val_accuracy: 0.5531 - val_sensitivity_at_specificity: 0.9844 - val_specificity_at_sensitivity: 0.9047 - val_recall: 0.5344 - val_precision: 0.5625\n",
      "Epoch 11/150\n",
      "482/482 [==============================] - ETA: 0s - loss: 0.3490 - accuracy: 0.8744 - sensitivity_at_specificity: 0.9982 - specificity_at_sensitivity: 0.9984 - recall: 0.8562 - precision: 0.8932\n",
      "Epoch 11: val_accuracy improved from 0.86563 to 0.89062, saving model to ECG_Spectrogram_Model.h5\n",
      "482/482 [==============================] - 72s 150ms/step - loss: 0.3490 - accuracy: 0.8744 - sensitivity_at_specificity: 0.9982 - specificity_at_sensitivity: 0.9984 - recall: 0.8562 - precision: 0.8932 - val_loss: 0.3247 - val_accuracy: 0.8906 - val_sensitivity_at_specificity: 1.0000 - val_specificity_at_sensitivity: 0.9992 - val_recall: 0.8750 - val_precision: 0.9180\n",
      "Epoch 12/150\n",
      "482/482 [==============================] - ETA: 0s - loss: 0.3159 - accuracy: 0.8866 - sensitivity_at_specificity: 0.9983 - specificity_at_sensitivity: 0.9989 - recall: 0.8719 - precision: 0.9028\n",
      "Epoch 12: val_accuracy improved from 0.89062 to 0.89688, saving model to ECG_Spectrogram_Model.h5\n",
      "482/482 [==============================] - 72s 150ms/step - loss: 0.3159 - accuracy: 0.8866 - sensitivity_at_specificity: 0.9983 - specificity_at_sensitivity: 0.9989 - recall: 0.8719 - precision: 0.9028 - val_loss: 0.2926 - val_accuracy: 0.8969 - val_sensitivity_at_specificity: 1.0000 - val_specificity_at_sensitivity: 1.0000 - val_recall: 0.8625 - val_precision: 0.9262\n",
      "Epoch 13/150\n",
      "482/482 [==============================] - ETA: 0s - loss: 0.3129 - accuracy: 0.8862 - sensitivity_at_specificity: 0.9981 - specificity_at_sensitivity: 0.9990 - recall: 0.8712 - precision: 0.9033\n",
      "Epoch 13: val_accuracy did not improve from 0.89688\n"
     ]
    },
    {
     "name": "stdout",
     "output_type": "stream",
     "text": [
      "482/482 [==============================] - 72s 149ms/step - loss: 0.3129 - accuracy: 0.8862 - sensitivity_at_specificity: 0.9981 - specificity_at_sensitivity: 0.9990 - recall: 0.8712 - precision: 0.9033 - val_loss: 0.4388 - val_accuracy: 0.8469 - val_sensitivity_at_specificity: 1.0000 - val_specificity_at_sensitivity: 0.9969 - val_recall: 0.8156 - val_precision: 0.8758\n",
      "Epoch 14/150\n",
      "482/482 [==============================] - ETA: 0s - loss: 0.3157 - accuracy: 0.8852 - sensitivity_at_specificity: 0.9983 - specificity_at_sensitivity: 0.9990 - recall: 0.8703 - precision: 0.9022\n",
      "Epoch 14: val_accuracy did not improve from 0.89688\n",
      "482/482 [==============================] - 72s 149ms/step - loss: 0.3157 - accuracy: 0.8852 - sensitivity_at_specificity: 0.9983 - specificity_at_sensitivity: 0.9990 - recall: 0.8703 - precision: 0.9022 - val_loss: 0.3426 - val_accuracy: 0.8656 - val_sensitivity_at_specificity: 0.9969 - val_specificity_at_sensitivity: 0.9992 - val_recall: 0.8469 - val_precision: 0.9033\n",
      "Epoch 15/150\n",
      "482/482 [==============================] - ETA: 0s - loss: 0.3059 - accuracy: 0.8872 - sensitivity_at_specificity: 0.9986 - specificity_at_sensitivity: 0.9991 - recall: 0.8722 - precision: 0.9025\n",
      "Epoch 15: val_accuracy did not improve from 0.89688\n",
      "482/482 [==============================] - 72s 149ms/step - loss: 0.3059 - accuracy: 0.8872 - sensitivity_at_specificity: 0.9986 - specificity_at_sensitivity: 0.9991 - recall: 0.8722 - precision: 0.9025 - val_loss: 0.3777 - val_accuracy: 0.8500 - val_sensitivity_at_specificity: 1.0000 - val_specificity_at_sensitivity: 0.9992 - val_recall: 0.8250 - val_precision: 0.8771\n",
      "Epoch 16/150\n",
      "482/482 [==============================] - ETA: 0s - loss: 0.2918 - accuracy: 0.8936 - sensitivity_at_specificity: 0.9984 - specificity_at_sensitivity: 0.9993 - recall: 0.8795 - precision: 0.9082\n",
      "Epoch 16: val_accuracy did not improve from 0.89688\n",
      "482/482 [==============================] - 72s 149ms/step - loss: 0.2918 - accuracy: 0.8936 - sensitivity_at_specificity: 0.9984 - specificity_at_sensitivity: 0.9993 - recall: 0.8795 - precision: 0.9082 - val_loss: 0.3193 - val_accuracy: 0.8750 - val_sensitivity_at_specificity: 1.0000 - val_specificity_at_sensitivity: 0.9992 - val_recall: 0.8625 - val_precision: 0.9020\n",
      "Epoch 17/150\n",
      "482/482 [==============================] - ETA: 0s - loss: 0.2815 - accuracy: 0.8971 - sensitivity_at_specificity: 0.9985 - specificity_at_sensitivity: 0.9993 - recall: 0.8842 - precision: 0.9108\n",
      "Epoch 17: val_accuracy improved from 0.89688 to 0.90625, saving model to ECG_Spectrogram_Model.h5\n",
      "482/482 [==============================] - 72s 149ms/step - loss: 0.2815 - accuracy: 0.8971 - sensitivity_at_specificity: 0.9985 - specificity_at_sensitivity: 0.9993 - recall: 0.8842 - precision: 0.9108 - val_loss: 0.2934 - val_accuracy: 0.9062 - val_sensitivity_at_specificity: 0.9969 - val_specificity_at_sensitivity: 0.9984 - val_recall: 0.8906 - val_precision: 0.9223\n",
      "Epoch 18/150\n",
      "482/482 [==============================] - ETA: 0s - loss: 0.2780 - accuracy: 0.8981 - sensitivity_at_specificity: 0.9985 - specificity_at_sensitivity: 0.9994 - recall: 0.8854 - precision: 0.9121\n",
      "Epoch 18: val_accuracy did not improve from 0.90625\n",
      "482/482 [==============================] - 72s 149ms/step - loss: 0.2780 - accuracy: 0.8981 - sensitivity_at_specificity: 0.9985 - specificity_at_sensitivity: 0.9994 - recall: 0.8854 - precision: 0.9121 - val_loss: 0.3280 - val_accuracy: 0.8844 - val_sensitivity_at_specificity: 0.9969 - val_specificity_at_sensitivity: 0.9984 - val_recall: 0.8625 - val_precision: 0.9049\n",
      "Epoch 19/150\n",
      "482/482 [==============================] - ETA: 0s - loss: 0.2675 - accuracy: 0.9009 - sensitivity_at_specificity: 0.9986 - specificity_at_sensitivity: 0.9993 - recall: 0.8896 - precision: 0.9143\n",
      "Epoch 19: val_accuracy did not improve from 0.90625\n",
      "482/482 [==============================] - 72s 149ms/step - loss: 0.2675 - accuracy: 0.9009 - sensitivity_at_specificity: 0.9986 - specificity_at_sensitivity: 0.9993 - recall: 0.8896 - precision: 0.9143 - val_loss: 0.3663 - val_accuracy: 0.8656 - val_sensitivity_at_specificity: 1.0000 - val_specificity_at_sensitivity: 0.9992 - val_recall: 0.8625 - val_precision: 0.8762\n",
      "Epoch 20/150\n",
      "481/482 [============================>.] - ETA: 0s - loss: 0.2543 - accuracy: 0.9044 - sensitivity_at_specificity: 0.9988 - specificity_at_sensitivity: 0.9996 - recall: 0.8935 - precision: 0.9173\n",
      "Epoch 20: val_accuracy did not improve from 0.90625\n",
      "482/482 [==============================] - 72s 149ms/step - loss: 0.2543 - accuracy: 0.9044 - sensitivity_at_specificity: 0.9988 - specificity_at_sensitivity: 0.9996 - recall: 0.8935 - precision: 0.9173 - val_loss: 0.4153 - val_accuracy: 0.8656 - val_sensitivity_at_specificity: 0.9906 - val_specificity_at_sensitivity: 0.9992 - val_recall: 0.8531 - val_precision: 0.8750\n",
      "Epoch 21/150\n",
      "482/482 [==============================] - ETA: 0s - loss: 0.2518 - accuracy: 0.9075 - sensitivity_at_specificity: 0.9983 - specificity_at_sensitivity: 0.9996 - recall: 0.8960 - precision: 0.9198\n",
      "Epoch 21: val_accuracy did not improve from 0.90625\n",
      "482/482 [==============================] - 72s 149ms/step - loss: 0.2518 - accuracy: 0.9075 - sensitivity_at_specificity: 0.9983 - specificity_at_sensitivity: 0.9996 - recall: 0.8960 - precision: 0.9198 - val_loss: 0.3258 - val_accuracy: 0.8844 - val_sensitivity_at_specificity: 0.9969 - val_specificity_at_sensitivity: 1.0000 - val_recall: 0.8750 - val_precision: 0.8917\n",
      "Epoch 22/150\n",
      "482/482 [==============================] - ETA: 0s - loss: 0.2545 - accuracy: 0.9067 - sensitivity_at_specificity: 0.9985 - specificity_at_sensitivity: 0.9995 - recall: 0.8945 - precision: 0.9180\n",
      "Epoch 22: val_accuracy improved from 0.90625 to 0.91250, saving model to ECG_Spectrogram_Model.h5\n",
      "482/482 [==============================] - 72s 149ms/step - loss: 0.2545 - accuracy: 0.9067 - sensitivity_at_specificity: 0.9985 - specificity_at_sensitivity: 0.9995 - recall: 0.8945 - precision: 0.9180 - val_loss: 0.3013 - val_accuracy: 0.9125 - val_sensitivity_at_specificity: 1.0000 - val_specificity_at_sensitivity: 0.9977 - val_recall: 0.9031 - val_precision: 0.9204\n",
      "Epoch 23/150\n",
      "482/482 [==============================] - ETA: 0s - loss: 0.2287 - accuracy: 0.9139 - sensitivity_at_specificity: 0.9989 - specificity_at_sensitivity: 0.9997 - recall: 0.9043 - precision: 0.9253\n",
      "Epoch 23: val_accuracy did not improve from 0.91250\n",
      "482/482 [==============================] - 72s 149ms/step - loss: 0.2287 - accuracy: 0.9139 - sensitivity_at_specificity: 0.9989 - specificity_at_sensitivity: 0.9997 - recall: 0.9043 - precision: 0.9253 - val_loss: 0.3519 - val_accuracy: 0.8781 - val_sensitivity_at_specificity: 1.0000 - val_specificity_at_sensitivity: 0.9992 - val_recall: 0.8687 - val_precision: 0.8910\n",
      "Epoch 24/150\n",
      "482/482 [==============================] - ETA: 0s - loss: 0.2368 - accuracy: 0.9116 - sensitivity_at_specificity: 0.9989 - specificity_at_sensitivity: 0.9997 - recall: 0.9019 - precision: 0.9228\n",
      "Epoch 24: val_accuracy did not improve from 0.91250\n",
      "482/482 [==============================] - 72s 149ms/step - loss: 0.2368 - accuracy: 0.9116 - sensitivity_at_specificity: 0.9989 - specificity_at_sensitivity: 0.9997 - recall: 0.9019 - precision: 0.9228 - val_loss: 0.2819 - val_accuracy: 0.9000 - val_sensitivity_at_specificity: 0.9937 - val_specificity_at_sensitivity: 0.9992 - val_recall: 0.8938 - val_precision: 0.9079\n",
      "Epoch 25/150\n",
      "482/482 [==============================] - ETA: 0s - loss: 0.2499 - accuracy: 0.9066 - sensitivity_at_specificity: 0.9987 - specificity_at_sensitivity: 0.9997 - recall: 0.8965 - precision: 0.9181\n",
      "Epoch 25: val_accuracy improved from 0.91250 to 0.91875, saving model to ECG_Spectrogram_Model.h5\n",
      "482/482 [==============================] - 72s 149ms/step - loss: 0.2499 - accuracy: 0.9066 - sensitivity_at_specificity: 0.9987 - specificity_at_sensitivity: 0.9997 - recall: 0.8965 - precision: 0.9181 - val_loss: 0.2286 - val_accuracy: 0.9187 - val_sensitivity_at_specificity: 1.0000 - val_specificity_at_sensitivity: 0.9992 - val_recall: 0.9094 - val_precision: 0.9297\n",
      "Epoch 26/150\n"
     ]
    },
    {
     "name": "stdout",
     "output_type": "stream",
     "text": [
      "482/482 [==============================] - ETA: 0s - loss: 0.2235 - accuracy: 0.9155 - sensitivity_at_specificity: 0.9990 - specificity_at_sensitivity: 0.9997 - recall: 0.9064 - precision: 0.9244\n",
      "Epoch 26: val_accuracy did not improve from 0.91875\n",
      "482/482 [==============================] - 72s 149ms/step - loss: 0.2235 - accuracy: 0.9155 - sensitivity_at_specificity: 0.9990 - specificity_at_sensitivity: 0.9997 - recall: 0.9064 - precision: 0.9244 - val_loss: 0.2550 - val_accuracy: 0.8844 - val_sensitivity_at_specificity: 1.0000 - val_specificity_at_sensitivity: 1.0000 - val_recall: 0.8813 - val_precision: 0.8981\n",
      "Epoch 27/150\n",
      "482/482 [==============================] - ETA: 0s - loss: 0.2073 - accuracy: 0.9224 - sensitivity_at_specificity: 0.9988 - specificity_at_sensitivity: 0.9998 - recall: 0.9149 - precision: 0.9309\n",
      "Epoch 27: val_accuracy did not improve from 0.91875\n",
      "482/482 [==============================] - 72s 149ms/step - loss: 0.2073 - accuracy: 0.9224 - sensitivity_at_specificity: 0.9988 - specificity_at_sensitivity: 0.9998 - recall: 0.9149 - precision: 0.9309 - val_loss: 0.2579 - val_accuracy: 0.9094 - val_sensitivity_at_specificity: 0.9969 - val_specificity_at_sensitivity: 1.0000 - val_recall: 0.9062 - val_precision: 0.9236\n",
      "Epoch 28/150\n",
      "482/482 [==============================] - ETA: 0s - loss: 0.2082 - accuracy: 0.9222 - sensitivity_at_specificity: 0.9989 - specificity_at_sensitivity: 0.9998 - recall: 0.9137 - precision: 0.9311\n",
      "Epoch 28: val_accuracy did not improve from 0.91875\n",
      "482/482 [==============================] - 72s 149ms/step - loss: 0.2082 - accuracy: 0.9222 - sensitivity_at_specificity: 0.9989 - specificity_at_sensitivity: 0.9998 - recall: 0.9137 - precision: 0.9311 - val_loss: 0.2249 - val_accuracy: 0.9094 - val_sensitivity_at_specificity: 0.9969 - val_specificity_at_sensitivity: 0.9984 - val_recall: 0.9062 - val_precision: 0.9091\n",
      "Epoch 29/150\n",
      "482/482 [==============================] - ETA: 0s - loss: 0.2019 - accuracy: 0.9248 - sensitivity_at_specificity: 0.9988 - specificity_at_sensitivity: 0.9998 - recall: 0.9170 - precision: 0.9329\n",
      "Epoch 29: val_accuracy improved from 0.91875 to 0.93125, saving model to ECG_Spectrogram_Model.h5\n",
      "482/482 [==============================] - 72s 149ms/step - loss: 0.2019 - accuracy: 0.9248 - sensitivity_at_specificity: 0.9988 - specificity_at_sensitivity: 0.9998 - recall: 0.9170 - precision: 0.9329 - val_loss: 0.1911 - val_accuracy: 0.9312 - val_sensitivity_at_specificity: 1.0000 - val_specificity_at_sensitivity: 1.0000 - val_recall: 0.9281 - val_precision: 0.9369\n",
      "Epoch 30/150\n",
      "482/482 [==============================] - ETA: 0s - loss: 0.2023 - accuracy: 0.9252 - sensitivity_at_specificity: 0.9990 - specificity_at_sensitivity: 0.9998 - recall: 0.9177 - precision: 0.9329\n",
      "Epoch 30: val_accuracy did not improve from 0.93125\n",
      "482/482 [==============================] - 72s 149ms/step - loss: 0.2023 - accuracy: 0.9252 - sensitivity_at_specificity: 0.9990 - specificity_at_sensitivity: 0.9998 - recall: 0.9177 - precision: 0.9329 - val_loss: 0.2180 - val_accuracy: 0.9250 - val_sensitivity_at_specificity: 1.0000 - val_specificity_at_sensitivity: 0.9992 - val_recall: 0.9219 - val_precision: 0.9248\n",
      "Epoch 31/150\n",
      "482/482 [==============================] - ETA: 0s - loss: 0.1877 - accuracy: 0.9293 - sensitivity_at_specificity: 0.9988 - specificity_at_sensitivity: 0.9997 - recall: 0.9223 - precision: 0.9367\n",
      "Epoch 31: val_accuracy did not improve from 0.93125\n",
      "482/482 [==============================] - 72s 149ms/step - loss: 0.1877 - accuracy: 0.9293 - sensitivity_at_specificity: 0.9988 - specificity_at_sensitivity: 0.9997 - recall: 0.9223 - precision: 0.9367 - val_loss: 0.1984 - val_accuracy: 0.9125 - val_sensitivity_at_specificity: 1.0000 - val_specificity_at_sensitivity: 1.0000 - val_recall: 0.9094 - val_precision: 0.9151\n",
      "Epoch 32/150\n",
      "482/482 [==============================] - ETA: 0s - loss: 0.1824 - accuracy: 0.9314 - sensitivity_at_specificity: 0.9989 - specificity_at_sensitivity: 0.9999 - recall: 0.9252 - precision: 0.9386\n",
      "Epoch 32: val_accuracy improved from 0.93125 to 0.93750, saving model to ECG_Spectrogram_Model.h5\n",
      "482/482 [==============================] - 72s 149ms/step - loss: 0.1824 - accuracy: 0.9314 - sensitivity_at_specificity: 0.9989 - specificity_at_sensitivity: 0.9999 - recall: 0.9252 - precision: 0.9386 - val_loss: 0.1779 - val_accuracy: 0.9375 - val_sensitivity_at_specificity: 1.0000 - val_specificity_at_sensitivity: 1.0000 - val_recall: 0.9312 - val_precision: 0.9401\n",
      "Epoch 33/150\n",
      "482/482 [==============================] - ETA: 0s - loss: 0.1773 - accuracy: 0.9330 - sensitivity_at_specificity: 0.9992 - specificity_at_sensitivity: 0.9999 - recall: 0.9268 - precision: 0.9401\n",
      "Epoch 33: val_accuracy improved from 0.93750 to 0.94687, saving model to ECG_Spectrogram_Model.h5\n",
      "482/482 [==============================] - 72s 149ms/step - loss: 0.1773 - accuracy: 0.9330 - sensitivity_at_specificity: 0.9992 - specificity_at_sensitivity: 0.9999 - recall: 0.9268 - precision: 0.9401 - val_loss: 0.1420 - val_accuracy: 0.9469 - val_sensitivity_at_specificity: 1.0000 - val_specificity_at_sensitivity: 1.0000 - val_recall: 0.9375 - val_precision: 0.9494\n",
      "Epoch 34/150\n",
      "482/482 [==============================] - ETA: 0s - loss: 0.1739 - accuracy: 0.9354 - sensitivity_at_specificity: 0.9990 - specificity_at_sensitivity: 0.9999 - recall: 0.9300 - precision: 0.9417\n",
      "Epoch 34: val_accuracy did not improve from 0.94687\n",
      "482/482 [==============================] - 72s 149ms/step - loss: 0.1739 - accuracy: 0.9354 - sensitivity_at_specificity: 0.9990 - specificity_at_sensitivity: 0.9999 - recall: 0.9300 - precision: 0.9417 - val_loss: 0.1986 - val_accuracy: 0.9344 - val_sensitivity_at_specificity: 0.9969 - val_specificity_at_sensitivity: 0.9992 - val_recall: 0.9281 - val_precision: 0.9340\n",
      "Epoch 35/150\n",
      "482/482 [==============================] - ETA: 0s - loss: 0.1679 - accuracy: 0.9366 - sensitivity_at_specificity: 0.9989 - specificity_at_sensitivity: 0.9999 - recall: 0.9310 - precision: 0.9421\n",
      "Epoch 35: val_accuracy improved from 0.94687 to 0.95000, saving model to ECG_Spectrogram_Model.h5\n",
      "482/482 [==============================] - 72s 149ms/step - loss: 0.1679 - accuracy: 0.9366 - sensitivity_at_specificity: 0.9989 - specificity_at_sensitivity: 0.9999 - recall: 0.9310 - precision: 0.9421 - val_loss: 0.1663 - val_accuracy: 0.9500 - val_sensitivity_at_specificity: 0.9969 - val_specificity_at_sensitivity: 0.9992 - val_recall: 0.9438 - val_precision: 0.9557\n",
      "Epoch 36/150\n",
      "482/482 [==============================] - ETA: 0s - loss: 0.1666 - accuracy: 0.9374 - sensitivity_at_specificity: 0.9990 - specificity_at_sensitivity: 0.9999 - recall: 0.9326 - precision: 0.9434\n",
      "Epoch 36: val_accuracy did not improve from 0.95000\n",
      "482/482 [==============================] - 72s 149ms/step - loss: 0.1666 - accuracy: 0.9374 - sensitivity_at_specificity: 0.9990 - specificity_at_sensitivity: 0.9999 - recall: 0.9326 - precision: 0.9434 - val_loss: 0.2034 - val_accuracy: 0.9219 - val_sensitivity_at_specificity: 1.0000 - val_specificity_at_sensitivity: 1.0000 - val_recall: 0.9187 - val_precision: 0.9274\n",
      "Epoch 37/150\n",
      "482/482 [==============================] - ETA: 0s - loss: 0.1727 - accuracy: 0.9351 - sensitivity_at_specificity: 0.9990 - specificity_at_sensitivity: 0.9999 - recall: 0.9305 - precision: 0.9408\n",
      "Epoch 37: val_accuracy did not improve from 0.95000\n",
      "482/482 [==============================] - 72s 149ms/step - loss: 0.1727 - accuracy: 0.9351 - sensitivity_at_specificity: 0.9990 - specificity_at_sensitivity: 0.9999 - recall: 0.9305 - precision: 0.9408 - val_loss: 0.2094 - val_accuracy: 0.9438 - val_sensitivity_at_specificity: 0.9937 - val_specificity_at_sensitivity: 0.9984 - val_recall: 0.9312 - val_precision: 0.9460\n",
      "Epoch 38/150\n",
      "482/482 [==============================] - ETA: 0s - loss: 0.1567 - accuracy: 0.9421 - sensitivity_at_specificity: 0.9989 - specificity_at_sensitivity: 0.9998 - recall: 0.9372 - precision: 0.9470\n",
      "Epoch 38: val_accuracy did not improve from 0.95000\n",
      "482/482 [==============================] - 72s 149ms/step - loss: 0.1567 - accuracy: 0.9421 - sensitivity_at_specificity: 0.9989 - specificity_at_sensitivity: 0.9998 - recall: 0.9372 - precision: 0.9470 - val_loss: 0.1354 - val_accuracy: 0.9406 - val_sensitivity_at_specificity: 1.0000 - val_specificity_at_sensitivity: 1.0000 - val_recall: 0.9344 - val_precision: 0.9522\n"
     ]
    },
    {
     "name": "stdout",
     "output_type": "stream",
     "text": [
      "Epoch 39/150\n",
      "482/482 [==============================] - ETA: 0s - loss: 0.1475 - accuracy: 0.9449 - sensitivity_at_specificity: 0.9989 - specificity_at_sensitivity: 0.9999 - recall: 0.9405 - precision: 0.9492\n",
      "Epoch 39: val_accuracy improved from 0.95000 to 0.95625, saving model to ECG_Spectrogram_Model.h5\n",
      "482/482 [==============================] - 72s 149ms/step - loss: 0.1475 - accuracy: 0.9449 - sensitivity_at_specificity: 0.9989 - specificity_at_sensitivity: 0.9999 - recall: 0.9405 - precision: 0.9492 - val_loss: 0.1230 - val_accuracy: 0.9563 - val_sensitivity_at_specificity: 1.0000 - val_specificity_at_sensitivity: 1.0000 - val_recall: 0.9531 - val_precision: 0.9621\n",
      "Epoch 40/150\n",
      "482/482 [==============================] - ETA: 0s - loss: 0.1435 - accuracy: 0.9464 - sensitivity_at_specificity: 0.9992 - specificity_at_sensitivity: 0.9999 - recall: 0.9422 - precision: 0.9508\n",
      "Epoch 40: val_accuracy did not improve from 0.95625\n",
      "482/482 [==============================] - 72s 148ms/step - loss: 0.1435 - accuracy: 0.9464 - sensitivity_at_specificity: 0.9992 - specificity_at_sensitivity: 0.9999 - recall: 0.9422 - precision: 0.9508 - val_loss: 0.1718 - val_accuracy: 0.9281 - val_sensitivity_at_specificity: 1.0000 - val_specificity_at_sensitivity: 1.0000 - val_recall: 0.9250 - val_precision: 0.9279\n",
      "Epoch 41/150\n",
      "482/482 [==============================] - ETA: 0s - loss: 0.1424 - accuracy: 0.9484 - sensitivity_at_specificity: 0.9990 - specificity_at_sensitivity: 0.9999 - recall: 0.9442 - precision: 0.9518\n",
      "Epoch 41: val_accuracy did not improve from 0.95625\n",
      "482/482 [==============================] - 72s 149ms/step - loss: 0.1424 - accuracy: 0.9484 - sensitivity_at_specificity: 0.9990 - specificity_at_sensitivity: 0.9999 - recall: 0.9442 - precision: 0.9518 - val_loss: 0.2781 - val_accuracy: 0.9156 - val_sensitivity_at_specificity: 0.9937 - val_specificity_at_sensitivity: 0.9977 - val_recall: 0.9125 - val_precision: 0.9241\n",
      "Epoch 42/150\n",
      "482/482 [==============================] - ETA: 0s - loss: 0.1376 - accuracy: 0.9485 - sensitivity_at_specificity: 0.9991 - specificity_at_sensitivity: 0.9999 - recall: 0.9448 - precision: 0.9531\n",
      "Epoch 42: val_accuracy improved from 0.95625 to 0.97812, saving model to ECG_Spectrogram_Model.h5\n",
      "482/482 [==============================] - 72s 150ms/step - loss: 0.1376 - accuracy: 0.9485 - sensitivity_at_specificity: 0.9991 - specificity_at_sensitivity: 0.9999 - recall: 0.9448 - precision: 0.9531 - val_loss: 0.0685 - val_accuracy: 0.9781 - val_sensitivity_at_specificity: 1.0000 - val_specificity_at_sensitivity: 1.0000 - val_recall: 0.9781 - val_precision: 0.9874\n",
      "Epoch 43/150\n",
      "482/482 [==============================] - ETA: 0s - loss: 0.1299 - accuracy: 0.9514 - sensitivity_at_specificity: 0.9991 - specificity_at_sensitivity: 0.9999 - recall: 0.9475 - precision: 0.9545\n",
      "Epoch 43: val_accuracy did not improve from 0.97812\n",
      "482/482 [==============================] - 72s 149ms/step - loss: 0.1299 - accuracy: 0.9514 - sensitivity_at_specificity: 0.9991 - specificity_at_sensitivity: 0.9999 - recall: 0.9475 - precision: 0.9545 - val_loss: 0.1565 - val_accuracy: 0.9500 - val_sensitivity_at_specificity: 0.9969 - val_specificity_at_sensitivity: 0.9992 - val_recall: 0.9469 - val_precision: 0.9589\n",
      "Epoch 44/150\n",
      "482/482 [==============================] - ETA: 0s - loss: 0.1488 - accuracy: 0.9441 - sensitivity_at_specificity: 0.9987 - specificity_at_sensitivity: 0.9998 - recall: 0.9397 - precision: 0.9489\n",
      "Epoch 44: val_accuracy did not improve from 0.97812\n",
      "482/482 [==============================] - 72s 149ms/step - loss: 0.1488 - accuracy: 0.9441 - sensitivity_at_specificity: 0.9987 - specificity_at_sensitivity: 0.9998 - recall: 0.9397 - precision: 0.9489 - val_loss: 0.1300 - val_accuracy: 0.9469 - val_sensitivity_at_specificity: 0.9969 - val_specificity_at_sensitivity: 0.9992 - val_recall: 0.9438 - val_precision: 0.9497\n",
      "Epoch 45/150\n",
      "482/482 [==============================] - ETA: 0s - loss: 0.1293 - accuracy: 0.9515 - sensitivity_at_specificity: 0.9992 - specificity_at_sensitivity: 0.9999 - recall: 0.9480 - precision: 0.9549\n",
      "Epoch 45: val_accuracy did not improve from 0.97812\n",
      "482/482 [==============================] - 72s 149ms/step - loss: 0.1293 - accuracy: 0.9515 - sensitivity_at_specificity: 0.9992 - specificity_at_sensitivity: 0.9999 - recall: 0.9480 - precision: 0.9549 - val_loss: 0.1225 - val_accuracy: 0.9500 - val_sensitivity_at_specificity: 0.9969 - val_specificity_at_sensitivity: 0.9992 - val_recall: 0.9500 - val_precision: 0.9500\n",
      "Epoch 46/150\n",
      "482/482 [==============================] - ETA: 0s - loss: 0.1252 - accuracy: 0.9547 - sensitivity_at_specificity: 0.9988 - specificity_at_sensitivity: 0.9998 - recall: 0.9516 - precision: 0.9583\n",
      "Epoch 46: val_accuracy did not improve from 0.97812\n",
      "482/482 [==============================] - 72s 149ms/step - loss: 0.1252 - accuracy: 0.9547 - sensitivity_at_specificity: 0.9988 - specificity_at_sensitivity: 0.9998 - recall: 0.9516 - precision: 0.9583 - val_loss: 0.1593 - val_accuracy: 0.9406 - val_sensitivity_at_specificity: 0.9969 - val_specificity_at_sensitivity: 1.0000 - val_recall: 0.9406 - val_precision: 0.9436\n",
      "Epoch 47/150\n",
      "482/482 [==============================] - ETA: 0s - loss: 0.1216 - accuracy: 0.9547 - sensitivity_at_specificity: 0.9991 - specificity_at_sensitivity: 0.9999 - recall: 0.9517 - precision: 0.9586\n",
      "Epoch 47: val_accuracy did not improve from 0.97812\n",
      "482/482 [==============================] - 72s 149ms/step - loss: 0.1216 - accuracy: 0.9547 - sensitivity_at_specificity: 0.9991 - specificity_at_sensitivity: 0.9999 - recall: 0.9517 - precision: 0.9586 - val_loss: 0.0825 - val_accuracy: 0.9719 - val_sensitivity_at_specificity: 1.0000 - val_specificity_at_sensitivity: 1.0000 - val_recall: 0.9719 - val_precision: 0.9719\n"
     ]
    }
   ],
   "source": [
    "#Model Execution\n",
    "\n",
    "from keras.callbacks import ModelCheckpoint, EarlyStopping\n",
    "\n",
    "# Initializing Device Specification\n",
    "device_spec = tf.DeviceSpec(job =\"localhost\", replica = 0, device_type = \"GPU\")\n",
    " \n",
    "# Printing the DeviceSpec\n",
    "print('Device Spec: ', device_spec.to_string())\n",
    " \n",
    "# Enabling device logging\n",
    "tf.debugging.set_log_device_placement(True)\n",
    " \n",
    "# Specifying the device\n",
    "with tf.device(device_spec):\n",
    "    \n",
    "#with tf.device('/gpu:10'):\n",
    "    \n",
    "    checkpoint = ModelCheckpoint(\"ECG_Spectrogram_Model.h5\", monitor='val_accuracy', verbose=1, save_best_only=True, save_weights_only=False, mode='auto', period=1)\n",
    "    mycallback=tf.keras.callbacks.EarlyStopping(monitor=\"val_accuracy\", patience=5, mode=\"auto\")\n",
    "    \n",
    "    history = model.fit(\n",
    "          train_data,\n",
    "          #steps_per_epoch=20, \n",
    "          epochs=150,\n",
    "          verbose=1,\n",
    "          validation_data = val_data,\n",
    "          validation_steps=5, \n",
    "          callbacks = [mycallback,checkpoint]\n",
    "    ) "
   ]
  },
  {
   "cell_type": "code",
   "execution_count": 10,
   "metadata": {},
   "outputs": [
    {
     "name": "stdout",
     "output_type": "stream",
     "text": [
      "Training Accuracy:  0.9546502232551575\n",
      "Validation Accuracy:  0.9781249761581421\n",
      "Validation Specificity:  1.0\n",
      "Validation Sensitivity:  1.0\n",
      "Validation Recall:  0.9781249761581421\n",
      "Validation Precision:  0.9873816967010498\n",
      "Validation Loss:  0.06848280131816864\n"
     ]
    }
   ],
   "source": [
    "Training_Accuracy=history.history['accuracy']\n",
    "Validation_Accuracy=history.history['val_accuracy']\n",
    "Validation_Specificity=history.history['val_specificity_at_sensitivity']\n",
    "Validation_Sensitivity=history.history['val_sensitivity_at_specificity']\n",
    "Validation_Recall=history.history['val_recall']\n",
    "Validation_Precision=history.history['val_precision']\n",
    "Validation_Loss=history.history['val_loss']\n",
    "\n",
    "print(\"Training Accuracy: \",max(Training_Accuracy))\n",
    "print(\"Validation Accuracy: \",max(Validation_Accuracy))\n",
    "print(\"Validation Specificity: \",max(Validation_Specificity))\n",
    "print(\"Validation Sensitivity: \",max(Validation_Sensitivity))\n",
    "print(\"Validation Recall: \",max(Validation_Recall))\n",
    "print(\"Validation Precision: \",max(Validation_Precision))\n",
    "print(\"Validation Loss: \",min(Validation_Loss))"
   ]
  },
  {
   "cell_type": "code",
   "execution_count": 11,
   "metadata": {},
   "outputs": [
    {
     "data": {
      "image/png": "[encoded data removed]",
      "text/plain": [
       "<Figure size 720x432 with 1 Axes>"
      ]
     },
     "metadata": {
      "needs_background": "light"
     },
     "output_type": "display_data"
    }
   ],
   "source": [
    "plt.figure(figsize=(10,6))\n",
    "plt.plot(history.history['accuracy'])\n",
    "plt.plot(history.history['val_accuracy'])\n",
    "plt.title('Model accuracy')\n",
    "plt.ylabel('Accuracy')\n",
    "plt.xlabel('Epoch')\n",
    "plt.legend(['Train', 'Test'], loc='upper left')\n",
    "plt.show()"
   ]
  },
  {
   "cell_type": "code",
   "execution_count": 12,
   "metadata": {},
   "outputs": [
    {
     "data": {
      "image/png": "[encoded data removed]",
      "text/plain": [
       "<Figure size 720x432 with 1 Axes>"
      ]
     },
     "metadata": {
      "needs_background": "light"
     },
     "output_type": "display_data"
    }
   ],
   "source": [
    "plt.figure(figsize=(10,6))\n",
    "plt.plot(history.history['loss'])\n",
    "plt.plot(history.history['val_loss'])\n",
    "plt.title('Model Loss')\n",
    "plt.ylabel('Loss')\n",
    "plt.xlabel('Epoch')\n",
    "plt.legend(['Train', 'Test'], loc='upper left')\n",
    "plt.show()"
   ]
  },
  {
   "cell_type": "code",
   "execution_count": null,
   "metadata": {},
   "outputs": [],
   "source": []
  },
  {
   "cell_type": "code",
   "execution_count": null,
   "metadata": {},
   "outputs": [],
   "source": []
  }
 ],
 "metadata": {
  "accelerator": "GPU",
  "colab": {
   "collapsed_sections": [
    "7e88OLey6Bgd"
   ],
   "provenance": []
  },
  "gpuClass": "standard",
  "kernelspec": {
   "display_name": "Python 3 (ipykernel)",
   "language": "python",
   "name": "python3"
  },
  "language_info": {
   "codemirror_mode": {
    "name": "ipython",
    "version": 3
   },
   "file_extension": ".py",
   "mimetype": "text/x-python",
   "name": "python",
   "nbconvert_exporter": "python",
   "pygments_lexer": "ipython3",
   "version": "3.10.6"
  }
 },
 "nbformat": 4,
 "nbformat_minor": 4
}
