{
 "cells": [
  {
   "cell_type": "markdown",
   "metadata": {
    "id": "SsTzc3oi726u"
   },
   "source": [
    "# **Building a Convolutional Neural Network with Keras**"
   ]
  },
  {
   "cell_type": "code",
   "execution_count": 3,
   "metadata": {},
   "outputs": [
    {
     "name": "stdout",
     "output_type": "stream",
     "text": [
      "2.9.1\n"
     ]
    }
   ],
   "source": [
    "#Tensorflow version\n",
    "\n",
    "import tensorflow as tf\n",
    "print(tf.__version__)"
   ]
  },
  {
   "cell_type": "code",
   "execution_count": 4,
   "metadata": {},
   "outputs": [],
   "source": [
    "#Importing libraries\n",
    "\n",
    "import tensorflow as tf\n",
    "from tensorflow import keras\n",
    "from keras.layers import Input, Conv2D, Dense, Flatten, BatchNormalization, Dropout, MaxPooling2D, GlobalMaxPooling2D\n",
    "from keras.models import Model\n",
    "import matplotlib.pyplot as plt\n",
    "from keras.applications.efficientnet import EfficientNetB0\n",
    "from keras.preprocessing import image\n",
    "#from keras.preprocessing.image import load_img\n",
    "from keras.models import Sequential\n",
    "import numpy as np\n",
    "from tensorflow.keras import regularizers"
   ]
  },
  {
   "cell_type": "code",
   "execution_count": 6,
   "metadata": {},
   "outputs": [],
   "source": [
    "# 3 percent with HYP 20 percent\n",
    "train_dir=\"/home/ubuntu/From_Laptop/multi-class-NEW/12-Lead_ECG_version_2/DA_version_3/Model_Training/3 percent with HYP 20 percent - v2--New/Training/\"\n",
    "val_dir=\"/home/ubuntu/From_Laptop/multi-class-NEW/12-Lead_ECG_version_2/DA_version_3/Model_Training/3 percent with HYP 20 percent - v2--New/Validation/\""
   ]
  },
  {
   "cell_type": "code",
   "execution_count": 7,
   "metadata": {},
   "outputs": [
    {
     "name": "stdout",
     "output_type": "stream",
     "text": [
      "Found 30942 files belonging to 5 classes.\n"
     ]
    },
    {
     "name": "stderr",
     "output_type": "stream",
     "text": [
      "2023-02-07 18:18:39.457219: I tensorflow/stream_executor/cuda/cuda_gpu_executor.cc:975] successful NUMA node read from SysFS had negative value (-1), but there must be at least one NUMA node, so returning NUMA node zero\n",
      "2023-02-07 18:18:39.541666: I tensorflow/stream_executor/cuda/cuda_gpu_executor.cc:975] successful NUMA node read from SysFS had negative value (-1), but there must be at least one NUMA node, so returning NUMA node zero\n",
      "2023-02-07 18:18:39.542126: I tensorflow/stream_executor/cuda/cuda_gpu_executor.cc:975] successful NUMA node read from SysFS had negative value (-1), but there must be at least one NUMA node, so returning NUMA node zero\n",
      "2023-02-07 18:18:39.562152: I tensorflow/core/platform/cpu_feature_guard.cc:193] This TensorFlow binary is optimized with oneAPI Deep Neural Network Library (oneDNN) to use the following CPU instructions in performance-critical operations:  AVX2 FMA\n",
      "To enable them in other operations, rebuild TensorFlow with the appropriate compiler flags.\n",
      "2023-02-07 18:18:39.562939: I tensorflow/stream_executor/cuda/cuda_gpu_executor.cc:975] successful NUMA node read from SysFS had negative value (-1), but there must be at least one NUMA node, so returning NUMA node zero\n",
      "2023-02-07 18:18:39.563370: I tensorflow/stream_executor/cuda/cuda_gpu_executor.cc:975] successful NUMA node read from SysFS had negative value (-1), but there must be at least one NUMA node, so returning NUMA node zero\n",
      "2023-02-07 18:18:39.563713: I tensorflow/stream_executor/cuda/cuda_gpu_executor.cc:975] successful NUMA node read from SysFS had negative value (-1), but there must be at least one NUMA node, so returning NUMA node zero\n",
      "2023-02-07 18:18:40.566119: I tensorflow/stream_executor/cuda/cuda_gpu_executor.cc:975] successful NUMA node read from SysFS had negative value (-1), but there must be at least one NUMA node, so returning NUMA node zero\n",
      "2023-02-07 18:18:40.566413: I tensorflow/stream_executor/cuda/cuda_gpu_executor.cc:975] successful NUMA node read from SysFS had negative value (-1), but there must be at least one NUMA node, so returning NUMA node zero\n",
      "2023-02-07 18:18:40.566673: I tensorflow/stream_executor/cuda/cuda_gpu_executor.cc:975] successful NUMA node read from SysFS had negative value (-1), but there must be at least one NUMA node, so returning NUMA node zero\n",
      "2023-02-07 18:18:40.566866: I tensorflow/core/common_runtime/gpu/gpu_device.cc:1532] Created device /job:localhost/replica:0/task:0/device:GPU:0 with 7380 MB memory:  -> device: 0, name: NVIDIA GeForce GTX 1080, pci bus id: 0000:00:05.0, compute capability: 6.1\n"
     ]
    },
    {
     "name": "stdout",
     "output_type": "stream",
     "text": [
      "Found 8051 files belonging to 5 classes.\n"
     ]
    }
   ],
   "source": [
    "from tensorflow.keras import layers\n",
    "\n",
    "train_data = tf.keras.preprocessing.image_dataset_from_directory(directory=train_dir,\n",
    "                                                                 image_size=(256,256),\n",
    "                                                                 label_mode='categorical', batch_size=64, \n",
    "                                                                 )\n",
    "val_data = tf.keras.preprocessing.image_dataset_from_directory(directory=val_dir,\n",
    "                                                                 image_size=(256,256),\n",
    "                                                                 label_mode='categorical', batch_size=64,\n",
    "                                                                )"
   ]
  },
  {
   "cell_type": "code",
   "execution_count": 8,
   "metadata": {},
   "outputs": [],
   "source": [
    "#Normalization of the data\n",
    "\n",
    "nrmzln_layer = layers.experimental.preprocessing.Rescaling(1./255)\n",
    "\n",
    "train_data = train_data.map(lambda x,\n",
    "                          y: (nrmzln_layer(x), y))\n",
    "\n",
    "val_data = val_data.map(lambda x,\n",
    "                          y: (nrmzln_layer(x), y))"
   ]
  },
  {
   "cell_type": "code",
   "execution_count": 9,
   "metadata": {},
   "outputs": [],
   "source": [
    "#Custom Model Architecture\n",
    "\n",
    "from keras.layers import LeakyReLU\n",
    "model = tf.keras.models.Sequential([\n",
    "                                    \n",
    "    # First convolution layer \n",
    "    tf.keras.layers.Conv2D(32, 3, activation=LeakyReLU(alpha=0.01),padding=\"same\", input_shape=(256, 256, 3),use_bias=True),\n",
    "    tf.keras.layers.MaxPooling2D(2, 2),\n",
    "    tf.keras.layers.Dropout(0.50),\n",
    "    \n",
    "\n",
    "    # Second convolution layer \n",
    "    tf.keras.layers.Conv2D(64, 3, activation=LeakyReLU(alpha=0.01),padding=\"same\",use_bias=True),\n",
    "    tf.keras.layers.MaxPooling2D(2,2),\n",
    "    BatchNormalization(),\n",
    "    tf.keras.layers.Dropout(0.25),\n",
    "\n",
    "    \n",
    "    # Third convolution layer  \n",
    "    tf.keras.layers.Conv2D(128, 2, activation=LeakyReLU(alpha=0.01),padding=\"same\",use_bias=True),\n",
    "    tf.keras.layers.MaxPooling2D(2,2),\n",
    "    BatchNormalization(),\n",
    "    tf.keras.layers.Dropout(0.15),\n",
    "\n",
    "    # Fourth convolution layer \n",
    "    tf.keras.layers.Conv2D(64, 1, activation=LeakyReLU(alpha=0.01),padding=\"same\",use_bias=True),\n",
    "    tf.keras.layers.MaxPooling2D(2,2),\n",
    "    tf.keras.layers.Dropout(0.10),\n",
    "\n",
    "    # Flatten the pooled feature maps\n",
    "    tf.keras.layers.Flatten(),\n",
    "\n",
    "    # Fully connected hidden layer\n",
    "    tf.keras.layers.Dense(96, activation=LeakyReLU(alpha=0.01),use_bias=True),\n",
    "\n",
    "    # Output layer\n",
    "    tf.keras.layers.Dense(5, activation='softmax',activity_regularizer=regularizers.L2(0.001))  \n",
    "\n",
    "])\n"
   ]
  },
  {
   "cell_type": "code",
   "execution_count": 10,
   "metadata": {},
   "outputs": [
    {
     "name": "stdout",
     "output_type": "stream",
     "text": [
      "Model: \"sequential\"\n",
      "_________________________________________________________________\n",
      " Layer (type)                Output Shape              Param #   \n",
      "=================================================================\n",
      " conv2d (Conv2D)             (None, 256, 256, 32)      896       \n",
      "                                                                 \n",
      " max_pooling2d (MaxPooling2D  (None, 128, 128, 32)     0         \n",
      " )                                                               \n",
      "                                                                 \n",
      " dropout (Dropout)           (None, 128, 128, 32)      0         \n",
      "                                                                 \n",
      " conv2d_1 (Conv2D)           (None, 128, 128, 64)      18496     \n",
      "                                                                 \n",
      " max_pooling2d_1 (MaxPooling  (None, 64, 64, 64)       0         \n",
      " 2D)                                                             \n",
      "                                                                 \n",
      " batch_normalization (BatchN  (None, 64, 64, 64)       256       \n",
      " ormalization)                                                   \n",
      "                                                                 \n",
      " dropout_1 (Dropout)         (None, 64, 64, 64)        0         \n",
      "                                                                 \n",
      " conv2d_2 (Conv2D)           (None, 64, 64, 128)       32896     \n",
      "                                                                 \n",
      " max_pooling2d_2 (MaxPooling  (None, 32, 32, 128)      0         \n",
      " 2D)                                                             \n",
      "                                                                 \n",
      " batch_normalization_1 (Batc  (None, 32, 32, 128)      512       \n",
      " hNormalization)                                                 \n",
      "                                                                 \n",
      " dropout_2 (Dropout)         (None, 32, 32, 128)       0         \n",
      "                                                                 \n",
      " conv2d_3 (Conv2D)           (None, 32, 32, 64)        8256      \n",
      "                                                                 \n",
      " max_pooling2d_3 (MaxPooling  (None, 16, 16, 64)       0         \n",
      " 2D)                                                             \n",
      "                                                                 \n",
      " dropout_3 (Dropout)         (None, 16, 16, 64)        0         \n",
      "                                                                 \n",
      " flatten (Flatten)           (None, 16384)             0         \n",
      "                                                                 \n",
      " dense (Dense)               (None, 96)                1572960   \n",
      "                                                                 \n",
      " dense_1 (Dense)             (None, 5)                 485       \n",
      "                                                                 \n",
      "=================================================================\n",
      "Total params: 1,634,757\n",
      "Trainable params: 1,634,373\n",
      "Non-trainable params: 384\n",
      "_________________________________________________________________\n"
     ]
    }
   ],
   "source": [
    "#print model summary\n",
    "\n",
    "model.summary()"
   ]
  },
  {
   "cell_type": "code",
   "execution_count": 11,
   "metadata": {},
   "outputs": [],
   "source": [
    "#Performance evaluation Metrics delcaration \n",
    "\n",
    "from tensorflow.keras.optimizers import Adam\n",
    "from tensorflow.keras.metrics import SensitivityAtSpecificity,SpecificityAtSensitivity,Recall,Precision\n",
    "\n",
    "model.compile(loss=tf.losses.categorical_crossentropy,\n",
    "              optimizer=Adam(learning_rate=0.001),\n",
    "              metrics=['accuracy',SensitivityAtSpecificity(0.5),SpecificityAtSensitivity(0.5),Recall(0.5),Precision(0.5)]) \n"
   ]
  },
  {
   "cell_type": "code",
   "execution_count": 12,
   "metadata": {},
   "outputs": [
    {
     "name": "stdout",
     "output_type": "stream",
     "text": [
      "Device Spec:  /job:localhost/replica:0/device:GPU:*\n",
      "WARNING:tensorflow:`period` argument is deprecated. Please use `save_freq` to specify the frequency in number of batches seen.\n",
      "Epoch 1/150\n"
     ]
    },
    {
     "name": "stderr",
     "output_type": "stream",
     "text": [
      "2023-02-07 18:18:49.678064: I tensorflow/stream_executor/cuda/cuda_dnn.cc:384] Loaded cuDNN version 8100\n",
      "2023-02-07 18:18:50.088281: I tensorflow/core/platform/default/subprocess.cc:304] Start cannot spawn child process: No such file or directory\n"
     ]
    },
    {
     "name": "stdout",
     "output_type": "stream",
     "text": [
      "484/484 [==============================] - ETA: 0s - loss: 2.1095 - accuracy: 0.2931 - sensitivity_at_specificity: 0.6432 - specificity_at_sensitivity: 0.6369 - recall: 0.0504 - precision: 0.4459\n",
      "Epoch 1: val_accuracy improved from -inf to 0.22500, saving model to ECG_Spectrogram_Model.h5\n",
      "484/484 [==============================] - 75s 149ms/step - loss: 2.1095 - accuracy: 0.2931 - sensitivity_at_specificity: 0.6432 - specificity_at_sensitivity: 0.6369 - recall: 0.0504 - precision: 0.4459 - val_loss: 7.3628 - val_accuracy: 0.2250 - val_sensitivity_at_specificity: 0.3688 - val_specificity_at_sensitivity: 0.0000e+00 - val_recall: 0.2250 - val_precision: 0.2250\n",
      "Epoch 2/150\n",
      "484/484 [==============================] - ETA: 0s - loss: 0.9501 - accuracy: 0.6246 - sensitivity_at_specificity: 0.9612 - specificity_at_sensitivity: 0.9527 - recall: 0.4804 - precision: 0.7441\n",
      "Epoch 2: val_accuracy improved from 0.22500 to 0.22813, saving model to ECG_Spectrogram_Model.h5\n",
      "484/484 [==============================] - 72s 148ms/step - loss: 0.9501 - accuracy: 0.6246 - sensitivity_at_specificity: 0.9612 - specificity_at_sensitivity: 0.9527 - recall: 0.4804 - precision: 0.7441 - val_loss: 3.0976 - val_accuracy: 0.2281 - val_sensitivity_at_specificity: 0.7250 - val_specificity_at_sensitivity: 0.6492 - val_recall: 0.2250 - val_precision: 0.2330\n",
      "Epoch 3/150\n",
      "484/484 [==============================] - ETA: 0s - loss: 0.7122 - accuracy: 0.7251 - sensitivity_at_specificity: 0.9911 - specificity_at_sensitivity: 0.9820 - recall: 0.6394 - precision: 0.7941\n",
      "Epoch 3: val_accuracy improved from 0.22813 to 0.37813, saving model to ECG_Spectrogram_Model.h5\n",
      "484/484 [==============================] - 72s 149ms/step - loss: 0.7122 - accuracy: 0.7251 - sensitivity_at_specificity: 0.9911 - specificity_at_sensitivity: 0.9820 - recall: 0.6394 - precision: 0.7941 - val_loss: 2.5578 - val_accuracy: 0.3781 - val_sensitivity_at_specificity: 0.7188 - val_specificity_at_sensitivity: 0.6555 - val_recall: 0.3344 - val_precision: 0.3963\n",
      "Epoch 4/150\n",
      "484/484 [==============================] - ETA: 0s - loss: 0.6097 - accuracy: 0.7713 - sensitivity_at_specificity: 0.9922 - specificity_at_sensitivity: 0.9894 - recall: 0.7118 - precision: 0.8228\n",
      "Epoch 4: val_accuracy improved from 0.37813 to 0.68125, saving model to ECG_Spectrogram_Model.h5\n",
      "484/484 [==============================] - 73s 150ms/step - loss: 0.6097 - accuracy: 0.7713 - sensitivity_at_specificity: 0.9922 - specificity_at_sensitivity: 0.9894 - recall: 0.7118 - precision: 0.8228 - val_loss: 0.9308 - val_accuracy: 0.6812 - val_sensitivity_at_specificity: 0.9594 - val_specificity_at_sensitivity: 0.9789 - val_recall: 0.6469 - val_precision: 0.7393\n",
      "Epoch 5/150\n",
      "484/484 [==============================] - ETA: 0s - loss: 0.5334 - accuracy: 0.8074 - sensitivity_at_specificity: 0.9938 - specificity_at_sensitivity: 0.9935 - recall: 0.7638 - precision: 0.8441\n",
      "Epoch 5: val_accuracy improved from 0.68125 to 0.78750, saving model to ECG_Spectrogram_Model.h5\n",
      "484/484 [==============================] - 73s 150ms/step - loss: 0.5334 - accuracy: 0.8074 - sensitivity_at_specificity: 0.9938 - specificity_at_sensitivity: 0.9935 - recall: 0.7638 - precision: 0.8441 - val_loss: 0.5864 - val_accuracy: 0.7875 - val_sensitivity_at_specificity: 0.9875 - val_specificity_at_sensitivity: 0.9930 - val_recall: 0.7437 - val_precision: 0.8530\n",
      "Epoch 6/150\n",
      "484/484 [==============================] - ETA: 0s - loss: 0.4716 - accuracy: 0.8321 - sensitivity_at_specificity: 0.9940 - specificity_at_sensitivity: 0.9958 - recall: 0.7977 - precision: 0.8613\n",
      "Epoch 6: val_accuracy improved from 0.78750 to 0.85000, saving model to ECG_Spectrogram_Model.h5\n",
      "484/484 [==============================] - 73s 150ms/step - loss: 0.4716 - accuracy: 0.8321 - sensitivity_at_specificity: 0.9940 - specificity_at_sensitivity: 0.9958 - recall: 0.7977 - precision: 0.8613 - val_loss: 0.5181 - val_accuracy: 0.8500 - val_sensitivity_at_specificity: 0.9875 - val_specificity_at_sensitivity: 0.9945 - val_recall: 0.8125 - val_precision: 0.8667\n",
      "Epoch 7/150\n",
      "484/484 [==============================] - ETA: 0s - loss: 0.4365 - accuracy: 0.8436 - sensitivity_at_specificity: 0.9964 - specificity_at_sensitivity: 0.9966 - recall: 0.8172 - precision: 0.8701\n",
      "Epoch 7: val_accuracy did not improve from 0.85000\n",
      "484/484 [==============================] - 72s 149ms/step - loss: 0.4365 - accuracy: 0.8436 - sensitivity_at_specificity: 0.9964 - specificity_at_sensitivity: 0.9966 - recall: 0.8172 - precision: 0.8701 - val_loss: 0.9288 - val_accuracy: 0.7000 - val_sensitivity_at_specificity: 0.9594 - val_specificity_at_sensitivity: 0.9711 - val_recall: 0.6781 - val_precision: 0.7306\n",
      "Epoch 8/150\n",
      "484/484 [==============================] - ETA: 0s - loss: 0.4101 - accuracy: 0.8536 - sensitivity_at_specificity: 0.9969 - specificity_at_sensitivity: 0.9972 - recall: 0.8313 - precision: 0.8769\n",
      "Epoch 8: val_accuracy improved from 0.85000 to 0.85312, saving model to ECG_Spectrogram_Model.h5\n",
      "484/484 [==============================] - 73s 150ms/step - loss: 0.4101 - accuracy: 0.8536 - sensitivity_at_specificity: 0.9969 - specificity_at_sensitivity: 0.9972 - recall: 0.8313 - precision: 0.8769 - val_loss: 0.4771 - val_accuracy: 0.8531 - val_sensitivity_at_specificity: 0.9906 - val_specificity_at_sensitivity: 0.9945 - val_recall: 0.8375 - val_precision: 0.8562\n",
      "Epoch 9/150\n",
      "484/484 [==============================] - ETA: 0s - loss: 0.3872 - accuracy: 0.8617 - sensitivity_at_specificity: 0.9969 - specificity_at_sensitivity: 0.9979 - recall: 0.8401 - precision: 0.8837\n",
      "Epoch 9: val_accuracy improved from 0.85312 to 0.87813, saving model to ECG_Spectrogram_Model.h5\n",
      "484/484 [==============================] - 73s 150ms/step - loss: 0.3872 - accuracy: 0.8617 - sensitivity_at_specificity: 0.9969 - specificity_at_sensitivity: 0.9979 - recall: 0.8401 - precision: 0.8837 - val_loss: 0.3994 - val_accuracy: 0.8781 - val_sensitivity_at_specificity: 0.9812 - val_specificity_at_sensitivity: 0.9969 - val_recall: 0.8656 - val_precision: 0.8935\n",
      "Epoch 10/150\n",
      "484/484 [==============================] - ETA: 0s - loss: 0.3640 - accuracy: 0.8697 - sensitivity_at_specificity: 0.9974 - specificity_at_sensitivity: 0.9980 - recall: 0.8492 - precision: 0.8901\n",
      "Epoch 10: val_accuracy improved from 0.87813 to 0.89375, saving model to ECG_Spectrogram_Model.h5\n",
      "484/484 [==============================] - 73s 150ms/step - loss: 0.3640 - accuracy: 0.8697 - sensitivity_at_specificity: 0.9974 - specificity_at_sensitivity: 0.9980 - recall: 0.8492 - precision: 0.8901 - val_loss: 0.3089 - val_accuracy: 0.8938 - val_sensitivity_at_specificity: 0.9937 - val_specificity_at_sensitivity: 0.9984 - val_recall: 0.8781 - val_precision: 0.9035\n",
      "Epoch 11/150\n",
      "484/484 [==============================] - ETA: 0s - loss: 0.3535 - accuracy: 0.8743 - sensitivity_at_specificity: 0.9966 - specificity_at_sensitivity: 0.9984 - recall: 0.8550 - precision: 0.8933\n",
      "Epoch 11: val_accuracy improved from 0.89375 to 0.90625, saving model to ECG_Spectrogram_Model.h5\n",
      "484/484 [==============================] - 73s 150ms/step - loss: 0.3535 - accuracy: 0.8743 - sensitivity_at_specificity: 0.9966 - specificity_at_sensitivity: 0.9984 - recall: 0.8550 - precision: 0.8933 - val_loss: 0.3376 - val_accuracy: 0.9062 - val_sensitivity_at_specificity: 0.9969 - val_specificity_at_sensitivity: 0.9969 - val_recall: 0.8875 - val_precision: 0.9073\n",
      "Epoch 12/150\n",
      "484/484 [==============================] - ETA: 0s - loss: 0.3389 - accuracy: 0.8783 - sensitivity_at_specificity: 0.9974 - specificity_at_sensitivity: 0.9987 - recall: 0.8627 - precision: 0.8957\n",
      "Epoch 12: val_accuracy did not improve from 0.90625\n",
      "484/484 [==============================] - 73s 150ms/step - loss: 0.3389 - accuracy: 0.8783 - sensitivity_at_specificity: 0.9974 - specificity_at_sensitivity: 0.9987 - recall: 0.8627 - precision: 0.8957 - val_loss: 0.4874 - val_accuracy: 0.8406 - val_sensitivity_at_specificity: 0.9844 - val_specificity_at_sensitivity: 0.9945 - val_recall: 0.8344 - val_precision: 0.8503\n",
      "Epoch 13/150\n"
     ]
    },
    {
     "name": "stdout",
     "output_type": "stream",
     "text": [
      "484/484 [==============================] - ETA: 0s - loss: 0.3254 - accuracy: 0.8839 - sensitivity_at_specificity: 0.9979 - specificity_at_sensitivity: 0.9987 - recall: 0.8676 - precision: 0.9008\n",
      "Epoch 13: val_accuracy did not improve from 0.90625\n",
      "484/484 [==============================] - 72s 149ms/step - loss: 0.3254 - accuracy: 0.8839 - sensitivity_at_specificity: 0.9979 - specificity_at_sensitivity: 0.9987 - recall: 0.8676 - precision: 0.9008 - val_loss: 0.6218 - val_accuracy: 0.7906 - val_sensitivity_at_specificity: 0.9844 - val_specificity_at_sensitivity: 0.9883 - val_recall: 0.7812 - val_precision: 0.8039\n",
      "Epoch 14/150\n",
      "484/484 [==============================] - ETA: 0s - loss: 0.3192 - accuracy: 0.8867 - sensitivity_at_specificity: 0.9976 - specificity_at_sensitivity: 0.9987 - recall: 0.8710 - precision: 0.9026\n",
      "Epoch 14: val_accuracy did not improve from 0.90625\n",
      "484/484 [==============================] - 72s 149ms/step - loss: 0.3192 - accuracy: 0.8867 - sensitivity_at_specificity: 0.9976 - specificity_at_sensitivity: 0.9987 - recall: 0.8710 - precision: 0.9026 - val_loss: 0.4034 - val_accuracy: 0.8750 - val_sensitivity_at_specificity: 0.9844 - val_specificity_at_sensitivity: 0.9969 - val_recall: 0.8656 - val_precision: 0.8878\n",
      "Epoch 15/150\n",
      "484/484 [==============================] - ETA: 0s - loss: 0.3058 - accuracy: 0.8885 - sensitivity_at_specificity: 0.9977 - specificity_at_sensitivity: 0.9990 - recall: 0.8742 - precision: 0.9043\n",
      "Epoch 15: val_accuracy did not improve from 0.90625\n",
      "484/484 [==============================] - 72s 149ms/step - loss: 0.3058 - accuracy: 0.8885 - sensitivity_at_specificity: 0.9977 - specificity_at_sensitivity: 0.9990 - recall: 0.8742 - precision: 0.9043 - val_loss: 0.5854 - val_accuracy: 0.8219 - val_sensitivity_at_specificity: 0.9875 - val_specificity_at_sensitivity: 0.9922 - val_recall: 0.8125 - val_precision: 0.8254\n",
      "Epoch 16/150\n",
      "484/484 [==============================] - ETA: 0s - loss: 0.2975 - accuracy: 0.8926 - sensitivity_at_specificity: 0.9978 - specificity_at_sensitivity: 0.9991 - recall: 0.8783 - precision: 0.9074\n",
      "Epoch 16: val_accuracy did not improve from 0.90625\n",
      "484/484 [==============================] - 72s 149ms/step - loss: 0.2975 - accuracy: 0.8926 - sensitivity_at_specificity: 0.9978 - specificity_at_sensitivity: 0.9991 - recall: 0.8783 - precision: 0.9074 - val_loss: 0.4347 - val_accuracy: 0.8500 - val_sensitivity_at_specificity: 0.9969 - val_specificity_at_sensitivity: 0.9953 - val_recall: 0.8438 - val_precision: 0.8710\n"
     ]
    }
   ],
   "source": [
    "#Model Execution\n",
    "\n",
    "from keras.callbacks import ModelCheckpoint, EarlyStopping\n",
    "\n",
    "# Initializing Device Specification\n",
    "device_spec = tf.DeviceSpec(job =\"localhost\", replica = 0, device_type = \"GPU\")\n",
    " \n",
    "# Printing the DeviceSpec\n",
    "print('Device Spec: ', device_spec.to_string())\n",
    " \n",
    "# Enabling device logging\n",
    "tf.debugging.set_log_device_placement(True)\n",
    " \n",
    "# Specifying the device\n",
    "with tf.device(device_spec):\n",
    "    \n",
    "#with tf.device('/gpu:10'):\n",
    "    \n",
    "    checkpoint = ModelCheckpoint(\"ECG_Spectrogram_Model.h5\", monitor='val_accuracy', verbose=1, save_best_only=True, save_weights_only=False, mode='auto', period=1)\n",
    "    mycallback=tf.keras.callbacks.EarlyStopping(monitor=\"val_accuracy\", patience=5, mode=\"auto\")\n",
    "    \n",
    "    history = model.fit(\n",
    "          train_data,\n",
    "          #steps_per_epoch=20, \n",
    "          epochs=150,\n",
    "          verbose=1,\n",
    "          validation_data = val_data,\n",
    "          validation_steps=5, \n",
    "          callbacks = [mycallback,checkpoint]\n",
    "    ) "
   ]
  },
  {
   "cell_type": "code",
   "execution_count": 13,
   "metadata": {},
   "outputs": [
    {
     "name": "stdout",
     "output_type": "stream",
     "text": [
      "Training Accuracy:  0.8926378488540649\n",
      "Validation Accuracy:  0.90625\n",
      "Validation Specificity:  0.9984375238418579\n",
      "Validation Sensitivity:  0.996874988079071\n",
      "Validation Recall:  0.887499988079071\n",
      "Validation Precision:  0.9073482155799866\n",
      "Validation Loss:  0.3089364171028137\n"
     ]
    }
   ],
   "source": [
    "Training_Accuracy=history.history['accuracy']\n",
    "Validation_Accuracy=history.history['val_accuracy']\n",
    "Validation_Specificity=history.history['val_specificity_at_sensitivity']\n",
    "Validation_Sensitivity=history.history['val_sensitivity_at_specificity']\n",
    "Validation_Recall=history.history['val_recall']\n",
    "Validation_Precision=history.history['val_precision']\n",
    "Validation_Loss=history.history['val_loss']\n",
    "\n",
    "print(\"Training Accuracy: \",max(Training_Accuracy))\n",
    "print(\"Validation Accuracy: \",max(Validation_Accuracy))\n",
    "print(\"Validation Specificity: \",max(Validation_Specificity))\n",
    "print(\"Validation Sensitivity: \",max(Validation_Sensitivity))\n",
    "print(\"Validation Recall: \",max(Validation_Recall))\n",
    "print(\"Validation Precision: \",max(Validation_Precision))\n",
    "print(\"Validation Loss: \",min(Validation_Loss))"
   ]
  },
  {
   "cell_type": "code",
   "execution_count": 14,
   "metadata": {},
   "outputs": [
    {
     "data": {
      "image/png": "[encoded data removed]",
      "text/plain": [
       "<Figure size 720x432 with 1 Axes>"
      ]
     },
     "metadata": {
      "needs_background": "light"
     },
     "output_type": "display_data"
    }
   ],
   "source": [
    "plt.figure(figsize=(10,6))\n",
    "plt.plot(history.history['accuracy'])\n",
    "plt.plot(history.history['val_accuracy'])\n",
    "plt.title('Model accuracy')\n",
    "plt.ylabel('Accuracy')\n",
    "plt.xlabel('Epoch')\n",
    "plt.legend(['Train', 'Test'], loc='upper left')\n",
    "plt.show()"
   ]
  },
  {
   "cell_type": "code",
   "execution_count": 15,
   "metadata": {},
   "outputs": [
    {
     "data": {
      "image/png": "[encoded data removed]",
      "text/plain": [
       "<Figure size 720x432 with 1 Axes>"
      ]
     },
     "metadata": {
      "needs_background": "light"
     },
     "output_type": "display_data"
    }
   ],
   "source": [
    "plt.figure(figsize=(10,6))\n",
    "plt.plot(history.history['loss'])\n",
    "plt.plot(history.history['val_loss'])\n",
    "plt.title('Model Loss')\n",
    "plt.ylabel('Loss')\n",
    "plt.xlabel('Epoch')\n",
    "plt.legend(['Train', 'Test'], loc='upper left')\n",
    "plt.show()"
   ]
  },
  {
   "cell_type": "code",
   "execution_count": null,
   "metadata": {},
   "outputs": [],
   "source": []
  },
  {
   "cell_type": "code",
   "execution_count": null,
   "metadata": {},
   "outputs": [],
   "source": []
  }
 ],
 "metadata": {
  "accelerator": "GPU",
  "colab": {
   "collapsed_sections": [
    "7e88OLey6Bgd"
   ],
   "provenance": []
  },
  "gpuClass": "standard",
  "kernelspec": {
   "display_name": "Python 3 (ipykernel)",
   "language": "python",
   "name": "python3"
  },
  "language_info": {
   "codemirror_mode": {
    "name": "ipython",
    "version": 3
   },
   "file_extension": ".py",
   "mimetype": "text/x-python",
   "name": "python",
   "nbconvert_exporter": "python",
   "pygments_lexer": "ipython3",
   "version": "3.10.6"
  }
 },
 "nbformat": 4,
 "nbformat_minor": 4
}
