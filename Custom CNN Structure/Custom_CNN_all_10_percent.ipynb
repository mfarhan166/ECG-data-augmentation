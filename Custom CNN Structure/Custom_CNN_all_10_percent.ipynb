{
 "cells": [
  {
   "cell_type": "markdown",
   "metadata": {
    "id": "SsTzc3oi726u"
   },
   "source": [
    "# **Building a Convolutional Neural Network with Keras**"
   ]
  },
  {
   "cell_type": "code",
   "execution_count": 1,
   "metadata": {},
   "outputs": [
    {
     "name": "stdout",
     "output_type": "stream",
     "text": [
      "2.9.1\n"
     ]
    }
   ],
   "source": [
    "#Tensorflow version\n",
    "\n",
    "import tensorflow as tf\n",
    "print(tf.__version__)"
   ]
  },
  {
   "cell_type": "code",
   "execution_count": 2,
   "metadata": {},
   "outputs": [],
   "source": [
    "#Importing libraries\n",
    "\n",
    "import tensorflow as tf\n",
    "from tensorflow import keras\n",
    "from keras.layers import Input, Conv2D, Dense, Flatten, BatchNormalization, Dropout, MaxPooling2D, GlobalMaxPooling2D\n",
    "from keras.models import Model\n",
    "import matplotlib.pyplot as plt\n",
    "from keras.applications.efficientnet import EfficientNetB0\n",
    "from keras.preprocessing import image\n",
    "#from keras.preprocessing.image import load_img\n",
    "from keras.models import Sequential\n",
    "import numpy as np\n",
    "from tensorflow.keras import regularizers"
   ]
  },
  {
   "cell_type": "code",
   "execution_count": 3,
   "metadata": {},
   "outputs": [],
   "source": [
    "\n",
    "# 10 percent\n",
    "train_dir='/home/ubuntu/From_Laptop/multi-class-NEW/12-Lead_ECG_version_2/DA_version_3/Model_Training/10 percent/Training/'\n",
    "val_dir='/home/ubuntu/From_Laptop/multi-class-NEW/12-Lead_ECG_version_2/DA_version_3/Model_Training/10 percent/Validation/'\n",
    "\n",
    "\n",
    "# 3 percent with HYP 10 percent\n",
    "#train_dir=\"/home/ubuntu/From_Laptop/multi-class-NEW/12-Lead_ECG_version_2/DA_version_3/Model_Training/3 percent with HYP 20 percent - v2--New/Training/\"\n",
    "#val_dir=\"/home/ubuntu/From_Laptop/multi-class-NEW/12-Lead_ECG_version_2/DA_version_3/Model_Training/3 percent with HYP 20 percent - v2--New/Validation/\"\n",
    "\n",
    "\n",
    "\n",
    "\n",
    "# 3 percent with HYP 10 percent (17000)\n",
    "#train_dir=\"/home/ubuntu/From_Laptop/multi-class-NEW/12-Lead_ECG_version_2/DA_version_3/Model_Training/3 percent with HYP 10 percent - v2 - 17000/Training/\"\n",
    "#val_dir=\"/home/ubuntu/From_Laptop/multi-class-NEW/12-Lead_ECG_version_2/DA_version_3/Model_Training/3 percent with HYP 10 percent - v2 - 17000/Validation/\""
   ]
  },
  {
   "cell_type": "code",
   "execution_count": 4,
   "metadata": {},
   "outputs": [
    {
     "name": "stdout",
     "output_type": "stream",
     "text": [
      "Found 30794 files belonging to 5 classes.\n"
     ]
    },
    {
     "name": "stderr",
     "output_type": "stream",
     "text": [
      "2023-02-07 12:58:21.425802: I tensorflow/stream_executor/cuda/cuda_gpu_executor.cc:975] successful NUMA node read from SysFS had negative value (-1), but there must be at least one NUMA node, so returning NUMA node zero\n",
      "2023-02-07 12:58:21.493622: I tensorflow/stream_executor/cuda/cuda_gpu_executor.cc:975] successful NUMA node read from SysFS had negative value (-1), but there must be at least one NUMA node, so returning NUMA node zero\n",
      "2023-02-07 12:58:21.494091: I tensorflow/stream_executor/cuda/cuda_gpu_executor.cc:975] successful NUMA node read from SysFS had negative value (-1), but there must be at least one NUMA node, so returning NUMA node zero\n",
      "2023-02-07 12:58:21.518368: I tensorflow/core/platform/cpu_feature_guard.cc:193] This TensorFlow binary is optimized with oneAPI Deep Neural Network Library (oneDNN) to use the following CPU instructions in performance-critical operations:  AVX2 FMA\n",
      "To enable them in other operations, rebuild TensorFlow with the appropriate compiler flags.\n",
      "2023-02-07 12:58:21.519178: I tensorflow/stream_executor/cuda/cuda_gpu_executor.cc:975] successful NUMA node read from SysFS had negative value (-1), but there must be at least one NUMA node, so returning NUMA node zero\n",
      "2023-02-07 12:58:21.519604: I tensorflow/stream_executor/cuda/cuda_gpu_executor.cc:975] successful NUMA node read from SysFS had negative value (-1), but there must be at least one NUMA node, so returning NUMA node zero\n",
      "2023-02-07 12:58:21.519946: I tensorflow/stream_executor/cuda/cuda_gpu_executor.cc:975] successful NUMA node read from SysFS had negative value (-1), but there must be at least one NUMA node, so returning NUMA node zero\n",
      "2023-02-07 12:58:22.629257: I tensorflow/stream_executor/cuda/cuda_gpu_executor.cc:975] successful NUMA node read from SysFS had negative value (-1), but there must be at least one NUMA node, so returning NUMA node zero\n",
      "2023-02-07 12:58:22.629545: I tensorflow/stream_executor/cuda/cuda_gpu_executor.cc:975] successful NUMA node read from SysFS had negative value (-1), but there must be at least one NUMA node, so returning NUMA node zero\n",
      "2023-02-07 12:58:22.629782: I tensorflow/stream_executor/cuda/cuda_gpu_executor.cc:975] successful NUMA node read from SysFS had negative value (-1), but there must be at least one NUMA node, so returning NUMA node zero\n",
      "2023-02-07 12:58:22.629962: I tensorflow/core/common_runtime/gpu/gpu_device.cc:1532] Created device /job:localhost/replica:0/task:0/device:GPU:0 with 7380 MB memory:  -> device: 0, name: NVIDIA GeForce GTX 1080, pci bus id: 0000:00:05.0, compute capability: 6.1\n"
     ]
    },
    {
     "name": "stdout",
     "output_type": "stream",
     "text": [
      "Found 8199 files belonging to 5 classes.\n"
     ]
    }
   ],
   "source": [
    "from tensorflow.keras import layers\n",
    "\n",
    "train_data = tf.keras.preprocessing.image_dataset_from_directory(directory=train_dir,\n",
    "                                                                 image_size=(256,256),\n",
    "                                                                 label_mode='categorical', batch_size=64, \n",
    "                                                                 )\n",
    "val_data = tf.keras.preprocessing.image_dataset_from_directory(directory=val_dir,\n",
    "                                                                 image_size=(256,256),\n",
    "                                                                 label_mode='categorical', batch_size=64,\n",
    "                                                                )"
   ]
  },
  {
   "cell_type": "code",
   "execution_count": 5,
   "metadata": {},
   "outputs": [],
   "source": [
    "#Normalization of the data\n",
    "\n",
    "nrmzln_layer = layers.experimental.preprocessing.Rescaling(1./255)\n",
    "\n",
    "train_data = train_data.map(lambda x,\n",
    "                          y: (nrmzln_layer(x), y))\n",
    "\n",
    "val_data = val_data.map(lambda x,\n",
    "                          y: (nrmzln_layer(x), y))"
   ]
  },
  {
   "cell_type": "code",
   "execution_count": 6,
   "metadata": {},
   "outputs": [],
   "source": [
    "#Custom Model Architecture\n",
    "\n",
    "from keras.layers import LeakyReLU\n",
    "model = tf.keras.models.Sequential([\n",
    "                                    \n",
    "    # First convolution layer \n",
    "    tf.keras.layers.Conv2D(32, 3, activation=LeakyReLU(alpha=0.01),padding=\"same\", input_shape=(256, 256, 3),use_bias=True),\n",
    "    tf.keras.layers.MaxPooling2D(2, 2),\n",
    "    tf.keras.layers.Dropout(0.50),\n",
    "    \n",
    "\n",
    "    # Second convolution layer \n",
    "    tf.keras.layers.Conv2D(64, 3, activation=LeakyReLU(alpha=0.01),padding=\"same\",use_bias=True),\n",
    "    tf.keras.layers.MaxPooling2D(2,2),\n",
    "    BatchNormalization(),\n",
    "    tf.keras.layers.Dropout(0.25),\n",
    "\n",
    "    \n",
    "    # Third convolution layer  \n",
    "    tf.keras.layers.Conv2D(128, 2, activation=LeakyReLU(alpha=0.01),padding=\"same\",use_bias=True),\n",
    "    tf.keras.layers.MaxPooling2D(2,2),\n",
    "    BatchNormalization(),\n",
    "    tf.keras.layers.Dropout(0.15),\n",
    "\n",
    "    # Fourth convolution layer \n",
    "    tf.keras.layers.Conv2D(64, 1, activation=LeakyReLU(alpha=0.01),padding=\"same\",use_bias=True),\n",
    "    tf.keras.layers.MaxPooling2D(2,2),\n",
    "    tf.keras.layers.Dropout(0.10),\n",
    "\n",
    "    # Flatten the pooled feature maps\n",
    "    tf.keras.layers.Flatten(),\n",
    "\n",
    "    # Fully connected hidden layer\n",
    "    tf.keras.layers.Dense(96, activation=LeakyReLU(alpha=0.01),use_bias=True),\n",
    "\n",
    "    # Output layer\n",
    "    tf.keras.layers.Dense(5, activation='softmax',activity_regularizer=regularizers.L2(0.001))  \n",
    "\n",
    "])\n"
   ]
  },
  {
   "cell_type": "code",
   "execution_count": 7,
   "metadata": {},
   "outputs": [
    {
     "name": "stdout",
     "output_type": "stream",
     "text": [
      "Model: \"sequential\"\n",
      "_________________________________________________________________\n",
      " Layer (type)                Output Shape              Param #   \n",
      "=================================================================\n",
      " conv2d (Conv2D)             (None, 256, 256, 32)      896       \n",
      "                                                                 \n",
      " max_pooling2d (MaxPooling2D  (None, 128, 128, 32)     0         \n",
      " )                                                               \n",
      "                                                                 \n",
      " dropout (Dropout)           (None, 128, 128, 32)      0         \n",
      "                                                                 \n",
      " conv2d_1 (Conv2D)           (None, 128, 128, 64)      18496     \n",
      "                                                                 \n",
      " max_pooling2d_1 (MaxPooling  (None, 64, 64, 64)       0         \n",
      " 2D)                                                             \n",
      "                                                                 \n",
      " batch_normalization (BatchN  (None, 64, 64, 64)       256       \n",
      " ormalization)                                                   \n",
      "                                                                 \n",
      " dropout_1 (Dropout)         (None, 64, 64, 64)        0         \n",
      "                                                                 \n",
      " conv2d_2 (Conv2D)           (None, 64, 64, 128)       32896     \n",
      "                                                                 \n",
      " max_pooling2d_2 (MaxPooling  (None, 32, 32, 128)      0         \n",
      " 2D)                                                             \n",
      "                                                                 \n",
      " batch_normalization_1 (Batc  (None, 32, 32, 128)      512       \n",
      " hNormalization)                                                 \n",
      "                                                                 \n",
      " dropout_2 (Dropout)         (None, 32, 32, 128)       0         \n",
      "                                                                 \n",
      " conv2d_3 (Conv2D)           (None, 32, 32, 64)        8256      \n",
      "                                                                 \n",
      " max_pooling2d_3 (MaxPooling  (None, 16, 16, 64)       0         \n",
      " 2D)                                                             \n",
      "                                                                 \n",
      " dropout_3 (Dropout)         (None, 16, 16, 64)        0         \n",
      "                                                                 \n",
      " flatten (Flatten)           (None, 16384)             0         \n",
      "                                                                 \n",
      " dense (Dense)               (None, 96)                1572960   \n",
      "                                                                 \n",
      " dense_1 (Dense)             (None, 5)                 485       \n",
      "                                                                 \n",
      "=================================================================\n",
      "Total params: 1,634,757\n",
      "Trainable params: 1,634,373\n",
      "Non-trainable params: 384\n",
      "_________________________________________________________________\n"
     ]
    }
   ],
   "source": [
    "#print model summary\n",
    "\n",
    "model.summary()"
   ]
  },
  {
   "cell_type": "code",
   "execution_count": 8,
   "metadata": {},
   "outputs": [],
   "source": [
    "#Performance evaluation Metrics delcaration \n",
    "\n",
    "from tensorflow.keras.optimizers import Adam\n",
    "from tensorflow.keras.metrics import SensitivityAtSpecificity,SpecificityAtSensitivity,Recall,Precision\n",
    "\n",
    "model.compile(loss=tf.losses.categorical_crossentropy,\n",
    "              optimizer=Adam(learning_rate=0.001),\n",
    "              metrics=['accuracy',SensitivityAtSpecificity(0.5),SpecificityAtSensitivity(0.5),Recall(0.5),Precision(0.5)]) \n"
   ]
  },
  {
   "cell_type": "code",
   "execution_count": 9,
   "metadata": {},
   "outputs": [
    {
     "name": "stdout",
     "output_type": "stream",
     "text": [
      "Device Spec:  /job:localhost/replica:0/device:GPU:*\n",
      "WARNING:tensorflow:`period` argument is deprecated. Please use `save_freq` to specify the frequency in number of batches seen.\n",
      "Epoch 1/150\n"
     ]
    },
    {
     "name": "stderr",
     "output_type": "stream",
     "text": [
      "2023-02-07 12:58:27.156419: I tensorflow/stream_executor/cuda/cuda_dnn.cc:384] Loaded cuDNN version 8100\n",
      "2023-02-07 12:58:27.513463: I tensorflow/core/platform/default/subprocess.cc:304] Start cannot spawn child process: No such file or directory\n"
     ]
    },
    {
     "name": "stdout",
     "output_type": "stream",
     "text": [
      "482/482 [==============================] - ETA: 0s - loss: 1.9193 - accuracy: 0.3038 - sensitivity_at_specificity: 0.6676 - specificity_at_sensitivity: 0.6669 - recall: 0.0718 - precision: 0.4106\n",
      "Epoch 1: val_accuracy improved from -inf to 0.18438, saving model to ECG_Spectrogram_Model.h5\n",
      "482/482 [==============================] - 75s 149ms/step - loss: 1.9193 - accuracy: 0.3038 - sensitivity_at_specificity: 0.6676 - specificity_at_sensitivity: 0.6669 - recall: 0.0718 - precision: 0.4106 - val_loss: 1.9914 - val_accuracy: 0.1844 - val_sensitivity_at_specificity: 0.6125 - val_specificity_at_sensitivity: 0.5813 - val_recall: 0.1844 - val_precision: 0.2014\n",
      "Epoch 2/150\n",
      "481/482 [============================>.] - ETA: 0s - loss: 1.1521 - accuracy: 0.5380 - sensitivity_at_specificity: 0.9181 - specificity_at_sensitivity: 0.9055 - recall: 0.2991 - precision: 0.6834\n",
      "Epoch 2: val_accuracy improved from 0.18438 to 0.23438, saving model to ECG_Spectrogram_Model.h5\n",
      "482/482 [==============================] - 71s 148ms/step - loss: 1.1519 - accuracy: 0.5380 - sensitivity_at_specificity: 0.9181 - specificity_at_sensitivity: 0.9055 - recall: 0.2992 - precision: 0.6835 - val_loss: 4.9977 - val_accuracy: 0.2344 - val_sensitivity_at_specificity: 0.5156 - val_specificity_at_sensitivity: 0.5023 - val_recall: 0.2313 - val_precision: 0.2327\n",
      "Epoch 3/150\n",
      "481/482 [============================>.] - ETA: 0s - loss: 0.9115 - accuracy: 0.6499 - sensitivity_at_specificity: 0.9662 - specificity_at_sensitivity: 0.9572 - recall: 0.5176 - precision: 0.7396\n",
      "Epoch 3: val_accuracy improved from 0.23438 to 0.67500, saving model to ECG_Spectrogram_Model.h5\n",
      "482/482 [==============================] - 72s 149ms/step - loss: 0.9114 - accuracy: 0.6500 - sensitivity_at_specificity: 0.9662 - specificity_at_sensitivity: 0.9572 - recall: 0.5177 - precision: 0.7396 - val_loss: 0.8521 - val_accuracy: 0.6750 - val_sensitivity_at_specificity: 0.9812 - val_specificity_at_sensitivity: 0.9602 - val_recall: 0.4844 - val_precision: 0.7828\n",
      "Epoch 4/150\n",
      "481/482 [============================>.] - ETA: 0s - loss: 0.7046 - accuracy: 0.7414 - sensitivity_at_specificity: 0.9853 - specificity_at_sensitivity: 0.9832 - recall: 0.6699 - precision: 0.8003\n",
      "Epoch 4: val_accuracy improved from 0.67500 to 0.74687, saving model to ECG_Spectrogram_Model.h5\n",
      "482/482 [==============================] - 72s 150ms/step - loss: 0.7044 - accuracy: 0.7414 - sensitivity_at_specificity: 0.9853 - specificity_at_sensitivity: 0.9832 - recall: 0.6700 - precision: 0.8004 - val_loss: 0.7232 - val_accuracy: 0.7469 - val_sensitivity_at_specificity: 0.9844 - val_specificity_at_sensitivity: 0.9852 - val_recall: 0.6250 - val_precision: 0.7968\n",
      "Epoch 5/150\n",
      "481/482 [============================>.] - ETA: 0s - loss: 0.5820 - accuracy: 0.7904 - sensitivity_at_specificity: 0.9914 - specificity_at_sensitivity: 0.9909 - recall: 0.7402 - precision: 0.8325\n",
      "Epoch 5: val_accuracy improved from 0.74687 to 0.80937, saving model to ECG_Spectrogram_Model.h5\n",
      "482/482 [==============================] - 73s 150ms/step - loss: 0.5819 - accuracy: 0.7904 - sensitivity_at_specificity: 0.9914 - specificity_at_sensitivity: 0.9909 - recall: 0.7402 - precision: 0.8325 - val_loss: 0.5491 - val_accuracy: 0.8094 - val_sensitivity_at_specificity: 0.9937 - val_specificity_at_sensitivity: 0.9945 - val_recall: 0.7437 - val_precision: 0.8655\n",
      "Epoch 6/150\n",
      "481/482 [============================>.] - ETA: 0s - loss: 0.4988 - accuracy: 0.8208 - sensitivity_at_specificity: 0.9939 - specificity_at_sensitivity: 0.9946 - recall: 0.7841 - precision: 0.8540\n",
      "Epoch 6: val_accuracy improved from 0.80937 to 0.85938, saving model to ECG_Spectrogram_Model.h5\n",
      "482/482 [==============================] - 73s 151ms/step - loss: 0.4989 - accuracy: 0.8207 - sensitivity_at_specificity: 0.9939 - specificity_at_sensitivity: 0.9946 - recall: 0.7840 - precision: 0.8539 - val_loss: 0.4050 - val_accuracy: 0.8594 - val_sensitivity_at_specificity: 1.0000 - val_specificity_at_sensitivity: 0.9977 - val_recall: 0.8344 - val_precision: 0.8870\n",
      "Epoch 7/150\n",
      "481/482 [============================>.] - ETA: 0s - loss: 0.4000 - accuracy: 0.8568 - sensitivity_at_specificity: 0.9970 - specificity_at_sensitivity: 0.9973 - recall: 0.8345 - precision: 0.8818\n",
      "Epoch 7: val_accuracy did not improve from 0.85938\n",
      "482/482 [==============================] - 72s 150ms/step - loss: 0.3999 - accuracy: 0.8569 - sensitivity_at_specificity: 0.9970 - specificity_at_sensitivity: 0.9973 - recall: 0.8345 - precision: 0.8819 - val_loss: 0.4756 - val_accuracy: 0.8188 - val_sensitivity_at_specificity: 0.9969 - val_specificity_at_sensitivity: 0.9969 - val_recall: 0.7781 - val_precision: 0.8557\n",
      "Epoch 8/150\n",
      "481/482 [============================>.] - ETA: 0s - loss: 0.3697 - accuracy: 0.8665 - sensitivity_at_specificity: 0.9971 - specificity_at_sensitivity: 0.9981 - recall: 0.8486 - precision: 0.8879\n",
      "Epoch 8: val_accuracy improved from 0.85938 to 0.86563, saving model to ECG_Spectrogram_Model.h5\n",
      "482/482 [==============================] - 73s 151ms/step - loss: 0.3697 - accuracy: 0.8664 - sensitivity_at_specificity: 0.9971 - specificity_at_sensitivity: 0.9981 - recall: 0.8485 - precision: 0.8878 - val_loss: 0.3743 - val_accuracy: 0.8656 - val_sensitivity_at_specificity: 0.9969 - val_specificity_at_sensitivity: 0.9961 - val_recall: 0.8562 - val_precision: 0.8810\n",
      "Epoch 9/150\n",
      "481/482 [============================>.] - ETA: 0s - loss: 0.3353 - accuracy: 0.8804 - sensitivity_at_specificity: 0.9976 - specificity_at_sensitivity: 0.9984 - recall: 0.8633 - precision: 0.8982\n",
      "Epoch 9: val_accuracy did not improve from 0.86563\n",
      "482/482 [==============================] - 72s 150ms/step - loss: 0.3352 - accuracy: 0.8805 - sensitivity_at_specificity: 0.9976 - specificity_at_sensitivity: 0.9984 - recall: 0.8634 - precision: 0.8982 - val_loss: 0.3913 - val_accuracy: 0.8625 - val_sensitivity_at_specificity: 0.9875 - val_specificity_at_sensitivity: 0.9969 - val_recall: 0.8594 - val_precision: 0.8703\n",
      "Epoch 10/150\n",
      "481/482 [============================>.] - ETA: 0s - loss: 0.3155 - accuracy: 0.8876 - sensitivity_at_specificity: 0.9976 - specificity_at_sensitivity: 0.9988 - recall: 0.8731 - precision: 0.9033\n",
      "Epoch 10: val_accuracy did not improve from 0.86563\n",
      "482/482 [==============================] - 72s 149ms/step - loss: 0.3155 - accuracy: 0.8876 - sensitivity_at_specificity: 0.9976 - specificity_at_sensitivity: 0.9988 - recall: 0.8731 - precision: 0.9033 - val_loss: 0.4702 - val_accuracy: 0.8562 - val_sensitivity_at_specificity: 0.9812 - val_specificity_at_sensitivity: 0.9961 - val_recall: 0.8344 - val_precision: 0.8641\n",
      "Epoch 11/150\n",
      "481/482 [============================>.] - ETA: 0s - loss: 0.3018 - accuracy: 0.8921 - sensitivity_at_specificity: 0.9977 - specificity_at_sensitivity: 0.9991 - recall: 0.8785 - precision: 0.9063\n",
      "Epoch 11: val_accuracy improved from 0.86563 to 0.91562, saving model to ECG_Spectrogram_Model.h5\n",
      "482/482 [==============================] - 72s 150ms/step - loss: 0.3018 - accuracy: 0.8921 - sensitivity_at_specificity: 0.9977 - specificity_at_sensitivity: 0.9991 - recall: 0.8785 - precision: 0.9063 - val_loss: 0.2921 - val_accuracy: 0.9156 - val_sensitivity_at_specificity: 0.9906 - val_specificity_at_sensitivity: 0.9992 - val_recall: 0.9094 - val_precision: 0.9209\n",
      "Epoch 12/150\n",
      "481/482 [============================>.] - ETA: 0s - loss: 0.2945 - accuracy: 0.8941 - sensitivity_at_specificity: 0.9980 - specificity_at_sensitivity: 0.9992 - recall: 0.8805 - precision: 0.9089\n",
      "Epoch 12: val_accuracy did not improve from 0.91562\n",
      "482/482 [==============================] - 72s 150ms/step - loss: 0.2946 - accuracy: 0.8941 - sensitivity_at_specificity: 0.9980 - specificity_at_sensitivity: 0.9992 - recall: 0.8805 - precision: 0.9089 - val_loss: 0.4307 - val_accuracy: 0.8438 - val_sensitivity_at_specificity: 0.9906 - val_specificity_at_sensitivity: 0.9984 - val_recall: 0.8344 - val_precision: 0.8613\n",
      "Epoch 13/150\n",
      "481/482 [============================>.] - ETA: 0s - loss: 0.2809 - accuracy: 0.8985 - sensitivity_at_specificity: 0.9983 - specificity_at_sensitivity: 0.9993 - recall: 0.8871 - precision: 0.9107\n",
      "Epoch 13: val_accuracy did not improve from 0.91562\n",
      "482/482 [==============================] - 72s 150ms/step - loss: 0.2809 - accuracy: 0.8985 - sensitivity_at_specificity: 0.9983 - specificity_at_sensitivity: 0.9993 - recall: 0.8871 - precision: 0.9107 - val_loss: 0.3468 - val_accuracy: 0.9062 - val_sensitivity_at_specificity: 0.9906 - val_specificity_at_sensitivity: 0.9992 - val_recall: 0.9000 - val_precision: 0.9085\n"
     ]
    },
    {
     "name": "stdout",
     "output_type": "stream",
     "text": [
      "Epoch 14/150\n",
      "481/482 [============================>.] - ETA: 0s - loss: 0.2655 - accuracy: 0.9036 - sensitivity_at_specificity: 0.9981 - specificity_at_sensitivity: 0.9994 - recall: 0.8916 - precision: 0.9145\n",
      "Epoch 14: val_accuracy did not improve from 0.91562\n",
      "482/482 [==============================] - 72s 150ms/step - loss: 0.2654 - accuracy: 0.9036 - sensitivity_at_specificity: 0.9981 - specificity_at_sensitivity: 0.9994 - recall: 0.8916 - precision: 0.9146 - val_loss: 0.4813 - val_accuracy: 0.8813 - val_sensitivity_at_specificity: 0.9781 - val_specificity_at_sensitivity: 0.9969 - val_recall: 0.8813 - val_precision: 0.8840\n",
      "Epoch 15/150\n",
      "481/482 [============================>.] - ETA: 0s - loss: 0.2641 - accuracy: 0.9053 - sensitivity_at_specificity: 0.9981 - specificity_at_sensitivity: 0.9994 - recall: 0.8940 - precision: 0.9169\n",
      "Epoch 15: val_accuracy did not improve from 0.91562\n",
      "482/482 [==============================] - 72s 149ms/step - loss: 0.2641 - accuracy: 0.9052 - sensitivity_at_specificity: 0.9981 - specificity_at_sensitivity: 0.9994 - recall: 0.8939 - precision: 0.9169 - val_loss: 0.4289 - val_accuracy: 0.8531 - val_sensitivity_at_specificity: 0.9875 - val_specificity_at_sensitivity: 0.9969 - val_recall: 0.8406 - val_precision: 0.8622\n",
      "Epoch 16/150\n",
      "481/482 [============================>.] - ETA: 0s - loss: 0.2486 - accuracy: 0.9094 - sensitivity_at_specificity: 0.9982 - specificity_at_sensitivity: 0.9995 - recall: 0.8984 - precision: 0.9199\n",
      "Epoch 16: val_accuracy did not improve from 0.91562\n",
      "482/482 [==============================] - 72s 149ms/step - loss: 0.2486 - accuracy: 0.9094 - sensitivity_at_specificity: 0.9982 - specificity_at_sensitivity: 0.9995 - recall: 0.8984 - precision: 0.9200 - val_loss: 1.2376 - val_accuracy: 0.5719 - val_sensitivity_at_specificity: 0.9625 - val_specificity_at_sensitivity: 0.9117 - val_recall: 0.5437 - val_precision: 0.6000\n"
     ]
    }
   ],
   "source": [
    "#Model Execution\n",
    "\n",
    "from keras.callbacks import ModelCheckpoint, EarlyStopping\n",
    "\n",
    "# Initializing Device Specification\n",
    "device_spec = tf.DeviceSpec(job =\"localhost\", replica = 0, device_type = \"GPU\")\n",
    " \n",
    "# Printing the DeviceSpec\n",
    "print('Device Spec: ', device_spec.to_string())\n",
    " \n",
    "# Enabling device logging\n",
    "tf.debugging.set_log_device_placement(True)\n",
    " \n",
    "# Specifying the device\n",
    "with tf.device(device_spec):\n",
    "    \n",
    "#with tf.device('/gpu:10'):\n",
    "    \n",
    "    checkpoint = ModelCheckpoint(\"ECG_Spectrogram_Model.h5\", monitor='val_accuracy', verbose=1, save_best_only=True, save_weights_only=False, mode='auto', period=1)\n",
    "    mycallback=tf.keras.callbacks.EarlyStopping(monitor=\"val_accuracy\", patience=5, mode=\"auto\")\n",
    "    \n",
    "    history = model.fit(\n",
    "          train_data,\n",
    "          #steps_per_epoch=20, \n",
    "          epochs=150,\n",
    "          verbose=1,\n",
    "          validation_data = val_data,\n",
    "          validation_steps=5, \n",
    "          callbacks = [mycallback,checkpoint]\n",
    "    ) "
   ]
  },
  {
   "cell_type": "code",
   "execution_count": 10,
   "metadata": {},
   "outputs": [
    {
     "name": "stdout",
     "output_type": "stream",
     "text": [
      "Training Accuracy:  0.9093654751777649\n",
      "Validation Accuracy:  0.9156249761581421\n",
      "Validation Specificity:  0.999218761920929\n",
      "Validation Sensitivity:  1.0\n",
      "Validation Recall:  0.909375011920929\n",
      "Validation Precision:  0.9208860993385315\n",
      "Validation Loss:  0.292071670293808\n"
     ]
    }
   ],
   "source": [
    "Training_Accuracy=history.history['accuracy']\n",
    "Validation_Accuracy=history.history['val_accuracy']\n",
    "Validation_Specificity=history.history['val_specificity_at_sensitivity']\n",
    "Validation_Sensitivity=history.history['val_sensitivity_at_specificity']\n",
    "Validation_Recall=history.history['val_recall']\n",
    "Validation_Precision=history.history['val_precision']\n",
    "Validation_Loss=history.history['val_loss']\n",
    "\n",
    "print(\"Training Accuracy: \",max(Training_Accuracy))\n",
    "print(\"Validation Accuracy: \",max(Validation_Accuracy))\n",
    "print(\"Validation Specificity: \",max(Validation_Specificity))\n",
    "print(\"Validation Sensitivity: \",max(Validation_Sensitivity))\n",
    "print(\"Validation Recall: \",max(Validation_Recall))\n",
    "print(\"Validation Precision: \",max(Validation_Precision))\n",
    "print(\"Validation Loss: \",min(Validation_Loss))"
   ]
  },
  {
   "cell_type": "code",
   "execution_count": 11,
   "metadata": {},
   "outputs": [
    {
     "data": {
      "image/png": "[encoded data removed]",
      "text/plain": [
       "<Figure size 720x432 with 1 Axes>"
      ]
     },
     "metadata": {
      "needs_background": "light"
     },
     "output_type": "display_data"
    }
   ],
   "source": [
    "plt.figure(figsize=(10,6))\n",
    "plt.plot(history.history['accuracy'])\n",
    "plt.plot(history.history['val_accuracy'])\n",
    "plt.title('Model accuracy')\n",
    "plt.ylabel('Accuracy')\n",
    "plt.xlabel('Epoch')\n",
    "plt.legend(['Train', 'Test'], loc='upper left')\n",
    "plt.show()"
   ]
  },
  {
   "cell_type": "code",
   "execution_count": 12,
   "metadata": {},
   "outputs": [
    {
     "data": {
      "image/png": "[encoded data removed]",
      "text/plain": [
       "<Figure size 720x432 with 1 Axes>"
      ]
     },
     "metadata": {
      "needs_background": "light"
     },
     "output_type": "display_data"
    }
   ],
   "source": [
    "plt.figure(figsize=(10,6))\n",
    "plt.plot(history.history['loss'])\n",
    "plt.plot(history.history['val_loss'])\n",
    "plt.title('Model Loss')\n",
    "plt.ylabel('Loss')\n",
    "plt.xlabel('Epoch')\n",
    "plt.legend(['Train', 'Test'], loc='upper left')\n",
    "plt.show()"
   ]
  },
  {
   "cell_type": "code",
   "execution_count": null,
   "metadata": {},
   "outputs": [],
   "source": []
  },
  {
   "cell_type": "code",
   "execution_count": null,
   "metadata": {},
   "outputs": [],
   "source": []
  }
 ],
 "metadata": {
  "accelerator": "GPU",
  "colab": {
   "collapsed_sections": [
    "7e88OLey6Bgd"
   ],
   "provenance": []
  },
  "gpuClass": "standard",
  "kernelspec": {
   "display_name": "Python 3 (ipykernel)",
   "language": "python",
   "name": "python3"
  },
  "language_info": {
   "codemirror_mode": {
    "name": "ipython",
    "version": 3
   },
   "file_extension": ".py",
   "mimetype": "text/x-python",
   "name": "python",
   "nbconvert_exporter": "python",
   "pygments_lexer": "ipython3",
   "version": "3.10.6"
  }
 },
 "nbformat": 4,
 "nbformat_minor": 4
}
