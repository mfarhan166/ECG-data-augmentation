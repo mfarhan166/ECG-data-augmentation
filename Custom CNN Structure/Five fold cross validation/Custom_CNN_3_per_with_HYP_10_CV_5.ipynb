{
 "cells": [
  {
   "cell_type": "markdown",
   "metadata": {
    "id": "SsTzc3oi726u"
   },
   "source": [
    "# **Building a Convolutional Neural Network with Keras**"
   ]
  },
  {
   "cell_type": "code",
   "execution_count": 1,
   "metadata": {},
   "outputs": [
    {
     "name": "stdout",
     "output_type": "stream",
     "text": [
      "2.9.1\n"
     ]
    }
   ],
   "source": [
    "#Tensorflow version\n",
    "\n",
    "import tensorflow as tf\n",
    "print(tf.__version__)"
   ]
  },
  {
   "cell_type": "code",
   "execution_count": 2,
   "metadata": {},
   "outputs": [],
   "source": [
    "#Importing libraries\n",
    "\n",
    "import tensorflow as tf\n",
    "from tensorflow import keras\n",
    "from keras.layers import Input, Conv2D, Dense, Flatten, BatchNormalization, Dropout, MaxPooling2D, GlobalMaxPooling2D\n",
    "from keras.models import Model\n",
    "import matplotlib.pyplot as plt\n",
    "from keras.applications.efficientnet import EfficientNetB0\n",
    "from keras.preprocessing import image\n",
    "#from keras.preprocessing.image import load_img\n",
    "from keras.models import Sequential\n",
    "import numpy as np\n",
    "from tensorflow.keras import regularizers"
   ]
  },
  {
   "cell_type": "code",
   "execution_count": 3,
   "metadata": {},
   "outputs": [],
   "source": [
    "# Cross Validation dataset links\n",
    "\n",
    "#CV-4\n",
    "train_dir=\"/home/ubuntu/From_Laptop/multi-class-NEW/12-Lead_ECG_version_2/DA_version_3/Model_Training/K-Fold Cross Validation/Fold 5/Training/\"\n",
    "val_dir=\"/home/ubuntu/From_Laptop/multi-class-NEW/12-Lead_ECG_version_2/DA_version_3/Model_Training/K-Fold Cross Validation/Fold 5/Validation/\""
   ]
  },
  {
   "cell_type": "code",
   "execution_count": 4,
   "metadata": {},
   "outputs": [
    {
     "name": "stdout",
     "output_type": "stream",
     "text": [
      "Found 31144 files belonging to 5 classes.\n"
     ]
    },
    {
     "name": "stderr",
     "output_type": "stream",
     "text": [
      "2023-02-09 07:50:15.263187: I tensorflow/stream_executor/cuda/cuda_gpu_executor.cc:975] successful NUMA node read from SysFS had negative value (-1), but there must be at least one NUMA node, so returning NUMA node zero\n",
      "2023-02-09 07:50:15.286366: I tensorflow/stream_executor/cuda/cuda_gpu_executor.cc:975] successful NUMA node read from SysFS had negative value (-1), but there must be at least one NUMA node, so returning NUMA node zero\n",
      "2023-02-09 07:50:15.286706: I tensorflow/stream_executor/cuda/cuda_gpu_executor.cc:975] successful NUMA node read from SysFS had negative value (-1), but there must be at least one NUMA node, so returning NUMA node zero\n",
      "2023-02-09 07:50:15.306231: I tensorflow/core/platform/cpu_feature_guard.cc:193] This TensorFlow binary is optimized with oneAPI Deep Neural Network Library (oneDNN) to use the following CPU instructions in performance-critical operations:  AVX2 FMA\n",
      "To enable them in other operations, rebuild TensorFlow with the appropriate compiler flags.\n",
      "2023-02-09 07:50:15.306643: I tensorflow/stream_executor/cuda/cuda_gpu_executor.cc:975] successful NUMA node read from SysFS had negative value (-1), but there must be at least one NUMA node, so returning NUMA node zero\n",
      "2023-02-09 07:50:15.306930: I tensorflow/stream_executor/cuda/cuda_gpu_executor.cc:975] successful NUMA node read from SysFS had negative value (-1), but there must be at least one NUMA node, so returning NUMA node zero\n",
      "2023-02-09 07:50:15.307092: I tensorflow/stream_executor/cuda/cuda_gpu_executor.cc:975] successful NUMA node read from SysFS had negative value (-1), but there must be at least one NUMA node, so returning NUMA node zero\n",
      "2023-02-09 07:50:15.728982: I tensorflow/stream_executor/cuda/cuda_gpu_executor.cc:975] successful NUMA node read from SysFS had negative value (-1), but there must be at least one NUMA node, so returning NUMA node zero\n",
      "2023-02-09 07:50:15.729173: I tensorflow/stream_executor/cuda/cuda_gpu_executor.cc:975] successful NUMA node read from SysFS had negative value (-1), but there must be at least one NUMA node, so returning NUMA node zero\n",
      "2023-02-09 07:50:15.729318: I tensorflow/stream_executor/cuda/cuda_gpu_executor.cc:975] successful NUMA node read from SysFS had negative value (-1), but there must be at least one NUMA node, so returning NUMA node zero\n",
      "2023-02-09 07:50:15.729435: I tensorflow/core/common_runtime/gpu/gpu_device.cc:1532] Created device /job:localhost/replica:0/task:0/device:GPU:0 with 7380 MB memory:  -> device: 0, name: NVIDIA GeForce GTX 1080, pci bus id: 0000:00:05.0, compute capability: 6.1\n"
     ]
    },
    {
     "name": "stdout",
     "output_type": "stream",
     "text": [
      "Found 7849 files belonging to 5 classes.\n"
     ]
    }
   ],
   "source": [
    "from tensorflow.keras import layers\n",
    "\n",
    "train_data = tf.keras.preprocessing.image_dataset_from_directory(directory=train_dir,\n",
    "                                                                 image_size=(256,256),\n",
    "                                                                 label_mode='categorical', batch_size=64, \n",
    "                                                                 )\n",
    "val_data = tf.keras.preprocessing.image_dataset_from_directory(directory=val_dir,\n",
    "                                                                 image_size=(256,256),\n",
    "                                                                 label_mode='categorical', batch_size=64,\n",
    "                                                                )"
   ]
  },
  {
   "cell_type": "code",
   "execution_count": 5,
   "metadata": {},
   "outputs": [],
   "source": [
    "#Normalization of the data\n",
    "\n",
    "nrmzln_layer = layers.experimental.preprocessing.Rescaling(1./255)\n",
    "\n",
    "train_data = train_data.map(lambda x,\n",
    "                          y: (nrmzln_layer(x), y))\n",
    "\n",
    "val_data = val_data.map(lambda x,\n",
    "                          y: (nrmzln_layer(x), y))"
   ]
  },
  {
   "cell_type": "code",
   "execution_count": 6,
   "metadata": {},
   "outputs": [],
   "source": [
    "#Custom Model Architecture\n",
    "\n",
    "from keras.layers import LeakyReLU\n",
    "model = tf.keras.models.Sequential([\n",
    "                                    \n",
    "    # First convolution layer \n",
    "    tf.keras.layers.Conv2D(32, 3, activation=LeakyReLU(alpha=0.01),padding=\"same\", input_shape=(256, 256, 3),use_bias=True),\n",
    "    tf.keras.layers.MaxPooling2D(2, 2),\n",
    "    tf.keras.layers.Dropout(0.50),\n",
    "    \n",
    "\n",
    "    # Second convolution layer \n",
    "    tf.keras.layers.Conv2D(64, 3, activation=LeakyReLU(alpha=0.01),padding=\"same\",use_bias=True),\n",
    "    tf.keras.layers.MaxPooling2D(2,2),\n",
    "    BatchNormalization(),\n",
    "    tf.keras.layers.Dropout(0.25),\n",
    "\n",
    "    \n",
    "    # Third convolution layer  \n",
    "    tf.keras.layers.Conv2D(128, 2, activation=LeakyReLU(alpha=0.01),padding=\"same\",use_bias=True),\n",
    "    tf.keras.layers.MaxPooling2D(2,2),\n",
    "    BatchNormalization(),\n",
    "    tf.keras.layers.Dropout(0.15),\n",
    "\n",
    "    # Fourth convolution layer \n",
    "    tf.keras.layers.Conv2D(64, 1, activation=LeakyReLU(alpha=0.01),padding=\"same\",use_bias=True),\n",
    "    tf.keras.layers.MaxPooling2D(2,2),\n",
    "    tf.keras.layers.Dropout(0.10),\n",
    "\n",
    "    # Flatten the pooled feature maps\n",
    "    tf.keras.layers.Flatten(),\n",
    "\n",
    "    # Fully connected hidden layer\n",
    "    tf.keras.layers.Dense(96, activation=LeakyReLU(alpha=0.01),use_bias=True),\n",
    "\n",
    "    # Output layer\n",
    "    tf.keras.layers.Dense(5, activation='softmax',activity_regularizer=regularizers.L2(0.001))  \n",
    "\n",
    "])\n"
   ]
  },
  {
   "cell_type": "code",
   "execution_count": 7,
   "metadata": {},
   "outputs": [
    {
     "name": "stdout",
     "output_type": "stream",
     "text": [
      "Model: \"sequential\"\n",
      "_________________________________________________________________\n",
      " Layer (type)                Output Shape              Param #   \n",
      "=================================================================\n",
      " conv2d (Conv2D)             (None, 256, 256, 32)      896       \n",
      "                                                                 \n",
      " max_pooling2d (MaxPooling2D  (None, 128, 128, 32)     0         \n",
      " )                                                               \n",
      "                                                                 \n",
      " dropout (Dropout)           (None, 128, 128, 32)      0         \n",
      "                                                                 \n",
      " conv2d_1 (Conv2D)           (None, 128, 128, 64)      18496     \n",
      "                                                                 \n",
      " max_pooling2d_1 (MaxPooling  (None, 64, 64, 64)       0         \n",
      " 2D)                                                             \n",
      "                                                                 \n",
      " batch_normalization (BatchN  (None, 64, 64, 64)       256       \n",
      " ormalization)                                                   \n",
      "                                                                 \n",
      " dropout_1 (Dropout)         (None, 64, 64, 64)        0         \n",
      "                                                                 \n",
      " conv2d_2 (Conv2D)           (None, 64, 64, 128)       32896     \n",
      "                                                                 \n",
      " max_pooling2d_2 (MaxPooling  (None, 32, 32, 128)      0         \n",
      " 2D)                                                             \n",
      "                                                                 \n",
      " batch_normalization_1 (Batc  (None, 32, 32, 128)      512       \n",
      " hNormalization)                                                 \n",
      "                                                                 \n",
      " dropout_2 (Dropout)         (None, 32, 32, 128)       0         \n",
      "                                                                 \n",
      " conv2d_3 (Conv2D)           (None, 32, 32, 64)        8256      \n",
      "                                                                 \n",
      " max_pooling2d_3 (MaxPooling  (None, 16, 16, 64)       0         \n",
      " 2D)                                                             \n",
      "                                                                 \n",
      " dropout_3 (Dropout)         (None, 16, 16, 64)        0         \n",
      "                                                                 \n",
      " flatten (Flatten)           (None, 16384)             0         \n",
      "                                                                 \n",
      " dense (Dense)               (None, 96)                1572960   \n",
      "                                                                 \n",
      " dense_1 (Dense)             (None, 5)                 485       \n",
      "                                                                 \n",
      "=================================================================\n",
      "Total params: 1,634,757\n",
      "Trainable params: 1,634,373\n",
      "Non-trainable params: 384\n",
      "_________________________________________________________________\n"
     ]
    }
   ],
   "source": [
    "#print model summary\n",
    "\n",
    "model.summary()"
   ]
  },
  {
   "cell_type": "code",
   "execution_count": 8,
   "metadata": {},
   "outputs": [],
   "source": [
    "#Performance evaluation Metrics delcaration \n",
    "\n",
    "from tensorflow.keras.optimizers import Adam\n",
    "from tensorflow.keras.metrics import SensitivityAtSpecificity,SpecificityAtSensitivity,Recall,Precision\n",
    "\n",
    "model.compile(loss=tf.losses.categorical_crossentropy,\n",
    "              optimizer=Adam(learning_rate=0.001),\n",
    "              metrics=['accuracy',SensitivityAtSpecificity(0.5),SpecificityAtSensitivity(0.5),Recall(0.5),Precision(0.5)]) \n"
   ]
  },
  {
   "cell_type": "code",
   "execution_count": 9,
   "metadata": {},
   "outputs": [
    {
     "name": "stdout",
     "output_type": "stream",
     "text": [
      "Device Spec:  /job:localhost/replica:0/device:GPU:*\n",
      "WARNING:tensorflow:`period` argument is deprecated. Please use `save_freq` to specify the frequency in number of batches seen.\n",
      "Epoch 1/150\n"
     ]
    },
    {
     "name": "stderr",
     "output_type": "stream",
     "text": [
      "2023-02-09 07:50:20.135075: I tensorflow/stream_executor/cuda/cuda_dnn.cc:384] Loaded cuDNN version 8100\n",
      "2023-02-09 07:50:20.324149: I tensorflow/core/platform/default/subprocess.cc:304] Start cannot spawn child process: No such file or directory\n"
     ]
    },
    {
     "name": "stdout",
     "output_type": "stream",
     "text": [
      "487/487 [==============================] - ETA: 0s - loss: 2.0368 - accuracy: 0.2300 - sensitivity_at_specificity: 0.5312 - specificity_at_sensitivity: 0.5249 - recall: 0.0095 - precision: 0.2136\n",
      "Epoch 1: val_accuracy improved from -inf to 0.22187, saving model to ECG_Spectrogram_Model.h5\n",
      "487/487 [==============================] - 76s 149ms/step - loss: 2.0368 - accuracy: 0.2300 - sensitivity_at_specificity: 0.5312 - specificity_at_sensitivity: 0.5249 - recall: 0.0095 - precision: 0.2136 - val_loss: 1.7916 - val_accuracy: 0.2219 - val_sensitivity_at_specificity: 0.5063 - val_specificity_at_sensitivity: 0.5344 - val_recall: 0.2219 - val_precision: 0.2874\n",
      "Epoch 2/150\n",
      "487/487 [==============================] - ETA: 0s - loss: 1.2891 - accuracy: 0.4472 - sensitivity_at_specificity: 0.8472 - specificity_at_sensitivity: 0.8330 - recall: 0.1860 - precision: 0.7225\n",
      "Epoch 2: val_accuracy did not improve from 0.22187\n",
      "487/487 [==============================] - 72s 147ms/step - loss: 1.2891 - accuracy: 0.4472 - sensitivity_at_specificity: 0.8472 - specificity_at_sensitivity: 0.8330 - recall: 0.1860 - precision: 0.7225 - val_loss: 8.0108 - val_accuracy: 0.2125 - val_sensitivity_at_specificity: 0.4906 - val_specificity_at_sensitivity: 0.4133 - val_recall: 0.2125 - val_precision: 0.2125\n",
      "Epoch 3/150\n",
      "487/487 [==============================] - ETA: 0s - loss: 0.8048 - accuracy: 0.6865 - sensitivity_at_specificity: 0.9826 - specificity_at_sensitivity: 0.9733 - recall: 0.5785 - precision: 0.7740\n",
      "Epoch 3: val_accuracy improved from 0.22187 to 0.70625, saving model to ECG_Spectrogram_Model.h5\n",
      "487/487 [==============================] - 72s 149ms/step - loss: 0.8048 - accuracy: 0.6865 - sensitivity_at_specificity: 0.9826 - specificity_at_sensitivity: 0.9733 - recall: 0.5785 - precision: 0.7740 - val_loss: 0.8475 - val_accuracy: 0.7063 - val_sensitivity_at_specificity: 0.9656 - val_specificity_at_sensitivity: 0.9750 - val_recall: 0.5344 - val_precision: 0.8221\n",
      "Epoch 4/150\n",
      "487/487 [==============================] - ETA: 0s - loss: 0.6595 - accuracy: 0.7538 - sensitivity_at_specificity: 0.9901 - specificity_at_sensitivity: 0.9865 - recall: 0.6870 - precision: 0.8078\n",
      "Epoch 4: val_accuracy improved from 0.70625 to 0.80313, saving model to ECG_Spectrogram_Model.h5\n",
      "487/487 [==============================] - 72s 148ms/step - loss: 0.6595 - accuracy: 0.7538 - sensitivity_at_specificity: 0.9901 - specificity_at_sensitivity: 0.9865 - recall: 0.6870 - precision: 0.8078 - val_loss: 0.5790 - val_accuracy: 0.8031 - val_sensitivity_at_specificity: 0.9937 - val_specificity_at_sensitivity: 0.9914 - val_recall: 0.7344 - val_precision: 0.8545\n",
      "Epoch 5/150\n",
      "487/487 [==============================] - ETA: 0s - loss: 0.5543 - accuracy: 0.7982 - sensitivity_at_specificity: 0.9940 - specificity_at_sensitivity: 0.9926 - recall: 0.7510 - precision: 0.8380\n",
      "Epoch 5: val_accuracy improved from 0.80313 to 0.82187, saving model to ECG_Spectrogram_Model.h5\n",
      "487/487 [==============================] - 73s 149ms/step - loss: 0.5543 - accuracy: 0.7982 - sensitivity_at_specificity: 0.9940 - specificity_at_sensitivity: 0.9926 - recall: 0.7510 - precision: 0.8380 - val_loss: 0.5232 - val_accuracy: 0.8219 - val_sensitivity_at_specificity: 1.0000 - val_specificity_at_sensitivity: 0.9937 - val_recall: 0.7719 - val_precision: 0.8373\n",
      "Epoch 6/150\n",
      "487/487 [==============================] - ETA: 0s - loss: 0.5031 - accuracy: 0.8197 - sensitivity_at_specificity: 0.9945 - specificity_at_sensitivity: 0.9948 - recall: 0.7825 - precision: 0.8536\n",
      "Epoch 6: val_accuracy did not improve from 0.82187\n",
      "487/487 [==============================] - 73s 149ms/step - loss: 0.5031 - accuracy: 0.8197 - sensitivity_at_specificity: 0.9945 - specificity_at_sensitivity: 0.9948 - recall: 0.7825 - precision: 0.8536 - val_loss: 0.5907 - val_accuracy: 0.7656 - val_sensitivity_at_specificity: 0.9812 - val_specificity_at_sensitivity: 0.9914 - val_recall: 0.7063 - val_precision: 0.8043\n",
      "Epoch 7/150\n",
      "487/487 [==============================] - ETA: 0s - loss: 0.4569 - accuracy: 0.8353 - sensitivity_at_specificity: 0.9970 - specificity_at_sensitivity: 0.9963 - recall: 0.8041 - precision: 0.8639\n",
      "Epoch 7: val_accuracy did not improve from 0.82187\n",
      "487/487 [==============================] - 73s 149ms/step - loss: 0.4569 - accuracy: 0.8353 - sensitivity_at_specificity: 0.9970 - specificity_at_sensitivity: 0.9963 - recall: 0.8041 - precision: 0.8639 - val_loss: 0.7119 - val_accuracy: 0.7594 - val_sensitivity_at_specificity: 0.9750 - val_specificity_at_sensitivity: 0.9812 - val_recall: 0.7344 - val_precision: 0.7807\n",
      "Epoch 8/150\n",
      "487/487 [==============================] - ETA: 0s - loss: 0.4152 - accuracy: 0.8513 - sensitivity_at_specificity: 0.9968 - specificity_at_sensitivity: 0.9970 - recall: 0.8255 - precision: 0.8756\n",
      "Epoch 8: val_accuracy improved from 0.82187 to 0.88125, saving model to ECG_Spectrogram_Model.h5\n",
      "487/487 [==============================] - 73s 149ms/step - loss: 0.4152 - accuracy: 0.8513 - sensitivity_at_specificity: 0.9968 - specificity_at_sensitivity: 0.9970 - recall: 0.8255 - precision: 0.8756 - val_loss: 0.3665 - val_accuracy: 0.8813 - val_sensitivity_at_specificity: 0.9937 - val_specificity_at_sensitivity: 0.9969 - val_recall: 0.8562 - val_precision: 0.9013\n",
      "Epoch 9/150\n",
      "487/487 [==============================] - ETA: 0s - loss: 0.3888 - accuracy: 0.8607 - sensitivity_at_specificity: 0.9969 - specificity_at_sensitivity: 0.9977 - recall: 0.8370 - precision: 0.8834\n",
      "Epoch 9: val_accuracy did not improve from 0.88125\n",
      "487/487 [==============================] - 73s 149ms/step - loss: 0.3888 - accuracy: 0.8607 - sensitivity_at_specificity: 0.9969 - specificity_at_sensitivity: 0.9977 - recall: 0.8370 - precision: 0.8834 - val_loss: 0.4783 - val_accuracy: 0.8062 - val_sensitivity_at_specificity: 0.9875 - val_specificity_at_sensitivity: 0.9953 - val_recall: 0.7969 - val_precision: 0.8333\n",
      "Epoch 10/150\n",
      "487/487 [==============================] - ETA: 0s - loss: 0.3751 - accuracy: 0.8648 - sensitivity_at_specificity: 0.9970 - specificity_at_sensitivity: 0.9980 - recall: 0.8448 - precision: 0.8857\n",
      "Epoch 10: val_accuracy did not improve from 0.88125\n",
      "487/487 [==============================] - 73s 149ms/step - loss: 0.3751 - accuracy: 0.8648 - sensitivity_at_specificity: 0.9970 - specificity_at_sensitivity: 0.9980 - recall: 0.8448 - precision: 0.8857 - val_loss: 0.5197 - val_accuracy: 0.8188 - val_sensitivity_at_specificity: 0.9844 - val_specificity_at_sensitivity: 0.9953 - val_recall: 0.7969 - val_precision: 0.8279\n",
      "Epoch 11/150\n",
      "487/487 [==============================] - ETA: 0s - loss: 0.3485 - accuracy: 0.8759 - sensitivity_at_specificity: 0.9977 - specificity_at_sensitivity: 0.9985 - recall: 0.8562 - precision: 0.8947\n",
      "Epoch 11: val_accuracy did not improve from 0.88125\n",
      "487/487 [==============================] - 73s 149ms/step - loss: 0.3485 - accuracy: 0.8759 - sensitivity_at_specificity: 0.9977 - specificity_at_sensitivity: 0.9985 - recall: 0.8562 - precision: 0.8947 - val_loss: 0.3843 - val_accuracy: 0.8687 - val_sensitivity_at_specificity: 1.0000 - val_specificity_at_sensitivity: 0.9969 - val_recall: 0.8406 - val_precision: 0.8791\n",
      "Epoch 12/150\n",
      "487/487 [==============================] - ETA: 0s - loss: 0.3385 - accuracy: 0.8793 - sensitivity_at_specificity: 0.9980 - specificity_at_sensitivity: 0.9986 - recall: 0.8614 - precision: 0.8964\n",
      "Epoch 12: val_accuracy did not improve from 0.88125\n",
      "487/487 [==============================] - 73s 149ms/step - loss: 0.3385 - accuracy: 0.8793 - sensitivity_at_specificity: 0.9980 - specificity_at_sensitivity: 0.9986 - recall: 0.8614 - precision: 0.8964 - val_loss: 0.4232 - val_accuracy: 0.8594 - val_sensitivity_at_specificity: 0.9906 - val_specificity_at_sensitivity: 0.9984 - val_recall: 0.8500 - val_precision: 0.8803\n",
      "Epoch 13/150\n",
      "487/487 [==============================] - ETA: 0s - loss: 0.3272 - accuracy: 0.8815 - sensitivity_at_specificity: 0.9975 - specificity_at_sensitivity: 0.9989 - recall: 0.8659 - precision: 0.8993\n",
      "Epoch 13: val_accuracy did not improve from 0.88125\n",
      "487/487 [==============================] - 73s 149ms/step - loss: 0.3272 - accuracy: 0.8815 - sensitivity_at_specificity: 0.9975 - specificity_at_sensitivity: 0.9989 - recall: 0.8659 - precision: 0.8993 - val_loss: 0.7124 - val_accuracy: 0.7469 - val_sensitivity_at_specificity: 0.9875 - val_specificity_at_sensitivity: 0.9937 - val_recall: 0.7312 - val_precision: 0.7774\n"
     ]
    }
   ],
   "source": [
    "#Model Execution\n",
    "\n",
    "from keras.callbacks import ModelCheckpoint, EarlyStopping\n",
    "\n",
    "# Initializing Device Specification\n",
    "device_spec = tf.DeviceSpec(job =\"localhost\", replica = 0, device_type = \"GPU\")\n",
    " \n",
    "# Printing the DeviceSpec\n",
    "print('Device Spec: ', device_spec.to_string())\n",
    " \n",
    "# Enabling device logging\n",
    "tf.debugging.set_log_device_placement(True)\n",
    " \n",
    "# Specifying the device\n",
    "with tf.device(device_spec):\n",
    "    \n",
    "#with tf.device('/gpu:10'):\n",
    "    \n",
    "    checkpoint = ModelCheckpoint(\"ECG_Spectrogram_Model.h5\", monitor='val_accuracy', verbose=1, save_best_only=True, save_weights_only=False, mode='auto', period=1)\n",
    "    mycallback=tf.keras.callbacks.EarlyStopping(monitor=\"val_accuracy\", patience=5, mode=\"auto\")\n",
    "    \n",
    "    history = model.fit(\n",
    "          train_data,\n",
    "          #steps_per_epoch=20, \n",
    "          epochs=150,\n",
    "          verbose=1,\n",
    "          validation_data = val_data,\n",
    "          validation_steps=5, \n",
    "          callbacks = [mycallback,checkpoint]\n",
    "    ) "
   ]
  },
  {
   "cell_type": "code",
   "execution_count": 10,
   "metadata": {},
   "outputs": [
    {
     "name": "stdout",
     "output_type": "stream",
     "text": [
      "Training Accuracy:  0.8814538717269897\n",
      "Validation Accuracy:  0.8812500238418579\n",
      "Validation Specificity:  0.9984375238418579\n",
      "Validation Sensitivity:  1.0\n",
      "Validation Recall:  0.856249988079071\n",
      "Validation Precision:  0.9013158082962036\n",
      "Validation Loss:  0.36647024750709534\n"
     ]
    }
   ],
   "source": [
    "Training_Accuracy=history.history['accuracy']\n",
    "Validation_Accuracy=history.history['val_accuracy']\n",
    "Validation_Specificity=history.history['val_specificity_at_sensitivity']\n",
    "Validation_Sensitivity=history.history['val_sensitivity_at_specificity']\n",
    "Validation_Recall=history.history['val_recall']\n",
    "Validation_Precision=history.history['val_precision']\n",
    "Validation_Loss=history.history['val_loss']\n",
    "\n",
    "print(\"Training Accuracy: \",max(Training_Accuracy))\n",
    "print(\"Validation Accuracy: \",max(Validation_Accuracy))\n",
    "print(\"Validation Specificity: \",max(Validation_Specificity))\n",
    "print(\"Validation Sensitivity: \",max(Validation_Sensitivity))\n",
    "print(\"Validation Recall: \",max(Validation_Recall))\n",
    "print(\"Validation Precision: \",max(Validation_Precision))\n",
    "print(\"Validation Loss: \",min(Validation_Loss))"
   ]
  },
  {
   "cell_type": "code",
   "execution_count": 11,
   "metadata": {},
   "outputs": [
    {
     "data": {
      "image/png": "[encoded data removed]",
      "text/plain": [
       "<Figure size 720x432 with 1 Axes>"
      ]
     },
     "metadata": {
      "needs_background": "light"
     },
     "output_type": "display_data"
    }
   ],
   "source": [
    "plt.figure(figsize=(10,6))\n",
    "plt.plot(history.history['accuracy'])\n",
    "plt.plot(history.history['val_accuracy'])\n",
    "plt.title('Model accuracy')\n",
    "plt.ylabel('Accuracy')\n",
    "plt.xlabel('Epoch')\n",
    "plt.legend(['Train', 'Test'], loc='upper left')\n",
    "plt.show()"
   ]
  },
  {
   "cell_type": "code",
   "execution_count": 12,
   "metadata": {},
   "outputs": [
    {
     "data": {
      "image/png": "[encoded data removed]",
      "text/plain": [
       "<Figure size 720x432 with 1 Axes>"
      ]
     },
     "metadata": {
      "needs_background": "light"
     },
     "output_type": "display_data"
    }
   ],
   "source": [
    "plt.figure(figsize=(10,6))\n",
    "plt.plot(history.history['loss'])\n",
    "plt.plot(history.history['val_loss'])\n",
    "plt.title('Model Loss')\n",
    "plt.ylabel('Loss')\n",
    "plt.xlabel('Epoch')\n",
    "plt.legend(['Train', 'Test'], loc='upper left')\n",
    "plt.show()"
   ]
  },
  {
   "cell_type": "code",
   "execution_count": null,
   "metadata": {},
   "outputs": [],
   "source": []
  },
  {
   "cell_type": "code",
   "execution_count": null,
   "metadata": {},
   "outputs": [],
   "source": []
  }
 ],
 "metadata": {
  "accelerator": "GPU",
  "colab": {
   "collapsed_sections": [
    "7e88OLey6Bgd"
   ],
   "provenance": []
  },
  "gpuClass": "standard",
  "kernelspec": {
   "display_name": "Python 3 (ipykernel)",
   "language": "python",
   "name": "python3"
  },
  "language_info": {
   "codemirror_mode": {
    "name": "ipython",
    "version": 3
   },
   "file_extension": ".py",
   "mimetype": "text/x-python",
   "name": "python",
   "nbconvert_exporter": "python",
   "pygments_lexer": "ipython3",
   "version": "3.10.6"
  }
 },
 "nbformat": 4,
 "nbformat_minor": 4
}
