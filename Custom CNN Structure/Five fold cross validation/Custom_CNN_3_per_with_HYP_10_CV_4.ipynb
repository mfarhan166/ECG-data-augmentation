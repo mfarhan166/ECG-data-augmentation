{
 "cells": [
  {
   "cell_type": "markdown",
   "metadata": {
    "id": "SsTzc3oi726u"
   },
   "source": [
    "# **Building a Convolutional Neural Network with Keras**"
   ]
  },
  {
   "cell_type": "code",
   "execution_count": 1,
   "metadata": {},
   "outputs": [
    {
     "name": "stdout",
     "output_type": "stream",
     "text": [
      "2.9.1\n"
     ]
    }
   ],
   "source": [
    "#Tensorflow version\n",
    "\n",
    "import tensorflow as tf\n",
    "print(tf.__version__)"
   ]
  },
  {
   "cell_type": "code",
   "execution_count": 2,
   "metadata": {},
   "outputs": [],
   "source": [
    "#Importing libraries\n",
    "\n",
    "import tensorflow as tf\n",
    "from tensorflow import keras\n",
    "from keras.layers import Input, Conv2D, Dense, Flatten, BatchNormalization, Dropout, MaxPooling2D, GlobalMaxPooling2D\n",
    "from keras.models import Model\n",
    "import matplotlib.pyplot as plt\n",
    "from keras.applications.efficientnet import EfficientNetB0\n",
    "from keras.preprocessing import image\n",
    "#from keras.preprocessing.image import load_img\n",
    "from keras.models import Sequential\n",
    "import numpy as np\n",
    "from tensorflow.keras import regularizers"
   ]
  },
  {
   "cell_type": "code",
   "execution_count": 3,
   "metadata": {},
   "outputs": [],
   "source": [
    "# Cross Validation dataset links\n",
    "\n",
    "#CV-4\n",
    "train_dir=\"/home/ubuntu/From_Laptop/multi-class-NEW/12-Lead_ECG_version_2/DA_version_3/Model_Training/K-Fold Cross Validation/Fold 4/Training/\"\n",
    "val_dir=\"/home/ubuntu/From_Laptop/multi-class-NEW/12-Lead_ECG_version_2/DA_version_3/Model_Training/K-Fold Cross Validation/Fold 4/Validation/\""
   ]
  },
  {
   "cell_type": "code",
   "execution_count": 4,
   "metadata": {},
   "outputs": [
    {
     "name": "stdout",
     "output_type": "stream",
     "text": [
      "Found 31206 files belonging to 5 classes.\n"
     ]
    },
    {
     "name": "stderr",
     "output_type": "stream",
     "text": [
      "2023-02-09 09:01:06.976234: I tensorflow/stream_executor/cuda/cuda_gpu_executor.cc:975] successful NUMA node read from SysFS had negative value (-1), but there must be at least one NUMA node, so returning NUMA node zero\n",
      "2023-02-09 09:01:07.000363: I tensorflow/stream_executor/cuda/cuda_gpu_executor.cc:975] successful NUMA node read from SysFS had negative value (-1), but there must be at least one NUMA node, so returning NUMA node zero\n",
      "2023-02-09 09:01:07.000688: I tensorflow/stream_executor/cuda/cuda_gpu_executor.cc:975] successful NUMA node read from SysFS had negative value (-1), but there must be at least one NUMA node, so returning NUMA node zero\n",
      "2023-02-09 09:01:07.014266: I tensorflow/core/platform/cpu_feature_guard.cc:193] This TensorFlow binary is optimized with oneAPI Deep Neural Network Library (oneDNN) to use the following CPU instructions in performance-critical operations:  AVX2 FMA\n",
      "To enable them in other operations, rebuild TensorFlow with the appropriate compiler flags.\n",
      "2023-02-09 09:01:07.016482: I tensorflow/stream_executor/cuda/cuda_gpu_executor.cc:975] successful NUMA node read from SysFS had negative value (-1), but there must be at least one NUMA node, so returning NUMA node zero\n",
      "2023-02-09 09:01:07.016785: I tensorflow/stream_executor/cuda/cuda_gpu_executor.cc:975] successful NUMA node read from SysFS had negative value (-1), but there must be at least one NUMA node, so returning NUMA node zero\n",
      "2023-02-09 09:01:07.016954: I tensorflow/stream_executor/cuda/cuda_gpu_executor.cc:975] successful NUMA node read from SysFS had negative value (-1), but there must be at least one NUMA node, so returning NUMA node zero\n",
      "2023-02-09 09:01:07.454876: I tensorflow/stream_executor/cuda/cuda_gpu_executor.cc:975] successful NUMA node read from SysFS had negative value (-1), but there must be at least one NUMA node, so returning NUMA node zero\n",
      "2023-02-09 09:01:07.455064: I tensorflow/stream_executor/cuda/cuda_gpu_executor.cc:975] successful NUMA node read from SysFS had negative value (-1), but there must be at least one NUMA node, so returning NUMA node zero\n",
      "2023-02-09 09:01:07.455210: I tensorflow/stream_executor/cuda/cuda_gpu_executor.cc:975] successful NUMA node read from SysFS had negative value (-1), but there must be at least one NUMA node, so returning NUMA node zero\n",
      "2023-02-09 09:01:07.455328: I tensorflow/core/common_runtime/gpu/gpu_device.cc:1532] Created device /job:localhost/replica:0/task:0/device:GPU:0 with 7380 MB memory:  -> device: 0, name: NVIDIA GeForce GTX 1080, pci bus id: 0000:00:05.0, compute capability: 6.1\n"
     ]
    },
    {
     "name": "stdout",
     "output_type": "stream",
     "text": [
      "Found 7787 files belonging to 5 classes.\n"
     ]
    }
   ],
   "source": [
    "from tensorflow.keras import layers\n",
    "\n",
    "train_data = tf.keras.preprocessing.image_dataset_from_directory(directory=train_dir,\n",
    "                                                                 image_size=(256,256),\n",
    "                                                                 label_mode='categorical', batch_size=64, \n",
    "                                                                 )\n",
    "val_data = tf.keras.preprocessing.image_dataset_from_directory(directory=val_dir,\n",
    "                                                                 image_size=(256,256),\n",
    "                                                                 label_mode='categorical', batch_size=64,\n",
    "                                                                )"
   ]
  },
  {
   "cell_type": "code",
   "execution_count": 5,
   "metadata": {},
   "outputs": [],
   "source": [
    "#Normalization of the data\n",
    "\n",
    "nrmzln_layer = layers.experimental.preprocessing.Rescaling(1./255)\n",
    "\n",
    "train_data = train_data.map(lambda x,\n",
    "                          y: (nrmzln_layer(x), y))\n",
    "\n",
    "val_data = val_data.map(lambda x,\n",
    "                          y: (nrmzln_layer(x), y))"
   ]
  },
  {
   "cell_type": "code",
   "execution_count": 6,
   "metadata": {},
   "outputs": [],
   "source": [
    "#Custom Model Architecture\n",
    "\n",
    "from keras.layers import LeakyReLU\n",
    "model = tf.keras.models.Sequential([\n",
    "                                    \n",
    "    # First convolution layer \n",
    "    tf.keras.layers.Conv2D(32, 3, activation=LeakyReLU(alpha=0.01),padding=\"same\", input_shape=(256, 256, 3),use_bias=True),\n",
    "    tf.keras.layers.MaxPooling2D(2, 2),\n",
    "    tf.keras.layers.Dropout(0.50),\n",
    "    \n",
    "\n",
    "    # Second convolution layer \n",
    "    tf.keras.layers.Conv2D(64, 3, activation=LeakyReLU(alpha=0.01),padding=\"same\",use_bias=True),\n",
    "    tf.keras.layers.MaxPooling2D(2,2),\n",
    "    BatchNormalization(),\n",
    "    tf.keras.layers.Dropout(0.25),\n",
    "\n",
    "    \n",
    "    # Third convolution layer  \n",
    "    tf.keras.layers.Conv2D(128, 2, activation=LeakyReLU(alpha=0.01),padding=\"same\",use_bias=True),\n",
    "    tf.keras.layers.MaxPooling2D(2,2),\n",
    "    BatchNormalization(),\n",
    "    tf.keras.layers.Dropout(0.15),\n",
    "\n",
    "    # Fourth convolution layer \n",
    "    tf.keras.layers.Conv2D(64, 1, activation=LeakyReLU(alpha=0.01),padding=\"same\",use_bias=True),\n",
    "    tf.keras.layers.MaxPooling2D(2,2),\n",
    "    tf.keras.layers.Dropout(0.10),\n",
    "\n",
    "    # Flatten the pooled feature maps\n",
    "    tf.keras.layers.Flatten(),\n",
    "\n",
    "    # Fully connected hidden layer\n",
    "    tf.keras.layers.Dense(96, activation=LeakyReLU(alpha=0.01),use_bias=True),\n",
    "\n",
    "    # Output layer\n",
    "    tf.keras.layers.Dense(5, activation='softmax',activity_regularizer=regularizers.L2(0.001))  \n",
    "\n",
    "])\n"
   ]
  },
  {
   "cell_type": "code",
   "execution_count": 7,
   "metadata": {},
   "outputs": [
    {
     "name": "stdout",
     "output_type": "stream",
     "text": [
      "Model: \"sequential\"\n",
      "_________________________________________________________________\n",
      " Layer (type)                Output Shape              Param #   \n",
      "=================================================================\n",
      " conv2d (Conv2D)             (None, 256, 256, 32)      896       \n",
      "                                                                 \n",
      " max_pooling2d (MaxPooling2D  (None, 128, 128, 32)     0         \n",
      " )                                                               \n",
      "                                                                 \n",
      " dropout (Dropout)           (None, 128, 128, 32)      0         \n",
      "                                                                 \n",
      " conv2d_1 (Conv2D)           (None, 128, 128, 64)      18496     \n",
      "                                                                 \n",
      " max_pooling2d_1 (MaxPooling  (None, 64, 64, 64)       0         \n",
      " 2D)                                                             \n",
      "                                                                 \n",
      " batch_normalization (BatchN  (None, 64, 64, 64)       256       \n",
      " ormalization)                                                   \n",
      "                                                                 \n",
      " dropout_1 (Dropout)         (None, 64, 64, 64)        0         \n",
      "                                                                 \n",
      " conv2d_2 (Conv2D)           (None, 64, 64, 128)       32896     \n",
      "                                                                 \n",
      " max_pooling2d_2 (MaxPooling  (None, 32, 32, 128)      0         \n",
      " 2D)                                                             \n",
      "                                                                 \n",
      " batch_normalization_1 (Batc  (None, 32, 32, 128)      512       \n",
      " hNormalization)                                                 \n",
      "                                                                 \n",
      " dropout_2 (Dropout)         (None, 32, 32, 128)       0         \n",
      "                                                                 \n",
      " conv2d_3 (Conv2D)           (None, 32, 32, 64)        8256      \n",
      "                                                                 \n",
      " max_pooling2d_3 (MaxPooling  (None, 16, 16, 64)       0         \n",
      " 2D)                                                             \n",
      "                                                                 \n",
      " dropout_3 (Dropout)         (None, 16, 16, 64)        0         \n",
      "                                                                 \n",
      " flatten (Flatten)           (None, 16384)             0         \n",
      "                                                                 \n",
      " dense (Dense)               (None, 96)                1572960   \n",
      "                                                                 \n",
      " dense_1 (Dense)             (None, 5)                 485       \n",
      "                                                                 \n",
      "=================================================================\n",
      "Total params: 1,634,757\n",
      "Trainable params: 1,634,373\n",
      "Non-trainable params: 384\n",
      "_________________________________________________________________\n"
     ]
    }
   ],
   "source": [
    "#print model summary\n",
    "\n",
    "model.summary()"
   ]
  },
  {
   "cell_type": "code",
   "execution_count": 8,
   "metadata": {},
   "outputs": [],
   "source": [
    "#Performance evaluation Metrics delcaration \n",
    "\n",
    "from tensorflow.keras.optimizers import Adam\n",
    "from tensorflow.keras.metrics import SensitivityAtSpecificity,SpecificityAtSensitivity,Recall,Precision\n",
    "\n",
    "model.compile(loss=tf.losses.categorical_crossentropy,\n",
    "              optimizer=Adam(learning_rate=0.001),\n",
    "              metrics=['accuracy',SensitivityAtSpecificity(0.5),SpecificityAtSensitivity(0.5),Recall(0.5),Precision(0.5)]) \n"
   ]
  },
  {
   "cell_type": "code",
   "execution_count": 9,
   "metadata": {},
   "outputs": [
    {
     "name": "stdout",
     "output_type": "stream",
     "text": [
      "Device Spec:  /job:localhost/replica:0/device:GPU:*\n",
      "WARNING:tensorflow:`period` argument is deprecated. Please use `save_freq` to specify the frequency in number of batches seen.\n",
      "Epoch 1/150\n"
     ]
    },
    {
     "name": "stderr",
     "output_type": "stream",
     "text": [
      "2023-02-09 09:01:18.925160: I tensorflow/stream_executor/cuda/cuda_dnn.cc:384] Loaded cuDNN version 8100\n",
      "2023-02-09 09:01:19.171408: I tensorflow/core/platform/default/subprocess.cc:304] Start cannot spawn child process: No such file or directory\n"
     ]
    },
    {
     "name": "stdout",
     "output_type": "stream",
     "text": [
      "488/488 [==============================] - ETA: 0s - loss: 2.3173 - accuracy: 0.2298 - sensitivity_at_specificity: 0.5346 - specificity_at_sensitivity: 0.5253 - recall: 0.0095 - precision: 0.1936\n",
      "Epoch 1: val_accuracy improved from -inf to 0.22500, saving model to ECG_Spectrogram_Model.h5\n",
      "488/488 [==============================] - 76s 149ms/step - loss: 2.3173 - accuracy: 0.2298 - sensitivity_at_specificity: 0.5346 - specificity_at_sensitivity: 0.5253 - recall: 0.0095 - precision: 0.1936 - val_loss: 1.6054 - val_accuracy: 0.2250 - val_sensitivity_at_specificity: 0.6187 - val_specificity_at_sensitivity: 0.5742 - val_recall: 0.0000e+00 - val_precision: 0.0000e+00\n",
      "Epoch 2/150\n",
      "488/488 [==============================] - ETA: 0s - loss: 1.2324 - accuracy: 0.4820 - sensitivity_at_specificity: 0.8700 - specificity_at_sensitivity: 0.8634 - recall: 0.2485 - precision: 0.7516\n",
      "Epoch 2: val_accuracy improved from 0.22500 to 0.26562, saving model to ECG_Spectrogram_Model.h5\n",
      "488/488 [==============================] - 72s 148ms/step - loss: 1.2324 - accuracy: 0.4820 - sensitivity_at_specificity: 0.8700 - specificity_at_sensitivity: 0.8634 - recall: 0.2485 - precision: 0.7516 - val_loss: 2.0429 - val_accuracy: 0.2656 - val_sensitivity_at_specificity: 0.7156 - val_specificity_at_sensitivity: 0.6930 - val_recall: 0.2562 - val_precision: 0.2929\n",
      "Epoch 3/150\n",
      "488/488 [==============================] - ETA: 0s - loss: 0.7498 - accuracy: 0.7159 - sensitivity_at_specificity: 0.9860 - specificity_at_sensitivity: 0.9809 - recall: 0.6279 - precision: 0.7903\n",
      "Epoch 3: val_accuracy improved from 0.26562 to 0.59062, saving model to ECG_Spectrogram_Model.h5\n",
      "488/488 [==============================] - 73s 149ms/step - loss: 0.7498 - accuracy: 0.7159 - sensitivity_at_specificity: 0.9860 - specificity_at_sensitivity: 0.9809 - recall: 0.6279 - precision: 0.7903 - val_loss: 1.1569 - val_accuracy: 0.5906 - val_sensitivity_at_specificity: 0.9406 - val_specificity_at_sensitivity: 0.9328 - val_recall: 0.5281 - val_precision: 0.6283\n",
      "Epoch 4/150\n",
      "488/488 [==============================] - ETA: 0s - loss: 0.6127 - accuracy: 0.7748 - sensitivity_at_specificity: 0.9919 - specificity_at_sensitivity: 0.9902 - recall: 0.7155 - precision: 0.8254\n",
      "Epoch 4: val_accuracy improved from 0.59062 to 0.61875, saving model to ECG_Spectrogram_Model.h5\n",
      "488/488 [==============================] - 73s 150ms/step - loss: 0.6127 - accuracy: 0.7748 - sensitivity_at_specificity: 0.9919 - specificity_at_sensitivity: 0.9902 - recall: 0.7155 - precision: 0.8254 - val_loss: 1.0963 - val_accuracy: 0.6187 - val_sensitivity_at_specificity: 0.9594 - val_specificity_at_sensitivity: 0.9523 - val_recall: 0.5781 - val_precision: 0.6446\n",
      "Epoch 5/150\n",
      "488/488 [==============================] - ETA: 0s - loss: 0.5406 - accuracy: 0.8051 - sensitivity_at_specificity: 0.9936 - specificity_at_sensitivity: 0.9935 - recall: 0.7609 - precision: 0.8445\n",
      "Epoch 5: val_accuracy improved from 0.61875 to 0.65312, saving model to ECG_Spectrogram_Model.h5\n",
      "488/488 [==============================] - 73s 149ms/step - loss: 0.5406 - accuracy: 0.8051 - sensitivity_at_specificity: 0.9936 - specificity_at_sensitivity: 0.9935 - recall: 0.7609 - precision: 0.8445 - val_loss: 0.9987 - val_accuracy: 0.6531 - val_sensitivity_at_specificity: 0.9719 - val_specificity_at_sensitivity: 0.9656 - val_recall: 0.6281 - val_precision: 0.6791\n",
      "Epoch 6/150\n",
      "488/488 [==============================] - ETA: 0s - loss: 0.4799 - accuracy: 0.8281 - sensitivity_at_specificity: 0.9937 - specificity_at_sensitivity: 0.9955 - recall: 0.7945 - precision: 0.8612\n",
      "Epoch 6: val_accuracy improved from 0.65312 to 0.76250, saving model to ECG_Spectrogram_Model.h5\n",
      "488/488 [==============================] - 73s 149ms/step - loss: 0.4799 - accuracy: 0.8281 - sensitivity_at_specificity: 0.9937 - specificity_at_sensitivity: 0.9955 - recall: 0.7945 - precision: 0.8612 - val_loss: 0.6790 - val_accuracy: 0.7625 - val_sensitivity_at_specificity: 0.9812 - val_specificity_at_sensitivity: 0.9875 - val_recall: 0.7156 - val_precision: 0.7951\n",
      "Epoch 7/150\n",
      "488/488 [==============================] - ETA: 0s - loss: 0.4464 - accuracy: 0.8418 - sensitivity_at_specificity: 0.9961 - specificity_at_sensitivity: 0.9964 - recall: 0.8128 - precision: 0.8699\n",
      "Epoch 7: val_accuracy improved from 0.76250 to 0.79688, saving model to ECG_Spectrogram_Model.h5\n",
      "488/488 [==============================] - 73s 150ms/step - loss: 0.4464 - accuracy: 0.8418 - sensitivity_at_specificity: 0.9961 - specificity_at_sensitivity: 0.9964 - recall: 0.8128 - precision: 0.8699 - val_loss: 0.6456 - val_accuracy: 0.7969 - val_sensitivity_at_specificity: 0.9688 - val_specificity_at_sensitivity: 0.9898 - val_recall: 0.7875 - val_precision: 0.8262\n",
      "Epoch 8/150\n",
      "488/488 [==============================] - ETA: 0s - loss: 0.4206 - accuracy: 0.8513 - sensitivity_at_specificity: 0.9960 - specificity_at_sensitivity: 0.9972 - recall: 0.8258 - precision: 0.8761\n",
      "Epoch 8: val_accuracy improved from 0.79688 to 0.80625, saving model to ECG_Spectrogram_Model.h5\n",
      "488/488 [==============================] - 73s 149ms/step - loss: 0.4206 - accuracy: 0.8513 - sensitivity_at_specificity: 0.9960 - specificity_at_sensitivity: 0.9972 - recall: 0.8258 - precision: 0.8761 - val_loss: 0.6312 - val_accuracy: 0.8062 - val_sensitivity_at_specificity: 0.9750 - val_specificity_at_sensitivity: 0.9859 - val_recall: 0.7937 - val_precision: 0.8274\n",
      "Epoch 9/150\n",
      "488/488 [==============================] - ETA: 0s - loss: 0.4010 - accuracy: 0.8588 - sensitivity_at_specificity: 0.9969 - specificity_at_sensitivity: 0.9972 - recall: 0.8350 - precision: 0.8802\n",
      "Epoch 9: val_accuracy improved from 0.80625 to 0.83438, saving model to ECG_Spectrogram_Model.h5\n",
      "488/488 [==============================] - 73s 150ms/step - loss: 0.4010 - accuracy: 0.8588 - sensitivity_at_specificity: 0.9969 - specificity_at_sensitivity: 0.9972 - recall: 0.8350 - precision: 0.8802 - val_loss: 0.4604 - val_accuracy: 0.8344 - val_sensitivity_at_specificity: 0.9906 - val_specificity_at_sensitivity: 0.9969 - val_recall: 0.8313 - val_precision: 0.8526\n",
      "Epoch 10/150\n",
      "488/488 [==============================] - ETA: 0s - loss: 0.3792 - accuracy: 0.8672 - sensitivity_at_specificity: 0.9970 - specificity_at_sensitivity: 0.9978 - recall: 0.8455 - precision: 0.8891\n",
      "Epoch 10: val_accuracy did not improve from 0.83438\n",
      "488/488 [==============================] - 73s 149ms/step - loss: 0.3792 - accuracy: 0.8672 - sensitivity_at_specificity: 0.9970 - specificity_at_sensitivity: 0.9978 - recall: 0.8455 - precision: 0.8891 - val_loss: 0.7805 - val_accuracy: 0.7750 - val_sensitivity_at_specificity: 0.9688 - val_specificity_at_sensitivity: 0.9844 - val_recall: 0.7625 - val_precision: 0.7846\n",
      "Epoch 11/150\n",
      "488/488 [==============================] - ETA: 0s - loss: 0.3646 - accuracy: 0.8729 - sensitivity_at_specificity: 0.9965 - specificity_at_sensitivity: 0.9981 - recall: 0.8521 - precision: 0.8916\n",
      "Epoch 11: val_accuracy did not improve from 0.83438\n",
      "488/488 [==============================] - 73s 150ms/step - loss: 0.3646 - accuracy: 0.8729 - sensitivity_at_specificity: 0.9965 - specificity_at_sensitivity: 0.9981 - recall: 0.8521 - precision: 0.8916 - val_loss: 0.7487 - val_accuracy: 0.7594 - val_sensitivity_at_specificity: 0.9781 - val_specificity_at_sensitivity: 0.9812 - val_recall: 0.7406 - val_precision: 0.7645\n",
      "Epoch 12/150\n",
      "488/488 [==============================] - ETA: 0s - loss: 0.3520 - accuracy: 0.8761 - sensitivity_at_specificity: 0.9968 - specificity_at_sensitivity: 0.9984 - recall: 0.8585 - precision: 0.8959\n",
      "Epoch 12: val_accuracy improved from 0.83438 to 0.87187, saving model to ECG_Spectrogram_Model.h5\n",
      "488/488 [==============================] - 74s 151ms/step - loss: 0.3520 - accuracy: 0.8761 - sensitivity_at_specificity: 0.9968 - specificity_at_sensitivity: 0.9984 - recall: 0.8585 - precision: 0.8959 - val_loss: 0.4165 - val_accuracy: 0.8719 - val_sensitivity_at_specificity: 0.9906 - val_specificity_at_sensitivity: 0.9961 - val_recall: 0.8625 - val_precision: 0.8790\n",
      "Epoch 13/150\n"
     ]
    },
    {
     "name": "stdout",
     "output_type": "stream",
     "text": [
      "488/488 [==============================] - ETA: 0s - loss: 0.3342 - accuracy: 0.8823 - sensitivity_at_specificity: 0.9974 - specificity_at_sensitivity: 0.9985 - recall: 0.8644 - precision: 0.9007\n",
      "Epoch 13: val_accuracy did not improve from 0.87187\n",
      "488/488 [==============================] - 73s 150ms/step - loss: 0.3342 - accuracy: 0.8823 - sensitivity_at_specificity: 0.9974 - specificity_at_sensitivity: 0.9985 - recall: 0.8644 - precision: 0.9007 - val_loss: 0.4535 - val_accuracy: 0.8469 - val_sensitivity_at_specificity: 0.9844 - val_specificity_at_sensitivity: 0.9945 - val_recall: 0.8344 - val_precision: 0.8697\n",
      "Epoch 14/150\n",
      "488/488 [==============================] - ETA: 0s - loss: 0.3243 - accuracy: 0.8848 - sensitivity_at_specificity: 0.9973 - specificity_at_sensitivity: 0.9987 - recall: 0.8685 - precision: 0.9009\n",
      "Epoch 14: val_accuracy did not improve from 0.87187\n",
      "488/488 [==============================] - 73s 149ms/step - loss: 0.3243 - accuracy: 0.8848 - sensitivity_at_specificity: 0.9973 - specificity_at_sensitivity: 0.9987 - recall: 0.8685 - precision: 0.9009 - val_loss: 0.8499 - val_accuracy: 0.8031 - val_sensitivity_at_specificity: 0.9531 - val_specificity_at_sensitivity: 0.9875 - val_recall: 0.7969 - val_precision: 0.8095\n",
      "Epoch 15/150\n",
      "488/488 [==============================] - ETA: 0s - loss: 0.3192 - accuracy: 0.8884 - sensitivity_at_specificity: 0.9974 - specificity_at_sensitivity: 0.9986 - recall: 0.8709 - precision: 0.9036\n",
      "Epoch 15: val_accuracy improved from 0.87187 to 0.88125, saving model to ECG_Spectrogram_Model.h5\n",
      "488/488 [==============================] - 73s 150ms/step - loss: 0.3192 - accuracy: 0.8884 - sensitivity_at_specificity: 0.9974 - specificity_at_sensitivity: 0.9986 - recall: 0.8709 - precision: 0.9036 - val_loss: 0.3760 - val_accuracy: 0.8813 - val_sensitivity_at_specificity: 0.9906 - val_specificity_at_sensitivity: 0.9984 - val_recall: 0.8687 - val_precision: 0.8910\n",
      "Epoch 16/150\n",
      "488/488 [==============================] - ETA: 0s - loss: 0.3117 - accuracy: 0.8905 - sensitivity_at_specificity: 0.9974 - specificity_at_sensitivity: 0.9988 - recall: 0.8740 - precision: 0.9061\n",
      "Epoch 16: val_accuracy did not improve from 0.88125\n",
      "488/488 [==============================] - 73s 150ms/step - loss: 0.3117 - accuracy: 0.8905 - sensitivity_at_specificity: 0.9974 - specificity_at_sensitivity: 0.9988 - recall: 0.8740 - precision: 0.9061 - val_loss: 0.5674 - val_accuracy: 0.8219 - val_sensitivity_at_specificity: 0.9812 - val_specificity_at_sensitivity: 0.9945 - val_recall: 0.8062 - val_precision: 0.8269\n",
      "Epoch 17/150\n",
      "488/488 [==============================] - ETA: 0s - loss: 0.3063 - accuracy: 0.8916 - sensitivity_at_specificity: 0.9975 - specificity_at_sensitivity: 0.9988 - recall: 0.8757 - precision: 0.9064\n",
      "Epoch 17: val_accuracy did not improve from 0.88125\n",
      "488/488 [==============================] - 73s 150ms/step - loss: 0.3063 - accuracy: 0.8916 - sensitivity_at_specificity: 0.9975 - specificity_at_sensitivity: 0.9988 - recall: 0.8757 - precision: 0.9064 - val_loss: 0.2908 - val_accuracy: 0.8750 - val_sensitivity_at_specificity: 0.9969 - val_specificity_at_sensitivity: 0.9992 - val_recall: 0.8656 - val_precision: 0.9023\n",
      "Epoch 18/150\n",
      "488/488 [==============================] - ETA: 0s - loss: 0.2865 - accuracy: 0.8953 - sensitivity_at_specificity: 0.9984 - specificity_at_sensitivity: 0.9993 - recall: 0.8813 - precision: 0.9097\n",
      "Epoch 18: val_accuracy did not improve from 0.88125\n",
      "488/488 [==============================] - 74s 151ms/step - loss: 0.2865 - accuracy: 0.8953 - sensitivity_at_specificity: 0.9984 - specificity_at_sensitivity: 0.9993 - recall: 0.8813 - precision: 0.9097 - val_loss: 0.4200 - val_accuracy: 0.8687 - val_sensitivity_at_specificity: 0.9844 - val_specificity_at_sensitivity: 0.9961 - val_recall: 0.8625 - val_precision: 0.8818\n",
      "Epoch 19/150\n",
      "488/488 [==============================] - ETA: 0s - loss: 0.2891 - accuracy: 0.8948 - sensitivity_at_specificity: 0.9981 - specificity_at_sensitivity: 0.9992 - recall: 0.8812 - precision: 0.9094\n",
      "Epoch 19: val_accuracy did not improve from 0.88125\n",
      "488/488 [==============================] - 73s 150ms/step - loss: 0.2891 - accuracy: 0.8948 - sensitivity_at_specificity: 0.9981 - specificity_at_sensitivity: 0.9992 - recall: 0.8812 - precision: 0.9094 - val_loss: 0.3595 - val_accuracy: 0.8656 - val_sensitivity_at_specificity: 0.9937 - val_specificity_at_sensitivity: 0.9984 - val_recall: 0.8594 - val_precision: 0.8900\n",
      "Epoch 20/150\n",
      "488/488 [==============================] - ETA: 0s - loss: 0.2716 - accuracy: 0.9028 - sensitivity_at_specificity: 0.9978 - specificity_at_sensitivity: 0.9993 - recall: 0.8907 - precision: 0.9157\n",
      "Epoch 20: val_accuracy improved from 0.88125 to 0.91250, saving model to ECG_Spectrogram_Model.h5\n",
      "488/488 [==============================] - 74s 151ms/step - loss: 0.2716 - accuracy: 0.9028 - sensitivity_at_specificity: 0.9978 - specificity_at_sensitivity: 0.9993 - recall: 0.8907 - precision: 0.9157 - val_loss: 0.2562 - val_accuracy: 0.9125 - val_sensitivity_at_specificity: 0.9969 - val_specificity_at_sensitivity: 0.9992 - val_recall: 0.9094 - val_precision: 0.9151\n",
      "Epoch 21/150\n",
      "488/488 [==============================] - ETA: 0s - loss: 0.2588 - accuracy: 0.9075 - sensitivity_at_specificity: 0.9980 - specificity_at_sensitivity: 0.9994 - recall: 0.8955 - precision: 0.9198\n",
      "Epoch 21: val_accuracy did not improve from 0.91250\n",
      "488/488 [==============================] - 74s 150ms/step - loss: 0.2588 - accuracy: 0.9075 - sensitivity_at_specificity: 0.9980 - specificity_at_sensitivity: 0.9994 - recall: 0.8955 - precision: 0.9198 - val_loss: 0.2396 - val_accuracy: 0.9062 - val_sensitivity_at_specificity: 1.0000 - val_specificity_at_sensitivity: 0.9992 - val_recall: 0.8969 - val_precision: 0.9111\n",
      "Epoch 22/150\n",
      "488/488 [==============================] - ETA: 0s - loss: 0.2662 - accuracy: 0.9039 - sensitivity_at_specificity: 0.9979 - specificity_at_sensitivity: 0.9994 - recall: 0.8926 - precision: 0.9164\n",
      "Epoch 22: val_accuracy did not improve from 0.91250\n",
      "488/488 [==============================] - 74s 151ms/step - loss: 0.2662 - accuracy: 0.9039 - sensitivity_at_specificity: 0.9979 - specificity_at_sensitivity: 0.9994 - recall: 0.8926 - precision: 0.9164 - val_loss: 0.3098 - val_accuracy: 0.8969 - val_sensitivity_at_specificity: 0.9969 - val_specificity_at_sensitivity: 0.9992 - val_recall: 0.8938 - val_precision: 0.9079\n",
      "Epoch 23/150\n",
      "488/488 [==============================] - ETA: 0s - loss: 0.2520 - accuracy: 0.9092 - sensitivity_at_specificity: 0.9979 - specificity_at_sensitivity: 0.9994 - recall: 0.8978 - precision: 0.9212\n",
      "Epoch 23: val_accuracy did not improve from 0.91250\n",
      "488/488 [==============================] - 73s 150ms/step - loss: 0.2520 - accuracy: 0.9092 - sensitivity_at_specificity: 0.9979 - specificity_at_sensitivity: 0.9994 - recall: 0.8978 - precision: 0.9212 - val_loss: 0.3520 - val_accuracy: 0.8750 - val_sensitivity_at_specificity: 0.9969 - val_specificity_at_sensitivity: 0.9992 - val_recall: 0.8656 - val_precision: 0.8907\n",
      "Epoch 24/150\n",
      "488/488 [==============================] - ETA: 0s - loss: 0.2469 - accuracy: 0.9085 - sensitivity_at_specificity: 0.9987 - specificity_at_sensitivity: 0.9995 - recall: 0.8980 - precision: 0.9195\n",
      "Epoch 24: val_accuracy did not improve from 0.91250\n",
      "488/488 [==============================] - 73s 150ms/step - loss: 0.2469 - accuracy: 0.9085 - sensitivity_at_specificity: 0.9987 - specificity_at_sensitivity: 0.9995 - recall: 0.8980 - precision: 0.9195 - val_loss: 0.3411 - val_accuracy: 0.8719 - val_sensitivity_at_specificity: 0.9969 - val_specificity_at_sensitivity: 0.9992 - val_recall: 0.8687 - val_precision: 0.8770\n",
      "Epoch 25/150\n",
      "488/488 [==============================] - ETA: 0s - loss: 0.2398 - accuracy: 0.9125 - sensitivity_at_specificity: 0.9985 - specificity_at_sensitivity: 0.9996 - recall: 0.9020 - precision: 0.9228\n",
      "Epoch 25: val_accuracy did not improve from 0.91250\n",
      "488/488 [==============================] - 73s 149ms/step - loss: 0.2398 - accuracy: 0.9125 - sensitivity_at_specificity: 0.9985 - specificity_at_sensitivity: 0.9996 - recall: 0.9020 - precision: 0.9228 - val_loss: 0.3709 - val_accuracy: 0.8625 - val_sensitivity_at_specificity: 0.9906 - val_specificity_at_sensitivity: 0.9969 - val_recall: 0.8562 - val_precision: 0.8754\n"
     ]
    }
   ],
   "source": [
    "#Model Execution\n",
    "\n",
    "from keras.callbacks import ModelCheckpoint, EarlyStopping\n",
    "\n",
    "# Initializing Device Specification\n",
    "device_spec = tf.DeviceSpec(job =\"localhost\", replica = 0, device_type = \"GPU\")\n",
    " \n",
    "# Printing the DeviceSpec\n",
    "print('Device Spec: ', device_spec.to_string())\n",
    " \n",
    "# Enabling device logging\n",
    "tf.debugging.set_log_device_placement(True)\n",
    " \n",
    "# Specifying the device\n",
    "with tf.device(device_spec):\n",
    "    \n",
    "#with tf.device('/gpu:10'):\n",
    "    \n",
    "    checkpoint = ModelCheckpoint(\"ECG_Spectrogram_Model.h5\", monitor='val_accuracy', verbose=1, save_best_only=True, save_weights_only=False, mode='auto', period=1)\n",
    "    mycallback=tf.keras.callbacks.EarlyStopping(monitor=\"val_accuracy\", patience=5, mode=\"auto\")\n",
    "    \n",
    "    history = model.fit(\n",
    "          train_data,\n",
    "          #steps_per_epoch=20, \n",
    "          epochs=150,\n",
    "          verbose=1,\n",
    "          validation_data = val_data,\n",
    "          validation_steps=5, \n",
    "          callbacks = [mycallback,checkpoint]\n",
    "    ) "
   ]
  },
  {
   "cell_type": "code",
   "execution_count": 10,
   "metadata": {},
   "outputs": [
    {
     "name": "stdout",
     "output_type": "stream",
     "text": [
      "Training Accuracy:  0.9125168323516846\n",
      "Validation Accuracy:  0.9125000238418579\n",
      "Validation Specificity:  0.999218761920929\n",
      "Validation Sensitivity:  1.0\n",
      "Validation Recall:  0.909375011920929\n",
      "Validation Precision:  0.9150943160057068\n",
      "Validation Loss:  0.23961153626441956\n"
     ]
    }
   ],
   "source": [
    "Training_Accuracy=history.history['accuracy']\n",
    "Validation_Accuracy=history.history['val_accuracy']\n",
    "Validation_Specificity=history.history['val_specificity_at_sensitivity']\n",
    "Validation_Sensitivity=history.history['val_sensitivity_at_specificity']\n",
    "Validation_Recall=history.history['val_recall']\n",
    "Validation_Precision=history.history['val_precision']\n",
    "Validation_Loss=history.history['val_loss']\n",
    "\n",
    "print(\"Training Accuracy: \",max(Training_Accuracy))\n",
    "print(\"Validation Accuracy: \",max(Validation_Accuracy))\n",
    "print(\"Validation Specificity: \",max(Validation_Specificity))\n",
    "print(\"Validation Sensitivity: \",max(Validation_Sensitivity))\n",
    "print(\"Validation Recall: \",max(Validation_Recall))\n",
    "print(\"Validation Precision: \",max(Validation_Precision))\n",
    "print(\"Validation Loss: \",min(Validation_Loss))"
   ]
  },
  {
   "cell_type": "code",
   "execution_count": 11,
   "metadata": {},
   "outputs": [
    {
     "data": {
      "image/png": "[encoded data removed]",
      "text/plain": [
       "<Figure size 720x432 with 1 Axes>"
      ]
     },
     "metadata": {
      "needs_background": "light"
     },
     "output_type": "display_data"
    }
   ],
   "source": [
    "plt.figure(figsize=(10,6))\n",
    "plt.plot(history.history['accuracy'])\n",
    "plt.plot(history.history['val_accuracy'])\n",
    "plt.title('Model accuracy')\n",
    "plt.ylabel('Accuracy')\n",
    "plt.xlabel('Epoch')\n",
    "plt.legend(['Train', 'Test'], loc='upper left')\n",
    "plt.show()"
   ]
  },
  {
   "cell_type": "code",
   "execution_count": 12,
   "metadata": {},
   "outputs": [
    {
     "data": {
      "image/png": "[encoded data removed]",
      "text/plain": [
       "<Figure size 720x432 with 1 Axes>"
      ]
     },
     "metadata": {
      "needs_background": "light"
     },
     "output_type": "display_data"
    }
   ],
   "source": [
    "plt.figure(figsize=(10,6))\n",
    "plt.plot(history.history['loss'])\n",
    "plt.plot(history.history['val_loss'])\n",
    "plt.title('Model Loss')\n",
    "plt.ylabel('Loss')\n",
    "plt.xlabel('Epoch')\n",
    "plt.legend(['Train', 'Test'], loc='upper left')\n",
    "plt.show()"
   ]
  },
  {
   "cell_type": "code",
   "execution_count": null,
   "metadata": {},
   "outputs": [],
   "source": []
  }
 ],
 "metadata": {
  "accelerator": "GPU",
  "colab": {
   "collapsed_sections": [
    "7e88OLey6Bgd"
   ],
   "provenance": []
  },
  "gpuClass": "standard",
  "kernelspec": {
   "display_name": "Python 3 (ipykernel)",
   "language": "python",
   "name": "python3"
  },
  "language_info": {
   "codemirror_mode": {
    "name": "ipython",
    "version": 3
   },
   "file_extension": ".py",
   "mimetype": "text/x-python",
   "name": "python",
   "nbconvert_exporter": "python",
   "pygments_lexer": "ipython3",
   "version": "3.10.6"
  }
 },
 "nbformat": 4,
 "nbformat_minor": 4
}
