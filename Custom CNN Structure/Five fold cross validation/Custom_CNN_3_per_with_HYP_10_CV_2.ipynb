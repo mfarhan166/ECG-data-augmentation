{
 "cells": [
  {
   "cell_type": "markdown",
   "metadata": {
    "id": "SsTzc3oi726u"
   },
   "source": [
    "# **Building a Convolutional Neural Network with Keras**"
   ]
  },
  {
   "cell_type": "code",
   "execution_count": 1,
   "metadata": {},
   "outputs": [
    {
     "name": "stdout",
     "output_type": "stream",
     "text": [
      "2.9.1\n"
     ]
    }
   ],
   "source": [
    "#Tensorflow version\n",
    "\n",
    "import tensorflow as tf\n",
    "print(tf.__version__)"
   ]
  },
  {
   "cell_type": "code",
   "execution_count": 2,
   "metadata": {},
   "outputs": [],
   "source": [
    "#Importing libraries\n",
    "\n",
    "import tensorflow as tf\n",
    "from tensorflow import keras\n",
    "from keras.layers import Input, Conv2D, Dense, Flatten, BatchNormalization, Dropout, MaxPooling2D, GlobalMaxPooling2D\n",
    "from keras.models import Model\n",
    "import matplotlib.pyplot as plt\n",
    "from keras.applications.efficientnet import EfficientNetB0\n",
    "from keras.preprocessing import image\n",
    "#from keras.preprocessing.image import load_img\n",
    "from keras.models import Sequential\n",
    "import numpy as np\n",
    "from tensorflow.keras import regularizers"
   ]
  },
  {
   "cell_type": "code",
   "execution_count": 3,
   "metadata": {},
   "outputs": [],
   "source": [
    "# Cross Validation dataset links\n",
    "\n",
    "#CV-1\n",
    "#train_dir=\"/home/ubuntu/From_Laptop/multi-class-NEW/12-Lead_ECG_version_2/DA_version_3/Model_Training/K-Fold Cross Validation/Fold 1/Training/\"\n",
    "#val_dir=\"/home/ubuntu/From_Laptop/multi-class-NEW/12-Lead_ECG_version_2/DA_version_3/Model_Training/K-Fold Cross Validation/Fold 1/Validation/\"\n",
    "\n",
    "#CV-2\n",
    "train_dir=\"/home/ubuntu/From_Laptop/multi-class-NEW/12-Lead_ECG_version_2/DA_version_3/Model_Training/K-Fold Cross Validation/Fold 2/Training/\"\n",
    "val_dir=\"/home/ubuntu/From_Laptop/multi-class-NEW/12-Lead_ECG_version_2/DA_version_3/Model_Training/K-Fold Cross Validation/Fold 2/Validation/\"\n",
    "\n",
    "#CV-3\n",
    "#train_dir=\"/home/ubuntu/From_Laptop/multi-class-NEW/12-Lead_ECG_version_2/DA_version_3/Model_Training/K-Fold Cross Validation/Fold 3/Training/\"\n",
    "#val_dir=\"/home/ubuntu/From_Laptop/multi-class-NEW/12-Lead_ECG_version_2/DA_version_3/Model_Training/K-Fold Cross Validation/Fold 3/Validation/\"\n",
    "\n",
    "#CV-4\n",
    "#train_dir=\"/home/ubuntu/From_Laptop/multi-class-NEW/12-Lead_ECG_version_2/DA_version_3/Model_Training/K-Fold Cross Validation/Fold 4/Training/\"\n",
    "#val_dir=\"/home/ubuntu/From_Laptop/multi-class-NEW/12-Lead_ECG_version_2/DA_version_3/Model_Training/K-Fold Cross Validation/Fold 4/Validation/\"\n",
    "\n",
    "#CV-5\n",
    "#train_dir=\"/home/ubuntu/From_Laptop/multi-class-NEW/12-Lead_ECG_version_2/DA_version_3/Model_Training/K-Fold Cross Validation/Fold 5/Training/\"\n",
    "#val_dir=\"/home/ubuntu/From_Laptop/multi-class-NEW/12-Lead_ECG_version_2/DA_version_3/Model_Training/K-Fold Cross Validation/Fold 5/Validation/\""
   ]
  },
  {
   "cell_type": "code",
   "execution_count": 4,
   "metadata": {},
   "outputs": [
    {
     "name": "stdout",
     "output_type": "stream",
     "text": [
      "Found 31206 files belonging to 5 classes.\n"
     ]
    },
    {
     "name": "stderr",
     "output_type": "stream",
     "text": [
      "2023-02-08 11:23:39.831328: I tensorflow/stream_executor/cuda/cuda_gpu_executor.cc:975] successful NUMA node read from SysFS had negative value (-1), but there must be at least one NUMA node, so returning NUMA node zero\n",
      "2023-02-08 11:23:39.854133: I tensorflow/stream_executor/cuda/cuda_gpu_executor.cc:975] successful NUMA node read from SysFS had negative value (-1), but there must be at least one NUMA node, so returning NUMA node zero\n",
      "2023-02-08 11:23:39.854539: I tensorflow/stream_executor/cuda/cuda_gpu_executor.cc:975] successful NUMA node read from SysFS had negative value (-1), but there must be at least one NUMA node, so returning NUMA node zero\n",
      "2023-02-08 11:23:39.878287: I tensorflow/core/platform/cpu_feature_guard.cc:193] This TensorFlow binary is optimized with oneAPI Deep Neural Network Library (oneDNN) to use the following CPU instructions in performance-critical operations:  AVX2 FMA\n",
      "To enable them in other operations, rebuild TensorFlow with the appropriate compiler flags.\n",
      "2023-02-08 11:23:39.878967: I tensorflow/stream_executor/cuda/cuda_gpu_executor.cc:975] successful NUMA node read from SysFS had negative value (-1), but there must be at least one NUMA node, so returning NUMA node zero\n",
      "2023-02-08 11:23:39.879300: I tensorflow/stream_executor/cuda/cuda_gpu_executor.cc:975] successful NUMA node read from SysFS had negative value (-1), but there must be at least one NUMA node, so returning NUMA node zero\n",
      "2023-02-08 11:23:39.879603: I tensorflow/stream_executor/cuda/cuda_gpu_executor.cc:975] successful NUMA node read from SysFS had negative value (-1), but there must be at least one NUMA node, so returning NUMA node zero\n",
      "2023-02-08 11:23:40.296512: I tensorflow/stream_executor/cuda/cuda_gpu_executor.cc:975] successful NUMA node read from SysFS had negative value (-1), but there must be at least one NUMA node, so returning NUMA node zero\n",
      "2023-02-08 11:23:40.296698: I tensorflow/stream_executor/cuda/cuda_gpu_executor.cc:975] successful NUMA node read from SysFS had negative value (-1), but there must be at least one NUMA node, so returning NUMA node zero\n",
      "2023-02-08 11:23:40.296839: I tensorflow/stream_executor/cuda/cuda_gpu_executor.cc:975] successful NUMA node read from SysFS had negative value (-1), but there must be at least one NUMA node, so returning NUMA node zero\n",
      "2023-02-08 11:23:40.296951: I tensorflow/core/common_runtime/gpu/gpu_device.cc:1532] Created device /job:localhost/replica:0/task:0/device:GPU:0 with 7380 MB memory:  -> device: 0, name: NVIDIA GeForce GTX 1080, pci bus id: 0000:00:05.0, compute capability: 6.1\n"
     ]
    },
    {
     "name": "stdout",
     "output_type": "stream",
     "text": [
      "Found 7787 files belonging to 5 classes.\n"
     ]
    }
   ],
   "source": [
    "from tensorflow.keras import layers\n",
    "\n",
    "train_data = tf.keras.preprocessing.image_dataset_from_directory(directory=train_dir,\n",
    "                                                                 image_size=(256,256),\n",
    "                                                                 label_mode='categorical', batch_size=64, \n",
    "                                                                 )\n",
    "val_data = tf.keras.preprocessing.image_dataset_from_directory(directory=val_dir,\n",
    "                                                                 image_size=(256,256),\n",
    "                                                                 label_mode='categorical', batch_size=64,\n",
    "                                                                )"
   ]
  },
  {
   "cell_type": "code",
   "execution_count": 5,
   "metadata": {},
   "outputs": [],
   "source": [
    "#Normalization of the data\n",
    "\n",
    "nrmzln_layer = layers.experimental.preprocessing.Rescaling(1./255)\n",
    "\n",
    "train_data = train_data.map(lambda x,\n",
    "                          y: (nrmzln_layer(x), y))\n",
    "\n",
    "val_data = val_data.map(lambda x,\n",
    "                          y: (nrmzln_layer(x), y))"
   ]
  },
  {
   "cell_type": "code",
   "execution_count": 6,
   "metadata": {},
   "outputs": [],
   "source": [
    "#Custom Model Architecture\n",
    "\n",
    "from keras.layers import LeakyReLU\n",
    "model = tf.keras.models.Sequential([\n",
    "                                    \n",
    "    # First convolution layer \n",
    "    tf.keras.layers.Conv2D(32, 3, activation=LeakyReLU(alpha=0.01),padding=\"same\", input_shape=(256, 256, 3),use_bias=True),\n",
    "    tf.keras.layers.MaxPooling2D(2, 2),\n",
    "    tf.keras.layers.Dropout(0.50),\n",
    "    \n",
    "\n",
    "    # Second convolution layer \n",
    "    tf.keras.layers.Conv2D(64, 3, activation=LeakyReLU(alpha=0.01),padding=\"same\",use_bias=True),\n",
    "    tf.keras.layers.MaxPooling2D(2,2),\n",
    "    BatchNormalization(),\n",
    "    tf.keras.layers.Dropout(0.25),\n",
    "\n",
    "    \n",
    "    # Third convolution layer  \n",
    "    tf.keras.layers.Conv2D(128, 2, activation=LeakyReLU(alpha=0.01),padding=\"same\",use_bias=True),\n",
    "    tf.keras.layers.MaxPooling2D(2,2),\n",
    "    BatchNormalization(),\n",
    "    tf.keras.layers.Dropout(0.15),\n",
    "\n",
    "    # Fourth convolution layer \n",
    "    tf.keras.layers.Conv2D(64, 1, activation=LeakyReLU(alpha=0.01),padding=\"same\",use_bias=True),\n",
    "    tf.keras.layers.MaxPooling2D(2,2),\n",
    "    tf.keras.layers.Dropout(0.10),\n",
    "\n",
    "    # Flatten the pooled feature maps\n",
    "    tf.keras.layers.Flatten(),\n",
    "\n",
    "    # Fully connected hidden layer\n",
    "    tf.keras.layers.Dense(96, activation=LeakyReLU(alpha=0.01),use_bias=True),\n",
    "\n",
    "    # Output layer\n",
    "    tf.keras.layers.Dense(5, activation='softmax',activity_regularizer=regularizers.L2(0.001))  \n",
    "\n",
    "])\n"
   ]
  },
  {
   "cell_type": "code",
   "execution_count": 7,
   "metadata": {},
   "outputs": [
    {
     "name": "stdout",
     "output_type": "stream",
     "text": [
      "Model: \"sequential\"\n",
      "_________________________________________________________________\n",
      " Layer (type)                Output Shape              Param #   \n",
      "=================================================================\n",
      " conv2d (Conv2D)             (None, 256, 256, 32)      896       \n",
      "                                                                 \n",
      " max_pooling2d (MaxPooling2D  (None, 128, 128, 32)     0         \n",
      " )                                                               \n",
      "                                                                 \n",
      " dropout (Dropout)           (None, 128, 128, 32)      0         \n",
      "                                                                 \n",
      " conv2d_1 (Conv2D)           (None, 128, 128, 64)      18496     \n",
      "                                                                 \n",
      " max_pooling2d_1 (MaxPooling  (None, 64, 64, 64)       0         \n",
      " 2D)                                                             \n",
      "                                                                 \n",
      " batch_normalization (BatchN  (None, 64, 64, 64)       256       \n",
      " ormalization)                                                   \n",
      "                                                                 \n",
      " dropout_1 (Dropout)         (None, 64, 64, 64)        0         \n",
      "                                                                 \n",
      " conv2d_2 (Conv2D)           (None, 64, 64, 128)       32896     \n",
      "                                                                 \n",
      " max_pooling2d_2 (MaxPooling  (None, 32, 32, 128)      0         \n",
      " 2D)                                                             \n",
      "                                                                 \n",
      " batch_normalization_1 (Batc  (None, 32, 32, 128)      512       \n",
      " hNormalization)                                                 \n",
      "                                                                 \n",
      " dropout_2 (Dropout)         (None, 32, 32, 128)       0         \n",
      "                                                                 \n",
      " conv2d_3 (Conv2D)           (None, 32, 32, 64)        8256      \n",
      "                                                                 \n",
      " max_pooling2d_3 (MaxPooling  (None, 16, 16, 64)       0         \n",
      " 2D)                                                             \n",
      "                                                                 \n",
      " dropout_3 (Dropout)         (None, 16, 16, 64)        0         \n",
      "                                                                 \n",
      " flatten (Flatten)           (None, 16384)             0         \n",
      "                                                                 \n",
      " dense (Dense)               (None, 96)                1572960   \n",
      "                                                                 \n",
      " dense_1 (Dense)             (None, 5)                 485       \n",
      "                                                                 \n",
      "=================================================================\n",
      "Total params: 1,634,757\n",
      "Trainable params: 1,634,373\n",
      "Non-trainable params: 384\n",
      "_________________________________________________________________\n"
     ]
    }
   ],
   "source": [
    "#print model summary\n",
    "\n",
    "model.summary()"
   ]
  },
  {
   "cell_type": "code",
   "execution_count": 8,
   "metadata": {},
   "outputs": [],
   "source": [
    "#Performance evaluation Metrics delcaration \n",
    "\n",
    "from tensorflow.keras.optimizers import Adam\n",
    "from tensorflow.keras.metrics import SensitivityAtSpecificity,SpecificityAtSensitivity,Recall,Precision\n",
    "\n",
    "model.compile(loss=tf.losses.categorical_crossentropy,\n",
    "              optimizer=Adam(learning_rate=0.001),\n",
    "              metrics=['accuracy',SensitivityAtSpecificity(0.5),SpecificityAtSensitivity(0.5),Recall(0.5),Precision(0.5)]) \n"
   ]
  },
  {
   "cell_type": "code",
   "execution_count": 9,
   "metadata": {},
   "outputs": [
    {
     "name": "stdout",
     "output_type": "stream",
     "text": [
      "Device Spec:  /job:localhost/replica:0/device:GPU:*\n",
      "WARNING:tensorflow:`period` argument is deprecated. Please use `save_freq` to specify the frequency in number of batches seen.\n",
      "Epoch 1/150\n"
     ]
    },
    {
     "name": "stderr",
     "output_type": "stream",
     "text": [
      "2023-02-08 11:23:48.518785: I tensorflow/stream_executor/cuda/cuda_dnn.cc:384] Loaded cuDNN version 8100\n",
      "2023-02-08 11:23:48.719174: I tensorflow/core/platform/default/subprocess.cc:304] Start cannot spawn child process: No such file or directory\n"
     ]
    },
    {
     "name": "stdout",
     "output_type": "stream",
     "text": [
      "488/488 [==============================] - ETA: 0s - loss: 2.2876 - accuracy: 0.2330 - sensitivity_at_specificity: 0.5224 - specificity_at_sensitivity: 0.5370 - recall: 0.0084 - precision: 0.2041\n",
      "Epoch 1: val_accuracy improved from -inf to 0.22813, saving model to ECG_Spectrogram_Model.h5\n",
      "488/488 [==============================] - 76s 149ms/step - loss: 2.2876 - accuracy: 0.2330 - sensitivity_at_specificity: 0.5224 - specificity_at_sensitivity: 0.5370 - recall: 0.0084 - precision: 0.2041 - val_loss: 1.9091 - val_accuracy: 0.2281 - val_sensitivity_at_specificity: 0.5000 - val_specificity_at_sensitivity: 0.5820 - val_recall: 0.0000e+00 - val_precision: 0.0000e+00\n",
      "Epoch 2/150\n",
      "488/488 [==============================] - ETA: 0s - loss: 1.2368 - accuracy: 0.4869 - sensitivity_at_specificity: 0.8797 - specificity_at_sensitivity: 0.8680 - recall: 0.2381 - precision: 0.7257\n",
      "Epoch 2: val_accuracy did not improve from 0.22813\n",
      "488/488 [==============================] - 72s 146ms/step - loss: 1.2368 - accuracy: 0.4869 - sensitivity_at_specificity: 0.8797 - specificity_at_sensitivity: 0.8680 - recall: 0.2381 - precision: 0.7257 - val_loss: 5.4448 - val_accuracy: 0.2281 - val_sensitivity_at_specificity: 0.5688 - val_specificity_at_sensitivity: 0.5938 - val_recall: 0.2281 - val_precision: 0.2281\n",
      "Epoch 3/150\n",
      "488/488 [==============================] - ETA: 0s - loss: 0.7947 - accuracy: 0.6910 - sensitivity_at_specificity: 0.9814 - specificity_at_sensitivity: 0.9763 - recall: 0.5908 - precision: 0.7782\n",
      "Epoch 3: val_accuracy improved from 0.22813 to 0.71562, saving model to ECG_Spectrogram_Model.h5\n",
      "488/488 [==============================] - 73s 149ms/step - loss: 0.7947 - accuracy: 0.6910 - sensitivity_at_specificity: 0.9814 - specificity_at_sensitivity: 0.9763 - recall: 0.5908 - precision: 0.7782 - val_loss: 0.7698 - val_accuracy: 0.7156 - val_sensitivity_at_specificity: 0.9812 - val_specificity_at_sensitivity: 0.9898 - val_recall: 0.6125 - val_precision: 0.8201\n",
      "Epoch 4/150\n",
      "488/488 [==============================] - ETA: 0s - loss: 0.6509 - accuracy: 0.7584 - sensitivity_at_specificity: 0.9895 - specificity_at_sensitivity: 0.9872 - recall: 0.6894 - precision: 0.8138\n",
      "Epoch 4: val_accuracy did not improve from 0.71562\n",
      "488/488 [==============================] - 73s 149ms/step - loss: 0.6509 - accuracy: 0.7584 - sensitivity_at_specificity: 0.9895 - specificity_at_sensitivity: 0.9872 - recall: 0.6894 - precision: 0.8138 - val_loss: 0.8457 - val_accuracy: 0.6875 - val_sensitivity_at_specificity: 0.9750 - val_specificity_at_sensitivity: 0.9680 - val_recall: 0.6375 - val_precision: 0.7338\n",
      "Epoch 5/150\n",
      "488/488 [==============================] - ETA: 0s - loss: 0.5469 - accuracy: 0.8012 - sensitivity_at_specificity: 0.9943 - specificity_at_sensitivity: 0.9930 - recall: 0.7563 - precision: 0.8423\n",
      "Epoch 5: val_accuracy improved from 0.71562 to 0.79375, saving model to ECG_Spectrogram_Model.h5\n",
      "488/488 [==============================] - 73s 150ms/step - loss: 0.5469 - accuracy: 0.8012 - sensitivity_at_specificity: 0.9943 - specificity_at_sensitivity: 0.9930 - recall: 0.7563 - precision: 0.8423 - val_loss: 0.5876 - val_accuracy: 0.7937 - val_sensitivity_at_specificity: 0.9906 - val_specificity_at_sensitivity: 0.9875 - val_recall: 0.7469 - val_precision: 0.8213\n",
      "Epoch 6/150\n",
      "488/488 [==============================] - ETA: 0s - loss: 0.4907 - accuracy: 0.8254 - sensitivity_at_specificity: 0.9938 - specificity_at_sensitivity: 0.9951 - recall: 0.7892 - precision: 0.8603\n",
      "Epoch 6: val_accuracy did not improve from 0.79375\n",
      "488/488 [==============================] - 73s 149ms/step - loss: 0.4907 - accuracy: 0.8254 - sensitivity_at_specificity: 0.9938 - specificity_at_sensitivity: 0.9951 - recall: 0.7892 - precision: 0.8603 - val_loss: 0.6211 - val_accuracy: 0.7594 - val_sensitivity_at_specificity: 0.9906 - val_specificity_at_sensitivity: 0.9844 - val_recall: 0.7063 - val_precision: 0.7958\n",
      "Epoch 7/150\n",
      "488/488 [==============================] - ETA: 0s - loss: 0.4480 - accuracy: 0.8405 - sensitivity_at_specificity: 0.9964 - specificity_at_sensitivity: 0.9965 - recall: 0.8106 - precision: 0.8674\n",
      "Epoch 7: val_accuracy improved from 0.79375 to 0.81250, saving model to ECG_Spectrogram_Model.h5\n",
      "488/488 [==============================] - 73s 149ms/step - loss: 0.4480 - accuracy: 0.8405 - sensitivity_at_specificity: 0.9964 - specificity_at_sensitivity: 0.9965 - recall: 0.8106 - precision: 0.8674 - val_loss: 0.5584 - val_accuracy: 0.8125 - val_sensitivity_at_specificity: 0.9812 - val_specificity_at_sensitivity: 0.9930 - val_recall: 0.7656 - val_precision: 0.8333\n",
      "Epoch 8/150\n",
      "488/488 [==============================] - ETA: 0s - loss: 0.4173 - accuracy: 0.8508 - sensitivity_at_specificity: 0.9963 - specificity_at_sensitivity: 0.9970 - recall: 0.8271 - precision: 0.8746\n",
      "Epoch 8: val_accuracy improved from 0.81250 to 0.83438, saving model to ECG_Spectrogram_Model.h5\n",
      "488/488 [==============================] - 73s 150ms/step - loss: 0.4173 - accuracy: 0.8508 - sensitivity_at_specificity: 0.9963 - specificity_at_sensitivity: 0.9970 - recall: 0.8271 - precision: 0.8746 - val_loss: 0.5014 - val_accuracy: 0.8344 - val_sensitivity_at_specificity: 0.9844 - val_specificity_at_sensitivity: 0.9937 - val_recall: 0.8094 - val_precision: 0.8548\n",
      "Epoch 9/150\n",
      "488/488 [==============================] - ETA: 0s - loss: 0.4011 - accuracy: 0.8569 - sensitivity_at_specificity: 0.9967 - specificity_at_sensitivity: 0.9976 - recall: 0.8341 - precision: 0.8798\n",
      "Epoch 9: val_accuracy did not improve from 0.83438\n",
      "488/488 [==============================] - 73s 149ms/step - loss: 0.4011 - accuracy: 0.8569 - sensitivity_at_specificity: 0.9967 - specificity_at_sensitivity: 0.9976 - recall: 0.8341 - precision: 0.8798 - val_loss: 0.4935 - val_accuracy: 0.8313 - val_sensitivity_at_specificity: 0.9875 - val_specificity_at_sensitivity: 0.9937 - val_recall: 0.8219 - val_precision: 0.8484\n",
      "Epoch 10/150\n",
      "488/488 [==============================] - ETA: 0s - loss: 0.3705 - accuracy: 0.8684 - sensitivity_at_specificity: 0.9969 - specificity_at_sensitivity: 0.9981 - recall: 0.8473 - precision: 0.8888\n",
      "Epoch 10: val_accuracy improved from 0.83438 to 0.85312, saving model to ECG_Spectrogram_Model.h5\n",
      "488/488 [==============================] - 73s 150ms/step - loss: 0.3705 - accuracy: 0.8684 - sensitivity_at_specificity: 0.9969 - specificity_at_sensitivity: 0.9981 - recall: 0.8473 - precision: 0.8888 - val_loss: 0.4474 - val_accuracy: 0.8531 - val_sensitivity_at_specificity: 0.9969 - val_specificity_at_sensitivity: 0.9953 - val_recall: 0.8375 - val_precision: 0.8701\n",
      "Epoch 11/150\n",
      "488/488 [==============================] - ETA: 0s - loss: 0.3581 - accuracy: 0.8742 - sensitivity_at_specificity: 0.9970 - specificity_at_sensitivity: 0.9982 - recall: 0.8544 - precision: 0.8922\n",
      "Epoch 11: val_accuracy improved from 0.85312 to 0.85625, saving model to ECG_Spectrogram_Model.h5\n",
      "488/488 [==============================] - 73s 150ms/step - loss: 0.3581 - accuracy: 0.8742 - sensitivity_at_specificity: 0.9970 - specificity_at_sensitivity: 0.9982 - recall: 0.8544 - precision: 0.8922 - val_loss: 0.4154 - val_accuracy: 0.8562 - val_sensitivity_at_specificity: 0.9906 - val_specificity_at_sensitivity: 0.9961 - val_recall: 0.8500 - val_precision: 0.8662\n",
      "Epoch 12/150\n",
      "488/488 [==============================] - ETA: 0s - loss: 0.3488 - accuracy: 0.8764 - sensitivity_at_specificity: 0.9971 - specificity_at_sensitivity: 0.9982 - recall: 0.8582 - precision: 0.8943\n",
      "Epoch 12: val_accuracy did not improve from 0.85625\n",
      "488/488 [==============================] - 73s 149ms/step - loss: 0.3488 - accuracy: 0.8764 - sensitivity_at_specificity: 0.9971 - specificity_at_sensitivity: 0.9982 - recall: 0.8582 - precision: 0.8943 - val_loss: 0.3860 - val_accuracy: 0.8469 - val_sensitivity_at_specificity: 0.9937 - val_specificity_at_sensitivity: 0.9984 - val_recall: 0.8344 - val_precision: 0.8697\n",
      "Epoch 13/150\n",
      "488/488 [==============================] - ETA: 0s - loss: 0.3357 - accuracy: 0.8818 - sensitivity_at_specificity: 0.9972 - specificity_at_sensitivity: 0.9986 - recall: 0.8659 - precision: 0.8981\n",
      "Epoch 13: val_accuracy did not improve from 0.85625\n",
      "488/488 [==============================] - 73s 150ms/step - loss: 0.3357 - accuracy: 0.8818 - sensitivity_at_specificity: 0.9972 - specificity_at_sensitivity: 0.9986 - recall: 0.8659 - precision: 0.8981 - val_loss: 0.6447 - val_accuracy: 0.8000 - val_sensitivity_at_specificity: 0.9844 - val_specificity_at_sensitivity: 0.9914 - val_recall: 0.7750 - val_precision: 0.8158\n"
     ]
    },
    {
     "name": "stdout",
     "output_type": "stream",
     "text": [
      "Epoch 14/150\n",
      "488/488 [==============================] - ETA: 0s - loss: 0.3279 - accuracy: 0.8835 - sensitivity_at_specificity: 0.9975 - specificity_at_sensitivity: 0.9989 - recall: 0.8670 - precision: 0.9005\n",
      "Epoch 14: val_accuracy improved from 0.85625 to 0.86250, saving model to ECG_Spectrogram_Model.h5\n",
      "488/488 [==============================] - 73s 150ms/step - loss: 0.3279 - accuracy: 0.8835 - sensitivity_at_specificity: 0.9975 - specificity_at_sensitivity: 0.9989 - recall: 0.8670 - precision: 0.9005 - val_loss: 0.4404 - val_accuracy: 0.8625 - val_sensitivity_at_specificity: 0.9844 - val_specificity_at_sensitivity: 0.9961 - val_recall: 0.8562 - val_precision: 0.8616\n",
      "Epoch 15/150\n",
      "488/488 [==============================] - ETA: 0s - loss: 0.3167 - accuracy: 0.8875 - sensitivity_at_specificity: 0.9980 - specificity_at_sensitivity: 0.9987 - recall: 0.8727 - precision: 0.9032\n",
      "Epoch 15: val_accuracy did not improve from 0.86250\n",
      "488/488 [==============================] - 73s 149ms/step - loss: 0.3167 - accuracy: 0.8875 - sensitivity_at_specificity: 0.9980 - specificity_at_sensitivity: 0.9987 - recall: 0.8727 - precision: 0.9032 - val_loss: 0.4835 - val_accuracy: 0.8438 - val_sensitivity_at_specificity: 0.9844 - val_specificity_at_sensitivity: 0.9953 - val_recall: 0.8406 - val_precision: 0.8622\n",
      "Epoch 16/150\n",
      "488/488 [==============================] - ETA: 0s - loss: 0.3035 - accuracy: 0.8896 - sensitivity_at_specificity: 0.9977 - specificity_at_sensitivity: 0.9990 - recall: 0.8761 - precision: 0.9059\n",
      "Epoch 16: val_accuracy did not improve from 0.86250\n",
      "488/488 [==============================] - 73s 149ms/step - loss: 0.3035 - accuracy: 0.8896 - sensitivity_at_specificity: 0.9977 - specificity_at_sensitivity: 0.9990 - recall: 0.8761 - precision: 0.9059 - val_loss: 0.6755 - val_accuracy: 0.8125 - val_sensitivity_at_specificity: 0.9656 - val_specificity_at_sensitivity: 0.9937 - val_recall: 0.8062 - val_precision: 0.8190\n",
      "Epoch 17/150\n",
      "488/488 [==============================] - ETA: 0s - loss: 0.3011 - accuracy: 0.8914 - sensitivity_at_specificity: 0.9976 - specificity_at_sensitivity: 0.9992 - recall: 0.8761 - precision: 0.9065\n",
      "Epoch 17: val_accuracy improved from 0.86250 to 0.88437, saving model to ECG_Spectrogram_Model.h5\n",
      "488/488 [==============================] - 73s 149ms/step - loss: 0.3011 - accuracy: 0.8914 - sensitivity_at_specificity: 0.9976 - specificity_at_sensitivity: 0.9992 - recall: 0.8761 - precision: 0.9065 - val_loss: 0.3550 - val_accuracy: 0.8844 - val_sensitivity_at_specificity: 0.9937 - val_specificity_at_sensitivity: 1.0000 - val_recall: 0.8781 - val_precision: 0.8978\n",
      "Epoch 18/150\n",
      "488/488 [==============================] - ETA: 0s - loss: 0.2867 - accuracy: 0.8982 - sensitivity_at_specificity: 0.9980 - specificity_at_sensitivity: 0.9991 - recall: 0.8847 - precision: 0.9115\n",
      "Epoch 18: val_accuracy did not improve from 0.88437\n",
      "488/488 [==============================] - 73s 149ms/step - loss: 0.2867 - accuracy: 0.8982 - sensitivity_at_specificity: 0.9980 - specificity_at_sensitivity: 0.9991 - recall: 0.8847 - precision: 0.9115 - val_loss: 0.3667 - val_accuracy: 0.8781 - val_sensitivity_at_specificity: 0.9906 - val_specificity_at_sensitivity: 0.9977 - val_recall: 0.8687 - val_precision: 0.8882\n",
      "Epoch 19/150\n",
      "488/488 [==============================] - ETA: 0s - loss: 0.2835 - accuracy: 0.8979 - sensitivity_at_specificity: 0.9981 - specificity_at_sensitivity: 0.9991 - recall: 0.8853 - precision: 0.9104\n",
      "Epoch 19: val_accuracy did not improve from 0.88437\n",
      "488/488 [==============================] - 73s 149ms/step - loss: 0.2835 - accuracy: 0.8979 - sensitivity_at_specificity: 0.9981 - specificity_at_sensitivity: 0.9991 - recall: 0.8853 - precision: 0.9104 - val_loss: 1.5240 - val_accuracy: 0.5281 - val_sensitivity_at_specificity: 0.9156 - val_specificity_at_sensitivity: 0.9031 - val_recall: 0.4969 - val_precision: 0.5699\n",
      "Epoch 20/150\n",
      "488/488 [==============================] - ETA: 0s - loss: 0.2760 - accuracy: 0.8994 - sensitivity_at_specificity: 0.9983 - specificity_at_sensitivity: 0.9992 - recall: 0.8877 - precision: 0.9130\n",
      "Epoch 20: val_accuracy improved from 0.88437 to 0.90312, saving model to ECG_Spectrogram_Model.h5\n",
      "488/488 [==============================] - 73s 150ms/step - loss: 0.2760 - accuracy: 0.8994 - sensitivity_at_specificity: 0.9983 - specificity_at_sensitivity: 0.9992 - recall: 0.8877 - precision: 0.9130 - val_loss: 0.2743 - val_accuracy: 0.9031 - val_sensitivity_at_specificity: 1.0000 - val_specificity_at_sensitivity: 1.0000 - val_recall: 0.9000 - val_precision: 0.9114\n",
      "Epoch 21/150\n",
      "488/488 [==============================] - ETA: 0s - loss: 0.2654 - accuracy: 0.9047 - sensitivity_at_specificity: 0.9983 - specificity_at_sensitivity: 0.9993 - recall: 0.8915 - precision: 0.9182\n",
      "Epoch 21: val_accuracy did not improve from 0.90312\n",
      "488/488 [==============================] - 73s 149ms/step - loss: 0.2654 - accuracy: 0.9047 - sensitivity_at_specificity: 0.9983 - specificity_at_sensitivity: 0.9993 - recall: 0.8915 - precision: 0.9182 - val_loss: 0.2967 - val_accuracy: 0.8875 - val_sensitivity_at_specificity: 0.9969 - val_specificity_at_sensitivity: 0.9992 - val_recall: 0.8844 - val_precision: 0.8899\n",
      "Epoch 22/150\n",
      "488/488 [==============================] - ETA: 0s - loss: 0.2543 - accuracy: 0.9087 - sensitivity_at_specificity: 0.9986 - specificity_at_sensitivity: 0.9995 - recall: 0.8984 - precision: 0.9199\n",
      "Epoch 22: val_accuracy did not improve from 0.90312\n",
      "488/488 [==============================] - 73s 149ms/step - loss: 0.2543 - accuracy: 0.9087 - sensitivity_at_specificity: 0.9986 - specificity_at_sensitivity: 0.9995 - recall: 0.8984 - precision: 0.9199 - val_loss: 0.3895 - val_accuracy: 0.8625 - val_sensitivity_at_specificity: 0.9937 - val_specificity_at_sensitivity: 0.9977 - val_recall: 0.8594 - val_precision: 0.8703\n",
      "Epoch 23/150\n",
      "488/488 [==============================] - ETA: 0s - loss: 0.2506 - accuracy: 0.9084 - sensitivity_at_specificity: 0.9986 - specificity_at_sensitivity: 0.9995 - recall: 0.8981 - precision: 0.9188\n",
      "Epoch 23: val_accuracy did not improve from 0.90312\n",
      "488/488 [==============================] - 73s 150ms/step - loss: 0.2506 - accuracy: 0.9084 - sensitivity_at_specificity: 0.9986 - specificity_at_sensitivity: 0.9995 - recall: 0.8981 - precision: 0.9188 - val_loss: 0.4410 - val_accuracy: 0.8781 - val_sensitivity_at_specificity: 0.9812 - val_specificity_at_sensitivity: 0.9969 - val_recall: 0.8750 - val_precision: 0.8833\n",
      "Epoch 24/150\n",
      "488/488 [==============================] - ETA: 0s - loss: 0.2411 - accuracy: 0.9131 - sensitivity_at_specificity: 0.9987 - specificity_at_sensitivity: 0.9995 - recall: 0.9028 - precision: 0.9242\n",
      "Epoch 24: val_accuracy did not improve from 0.90312\n",
      "488/488 [==============================] - 73s 149ms/step - loss: 0.2411 - accuracy: 0.9131 - sensitivity_at_specificity: 0.9987 - specificity_at_sensitivity: 0.9995 - recall: 0.9028 - precision: 0.9242 - val_loss: 0.2762 - val_accuracy: 0.8906 - val_sensitivity_at_specificity: 0.9969 - val_specificity_at_sensitivity: 0.9992 - val_recall: 0.8875 - val_precision: 0.8959\n",
      "Epoch 25/150\n",
      "488/488 [==============================] - ETA: 0s - loss: 0.2302 - accuracy: 0.9167 - sensitivity_at_specificity: 0.9985 - specificity_at_sensitivity: 0.9996 - recall: 0.9065 - precision: 0.9264\n",
      "Epoch 25: val_accuracy did not improve from 0.90312\n",
      "488/488 [==============================] - 73s 149ms/step - loss: 0.2302 - accuracy: 0.9167 - sensitivity_at_specificity: 0.9985 - specificity_at_sensitivity: 0.9996 - recall: 0.9065 - precision: 0.9264 - val_loss: 0.4428 - val_accuracy: 0.8656 - val_sensitivity_at_specificity: 0.9906 - val_specificity_at_sensitivity: 0.9977 - val_recall: 0.8594 - val_precision: 0.8758\n"
     ]
    }
   ],
   "source": [
    "#Model Execution\n",
    "\n",
    "from keras.callbacks import ModelCheckpoint, EarlyStopping\n",
    "\n",
    "# Initializing Device Specification\n",
    "device_spec = tf.DeviceSpec(job =\"localhost\", replica = 0, device_type = \"GPU\")\n",
    " \n",
    "# Printing the DeviceSpec\n",
    "print('Device Spec: ', device_spec.to_string())\n",
    " \n",
    "# Enabling device logging\n",
    "tf.debugging.set_log_device_placement(True)\n",
    " \n",
    "# Specifying the device\n",
    "with tf.device(device_spec):\n",
    "    \n",
    "#with tf.device('/gpu:10'):\n",
    "    \n",
    "    checkpoint = ModelCheckpoint(\"ECG_Spectrogram_Model.h5\", monitor='val_accuracy', verbose=1, save_best_only=True, save_weights_only=False, mode='auto', period=1)\n",
    "    mycallback=tf.keras.callbacks.EarlyStopping(monitor=\"val_accuracy\", patience=5, mode=\"auto\")\n",
    "    \n",
    "    history = model.fit(\n",
    "          train_data,\n",
    "          #steps_per_epoch=20, \n",
    "          epochs=150,\n",
    "          verbose=1,\n",
    "          validation_data = val_data,\n",
    "          validation_steps=5, \n",
    "          callbacks = [mycallback,checkpoint]\n",
    "    ) "
   ]
  },
  {
   "cell_type": "code",
   "execution_count": 10,
   "metadata": {},
   "outputs": [
    {
     "name": "stdout",
     "output_type": "stream",
     "text": [
      "Training Accuracy:  0.9167147278785706\n",
      "Validation Accuracy:  0.903124988079071\n",
      "Validation Specificity:  1.0\n",
      "Validation Sensitivity:  1.0\n",
      "Validation Recall:  0.8999999761581421\n",
      "Validation Precision:  0.9113923907279968\n",
      "Validation Loss:  0.27429789304733276\n"
     ]
    }
   ],
   "source": [
    "Training_Accuracy=history.history['accuracy']\n",
    "Validation_Accuracy=history.history['val_accuracy']\n",
    "Validation_Specificity=history.history['val_specificity_at_sensitivity']\n",
    "Validation_Sensitivity=history.history['val_sensitivity_at_specificity']\n",
    "Validation_Recall=history.history['val_recall']\n",
    "Validation_Precision=history.history['val_precision']\n",
    "Validation_Loss=history.history['val_loss']\n",
    "\n",
    "print(\"Training Accuracy: \",max(Training_Accuracy))\n",
    "print(\"Validation Accuracy: \",max(Validation_Accuracy))\n",
    "print(\"Validation Specificity: \",max(Validation_Specificity))\n",
    "print(\"Validation Sensitivity: \",max(Validation_Sensitivity))\n",
    "print(\"Validation Recall: \",max(Validation_Recall))\n",
    "print(\"Validation Precision: \",max(Validation_Precision))\n",
    "print(\"Validation Loss: \",min(Validation_Loss))"
   ]
  },
  {
   "cell_type": "code",
   "execution_count": 11,
   "metadata": {},
   "outputs": [
    {
     "data": {
      "image/png": "[encoded data removed]",
      "text/plain": [
       "<Figure size 720x432 with 1 Axes>"
      ]
     },
     "metadata": {
      "needs_background": "light"
     },
     "output_type": "display_data"
    }
   ],
   "source": [
    "plt.figure(figsize=(10,6))\n",
    "plt.plot(history.history['accuracy'])\n",
    "plt.plot(history.history['val_accuracy'])\n",
    "plt.title('Model accuracy')\n",
    "plt.ylabel('Accuracy')\n",
    "plt.xlabel('Epoch')\n",
    "plt.legend(['Train', 'Test'], loc='upper left')\n",
    "plt.show()"
   ]
  },
  {
   "cell_type": "code",
   "execution_count": 12,
   "metadata": {},
   "outputs": [
    {
     "data": {
      "image/png": "[encoded data removed]",
      "text/plain": [
       "<Figure size 720x432 with 1 Axes>"
      ]
     },
     "metadata": {
      "needs_background": "light"
     },
     "output_type": "display_data"
    }
   ],
   "source": [
    "plt.figure(figsize=(10,6))\n",
    "plt.plot(history.history['loss'])\n",
    "plt.plot(history.history['val_loss'])\n",
    "plt.title('Model Loss')\n",
    "plt.ylabel('Loss')\n",
    "plt.xlabel('Epoch')\n",
    "plt.legend(['Train', 'Test'], loc='upper left')\n",
    "plt.show()"
   ]
  },
  {
   "cell_type": "code",
   "execution_count": null,
   "metadata": {},
   "outputs": [],
   "source": []
  },
  {
   "cell_type": "code",
   "execution_count": null,
   "metadata": {},
   "outputs": [],
   "source": []
  }
 ],
 "metadata": {
  "accelerator": "GPU",
  "colab": {
   "collapsed_sections": [
    "7e88OLey6Bgd"
   ],
   "provenance": []
  },
  "gpuClass": "standard",
  "kernelspec": {
   "display_name": "Python 3 (ipykernel)",
   "language": "python",
   "name": "python3"
  },
  "language_info": {
   "codemirror_mode": {
    "name": "ipython",
    "version": 3
   },
   "file_extension": ".py",
   "mimetype": "text/x-python",
   "name": "python",
   "nbconvert_exporter": "python",
   "pygments_lexer": "ipython3",
   "version": "3.10.6"
  }
 },
 "nbformat": 4,
 "nbformat_minor": 4
}
