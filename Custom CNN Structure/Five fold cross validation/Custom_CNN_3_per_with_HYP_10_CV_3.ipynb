{
 "cells": [
  {
   "cell_type": "markdown",
   "metadata": {
    "id": "SsTzc3oi726u"
   },
   "source": [
    "# **Building a Convolutional Neural Network with Keras**"
   ]
  },
  {
   "cell_type": "code",
   "execution_count": 1,
   "metadata": {},
   "outputs": [
    {
     "name": "stdout",
     "output_type": "stream",
     "text": [
      "2.9.1\n"
     ]
    }
   ],
   "source": [
    "#Tensorflow version\n",
    "\n",
    "import tensorflow as tf\n",
    "print(tf.__version__)"
   ]
  },
  {
   "cell_type": "code",
   "execution_count": 2,
   "metadata": {},
   "outputs": [],
   "source": [
    "#Importing libraries\n",
    "\n",
    "import tensorflow as tf\n",
    "from tensorflow import keras\n",
    "from keras.layers import Input, Conv2D, Dense, Flatten, BatchNormalization, Dropout, MaxPooling2D, GlobalMaxPooling2D\n",
    "from keras.models import Model\n",
    "import matplotlib.pyplot as plt\n",
    "from keras.applications.efficientnet import EfficientNetB0\n",
    "from keras.preprocessing import image\n",
    "#from keras.preprocessing.image import load_img\n",
    "from keras.models import Sequential\n",
    "import numpy as np\n",
    "from tensorflow.keras import regularizers"
   ]
  },
  {
   "cell_type": "code",
   "execution_count": 3,
   "metadata": {},
   "outputs": [],
   "source": [
    "# Cross Validation dataset links\n",
    "\n",
    "#CV-3\n",
    "train_dir=\"/home/ubuntu/From_Laptop/multi-class-NEW/12-Lead_ECG_version_2/DA_version_3/Model_Training/K-Fold Cross Validation/Fold 3/Training/\"\n",
    "val_dir=\"/home/ubuntu/From_Laptop/multi-class-NEW/12-Lead_ECG_version_2/DA_version_3/Model_Training/K-Fold Cross Validation/Fold 3/Validation/\""
   ]
  },
  {
   "cell_type": "code",
   "execution_count": 4,
   "metadata": {},
   "outputs": [
    {
     "name": "stdout",
     "output_type": "stream",
     "text": [
      "Found 31206 files belonging to 5 classes.\n"
     ]
    },
    {
     "name": "stderr",
     "output_type": "stream",
     "text": [
      "2023-03-24 09:51:12.494074: I tensorflow/stream_executor/cuda/cuda_gpu_executor.cc:975] successful NUMA node read from SysFS had negative value (-1), but there must be at least one NUMA node, so returning NUMA node zero\n",
      "2023-03-24 09:51:12.515409: I tensorflow/stream_executor/cuda/cuda_gpu_executor.cc:975] successful NUMA node read from SysFS had negative value (-1), but there must be at least one NUMA node, so returning NUMA node zero\n",
      "2023-03-24 09:51:12.515728: I tensorflow/stream_executor/cuda/cuda_gpu_executor.cc:975] successful NUMA node read from SysFS had negative value (-1), but there must be at least one NUMA node, so returning NUMA node zero\n",
      "2023-03-24 09:51:12.516595: I tensorflow/core/platform/cpu_feature_guard.cc:193] This TensorFlow binary is optimized with oneAPI Deep Neural Network Library (oneDNN) to use the following CPU instructions in performance-critical operations:  AVX2 FMA\n",
      "To enable them in other operations, rebuild TensorFlow with the appropriate compiler flags.\n",
      "2023-03-24 09:51:12.516968: I tensorflow/stream_executor/cuda/cuda_gpu_executor.cc:975] successful NUMA node read from SysFS had negative value (-1), but there must be at least one NUMA node, so returning NUMA node zero\n",
      "2023-03-24 09:51:12.517244: I tensorflow/stream_executor/cuda/cuda_gpu_executor.cc:975] successful NUMA node read from SysFS had negative value (-1), but there must be at least one NUMA node, so returning NUMA node zero\n",
      "2023-03-24 09:51:12.517411: I tensorflow/stream_executor/cuda/cuda_gpu_executor.cc:975] successful NUMA node read from SysFS had negative value (-1), but there must be at least one NUMA node, so returning NUMA node zero\n",
      "2023-03-24 09:51:12.945120: I tensorflow/stream_executor/cuda/cuda_gpu_executor.cc:975] successful NUMA node read from SysFS had negative value (-1), but there must be at least one NUMA node, so returning NUMA node zero\n",
      "2023-03-24 09:51:12.945305: I tensorflow/stream_executor/cuda/cuda_gpu_executor.cc:975] successful NUMA node read from SysFS had negative value (-1), but there must be at least one NUMA node, so returning NUMA node zero\n",
      "2023-03-24 09:51:12.945456: I tensorflow/stream_executor/cuda/cuda_gpu_executor.cc:975] successful NUMA node read from SysFS had negative value (-1), but there must be at least one NUMA node, so returning NUMA node zero\n",
      "2023-03-24 09:51:12.945577: I tensorflow/core/common_runtime/gpu/gpu_device.cc:1532] Created device /job:localhost/replica:0/task:0/device:GPU:0 with 7380 MB memory:  -> device: 0, name: NVIDIA GeForce GTX 1080, pci bus id: 0000:00:05.0, compute capability: 6.1\n"
     ]
    },
    {
     "name": "stdout",
     "output_type": "stream",
     "text": [
      "Found 7787 files belonging to 5 classes.\n"
     ]
    }
   ],
   "source": [
    "from tensorflow.keras import layers\n",
    "\n",
    "train_data = tf.keras.preprocessing.image_dataset_from_directory(directory=train_dir,\n",
    "                                                                 image_size=(256,256),\n",
    "                                                                 label_mode='categorical', batch_size=64, \n",
    "                                                                 )\n",
    "val_data = tf.keras.preprocessing.image_dataset_from_directory(directory=val_dir,\n",
    "                                                                 image_size=(256,256),\n",
    "                                                                 label_mode='categorical', batch_size=64,\n",
    "                                                                )"
   ]
  },
  {
   "cell_type": "code",
   "execution_count": 5,
   "metadata": {},
   "outputs": [],
   "source": [
    "#Normalization of the data\n",
    "\n",
    "nrmzln_layer = layers.experimental.preprocessing.Rescaling(1./255)\n",
    "\n",
    "train_data = train_data.map(lambda x,\n",
    "                          y: (nrmzln_layer(x), y))\n",
    "\n",
    "val_data = val_data.map(lambda x,\n",
    "                          y: (nrmzln_layer(x), y))"
   ]
  },
  {
   "cell_type": "code",
   "execution_count": 6,
   "metadata": {},
   "outputs": [],
   "source": [
    "#Custom Model Architecture\n",
    "\n",
    "from keras.layers import LeakyReLU\n",
    "model = tf.keras.models.Sequential([\n",
    "                                    \n",
    "    # First convolution layer \n",
    "    tf.keras.layers.Conv2D(32, 3, activation=LeakyReLU(alpha=0.01),padding=\"same\", input_shape=(256, 256, 3),use_bias=True),\n",
    "    tf.keras.layers.MaxPooling2D(2, 2),\n",
    "    tf.keras.layers.Dropout(0.50),\n",
    "    \n",
    "\n",
    "    # Second convolution layer \n",
    "    tf.keras.layers.Conv2D(64, 3, activation=LeakyReLU(alpha=0.01),padding=\"same\",use_bias=True),\n",
    "    tf.keras.layers.MaxPooling2D(2,2),\n",
    "    BatchNormalization(),\n",
    "    tf.keras.layers.Dropout(0.25),\n",
    "\n",
    "    \n",
    "    # Third convolution layer  \n",
    "    tf.keras.layers.Conv2D(128, 2, activation=LeakyReLU(alpha=0.01),padding=\"same\",use_bias=True),\n",
    "    tf.keras.layers.MaxPooling2D(2,2),\n",
    "    BatchNormalization(),\n",
    "    tf.keras.layers.Dropout(0.15),\n",
    "\n",
    "    # Fourth convolution layer \n",
    "    tf.keras.layers.Conv2D(64, 1, activation=LeakyReLU(alpha=0.01),padding=\"same\",use_bias=True),\n",
    "    tf.keras.layers.MaxPooling2D(2,2),\n",
    "    tf.keras.layers.Dropout(0.10),\n",
    "\n",
    "    # Flatten the pooled feature maps\n",
    "    tf.keras.layers.Flatten(),\n",
    "\n",
    "    # Fully connected hidden layer\n",
    "    tf.keras.layers.Dense(96, activation=LeakyReLU(alpha=0.01),use_bias=True),\n",
    "\n",
    "    # Output layer\n",
    "    tf.keras.layers.Dense(5, activation='softmax',activity_regularizer=regularizers.L2(0.001))  \n",
    "\n",
    "])\n"
   ]
  },
  {
   "cell_type": "code",
   "execution_count": 7,
   "metadata": {},
   "outputs": [
    {
     "name": "stdout",
     "output_type": "stream",
     "text": [
      "Model: \"sequential\"\n",
      "_________________________________________________________________\n",
      " Layer (type)                Output Shape              Param #   \n",
      "=================================================================\n",
      " conv2d (Conv2D)             (None, 256, 256, 32)      896       \n",
      "                                                                 \n",
      " max_pooling2d (MaxPooling2D  (None, 128, 128, 32)     0         \n",
      " )                                                               \n",
      "                                                                 \n",
      " dropout (Dropout)           (None, 128, 128, 32)      0         \n",
      "                                                                 \n",
      " conv2d_1 (Conv2D)           (None, 128, 128, 64)      18496     \n",
      "                                                                 \n",
      " max_pooling2d_1 (MaxPooling  (None, 64, 64, 64)       0         \n",
      " 2D)                                                             \n",
      "                                                                 \n",
      " batch_normalization (BatchN  (None, 64, 64, 64)       256       \n",
      " ormalization)                                                   \n",
      "                                                                 \n",
      " dropout_1 (Dropout)         (None, 64, 64, 64)        0         \n",
      "                                                                 \n",
      " conv2d_2 (Conv2D)           (None, 64, 64, 128)       32896     \n",
      "                                                                 \n",
      " max_pooling2d_2 (MaxPooling  (None, 32, 32, 128)      0         \n",
      " 2D)                                                             \n",
      "                                                                 \n",
      " batch_normalization_1 (Batc  (None, 32, 32, 128)      512       \n",
      " hNormalization)                                                 \n",
      "                                                                 \n",
      " dropout_2 (Dropout)         (None, 32, 32, 128)       0         \n",
      "                                                                 \n",
      " conv2d_3 (Conv2D)           (None, 32, 32, 64)        8256      \n",
      "                                                                 \n",
      " max_pooling2d_3 (MaxPooling  (None, 16, 16, 64)       0         \n",
      " 2D)                                                             \n",
      "                                                                 \n",
      " dropout_3 (Dropout)         (None, 16, 16, 64)        0         \n",
      "                                                                 \n",
      " flatten (Flatten)           (None, 16384)             0         \n",
      "                                                                 \n",
      " dense (Dense)               (None, 96)                1572960   \n",
      "                                                                 \n",
      " dense_1 (Dense)             (None, 5)                 485       \n",
      "                                                                 \n",
      "=================================================================\n",
      "Total params: 1,634,757\n",
      "Trainable params: 1,634,373\n",
      "Non-trainable params: 384\n",
      "_________________________________________________________________\n"
     ]
    }
   ],
   "source": [
    "#print model summary\n",
    "\n",
    "model.summary()"
   ]
  },
  {
   "cell_type": "code",
   "execution_count": 8,
   "metadata": {},
   "outputs": [],
   "source": [
    "#Performance evaluation Metrics delcaration \n",
    "\n",
    "from tensorflow.keras.optimizers import Adam\n",
    "from tensorflow.keras.metrics import SensitivityAtSpecificity,SpecificityAtSensitivity,Recall,Precision\n",
    "\n",
    "model.compile(loss=tf.losses.categorical_crossentropy,\n",
    "              optimizer=Adam(learning_rate=0.001),\n",
    "              metrics=['accuracy',SensitivityAtSpecificity(0.5),SpecificityAtSensitivity(0.5),Recall(0.5),Precision(0.5)]) \n"
   ]
  },
  {
   "cell_type": "code",
   "execution_count": 9,
   "metadata": {},
   "outputs": [
    {
     "name": "stdout",
     "output_type": "stream",
     "text": [
      "Device Spec:  /job:localhost/replica:0/device:GPU:*\n",
      "WARNING:tensorflow:`period` argument is deprecated. Please use `save_freq` to specify the frequency in number of batches seen.\n",
      "Epoch 1/150\n"
     ]
    },
    {
     "name": "stderr",
     "output_type": "stream",
     "text": [
      "2023-03-24 09:51:18.193182: I tensorflow/stream_executor/cuda/cuda_dnn.cc:384] Loaded cuDNN version 8100\n",
      "2023-03-24 09:51:18.379593: I tensorflow/core/platform/default/subprocess.cc:304] Start cannot spawn child process: No such file or directory\n"
     ]
    },
    {
     "name": "stdout",
     "output_type": "stream",
     "text": [
      "488/488 [==============================] - ETA: 0s - loss: 2.0711 - accuracy: 0.2321 - sensitivity_at_specificity: 0.5410 - specificity_at_sensitivity: 0.5162 - recall: 0.0092 - precision: 0.2252\n",
      "Epoch 1: val_accuracy improved from -inf to 0.22187, saving model to ECG_Spectrogram_Model.h5\n",
      "488/488 [==============================] - 76s 149ms/step - loss: 2.0711 - accuracy: 0.2321 - sensitivity_at_specificity: 0.5410 - specificity_at_sensitivity: 0.5162 - recall: 0.0092 - precision: 0.2252 - val_loss: 1.6105 - val_accuracy: 0.2219 - val_sensitivity_at_specificity: 0.3688 - val_specificity_at_sensitivity: 0.2062 - val_recall: 0.0000e+00 - val_precision: 0.0000e+00\n",
      "Epoch 2/150\n",
      "488/488 [==============================] - ETA: 0s - loss: 1.2610 - accuracy: 0.4718 - sensitivity_at_specificity: 0.8724 - specificity_at_sensitivity: 0.8563 - recall: 0.2173 - precision: 0.7208\n",
      "Epoch 2: val_accuracy did not improve from 0.22187\n",
      "488/488 [==============================] - 72s 148ms/step - loss: 1.2610 - accuracy: 0.4718 - sensitivity_at_specificity: 0.8724 - specificity_at_sensitivity: 0.8563 - recall: 0.2173 - precision: 0.7208 - val_loss: 19.4808 - val_accuracy: 0.2156 - val_sensitivity_at_specificity: 0.2313 - val_specificity_at_sensitivity: 0.0875 - val_recall: 0.2156 - val_precision: 0.2156\n",
      "Epoch 3/150\n",
      "488/488 [==============================] - ETA: 0s - loss: 0.8246 - accuracy: 0.6799 - sensitivity_at_specificity: 0.9800 - specificity_at_sensitivity: 0.9712 - recall: 0.5653 - precision: 0.7717\n",
      "Epoch 3: val_accuracy improved from 0.22187 to 0.49062, saving model to ECG_Spectrogram_Model.h5\n",
      "488/488 [==============================] - 73s 150ms/step - loss: 0.8246 - accuracy: 0.6799 - sensitivity_at_specificity: 0.9800 - specificity_at_sensitivity: 0.9712 - recall: 0.5653 - precision: 0.7717 - val_loss: 1.1430 - val_accuracy: 0.4906 - val_sensitivity_at_specificity: 0.9469 - val_specificity_at_sensitivity: 0.8742 - val_recall: 0.3719 - val_precision: 0.5721\n",
      "Epoch 4/150\n",
      "488/488 [==============================] - ETA: 0s - loss: 0.6786 - accuracy: 0.7404 - sensitivity_at_specificity: 0.9901 - specificity_at_sensitivity: 0.9853 - recall: 0.6680 - precision: 0.8010\n",
      "Epoch 4: val_accuracy improved from 0.49062 to 0.67813, saving model to ECG_Spectrogram_Model.h5\n",
      "488/488 [==============================] - 73s 150ms/step - loss: 0.6786 - accuracy: 0.7404 - sensitivity_at_specificity: 0.9901 - specificity_at_sensitivity: 0.9853 - recall: 0.6680 - precision: 0.8010 - val_loss: 0.7353 - val_accuracy: 0.6781 - val_sensitivity_at_specificity: 0.9969 - val_specificity_at_sensitivity: 0.9703 - val_recall: 0.6219 - val_precision: 0.7316\n",
      "Epoch 5/150\n",
      "488/488 [==============================] - ETA: 0s - loss: 0.5969 - accuracy: 0.7823 - sensitivity_at_specificity: 0.9919 - specificity_at_sensitivity: 0.9904 - recall: 0.7276 - precision: 0.8287\n",
      "Epoch 5: val_accuracy improved from 0.67813 to 0.79375, saving model to ECG_Spectrogram_Model.h5\n",
      "488/488 [==============================] - 73s 150ms/step - loss: 0.5969 - accuracy: 0.7823 - sensitivity_at_specificity: 0.9919 - specificity_at_sensitivity: 0.9904 - recall: 0.7276 - precision: 0.8287 - val_loss: 0.5631 - val_accuracy: 0.7937 - val_sensitivity_at_specificity: 0.9937 - val_specificity_at_sensitivity: 0.9961 - val_recall: 0.7469 - val_precision: 0.8299\n",
      "Epoch 6/150\n",
      "488/488 [==============================] - ETA: 0s - loss: 0.5361 - accuracy: 0.8065 - sensitivity_at_specificity: 0.9938 - specificity_at_sensitivity: 0.9935 - recall: 0.7623 - precision: 0.8445\n",
      "Epoch 6: val_accuracy improved from 0.79375 to 0.83125, saving model to ECG_Spectrogram_Model.h5\n",
      "488/488 [==============================] - 73s 150ms/step - loss: 0.5361 - accuracy: 0.8065 - sensitivity_at_specificity: 0.9938 - specificity_at_sensitivity: 0.9935 - recall: 0.7623 - precision: 0.8445 - val_loss: 0.5041 - val_accuracy: 0.8313 - val_sensitivity_at_specificity: 0.9906 - val_specificity_at_sensitivity: 0.9930 - val_recall: 0.8031 - val_precision: 0.8510\n",
      "Epoch 7/150\n",
      "488/488 [==============================] - ETA: 0s - loss: 0.5038 - accuracy: 0.8180 - sensitivity_at_specificity: 0.9932 - specificity_at_sensitivity: 0.9949 - recall: 0.7840 - precision: 0.8512\n",
      "Epoch 7: val_accuracy did not improve from 0.83125\n",
      "488/488 [==============================] - 73s 149ms/step - loss: 0.5038 - accuracy: 0.8180 - sensitivity_at_specificity: 0.9932 - specificity_at_sensitivity: 0.9949 - recall: 0.7840 - precision: 0.8512 - val_loss: 0.5262 - val_accuracy: 0.7906 - val_sensitivity_at_specificity: 0.9969 - val_specificity_at_sensitivity: 0.9937 - val_recall: 0.7812 - val_precision: 0.8091\n",
      "Epoch 8/150\n",
      "488/488 [==============================] - ETA: 0s - loss: 0.4630 - accuracy: 0.8344 - sensitivity_at_specificity: 0.9939 - specificity_at_sensitivity: 0.9962 - recall: 0.8052 - precision: 0.8644\n",
      "Epoch 8: val_accuracy did not improve from 0.83125\n",
      "488/488 [==============================] - 73s 149ms/step - loss: 0.4630 - accuracy: 0.8344 - sensitivity_at_specificity: 0.9939 - specificity_at_sensitivity: 0.9962 - recall: 0.8052 - precision: 0.8644 - val_loss: 0.5934 - val_accuracy: 0.7906 - val_sensitivity_at_specificity: 0.9906 - val_specificity_at_sensitivity: 0.9937 - val_recall: 0.7656 - val_precision: 0.8086\n",
      "Epoch 9/150\n",
      "488/488 [==============================] - ETA: 0s - loss: 0.4188 - accuracy: 0.8526 - sensitivity_at_specificity: 0.9965 - specificity_at_sensitivity: 0.9972 - recall: 0.8254 - precision: 0.8773\n",
      "Epoch 9: val_accuracy did not improve from 0.83125\n",
      "488/488 [==============================] - 73s 150ms/step - loss: 0.4188 - accuracy: 0.8526 - sensitivity_at_specificity: 0.9965 - specificity_at_sensitivity: 0.9972 - recall: 0.8254 - precision: 0.8773 - val_loss: 0.6038 - val_accuracy: 0.7875 - val_sensitivity_at_specificity: 0.9844 - val_specificity_at_sensitivity: 0.9937 - val_recall: 0.7781 - val_precision: 0.7955\n",
      "Epoch 10/150\n",
      "488/488 [==============================] - ETA: 0s - loss: 0.4358 - accuracy: 0.8434 - sensitivity_at_specificity: 0.9966 - specificity_at_sensitivity: 0.9968 - recall: 0.8147 - precision: 0.8691\n",
      "Epoch 10: val_accuracy did not improve from 0.83125\n",
      "488/488 [==============================] - 73s 149ms/step - loss: 0.4358 - accuracy: 0.8434 - sensitivity_at_specificity: 0.9966 - specificity_at_sensitivity: 0.9968 - recall: 0.8147 - precision: 0.8691 - val_loss: 0.4908 - val_accuracy: 0.8125 - val_sensitivity_at_specificity: 0.9937 - val_specificity_at_sensitivity: 0.9961 - val_recall: 0.8031 - val_precision: 0.8264\n",
      "Epoch 11/150\n",
      "488/488 [==============================] - ETA: 0s - loss: 0.3885 - accuracy: 0.8655 - sensitivity_at_specificity: 0.9967 - specificity_at_sensitivity: 0.9977 - recall: 0.8416 - precision: 0.8846\n",
      "Epoch 11: val_accuracy improved from 0.83125 to 0.85312, saving model to ECG_Spectrogram_Model.h5\n",
      "488/488 [==============================] - 73s 150ms/step - loss: 0.3885 - accuracy: 0.8655 - sensitivity_at_specificity: 0.9967 - specificity_at_sensitivity: 0.9977 - recall: 0.8416 - precision: 0.8846 - val_loss: 0.3894 - val_accuracy: 0.8531 - val_sensitivity_at_specificity: 0.9937 - val_specificity_at_sensitivity: 0.9992 - val_recall: 0.8344 - val_precision: 0.8558\n",
      "Epoch 12/150\n",
      "488/488 [==============================] - ETA: 0s - loss: 0.3734 - accuracy: 0.8674 - sensitivity_at_specificity: 0.9972 - specificity_at_sensitivity: 0.9981 - recall: 0.8474 - precision: 0.8872\n",
      "Epoch 12: val_accuracy improved from 0.85312 to 0.85938, saving model to ECG_Spectrogram_Model.h5\n",
      "488/488 [==============================] - 73s 149ms/step - loss: 0.3734 - accuracy: 0.8674 - sensitivity_at_specificity: 0.9972 - specificity_at_sensitivity: 0.9981 - recall: 0.8474 - precision: 0.8872 - val_loss: 0.4228 - val_accuracy: 0.8594 - val_sensitivity_at_specificity: 0.9937 - val_specificity_at_sensitivity: 0.9977 - val_recall: 0.8406 - val_precision: 0.8677\n",
      "Epoch 13/150\n",
      "488/488 [==============================] - ETA: 0s - loss: 0.3592 - accuracy: 0.8707 - sensitivity_at_specificity: 0.9974 - specificity_at_sensitivity: 0.9982 - recall: 0.8513 - precision: 0.8911\n",
      "Epoch 13: val_accuracy did not improve from 0.85938\n",
      "488/488 [==============================] - 73s 149ms/step - loss: 0.3592 - accuracy: 0.8707 - sensitivity_at_specificity: 0.9974 - specificity_at_sensitivity: 0.9982 - recall: 0.8513 - precision: 0.8911 - val_loss: 0.5221 - val_accuracy: 0.8313 - val_sensitivity_at_specificity: 0.9844 - val_specificity_at_sensitivity: 0.9961 - val_recall: 0.8219 - val_precision: 0.8349\n"
     ]
    },
    {
     "name": "stdout",
     "output_type": "stream",
     "text": [
      "Epoch 14/150\n",
      "488/488 [==============================] - ETA: 0s - loss: 0.3404 - accuracy: 0.8776 - sensitivity_at_specificity: 0.9973 - specificity_at_sensitivity: 0.9985 - recall: 0.8606 - precision: 0.8971\n",
      "Epoch 14: val_accuracy did not improve from 0.85938\n",
      "488/488 [==============================] - 73s 149ms/step - loss: 0.3404 - accuracy: 0.8776 - sensitivity_at_specificity: 0.9973 - specificity_at_sensitivity: 0.9985 - recall: 0.8606 - precision: 0.8971 - val_loss: 0.8033 - val_accuracy: 0.7594 - val_sensitivity_at_specificity: 0.9625 - val_specificity_at_sensitivity: 0.9812 - val_recall: 0.7437 - val_precision: 0.7677\n",
      "Epoch 15/150\n",
      "488/488 [==============================] - ETA: 0s - loss: 0.3305 - accuracy: 0.8825 - sensitivity_at_specificity: 0.9973 - specificity_at_sensitivity: 0.9988 - recall: 0.8649 - precision: 0.9007\n",
      "Epoch 15: val_accuracy did not improve from 0.85938\n",
      "488/488 [==============================] - 73s 149ms/step - loss: 0.3305 - accuracy: 0.8825 - sensitivity_at_specificity: 0.9973 - specificity_at_sensitivity: 0.9988 - recall: 0.8649 - precision: 0.9007 - val_loss: 0.7393 - val_accuracy: 0.7906 - val_sensitivity_at_specificity: 0.9594 - val_specificity_at_sensitivity: 0.9883 - val_recall: 0.7875 - val_precision: 0.8051\n",
      "Epoch 16/150\n",
      "488/488 [==============================] - ETA: 0s - loss: 0.3240 - accuracy: 0.8849 - sensitivity_at_specificity: 0.9970 - specificity_at_sensitivity: 0.9989 - recall: 0.8681 - precision: 0.9012\n",
      "Epoch 16: val_accuracy did not improve from 0.85938\n",
      "488/488 [==============================] - 73s 149ms/step - loss: 0.3240 - accuracy: 0.8849 - sensitivity_at_specificity: 0.9970 - specificity_at_sensitivity: 0.9989 - recall: 0.8681 - precision: 0.9012 - val_loss: 0.5020 - val_accuracy: 0.8156 - val_sensitivity_at_specificity: 0.9875 - val_specificity_at_sensitivity: 0.9961 - val_recall: 0.8125 - val_precision: 0.8333\n",
      "Epoch 17/150\n",
      "488/488 [==============================] - ETA: 0s - loss: 0.3052 - accuracy: 0.8901 - sensitivity_at_specificity: 0.9975 - specificity_at_sensitivity: 0.9991 - recall: 0.8756 - precision: 0.9057\n",
      "Epoch 17: val_accuracy did not improve from 0.85938\n",
      "488/488 [==============================] - 73s 150ms/step - loss: 0.3052 - accuracy: 0.8901 - sensitivity_at_specificity: 0.9975 - specificity_at_sensitivity: 0.9991 - recall: 0.8756 - precision: 0.9057 - val_loss: 0.6060 - val_accuracy: 0.8125 - val_sensitivity_at_specificity: 0.9688 - val_specificity_at_sensitivity: 0.9930 - val_recall: 0.8031 - val_precision: 0.8159\n"
     ]
    }
   ],
   "source": [
    "#Model Execution\n",
    "\n",
    "from keras.callbacks import ModelCheckpoint, EarlyStopping\n",
    "\n",
    "# Initializing Device Specification\n",
    "device_spec = tf.DeviceSpec(job =\"localhost\", replica = 0, device_type = \"GPU\")\n",
    " \n",
    "# Printing the DeviceSpec\n",
    "print('Device Spec: ', device_spec.to_string())\n",
    " \n",
    "# Enabling device logging\n",
    "tf.debugging.set_log_device_placement(True)\n",
    " \n",
    "# Specifying the device\n",
    "with tf.device(device_spec):\n",
    "    \n",
    "#with tf.device('/gpu:10'):\n",
    "    \n",
    "    checkpoint = ModelCheckpoint(\"ECG_Spectrogram_Model.h5\", monitor='val_accuracy', verbose=1, save_best_only=True, save_weights_only=False, mode='auto', period=1)\n",
    "    mycallback=tf.keras.callbacks.EarlyStopping(monitor=\"val_accuracy\", patience=5, mode=\"auto\")\n",
    "    \n",
    "    history = model.fit(\n",
    "          train_data,\n",
    "          #steps_per_epoch=20, \n",
    "          epochs=150,\n",
    "          verbose=1,\n",
    "          validation_data = val_data,\n",
    "          validation_steps=5, \n",
    "          callbacks = [mycallback,checkpoint]\n",
    "    ) "
   ]
  },
  {
   "cell_type": "code",
   "execution_count": 10,
   "metadata": {},
   "outputs": [
    {
     "name": "stdout",
     "output_type": "stream",
     "text": [
      "Training Accuracy:  0.8901172876358032\n",
      "Validation Accuracy:  0.859375\n",
      "Validation Specificity:  0.999218761920929\n",
      "Validation Sensitivity:  0.996874988079071\n",
      "Validation Recall:  0.840624988079071\n",
      "Validation Precision:  0.8677419424057007\n",
      "Validation Loss:  0.3894420862197876\n"
     ]
    }
   ],
   "source": [
    "Training_Accuracy=history.history['accuracy']\n",
    "Validation_Accuracy=history.history['val_accuracy']\n",
    "Validation_Specificity=history.history['val_specificity_at_sensitivity']\n",
    "Validation_Sensitivity=history.history['val_sensitivity_at_specificity']\n",
    "Validation_Recall=history.history['val_recall']\n",
    "Validation_Precision=history.history['val_precision']\n",
    "Validation_Loss=history.history['val_loss']\n",
    "\n",
    "print(\"Training Accuracy: \",max(Training_Accuracy))\n",
    "print(\"Validation Accuracy: \",max(Validation_Accuracy))\n",
    "print(\"Validation Specificity: \",max(Validation_Specificity))\n",
    "print(\"Validation Sensitivity: \",max(Validation_Sensitivity))\n",
    "print(\"Validation Recall: \",max(Validation_Recall))\n",
    "print(\"Validation Precision: \",max(Validation_Precision))\n",
    "print(\"Validation Loss: \",min(Validation_Loss))"
   ]
  },
  {
   "cell_type": "code",
   "execution_count": 11,
   "metadata": {},
   "outputs": [
    {
     "data": {
      "image/png": "[encoded data removed]",
      "text/plain": [
       "<Figure size 720x432 with 1 Axes>"
      ]
     },
     "metadata": {
      "needs_background": "light"
     },
     "output_type": "display_data"
    }
   ],
   "source": [
    "plt.figure(figsize=(10,6))\n",
    "plt.plot(history.history['accuracy'])\n",
    "plt.plot(history.history['val_accuracy'])\n",
    "plt.title('Model accuracy')\n",
    "plt.ylabel('Accuracy')\n",
    "plt.xlabel('Epoch')\n",
    "plt.legend(['Train', 'Test'], loc='upper left')\n",
    "plt.show()"
   ]
  },
  {
   "cell_type": "code",
   "execution_count": 12,
   "metadata": {},
   "outputs": [
    {
     "data": {
      "image/png": "[encoded data removed]",
      "text/plain": [
       "<Figure size 720x432 with 1 Axes>"
      ]
     },
     "metadata": {
      "needs_background": "light"
     },
     "output_type": "display_data"
    }
   ],
   "source": [
    "plt.figure(figsize=(10,6))\n",
    "plt.plot(history.history['loss'])\n",
    "plt.plot(history.history['val_loss'])\n",
    "plt.title('Model Loss')\n",
    "plt.ylabel('Loss')\n",
    "plt.xlabel('Epoch')\n",
    "plt.legend(['Train', 'Test'], loc='upper left')\n",
    "plt.show()"
   ]
  },
  {
   "cell_type": "code",
   "execution_count": null,
   "metadata": {},
   "outputs": [],
   "source": []
  },
  {
   "cell_type": "code",
   "execution_count": null,
   "metadata": {},
   "outputs": [],
   "source": []
  }
 ],
 "metadata": {
  "accelerator": "GPU",
  "colab": {
   "collapsed_sections": [
    "7e88OLey6Bgd"
   ],
   "provenance": []
  },
  "gpuClass": "standard",
  "kernelspec": {
   "display_name": "Python 3 (ipykernel)",
   "language": "python",
   "name": "python3"
  },
  "language_info": {
   "codemirror_mode": {
    "name": "ipython",
    "version": 3
   },
   "file_extension": ".py",
   "mimetype": "text/x-python",
   "name": "python",
   "nbconvert_exporter": "python",
   "pygments_lexer": "ipython3",
   "version": "3.10.6"
  }
 },
 "nbformat": 4,
 "nbformat_minor": 4
}
