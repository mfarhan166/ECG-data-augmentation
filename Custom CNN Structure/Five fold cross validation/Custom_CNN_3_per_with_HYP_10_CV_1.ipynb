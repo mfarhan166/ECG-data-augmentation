{
 "cells": [
  {
   "cell_type": "markdown",
   "metadata": {
    "id": "SsTzc3oi726u"
   },
   "source": [
    "# **Building a Convolutional Neural Network with Keras**"
   ]
  },
  {
   "cell_type": "code",
   "execution_count": 1,
   "metadata": {},
   "outputs": [
    {
     "name": "stdout",
     "output_type": "stream",
     "text": [
      "2.9.1\n"
     ]
    }
   ],
   "source": [
    "#Tensorflow version\n",
    "\n",
    "import tensorflow as tf\n",
    "print(tf.__version__)"
   ]
  },
  {
   "cell_type": "code",
   "execution_count": 2,
   "metadata": {},
   "outputs": [],
   "source": [
    "#Importing libraries\n",
    "\n",
    "import tensorflow as tf\n",
    "from tensorflow import keras\n",
    "from keras.layers import Input, Conv2D, Dense, Flatten, BatchNormalization, Dropout, MaxPooling2D, GlobalMaxPooling2D\n",
    "from keras.models import Model\n",
    "import matplotlib.pyplot as plt\n",
    "from keras.applications.efficientnet import EfficientNetB0\n",
    "from keras.preprocessing import image\n",
    "#from keras.preprocessing.image import load_img\n",
    "from keras.models import Sequential\n",
    "import numpy as np\n",
    "from tensorflow.keras import regularizers"
   ]
  },
  {
   "cell_type": "code",
   "execution_count": 3,
   "metadata": {},
   "outputs": [],
   "source": [
    "# Cross Validation dataset links\n",
    "\n",
    "#CV-1\n",
    "train_dir=\"/home/ubuntu/From_Laptop/multi-class-NEW/12-Lead_ECG_version_2/DA_version_3/Model_Training/K-Fold Cross Validation/Fold 1/Training/\"\n",
    "val_dir=\"/home/ubuntu/From_Laptop/multi-class-NEW/12-Lead_ECG_version_2/DA_version_3/Model_Training/K-Fold Cross Validation/Fold 1/Validation/\"\n",
    "\n",
    "#CV-2\n",
    "#train_dir=\"/home/ubuntu/From_Laptop/multi-class-NEW/12-Lead_ECG_version_2/DA_version_3/Model_Training/K-Fold Cross Validation/Fold 2/Training/\"\n",
    "#val_dir=\"/home/ubuntu/From_Laptop/multi-class-NEW/12-Lead_ECG_version_2/DA_version_3/Model_Training/K-Fold Cross Validation/Fold 2/Validation/\"\n",
    "\n",
    "#CV-3\n",
    "#train_dir=\"/home/ubuntu/From_Laptop/multi-class-NEW/12-Lead_ECG_version_2/DA_version_3/Model_Training/K-Fold Cross Validation/Fold 3/Training/\"\n",
    "#val_dir=\"/home/ubuntu/From_Laptop/multi-class-NEW/12-Lead_ECG_version_2/DA_version_3/Model_Training/K-Fold Cross Validation/Fold 3/Validation/\"\n",
    "\n",
    "#CV-4\n",
    "#train_dir=\"/home/ubuntu/From_Laptop/multi-class-NEW/12-Lead_ECG_version_2/DA_version_3/Model_Training/K-Fold Cross Validation/Fold 4/Training/\"\n",
    "#val_dir=\"/home/ubuntu/From_Laptop/multi-class-NEW/12-Lead_ECG_version_2/DA_version_3/Model_Training/K-Fold Cross Validation/Fold 4/Validation/\"\n",
    "\n",
    "#CV-5\n",
    "#train_dir=\"/home/ubuntu/From_Laptop/multi-class-NEW/12-Lead_ECG_version_2/DA_version_3/Model_Training/K-Fold Cross Validation/Fold 5/Training/\"\n",
    "#val_dir=\"/home/ubuntu/From_Laptop/multi-class-NEW/12-Lead_ECG_version_2/DA_version_3/Model_Training/K-Fold Cross Validation/Fold 5/Validation/\""
   ]
  },
  {
   "cell_type": "code",
   "execution_count": 4,
   "metadata": {},
   "outputs": [
    {
     "name": "stdout",
     "output_type": "stream",
     "text": [
      "Found 31206 files belonging to 5 classes.\n"
     ]
    },
    {
     "name": "stderr",
     "output_type": "stream",
     "text": [
      "2023-03-24 08:57:23.798565: I tensorflow/stream_executor/cuda/cuda_gpu_executor.cc:975] successful NUMA node read from SysFS had negative value (-1), but there must be at least one NUMA node, so returning NUMA node zero\n",
      "2023-03-24 08:57:23.819669: I tensorflow/stream_executor/cuda/cuda_gpu_executor.cc:975] successful NUMA node read from SysFS had negative value (-1), but there must be at least one NUMA node, so returning NUMA node zero\n",
      "2023-03-24 08:57:23.819993: I tensorflow/stream_executor/cuda/cuda_gpu_executor.cc:975] successful NUMA node read from SysFS had negative value (-1), but there must be at least one NUMA node, so returning NUMA node zero\n",
      "2023-03-24 08:57:23.820496: I tensorflow/core/platform/cpu_feature_guard.cc:193] This TensorFlow binary is optimized with oneAPI Deep Neural Network Library (oneDNN) to use the following CPU instructions in performance-critical operations:  AVX2 FMA\n",
      "To enable them in other operations, rebuild TensorFlow with the appropriate compiler flags.\n",
      "2023-03-24 08:57:23.820906: I tensorflow/stream_executor/cuda/cuda_gpu_executor.cc:975] successful NUMA node read from SysFS had negative value (-1), but there must be at least one NUMA node, so returning NUMA node zero\n",
      "2023-03-24 08:57:23.821184: I tensorflow/stream_executor/cuda/cuda_gpu_executor.cc:975] successful NUMA node read from SysFS had negative value (-1), but there must be at least one NUMA node, so returning NUMA node zero\n",
      "2023-03-24 08:57:23.821351: I tensorflow/stream_executor/cuda/cuda_gpu_executor.cc:975] successful NUMA node read from SysFS had negative value (-1), but there must be at least one NUMA node, so returning NUMA node zero\n",
      "2023-03-24 08:57:24.229702: I tensorflow/stream_executor/cuda/cuda_gpu_executor.cc:975] successful NUMA node read from SysFS had negative value (-1), but there must be at least one NUMA node, so returning NUMA node zero\n",
      "2023-03-24 08:57:24.229887: I tensorflow/stream_executor/cuda/cuda_gpu_executor.cc:975] successful NUMA node read from SysFS had negative value (-1), but there must be at least one NUMA node, so returning NUMA node zero\n",
      "2023-03-24 08:57:24.230028: I tensorflow/stream_executor/cuda/cuda_gpu_executor.cc:975] successful NUMA node read from SysFS had negative value (-1), but there must be at least one NUMA node, so returning NUMA node zero\n",
      "2023-03-24 08:57:24.230141: I tensorflow/core/common_runtime/gpu/gpu_device.cc:1532] Created device /job:localhost/replica:0/task:0/device:GPU:0 with 7380 MB memory:  -> device: 0, name: NVIDIA GeForce GTX 1080, pci bus id: 0000:00:05.0, compute capability: 6.1\n"
     ]
    },
    {
     "name": "stdout",
     "output_type": "stream",
     "text": [
      "Found 7787 files belonging to 5 classes.\n"
     ]
    }
   ],
   "source": [
    "from tensorflow.keras import layers\n",
    "\n",
    "train_data = tf.keras.preprocessing.image_dataset_from_directory(directory=train_dir,\n",
    "                                                                 image_size=(256,256),\n",
    "                                                                 label_mode='categorical', batch_size=64, \n",
    "                                                                 )\n",
    "val_data = tf.keras.preprocessing.image_dataset_from_directory(directory=val_dir,\n",
    "                                                                 image_size=(256,256),\n",
    "                                                                 label_mode='categorical', batch_size=64,\n",
    "                                                                )"
   ]
  },
  {
   "cell_type": "code",
   "execution_count": 5,
   "metadata": {},
   "outputs": [],
   "source": [
    "#Normalization of the data\n",
    "\n",
    "nrmzln_layer = layers.experimental.preprocessing.Rescaling(1./255)\n",
    "\n",
    "train_data = train_data.map(lambda x,\n",
    "                          y: (nrmzln_layer(x), y))\n",
    "\n",
    "val_data = val_data.map(lambda x,\n",
    "                          y: (nrmzln_layer(x), y))"
   ]
  },
  {
   "cell_type": "code",
   "execution_count": 6,
   "metadata": {},
   "outputs": [],
   "source": [
    "#Custom Model Architecture\n",
    "\n",
    "from keras.layers import LeakyReLU\n",
    "model = tf.keras.models.Sequential([\n",
    "                                    \n",
    "    # First convolution layer \n",
    "    tf.keras.layers.Conv2D(32, 3, activation=LeakyReLU(alpha=0.01),padding=\"same\", input_shape=(256, 256, 3),use_bias=True),\n",
    "    tf.keras.layers.MaxPooling2D(2, 2),\n",
    "    tf.keras.layers.Dropout(0.50),\n",
    "    \n",
    "\n",
    "    # Second convolution layer \n",
    "    tf.keras.layers.Conv2D(64, 3, activation=LeakyReLU(alpha=0.01),padding=\"same\",use_bias=True),\n",
    "    tf.keras.layers.MaxPooling2D(2,2),\n",
    "    BatchNormalization(),\n",
    "    tf.keras.layers.Dropout(0.25),\n",
    "\n",
    "    \n",
    "    # Third convolution layer  \n",
    "    tf.keras.layers.Conv2D(128, 2, activation=LeakyReLU(alpha=0.01),padding=\"same\",use_bias=True),\n",
    "    tf.keras.layers.MaxPooling2D(2,2),\n",
    "    BatchNormalization(),\n",
    "    tf.keras.layers.Dropout(0.15),\n",
    "\n",
    "    # Fourth convolution layer \n",
    "    tf.keras.layers.Conv2D(64, 1, activation=LeakyReLU(alpha=0.01),padding=\"same\",use_bias=True),\n",
    "    tf.keras.layers.MaxPooling2D(2,2),\n",
    "    tf.keras.layers.Dropout(0.10),\n",
    "\n",
    "    # Flatten the pooled feature maps\n",
    "    tf.keras.layers.Flatten(),\n",
    "\n",
    "    # Fully connected hidden layer\n",
    "    tf.keras.layers.Dense(96, activation=LeakyReLU(alpha=0.01),use_bias=True),\n",
    "\n",
    "    # Output layer\n",
    "    tf.keras.layers.Dense(5, activation='softmax',activity_regularizer=regularizers.L2(0.001))  \n",
    "\n",
    "])\n"
   ]
  },
  {
   "cell_type": "code",
   "execution_count": 7,
   "metadata": {},
   "outputs": [
    {
     "name": "stdout",
     "output_type": "stream",
     "text": [
      "Model: \"sequential\"\n",
      "_________________________________________________________________\n",
      " Layer (type)                Output Shape              Param #   \n",
      "=================================================================\n",
      " conv2d (Conv2D)             (None, 256, 256, 32)      896       \n",
      "                                                                 \n",
      " max_pooling2d (MaxPooling2D  (None, 128, 128, 32)     0         \n",
      " )                                                               \n",
      "                                                                 \n",
      " dropout (Dropout)           (None, 128, 128, 32)      0         \n",
      "                                                                 \n",
      " conv2d_1 (Conv2D)           (None, 128, 128, 64)      18496     \n",
      "                                                                 \n",
      " max_pooling2d_1 (MaxPooling  (None, 64, 64, 64)       0         \n",
      " 2D)                                                             \n",
      "                                                                 \n",
      " batch_normalization (BatchN  (None, 64, 64, 64)       256       \n",
      " ormalization)                                                   \n",
      "                                                                 \n",
      " dropout_1 (Dropout)         (None, 64, 64, 64)        0         \n",
      "                                                                 \n",
      " conv2d_2 (Conv2D)           (None, 64, 64, 128)       32896     \n",
      "                                                                 \n",
      " max_pooling2d_2 (MaxPooling  (None, 32, 32, 128)      0         \n",
      " 2D)                                                             \n",
      "                                                                 \n",
      " batch_normalization_1 (Batc  (None, 32, 32, 128)      512       \n",
      " hNormalization)                                                 \n",
      "                                                                 \n",
      " dropout_2 (Dropout)         (None, 32, 32, 128)       0         \n",
      "                                                                 \n",
      " conv2d_3 (Conv2D)           (None, 32, 32, 64)        8256      \n",
      "                                                                 \n",
      " max_pooling2d_3 (MaxPooling  (None, 16, 16, 64)       0         \n",
      " 2D)                                                             \n",
      "                                                                 \n",
      " dropout_3 (Dropout)         (None, 16, 16, 64)        0         \n",
      "                                                                 \n",
      " flatten (Flatten)           (None, 16384)             0         \n",
      "                                                                 \n",
      " dense (Dense)               (None, 96)                1572960   \n",
      "                                                                 \n",
      " dense_1 (Dense)             (None, 5)                 485       \n",
      "                                                                 \n",
      "=================================================================\n",
      "Total params: 1,634,757\n",
      "Trainable params: 1,634,373\n",
      "Non-trainable params: 384\n",
      "_________________________________________________________________\n"
     ]
    }
   ],
   "source": [
    "#print model summary\n",
    "\n",
    "model.summary()"
   ]
  },
  {
   "cell_type": "code",
   "execution_count": 8,
   "metadata": {},
   "outputs": [],
   "source": [
    "#Performance evaluation Metrics delcaration \n",
    "\n",
    "from tensorflow.keras.optimizers import Adam\n",
    "from tensorflow.keras.metrics import SensitivityAtSpecificity,SpecificityAtSensitivity,Recall,Precision\n",
    "\n",
    "model.compile(loss=tf.losses.categorical_crossentropy,\n",
    "              optimizer=Adam(learning_rate=0.001),\n",
    "              metrics=['accuracy',SensitivityAtSpecificity(0.5),SpecificityAtSensitivity(0.5),Recall(0.5),Precision(0.5)]) \n"
   ]
  },
  {
   "cell_type": "code",
   "execution_count": 9,
   "metadata": {},
   "outputs": [
    {
     "name": "stdout",
     "output_type": "stream",
     "text": [
      "Device Spec:  /job:localhost/replica:0/device:GPU:*\n",
      "WARNING:tensorflow:`period` argument is deprecated. Please use `save_freq` to specify the frequency in number of batches seen.\n",
      "Epoch 1/150\n"
     ]
    },
    {
     "name": "stderr",
     "output_type": "stream",
     "text": [
      "2023-03-24 08:57:31.583136: I tensorflow/stream_executor/cuda/cuda_dnn.cc:384] Loaded cuDNN version 8100\n",
      "2023-03-24 08:57:31.862993: I tensorflow/core/platform/default/subprocess.cc:304] Start cannot spawn child process: No such file or directory\n"
     ]
    },
    {
     "name": "stdout",
     "output_type": "stream",
     "text": [
      "488/488 [==============================] - ETA: 0s - loss: 2.2049 - accuracy: 0.2757 - sensitivity_at_specificity: 0.6463 - specificity_at_sensitivity: 0.6274 - recall: 0.0309 - precision: 0.3673\n",
      "Epoch 1: val_accuracy improved from -inf to 0.16250, saving model to ECG_Spectrogram_Model.h5\n",
      "488/488 [==============================] - 76s 149ms/step - loss: 2.2049 - accuracy: 0.2757 - sensitivity_at_specificity: 0.6463 - specificity_at_sensitivity: 0.6274 - recall: 0.0309 - precision: 0.3673 - val_loss: 6.9618 - val_accuracy: 0.1625 - val_sensitivity_at_specificity: 0.3625 - val_specificity_at_sensitivity: 0.0000e+00 - val_recall: 0.1625 - val_precision: 0.1625\n",
      "Epoch 2/150\n",
      "488/488 [==============================] - ETA: 0s - loss: 1.0189 - accuracy: 0.5872 - sensitivity_at_specificity: 0.9513 - specificity_at_sensitivity: 0.9346 - recall: 0.3813 - precision: 0.7512\n",
      "Epoch 2: val_accuracy improved from 0.16250 to 0.23750, saving model to ECG_Spectrogram_Model.h5\n",
      "488/488 [==============================] - 72s 148ms/step - loss: 1.0189 - accuracy: 0.5872 - sensitivity_at_specificity: 0.9513 - specificity_at_sensitivity: 0.9346 - recall: 0.3813 - precision: 0.7512 - val_loss: 3.8092 - val_accuracy: 0.2375 - val_sensitivity_at_specificity: 0.6156 - val_specificity_at_sensitivity: 0.5781 - val_recall: 0.2344 - val_precision: 0.2451\n",
      "Epoch 3/150\n",
      "488/488 [==============================] - ETA: 0s - loss: 0.7772 - accuracy: 0.6988 - sensitivity_at_specificity: 0.9883 - specificity_at_sensitivity: 0.9746 - recall: 0.5886 - precision: 0.7831\n",
      "Epoch 3: val_accuracy improved from 0.23750 to 0.53750, saving model to ECG_Spectrogram_Model.h5\n",
      "488/488 [==============================] - 73s 149ms/step - loss: 0.7772 - accuracy: 0.6988 - sensitivity_at_specificity: 0.9883 - specificity_at_sensitivity: 0.9746 - recall: 0.5886 - precision: 0.7831 - val_loss: 1.0923 - val_accuracy: 0.5375 - val_sensitivity_at_specificity: 0.9844 - val_specificity_at_sensitivity: 0.9102 - val_recall: 0.4906 - val_precision: 0.5992\n",
      "Epoch 4/150\n",
      "488/488 [==============================] - ETA: 0s - loss: 0.6654 - accuracy: 0.7480 - sensitivity_at_specificity: 0.9926 - specificity_at_sensitivity: 0.9859 - recall: 0.6733 - precision: 0.8063\n",
      "Epoch 4: val_accuracy improved from 0.53750 to 0.75000, saving model to ECG_Spectrogram_Model.h5\n",
      "488/488 [==============================] - 73s 150ms/step - loss: 0.6654 - accuracy: 0.7480 - sensitivity_at_specificity: 0.9926 - specificity_at_sensitivity: 0.9859 - recall: 0.6733 - precision: 0.8063 - val_loss: 0.6886 - val_accuracy: 0.7500 - val_sensitivity_at_specificity: 0.9875 - val_specificity_at_sensitivity: 0.9875 - val_recall: 0.6375 - val_precision: 0.8127\n",
      "Epoch 5/150\n",
      "488/488 [==============================] - ETA: 0s - loss: 0.6005 - accuracy: 0.7766 - sensitivity_at_specificity: 0.9924 - specificity_at_sensitivity: 0.9903 - recall: 0.7220 - precision: 0.8261\n",
      "Epoch 5: val_accuracy improved from 0.75000 to 0.79062, saving model to ECG_Spectrogram_Model.h5\n",
      "488/488 [==============================] - 73s 150ms/step - loss: 0.6005 - accuracy: 0.7766 - sensitivity_at_specificity: 0.9924 - specificity_at_sensitivity: 0.9903 - recall: 0.7220 - precision: 0.8261 - val_loss: 0.6809 - val_accuracy: 0.7906 - val_sensitivity_at_specificity: 0.9875 - val_specificity_at_sensitivity: 0.9844 - val_recall: 0.7344 - val_precision: 0.8304\n",
      "Epoch 6/150\n",
      "488/488 [==============================] - ETA: 0s - loss: 0.5209 - accuracy: 0.8107 - sensitivity_at_specificity: 0.9948 - specificity_at_sensitivity: 0.9936 - recall: 0.7681 - precision: 0.8494\n",
      "Epoch 6: val_accuracy did not improve from 0.79062\n",
      "488/488 [==============================] - 73s 149ms/step - loss: 0.5209 - accuracy: 0.8107 - sensitivity_at_specificity: 0.9948 - specificity_at_sensitivity: 0.9936 - recall: 0.7681 - precision: 0.8494 - val_loss: 0.6381 - val_accuracy: 0.7719 - val_sensitivity_at_specificity: 0.9906 - val_specificity_at_sensitivity: 0.9898 - val_recall: 0.7437 - val_precision: 0.8179\n",
      "Epoch 7/150\n",
      "488/488 [==============================] - ETA: 0s - loss: 0.4654 - accuracy: 0.8338 - sensitivity_at_specificity: 0.9964 - specificity_at_sensitivity: 0.9957 - recall: 0.8010 - precision: 0.8641\n",
      "Epoch 7: val_accuracy improved from 0.79062 to 0.80625, saving model to ECG_Spectrogram_Model.h5\n",
      "488/488 [==============================] - 73s 150ms/step - loss: 0.4654 - accuracy: 0.8338 - sensitivity_at_specificity: 0.9964 - specificity_at_sensitivity: 0.9957 - recall: 0.8010 - precision: 0.8641 - val_loss: 0.5138 - val_accuracy: 0.8062 - val_sensitivity_at_specificity: 0.9937 - val_specificity_at_sensitivity: 0.9953 - val_recall: 0.7906 - val_precision: 0.8268\n",
      "Epoch 8/150\n",
      "488/488 [==============================] - ETA: 0s - loss: 0.4277 - accuracy: 0.8483 - sensitivity_at_specificity: 0.9963 - specificity_at_sensitivity: 0.9967 - recall: 0.8203 - precision: 0.8739\n",
      "Epoch 8: val_accuracy did not improve from 0.80625\n",
      "488/488 [==============================] - 73s 149ms/step - loss: 0.4277 - accuracy: 0.8483 - sensitivity_at_specificity: 0.9963 - specificity_at_sensitivity: 0.9967 - recall: 0.8203 - precision: 0.8739 - val_loss: 0.5238 - val_accuracy: 0.7812 - val_sensitivity_at_specificity: 0.9969 - val_specificity_at_sensitivity: 0.9937 - val_recall: 0.7688 - val_precision: 0.8039\n",
      "Epoch 9/150\n",
      "488/488 [==============================] - ETA: 0s - loss: 0.3993 - accuracy: 0.8575 - sensitivity_at_specificity: 0.9965 - specificity_at_sensitivity: 0.9976 - recall: 0.8328 - precision: 0.8803\n",
      "Epoch 9: val_accuracy did not improve from 0.80625\n",
      "488/488 [==============================] - 73s 149ms/step - loss: 0.3993 - accuracy: 0.8575 - sensitivity_at_specificity: 0.9965 - specificity_at_sensitivity: 0.9976 - recall: 0.8328 - precision: 0.8803 - val_loss: 0.7357 - val_accuracy: 0.7937 - val_sensitivity_at_specificity: 0.9719 - val_specificity_at_sensitivity: 0.9836 - val_recall: 0.7875 - val_precision: 0.8103\n",
      "Epoch 10/150\n",
      "488/488 [==============================] - ETA: 0s - loss: 0.3759 - accuracy: 0.8680 - sensitivity_at_specificity: 0.9970 - specificity_at_sensitivity: 0.9980 - recall: 0.8468 - precision: 0.8879\n",
      "Epoch 10: val_accuracy did not improve from 0.80625\n",
      "488/488 [==============================] - 73s 149ms/step - loss: 0.3759 - accuracy: 0.8680 - sensitivity_at_specificity: 0.9970 - specificity_at_sensitivity: 0.9980 - recall: 0.8468 - precision: 0.8879 - val_loss: 0.4879 - val_accuracy: 0.8062 - val_sensitivity_at_specificity: 0.9906 - val_specificity_at_sensitivity: 0.9945 - val_recall: 0.7937 - val_precision: 0.8274\n",
      "Epoch 11/150\n",
      "488/488 [==============================] - ETA: 0s - loss: 0.3632 - accuracy: 0.8711 - sensitivity_at_specificity: 0.9970 - specificity_at_sensitivity: 0.9982 - recall: 0.8515 - precision: 0.8905\n",
      "Epoch 11: val_accuracy improved from 0.80625 to 0.85000, saving model to ECG_Spectrogram_Model.h5\n",
      "488/488 [==============================] - 73s 150ms/step - loss: 0.3632 - accuracy: 0.8711 - sensitivity_at_specificity: 0.9970 - specificity_at_sensitivity: 0.9982 - recall: 0.8515 - precision: 0.8905 - val_loss: 0.4923 - val_accuracy: 0.8500 - val_sensitivity_at_specificity: 0.9812 - val_specificity_at_sensitivity: 0.9953 - val_recall: 0.8500 - val_precision: 0.8553\n",
      "Epoch 12/150\n",
      "488/488 [==============================] - ETA: 0s - loss: 0.3424 - accuracy: 0.8788 - sensitivity_at_specificity: 0.9974 - specificity_at_sensitivity: 0.9984 - recall: 0.8613 - precision: 0.8967\n",
      "Epoch 12: val_accuracy did not improve from 0.85000\n",
      "488/488 [==============================] - 73s 149ms/step - loss: 0.3424 - accuracy: 0.8788 - sensitivity_at_specificity: 0.9974 - specificity_at_sensitivity: 0.9984 - recall: 0.8613 - precision: 0.8967 - val_loss: 0.4603 - val_accuracy: 0.8500 - val_sensitivity_at_specificity: 0.9844 - val_specificity_at_sensitivity: 0.9953 - val_recall: 0.8500 - val_precision: 0.8527\n",
      "Epoch 13/150\n",
      "488/488 [==============================] - ETA: 0s - loss: 0.3293 - accuracy: 0.8834 - sensitivity_at_specificity: 0.9971 - specificity_at_sensitivity: 0.9988 - recall: 0.8665 - precision: 0.9008\n",
      "Epoch 13: val_accuracy improved from 0.85000 to 0.85938, saving model to ECG_Spectrogram_Model.h5\n"
     ]
    },
    {
     "name": "stdout",
     "output_type": "stream",
     "text": [
      "488/488 [==============================] - 73s 149ms/step - loss: 0.3293 - accuracy: 0.8834 - sensitivity_at_specificity: 0.9971 - specificity_at_sensitivity: 0.9988 - recall: 0.8665 - precision: 0.9008 - val_loss: 0.4731 - val_accuracy: 0.8594 - val_sensitivity_at_specificity: 0.9812 - val_specificity_at_sensitivity: 0.9930 - val_recall: 0.8500 - val_precision: 0.8635\n",
      "Epoch 14/150\n",
      "488/488 [==============================] - ETA: 0s - loss: 0.3167 - accuracy: 0.8864 - sensitivity_at_specificity: 0.9975 - specificity_at_sensitivity: 0.9990 - recall: 0.8708 - precision: 0.9036\n",
      "Epoch 14: val_accuracy did not improve from 0.85938\n",
      "488/488 [==============================] - 73s 149ms/step - loss: 0.3167 - accuracy: 0.8864 - sensitivity_at_specificity: 0.9975 - specificity_at_sensitivity: 0.9990 - recall: 0.8708 - precision: 0.9036 - val_loss: 0.4725 - val_accuracy: 0.8500 - val_sensitivity_at_specificity: 0.9844 - val_specificity_at_sensitivity: 0.9953 - val_recall: 0.8406 - val_precision: 0.8567\n",
      "Epoch 15/150\n",
      "488/488 [==============================] - ETA: 0s - loss: 0.3046 - accuracy: 0.8914 - sensitivity_at_specificity: 0.9972 - specificity_at_sensitivity: 0.9990 - recall: 0.8763 - precision: 0.9065\n",
      "Epoch 15: val_accuracy did not improve from 0.85938\n",
      "488/488 [==============================] - 73s 149ms/step - loss: 0.3046 - accuracy: 0.8914 - sensitivity_at_specificity: 0.9972 - specificity_at_sensitivity: 0.9990 - recall: 0.8763 - precision: 0.9065 - val_loss: 0.5750 - val_accuracy: 0.8344 - val_sensitivity_at_specificity: 0.9688 - val_specificity_at_sensitivity: 0.9961 - val_recall: 0.8313 - val_precision: 0.8418\n",
      "Epoch 16/150\n",
      "488/488 [==============================] - ETA: 0s - loss: 0.2984 - accuracy: 0.8922 - sensitivity_at_specificity: 0.9975 - specificity_at_sensitivity: 0.9992 - recall: 0.8788 - precision: 0.9071\n",
      "Epoch 16: val_accuracy improved from 0.85938 to 0.86250, saving model to ECG_Spectrogram_Model.h5\n",
      "488/488 [==============================] - 73s 149ms/step - loss: 0.2984 - accuracy: 0.8922 - sensitivity_at_specificity: 0.9975 - specificity_at_sensitivity: 0.9992 - recall: 0.8788 - precision: 0.9071 - val_loss: 0.4853 - val_accuracy: 0.8625 - val_sensitivity_at_specificity: 0.9812 - val_specificity_at_sensitivity: 0.9922 - val_recall: 0.8531 - val_precision: 0.8694\n",
      "Epoch 17/150\n",
      "488/488 [==============================] - ETA: 0s - loss: 0.2847 - accuracy: 0.8963 - sensitivity_at_specificity: 0.9974 - specificity_at_sensitivity: 0.9992 - recall: 0.8833 - precision: 0.9111\n",
      "Epoch 17: val_accuracy did not improve from 0.86250\n",
      "488/488 [==============================] - 73s 149ms/step - loss: 0.2847 - accuracy: 0.8963 - sensitivity_at_specificity: 0.9974 - specificity_at_sensitivity: 0.9992 - recall: 0.8833 - precision: 0.9111 - val_loss: 0.8691 - val_accuracy: 0.7844 - val_sensitivity_at_specificity: 0.9531 - val_specificity_at_sensitivity: 0.9844 - val_recall: 0.7781 - val_precision: 0.7905\n",
      "Epoch 18/150\n",
      "488/488 [==============================] - ETA: 0s - loss: 0.2750 - accuracy: 0.9006 - sensitivity_at_specificity: 0.9978 - specificity_at_sensitivity: 0.9993 - recall: 0.8878 - precision: 0.9129\n",
      "Epoch 18: val_accuracy improved from 0.86250 to 0.86875, saving model to ECG_Spectrogram_Model.h5\n",
      "488/488 [==============================] - 73s 149ms/step - loss: 0.2750 - accuracy: 0.9006 - sensitivity_at_specificity: 0.9978 - specificity_at_sensitivity: 0.9993 - recall: 0.8878 - precision: 0.9129 - val_loss: 0.4157 - val_accuracy: 0.8687 - val_sensitivity_at_specificity: 0.9844 - val_specificity_at_sensitivity: 0.9969 - val_recall: 0.8656 - val_precision: 0.8794\n",
      "Epoch 19/150\n",
      "488/488 [==============================] - ETA: 0s - loss: 0.2749 - accuracy: 0.9011 - sensitivity_at_specificity: 0.9978 - specificity_at_sensitivity: 0.9994 - recall: 0.8889 - precision: 0.9134\n",
      "Epoch 19: val_accuracy did not improve from 0.86875\n",
      "488/488 [==============================] - 73s 149ms/step - loss: 0.2749 - accuracy: 0.9011 - sensitivity_at_specificity: 0.9978 - specificity_at_sensitivity: 0.9994 - recall: 0.8889 - precision: 0.9134 - val_loss: 0.3567 - val_accuracy: 0.8687 - val_sensitivity_at_specificity: 0.9906 - val_specificity_at_sensitivity: 0.9992 - val_recall: 0.8656 - val_precision: 0.8738\n",
      "Epoch 20/150\n",
      "488/488 [==============================] - ETA: 0s - loss: 0.2625 - accuracy: 0.9043 - sensitivity_at_specificity: 0.9979 - specificity_at_sensitivity: 0.9993 - recall: 0.8941 - precision: 0.9170\n",
      "Epoch 20: val_accuracy improved from 0.86875 to 0.88750, saving model to ECG_Spectrogram_Model.h5\n",
      "488/488 [==============================] - 73s 149ms/step - loss: 0.2625 - accuracy: 0.9043 - sensitivity_at_specificity: 0.9979 - specificity_at_sensitivity: 0.9993 - recall: 0.8941 - precision: 0.9170 - val_loss: 0.3466 - val_accuracy: 0.8875 - val_sensitivity_at_specificity: 0.9937 - val_specificity_at_sensitivity: 0.9977 - val_recall: 0.8844 - val_precision: 0.8956\n",
      "Epoch 21/150\n",
      "488/488 [==============================] - ETA: 0s - loss: 0.2523 - accuracy: 0.9089 - sensitivity_at_specificity: 0.9982 - specificity_at_sensitivity: 0.9996 - recall: 0.8986 - precision: 0.9199\n",
      "Epoch 21: val_accuracy did not improve from 0.88750\n",
      "488/488 [==============================] - 73s 150ms/step - loss: 0.2523 - accuracy: 0.9089 - sensitivity_at_specificity: 0.9982 - specificity_at_sensitivity: 0.9996 - recall: 0.8986 - precision: 0.9199 - val_loss: 0.3670 - val_accuracy: 0.8844 - val_sensitivity_at_specificity: 0.9937 - val_specificity_at_sensitivity: 0.9953 - val_recall: 0.8813 - val_precision: 0.8896\n",
      "Epoch 22/150\n",
      "488/488 [==============================] - ETA: 0s - loss: 0.2493 - accuracy: 0.9092 - sensitivity_at_specificity: 0.9982 - specificity_at_sensitivity: 0.9995 - recall: 0.8995 - precision: 0.9203\n",
      "Epoch 22: val_accuracy did not improve from 0.88750\n",
      "488/488 [==============================] - 73s 150ms/step - loss: 0.2493 - accuracy: 0.9092 - sensitivity_at_specificity: 0.9982 - specificity_at_sensitivity: 0.9995 - recall: 0.8995 - precision: 0.9203 - val_loss: 0.4841 - val_accuracy: 0.8469 - val_sensitivity_at_specificity: 0.9875 - val_specificity_at_sensitivity: 0.9953 - val_recall: 0.8406 - val_precision: 0.8594\n",
      "Epoch 23/150\n",
      "488/488 [==============================] - ETA: 0s - loss: 0.2391 - accuracy: 0.9124 - sensitivity_at_specificity: 0.9984 - specificity_at_sensitivity: 0.9995 - recall: 0.9034 - precision: 0.9233\n",
      "Epoch 23: val_accuracy did not improve from 0.88750\n",
      "488/488 [==============================] - 73s 150ms/step - loss: 0.2391 - accuracy: 0.9124 - sensitivity_at_specificity: 0.9984 - specificity_at_sensitivity: 0.9995 - recall: 0.9034 - precision: 0.9233 - val_loss: 0.4039 - val_accuracy: 0.8719 - val_sensitivity_at_specificity: 0.9844 - val_specificity_at_sensitivity: 0.9992 - val_recall: 0.8687 - val_precision: 0.8825\n",
      "Epoch 24/150\n",
      "488/488 [==============================] - ETA: 0s - loss: 0.2312 - accuracy: 0.9143 - sensitivity_at_specificity: 0.9984 - specificity_at_sensitivity: 0.9996 - recall: 0.9056 - precision: 0.9246\n",
      "Epoch 24: val_accuracy improved from 0.88750 to 0.90000, saving model to ECG_Spectrogram_Model.h5\n",
      "488/488 [==============================] - 74s 151ms/step - loss: 0.2312 - accuracy: 0.9143 - sensitivity_at_specificity: 0.9984 - specificity_at_sensitivity: 0.9996 - recall: 0.9056 - precision: 0.9246 - val_loss: 0.3110 - val_accuracy: 0.9000 - val_sensitivity_at_specificity: 0.9906 - val_specificity_at_sensitivity: 0.9992 - val_recall: 0.8938 - val_precision: 0.9022\n",
      "Epoch 25/150\n",
      "488/488 [==============================] - ETA: 0s - loss: 0.2299 - accuracy: 0.9154 - sensitivity_at_specificity: 0.9984 - specificity_at_sensitivity: 0.9997 - recall: 0.9065 - precision: 0.9258\n",
      "Epoch 25: val_accuracy improved from 0.90000 to 0.90312, saving model to ECG_Spectrogram_Model.h5\n",
      "488/488 [==============================] - 74s 151ms/step - loss: 0.2299 - accuracy: 0.9154 - sensitivity_at_specificity: 0.9984 - specificity_at_sensitivity: 0.9997 - recall: 0.9065 - precision: 0.9258 - val_loss: 0.3118 - val_accuracy: 0.9031 - val_sensitivity_at_specificity: 0.9937 - val_specificity_at_sensitivity: 0.9992 - val_recall: 0.8969 - val_precision: 0.9054\n"
     ]
    },
    {
     "name": "stdout",
     "output_type": "stream",
     "text": [
      "Epoch 26/150\n",
      "488/488 [==============================] - ETA: 0s - loss: 0.2133 - accuracy: 0.9203 - sensitivity_at_specificity: 0.9985 - specificity_at_sensitivity: 0.9997 - recall: 0.9121 - precision: 0.9283\n",
      "Epoch 26: val_accuracy improved from 0.90312 to 0.90625, saving model to ECG_Spectrogram_Model.h5\n",
      "488/488 [==============================] - 73s 150ms/step - loss: 0.2133 - accuracy: 0.9203 - sensitivity_at_specificity: 0.9985 - specificity_at_sensitivity: 0.9997 - recall: 0.9121 - precision: 0.9283 - val_loss: 0.3373 - val_accuracy: 0.9062 - val_sensitivity_at_specificity: 0.9906 - val_specificity_at_sensitivity: 0.9984 - val_recall: 0.9062 - val_precision: 0.9119\n",
      "Epoch 27/150\n",
      "488/488 [==============================] - ETA: 0s - loss: 0.2054 - accuracy: 0.9250 - sensitivity_at_specificity: 0.9986 - specificity_at_sensitivity: 0.9998 - recall: 0.9170 - precision: 0.9334\n",
      "Epoch 27: val_accuracy did not improve from 0.90625\n",
      "488/488 [==============================] - 73s 149ms/step - loss: 0.2054 - accuracy: 0.9250 - sensitivity_at_specificity: 0.9986 - specificity_at_sensitivity: 0.9998 - recall: 0.9170 - precision: 0.9334 - val_loss: 0.2553 - val_accuracy: 0.9031 - val_sensitivity_at_specificity: 1.0000 - val_specificity_at_sensitivity: 1.0000 - val_recall: 0.9000 - val_precision: 0.9057\n",
      "Epoch 28/150\n",
      "488/488 [==============================] - ETA: 0s - loss: 0.1978 - accuracy: 0.9262 - sensitivity_at_specificity: 0.9989 - specificity_at_sensitivity: 0.9997 - recall: 0.9194 - precision: 0.9335\n",
      "Epoch 28: val_accuracy did not improve from 0.90625\n",
      "488/488 [==============================] - 73s 150ms/step - loss: 0.1978 - accuracy: 0.9262 - sensitivity_at_specificity: 0.9989 - specificity_at_sensitivity: 0.9997 - recall: 0.9194 - precision: 0.9335 - val_loss: 0.3261 - val_accuracy: 0.8969 - val_sensitivity_at_specificity: 0.9937 - val_specificity_at_sensitivity: 0.9992 - val_recall: 0.8938 - val_precision: 0.8994\n",
      "Epoch 29/150\n",
      "488/488 [==============================] - ETA: 0s - loss: 0.1931 - accuracy: 0.9294 - sensitivity_at_specificity: 0.9985 - specificity_at_sensitivity: 0.9998 - recall: 0.9221 - precision: 0.9367\n",
      "Epoch 29: val_accuracy did not improve from 0.90625\n",
      "488/488 [==============================] - 73s 150ms/step - loss: 0.1931 - accuracy: 0.9294 - sensitivity_at_specificity: 0.9985 - specificity_at_sensitivity: 0.9998 - recall: 0.9221 - precision: 0.9367 - val_loss: 0.3083 - val_accuracy: 0.8906 - val_sensitivity_at_specificity: 0.9875 - val_specificity_at_sensitivity: 0.9977 - val_recall: 0.8906 - val_precision: 0.8991\n",
      "Epoch 30/150\n",
      "488/488 [==============================] - ETA: 0s - loss: 0.1906 - accuracy: 0.9302 - sensitivity_at_specificity: 0.9985 - specificity_at_sensitivity: 0.9997 - recall: 0.9237 - precision: 0.9380\n",
      "Epoch 30: val_accuracy did not improve from 0.90625\n",
      "488/488 [==============================] - 73s 150ms/step - loss: 0.1906 - accuracy: 0.9302 - sensitivity_at_specificity: 0.9985 - specificity_at_sensitivity: 0.9997 - recall: 0.9237 - precision: 0.9380 - val_loss: 0.3672 - val_accuracy: 0.8906 - val_sensitivity_at_specificity: 0.9937 - val_specificity_at_sensitivity: 0.9992 - val_recall: 0.8875 - val_precision: 0.8959\n",
      "Epoch 31/150\n",
      "488/488 [==============================] - ETA: 0s - loss: 0.1764 - accuracy: 0.9341 - sensitivity_at_specificity: 0.9987 - specificity_at_sensitivity: 0.9998 - recall: 0.9286 - precision: 0.9409\n",
      "Epoch 31: val_accuracy did not improve from 0.90625\n",
      "488/488 [==============================] - 73s 149ms/step - loss: 0.1764 - accuracy: 0.9341 - sensitivity_at_specificity: 0.9987 - specificity_at_sensitivity: 0.9998 - recall: 0.9286 - precision: 0.9409 - val_loss: 0.3690 - val_accuracy: 0.8938 - val_sensitivity_at_specificity: 0.9781 - val_specificity_at_sensitivity: 0.9977 - val_recall: 0.8938 - val_precision: 0.9022\n"
     ]
    }
   ],
   "source": [
    "#Model Execution\n",
    "\n",
    "from keras.callbacks import ModelCheckpoint, EarlyStopping\n",
    "\n",
    "# Initializing Device Specification\n",
    "device_spec = tf.DeviceSpec(job =\"localhost\", replica = 0, device_type = \"GPU\")\n",
    " \n",
    "# Printing the DeviceSpec\n",
    "print('Device Spec: ', device_spec.to_string())\n",
    " \n",
    "# Enabling device logging\n",
    "tf.debugging.set_log_device_placement(True)\n",
    " \n",
    "# Specifying the device\n",
    "with tf.device(device_spec):\n",
    "    \n",
    "#with tf.device('/gpu:10'):\n",
    "    \n",
    "    checkpoint = ModelCheckpoint(\"ECG_Spectrogram_Model.h5\", monitor='val_accuracy', verbose=1, save_best_only=True, save_weights_only=False, mode='auto', period=1)\n",
    "    mycallback=tf.keras.callbacks.EarlyStopping(monitor=\"val_accuracy\", patience=5, mode=\"auto\")\n",
    "    \n",
    "    history = model.fit(\n",
    "          train_data,\n",
    "          #steps_per_epoch=20, \n",
    "          epochs=150,\n",
    "          verbose=1,\n",
    "          validation_data = val_data,\n",
    "          validation_steps=5, \n",
    "          callbacks = [mycallback,checkpoint]\n",
    "    ) "
   ]
  },
  {
   "cell_type": "code",
   "execution_count": 15,
   "metadata": {},
   "outputs": [
    {
     "name": "stdout",
     "output_type": "stream",
     "text": [
      "Training Accuracy:  0.934147298336029\n",
      "Validation Accuracy:  0.90625\n",
      "Validation Specificity:  1.0\n",
      "Validation Sensitivity:  1.0\n",
      "Validation Recall:  0.90625\n",
      "Validation Precision:  0.9119496941566467\n",
      "Validation Loss:  0.2553045153617859\n"
     ]
    }
   ],
   "source": [
    "Training_Accuracy=history.history['accuracy']\n",
    "Validation_Accuracy=history.history['val_accuracy']\n",
    "Validation_Specificity=history.history['val_specificity_at_sensitivity']\n",
    "Validation_Sensitivity=history.history['val_sensitivity_at_specificity']\n",
    "Validation_Recall=history.history['val_recall']\n",
    "Validation_Precision=history.history['val_precision']\n",
    "Validation_Loss=history.history['val_loss']\n",
    "\n",
    "print(\"Training Accuracy: \",max(Training_Accuracy))\n",
    "print(\"Validation Accuracy: \",max(Validation_Accuracy))\n",
    "print(\"Validation Specificity: \",max(Validation_Specificity))\n",
    "print(\"Validation Sensitivity: \",max(Validation_Sensitivity))\n",
    "print(\"Validation Recall: \",max(Validation_Recall))\n",
    "print(\"Validation Precision: \",max(Validation_Precision))\n",
    "print(\"Validation Loss: \",min(Validation_Loss))"
   ]
  },
  {
   "cell_type": "code",
   "execution_count": 12,
   "metadata": {},
   "outputs": [
    {
     "data": {
      "image/png": "[encoded data removed]",
      "text/plain": [
       "<Figure size 720x432 with 1 Axes>"
      ]
     },
     "metadata": {
      "needs_background": "light"
     },
     "output_type": "display_data"
    }
   ],
   "source": [
    "plt.figure(figsize=(10,6))\n",
    "plt.plot(history.history['accuracy'])\n",
    "plt.plot(history.history['val_accuracy'])\n",
    "plt.title('Model accuracy')\n",
    "plt.ylabel('Accuracy')\n",
    "plt.xlabel('Epoch')\n",
    "plt.legend(['Train', 'Validation'], loc='upper left')\n",
    "plt.show()"
   ]
  },
  {
   "cell_type": "code",
   "execution_count": 13,
   "metadata": {},
   "outputs": [
    {
     "data": {
      "image/png": "[encoded data removed]",
      "text/plain": [
       "<Figure size 720x432 with 1 Axes>"
      ]
     },
     "metadata": {
      "needs_background": "light"
     },
     "output_type": "display_data"
    }
   ],
   "source": [
    "plt.figure(figsize=(10,6))\n",
    "plt.plot(history.history['loss'])\n",
    "plt.plot(history.history['val_loss'])\n",
    "plt.title('Model Loss')\n",
    "plt.ylabel('Loss')\n",
    "plt.xlabel('Epoch')\n",
    "plt.legend(['Train', 'Validation'], loc='upper left')\n",
    "plt.show()"
   ]
  },
  {
   "cell_type": "code",
   "execution_count": null,
   "metadata": {},
   "outputs": [],
   "source": []
  },
  {
   "cell_type": "code",
   "execution_count": null,
   "metadata": {},
   "outputs": [],
   "source": []
  }
 ],
 "metadata": {
  "accelerator": "GPU",
  "colab": {
   "collapsed_sections": [
    "7e88OLey6Bgd"
   ],
   "provenance": []
  },
  "gpuClass": "standard",
  "kernelspec": {
   "display_name": "Python 3 (ipykernel)",
   "language": "python",
   "name": "python3"
  },
  "language_info": {
   "codemirror_mode": {
    "name": "ipython",
    "version": 3
   },
   "file_extension": ".py",
   "mimetype": "text/x-python",
   "name": "python",
   "nbconvert_exporter": "python",
   "pygments_lexer": "ipython3",
   "version": "3.10.6"
  }
 },
 "nbformat": 4,
 "nbformat_minor": 4
}
