{
 "cells": [
  {
   "cell_type": "markdown",
   "metadata": {
    "id": "SsTzc3oi726u"
   },
   "source": [
    "# **Building a Convolutional Neural Network with Keras**"
   ]
  },
  {
   "cell_type": "code",
   "execution_count": 1,
   "metadata": {},
   "outputs": [
    {
     "name": "stdout",
     "output_type": "stream",
     "text": [
      "2.9.1\n"
     ]
    }
   ],
   "source": [
    "#Tensorflow version\n",
    "\n",
    "import tensorflow as tf\n",
    "print(tf.__version__)"
   ]
  },
  {
   "cell_type": "code",
   "execution_count": 2,
   "metadata": {},
   "outputs": [],
   "source": [
    "#Importing libraries\n",
    "\n",
    "import tensorflow as tf\n",
    "from tensorflow import keras\n",
    "from keras.layers import Input, Conv2D, Dense, Flatten, BatchNormalization, Dropout, MaxPooling2D, GlobalMaxPooling2D\n",
    "from keras.models import Model\n",
    "import matplotlib.pyplot as plt\n",
    "from keras.applications.efficientnet import EfficientNetB0\n",
    "from keras.preprocessing import image\n",
    "#from keras.preprocessing.image import load_img\n",
    "from keras.models import Sequential\n",
    "import numpy as np\n",
    "from tensorflow.keras import regularizers"
   ]
  },
  {
   "cell_type": "code",
   "execution_count": 3,
   "metadata": {},
   "outputs": [],
   "source": [
    "# Original dataset\n",
    "\n",
    "train_dir='/home/ubuntu/From_Laptop/multi-class-NEW/12-Lead_ECG_version_2/DA_version_3/Model_Training/graphs_Original_21836/Training/'\n",
    "val_dir='/home/ubuntu/From_Laptop/multi-class-NEW/12-Lead_ECG_version_2/DA_version_3/Model_Training/graphs_Original_21836/Validation/'\n",
    "\n",
    "#train_dir='/home/ubuntu/From_Laptop/multi-class-NEW/12-Lead_ECG_version_2/denoised_Original_graphs_12_leads/Training/'\n",
    "#val_dir='/home/ubuntu/From_Laptop/multi-class-NEW/12-Lead_ECG_version_2/denoised_Original_graphs_12_leads/Validation/'\n",
    "\n",
    "\n",
    "#17000 samples original dataset\n",
    "#train_dir='/home/ubuntu/From_Laptop/multi-class-NEW/12-Lead_ECG/12-Leads-Graphs/Training/'\n",
    "#val_dir='/home/ubuntu/From_Laptop/multi-class-NEW/12-Lead_ECG/12-Leads-Graphs/Validation/'"
   ]
  },
  {
   "cell_type": "code",
   "execution_count": 4,
   "metadata": {},
   "outputs": [
    {
     "name": "stdout",
     "output_type": "stream",
     "text": [
      "Found 17128 files belonging to 5 classes.\n"
     ]
    },
    {
     "name": "stderr",
     "output_type": "stream",
     "text": [
      "2023-02-08 07:02:25.791747: I tensorflow/stream_executor/cuda/cuda_gpu_executor.cc:975] successful NUMA node read from SysFS had negative value (-1), but there must be at least one NUMA node, so returning NUMA node zero\n",
      "2023-02-08 07:02:25.843848: I tensorflow/stream_executor/cuda/cuda_gpu_executor.cc:975] successful NUMA node read from SysFS had negative value (-1), but there must be at least one NUMA node, so returning NUMA node zero\n",
      "2023-02-08 07:02:25.844185: I tensorflow/stream_executor/cuda/cuda_gpu_executor.cc:975] successful NUMA node read from SysFS had negative value (-1), but there must be at least one NUMA node, so returning NUMA node zero\n",
      "2023-02-08 07:02:25.866238: I tensorflow/core/platform/cpu_feature_guard.cc:193] This TensorFlow binary is optimized with oneAPI Deep Neural Network Library (oneDNN) to use the following CPU instructions in performance-critical operations:  AVX2 FMA\n",
      "To enable them in other operations, rebuild TensorFlow with the appropriate compiler flags.\n",
      "2023-02-08 07:02:25.866679: I tensorflow/stream_executor/cuda/cuda_gpu_executor.cc:975] successful NUMA node read from SysFS had negative value (-1), but there must be at least one NUMA node, so returning NUMA node zero\n",
      "2023-02-08 07:02:25.866965: I tensorflow/stream_executor/cuda/cuda_gpu_executor.cc:975] successful NUMA node read from SysFS had negative value (-1), but there must be at least one NUMA node, so returning NUMA node zero\n",
      "2023-02-08 07:02:25.867132: I tensorflow/stream_executor/cuda/cuda_gpu_executor.cc:975] successful NUMA node read from SysFS had negative value (-1), but there must be at least one NUMA node, so returning NUMA node zero\n",
      "2023-02-08 07:02:26.519853: I tensorflow/stream_executor/cuda/cuda_gpu_executor.cc:975] successful NUMA node read from SysFS had negative value (-1), but there must be at least one NUMA node, so returning NUMA node zero\n",
      "2023-02-08 07:02:26.520054: I tensorflow/stream_executor/cuda/cuda_gpu_executor.cc:975] successful NUMA node read from SysFS had negative value (-1), but there must be at least one NUMA node, so returning NUMA node zero\n",
      "2023-02-08 07:02:26.520211: I tensorflow/stream_executor/cuda/cuda_gpu_executor.cc:975] successful NUMA node read from SysFS had negative value (-1), but there must be at least one NUMA node, so returning NUMA node zero\n",
      "2023-02-08 07:02:26.520343: I tensorflow/core/common_runtime/gpu/gpu_device.cc:1532] Created device /job:localhost/replica:0/task:0/device:GPU:0 with 7380 MB memory:  -> device: 0, name: NVIDIA GeForce GTX 1080, pci bus id: 0000:00:05.0, compute capability: 6.1\n"
     ]
    },
    {
     "name": "stdout",
     "output_type": "stream",
     "text": [
      "Found 4282 files belonging to 5 classes.\n"
     ]
    }
   ],
   "source": [
    "from tensorflow.keras import layers\n",
    "\n",
    "train_data = tf.keras.preprocessing.image_dataset_from_directory(directory=train_dir,\n",
    "                                                                 image_size=(256,256),\n",
    "                                                                 label_mode='categorical', batch_size=64, \n",
    "                                                                 )\n",
    "val_data = tf.keras.preprocessing.image_dataset_from_directory(directory=val_dir,\n",
    "                                                                 image_size=(256,256),\n",
    "                                                                 label_mode='categorical', batch_size=64,\n",
    "                                                                )"
   ]
  },
  {
   "cell_type": "code",
   "execution_count": 5,
   "metadata": {},
   "outputs": [],
   "source": [
    "#Normalization of the data\n",
    "\n",
    "nrmzln_layer = layers.experimental.preprocessing.Rescaling(1./255)\n",
    "\n",
    "train_data = train_data.map(lambda x,\n",
    "                          y: (nrmzln_layer(x), y))\n",
    "\n",
    "val_data = val_data.map(lambda x,\n",
    "                          y: (nrmzln_layer(x), y))"
   ]
  },
  {
   "cell_type": "code",
   "execution_count": 6,
   "metadata": {},
   "outputs": [],
   "source": [
    "#Custom Model Architecture\n",
    "\n",
    "from keras.layers import LeakyReLU\n",
    "model = tf.keras.models.Sequential([\n",
    "                                    \n",
    "    # First convolution layer \n",
    "    tf.keras.layers.Conv2D(64, 3, activation=LeakyReLU(alpha=0.01),padding=\"same\", input_shape=(256, 256, 3),use_bias=True),\n",
    "    tf.keras.layers.MaxPooling2D(2, 2),\n",
    "    tf.keras.layers.Dropout(0.50),\n",
    "    \n",
    "\n",
    "    # Second convolution layer \n",
    "    tf.keras.layers.Conv2D(128, 3, activation=LeakyReLU(alpha=0.01),padding=\"same\",use_bias=True),\n",
    "    tf.keras.layers.MaxPooling2D(2,2),\n",
    "    BatchNormalization(),\n",
    "    tf.keras.layers.Dropout(0.25),\n",
    "\n",
    "    \n",
    "    # Third convolution layer  \n",
    "    tf.keras.layers.Conv2D(256, 3, activation=LeakyReLU(alpha=0.01),padding=\"same\",use_bias=True),\n",
    "    tf.keras.layers.MaxPooling2D(2,2),\n",
    "    BatchNormalization(),\n",
    "    tf.keras.layers.Dropout(0.15),\n",
    "\n",
    "    # Third convolution layer \n",
    "    tf.keras.layers.Conv2D(64, 3, activation=LeakyReLU(alpha=0.01),padding=\"same\",use_bias=True),\n",
    "    tf.keras.layers.MaxPooling2D(2,2),\n",
    "    tf.keras.layers.Dropout(0.10),\n",
    "\n",
    "    # Flatten the pooled feature maps\n",
    "    tf.keras.layers.Flatten(),\n",
    "\n",
    "    # Fully connected hidden layer\n",
    "    tf.keras.layers.Dense(128, activation=LeakyReLU(alpha=0.01),use_bias=True),\n",
    "\n",
    "    # Output layer\n",
    "    tf.keras.layers.Dense(5, activation='softmax',activity_regularizer=regularizers.L2(0.001))  \n",
    "\n",
    "])\n"
   ]
  },
  {
   "cell_type": "code",
   "execution_count": 6,
   "metadata": {},
   "outputs": [],
   "source": [
    "#Custom Model Architecture\n",
    "\n",
    "from keras.layers import LeakyReLU\n",
    "model = tf.keras.models.Sequential([\n",
    "                                    \n",
    "    # First convolution layer \n",
    "    tf.keras.layers.Conv2D(32, 3, activation=LeakyReLU(alpha=0.01),padding=\"same\", input_shape=(256, 256, 3),use_bias=True),\n",
    "    tf.keras.layers.MaxPooling2D(2, 2),\n",
    "    tf.keras.layers.Dropout(0.50),\n",
    "    \n",
    "\n",
    "    # Second convolution layer \n",
    "    tf.keras.layers.Conv2D(64, 3, activation=LeakyReLU(alpha=0.01),padding=\"same\",use_bias=True),\n",
    "    tf.keras.layers.MaxPooling2D(2,2),\n",
    "    BatchNormalization(),\n",
    "    tf.keras.layers.Dropout(0.25),\n",
    "\n",
    "    \n",
    "    # Third convolution layer  \n",
    "    tf.keras.layers.Conv2D(128, 2, activation=LeakyReLU(alpha=0.01),padding=\"same\",use_bias=True),\n",
    "    tf.keras.layers.MaxPooling2D(2,2),\n",
    "    BatchNormalization(),\n",
    "    tf.keras.layers.Dropout(0.15),\n",
    "\n",
    "    # Fourth convolution layer \n",
    "    tf.keras.layers.Conv2D(96, 1, activation=LeakyReLU(alpha=0.01),padding=\"same\",use_bias=True),\n",
    "    tf.keras.layers.MaxPooling2D(2,2),\n",
    "    tf.keras.layers.Dropout(0.10),\n",
    "\n",
    "    # Flatten the pooled feature maps\n",
    "    tf.keras.layers.Flatten(),\n",
    "\n",
    "    # Fully connected hidden layer\n",
    "    tf.keras.layers.Dense(96, activation=LeakyReLU(alpha=0.01),use_bias=True),\n",
    "\n",
    "    # Output layer\n",
    "    tf.keras.layers.Dense(5, activation='softmax',activity_regularizer=regularizers.L2(0.001))  \n",
    "\n",
    "])\n"
   ]
  },
  {
   "cell_type": "code",
   "execution_count": 7,
   "metadata": {},
   "outputs": [
    {
     "name": "stdout",
     "output_type": "stream",
     "text": [
      "Model: \"sequential\"\n",
      "_________________________________________________________________\n",
      " Layer (type)                Output Shape              Param #   \n",
      "=================================================================\n",
      " conv2d (Conv2D)             (None, 256, 256, 32)      896       \n",
      "                                                                 \n",
      " max_pooling2d (MaxPooling2D  (None, 128, 128, 32)     0         \n",
      " )                                                               \n",
      "                                                                 \n",
      " dropout (Dropout)           (None, 128, 128, 32)      0         \n",
      "                                                                 \n",
      " conv2d_1 (Conv2D)           (None, 128, 128, 64)      18496     \n",
      "                                                                 \n",
      " max_pooling2d_1 (MaxPooling  (None, 64, 64, 64)       0         \n",
      " 2D)                                                             \n",
      "                                                                 \n",
      " batch_normalization (BatchN  (None, 64, 64, 64)       256       \n",
      " ormalization)                                                   \n",
      "                                                                 \n",
      " dropout_1 (Dropout)         (None, 64, 64, 64)        0         \n",
      "                                                                 \n",
      " conv2d_2 (Conv2D)           (None, 64, 64, 128)       32896     \n",
      "                                                                 \n",
      " max_pooling2d_2 (MaxPooling  (None, 32, 32, 128)      0         \n",
      " 2D)                                                             \n",
      "                                                                 \n",
      " batch_normalization_1 (Batc  (None, 32, 32, 128)      512       \n",
      " hNormalization)                                                 \n",
      "                                                                 \n",
      " dropout_2 (Dropout)         (None, 32, 32, 128)       0         \n",
      "                                                                 \n",
      " conv2d_3 (Conv2D)           (None, 32, 32, 96)        12384     \n",
      "                                                                 \n",
      " max_pooling2d_3 (MaxPooling  (None, 16, 16, 96)       0         \n",
      " 2D)                                                             \n",
      "                                                                 \n",
      " dropout_3 (Dropout)         (None, 16, 16, 96)        0         \n",
      "                                                                 \n",
      " flatten (Flatten)           (None, 24576)             0         \n",
      "                                                                 \n",
      " dense (Dense)               (None, 96)                2359392   \n",
      "                                                                 \n",
      " dense_1 (Dense)             (None, 5)                 485       \n",
      "                                                                 \n",
      "=================================================================\n",
      "Total params: 2,425,317\n",
      "Trainable params: 2,424,933\n",
      "Non-trainable params: 384\n",
      "_________________________________________________________________\n"
     ]
    }
   ],
   "source": [
    "#print model summary\n",
    "\n",
    "model.summary()"
   ]
  },
  {
   "cell_type": "code",
   "execution_count": 8,
   "metadata": {},
   "outputs": [],
   "source": [
    "#Performance evaluation Metrics delcaration \n",
    "\n",
    "from tensorflow.keras.optimizers import Adam\n",
    "from tensorflow.keras.metrics import SensitivityAtSpecificity,SpecificityAtSensitivity,Recall,Precision\n",
    "\n",
    "model.compile(loss=tf.losses.categorical_crossentropy,\n",
    "              optimizer=Adam(learning_rate=0.001),\n",
    "              metrics=['accuracy',SensitivityAtSpecificity(0.5),SpecificityAtSensitivity(0.5),Recall(0.5),Precision(0.5)]) \n"
   ]
  },
  {
   "cell_type": "code",
   "execution_count": 9,
   "metadata": {},
   "outputs": [
    {
     "name": "stdout",
     "output_type": "stream",
     "text": [
      "Device Spec:  /job:localhost/replica:0/device:GPU:*\n",
      "WARNING:tensorflow:`period` argument is deprecated. Please use `save_freq` to specify the frequency in number of batches seen.\n",
      "Epoch 1/150\n"
     ]
    },
    {
     "name": "stderr",
     "output_type": "stream",
     "text": [
      "2023-02-08 07:02:41.606659: I tensorflow/stream_executor/cuda/cuda_dnn.cc:384] Loaded cuDNN version 8100\n",
      "2023-02-08 07:02:41.794941: I tensorflow/core/platform/default/subprocess.cc:304] Start cannot spawn child process: No such file or directory\n"
     ]
    },
    {
     "name": "stdout",
     "output_type": "stream",
     "text": [
      "268/268 [==============================] - ETA: 0s - loss: 2.9275 - accuracy: 0.4145 - sensitivity_at_specificity: 0.7639 - specificity_at_sensitivity: 0.7823 - recall: 0.1632 - precision: 0.4141\n",
      "Epoch 1: val_accuracy improved from -inf to 0.24375, saving model to ECG_Spectrogram_Model.h5\n",
      "268/268 [==============================] - 44s 154ms/step - loss: 2.9275 - accuracy: 0.4145 - sensitivity_at_specificity: 0.7639 - specificity_at_sensitivity: 0.7823 - recall: 0.1632 - precision: 0.4141 - val_loss: 1.5945 - val_accuracy: 0.2438 - val_sensitivity_at_specificity: 0.4125 - val_specificity_at_sensitivity: 0.2992 - val_recall: 0.0000e+00 - val_precision: 0.0000e+00\n",
      "Epoch 2/150\n",
      "268/268 [==============================] - ETA: 0s - loss: 1.3757 - accuracy: 0.4612 - sensitivity_at_specificity: 0.8171 - specificity_at_sensitivity: 0.8417 - recall: 0.1718 - precision: 0.5652\n",
      "Epoch 2: val_accuracy improved from 0.24375 to 0.49375, saving model to ECG_Spectrogram_Model.h5\n",
      "268/268 [==============================] - 41s 151ms/step - loss: 1.3757 - accuracy: 0.4612 - sensitivity_at_specificity: 0.8171 - specificity_at_sensitivity: 0.8417 - recall: 0.1718 - precision: 0.5652 - val_loss: 1.4202 - val_accuracy: 0.4938 - val_sensitivity_at_specificity: 0.8250 - val_specificity_at_sensitivity: 0.8719 - val_recall: 0.0000e+00 - val_precision: 0.0000e+00\n",
      "Epoch 3/150\n",
      "268/268 [==============================] - ETA: 0s - loss: 1.2076 - accuracy: 0.5297 - sensitivity_at_specificity: 0.8837 - specificity_at_sensitivity: 0.8958 - recall: 0.3516 - precision: 0.6378\n",
      "Epoch 3: val_accuracy improved from 0.49375 to 0.56875, saving model to ECG_Spectrogram_Model.h5\n",
      "268/268 [==============================] - 41s 151ms/step - loss: 1.2076 - accuracy: 0.5297 - sensitivity_at_specificity: 0.8837 - specificity_at_sensitivity: 0.8958 - recall: 0.3516 - precision: 0.6378 - val_loss: 1.1733 - val_accuracy: 0.5688 - val_sensitivity_at_specificity: 0.9250 - val_specificity_at_sensitivity: 0.9234 - val_recall: 0.2094 - val_precision: 0.8816\n",
      "Epoch 4/150\n",
      "268/268 [==============================] - ETA: 0s - loss: 1.0102 - accuracy: 0.6141 - sensitivity_at_specificity: 0.9407 - specificity_at_sensitivity: 0.9456 - recall: 0.4552 - precision: 0.7309\n",
      "Epoch 4: val_accuracy did not improve from 0.56875\n",
      "268/268 [==============================] - 40s 150ms/step - loss: 1.0102 - accuracy: 0.6141 - sensitivity_at_specificity: 0.9407 - specificity_at_sensitivity: 0.9456 - recall: 0.4552 - precision: 0.7309 - val_loss: 2.5733 - val_accuracy: 0.4563 - val_sensitivity_at_specificity: 0.8188 - val_specificity_at_sensitivity: 0.8406 - val_recall: 0.4563 - val_precision: 0.4635\n",
      "Epoch 5/150\n",
      "268/268 [==============================] - ETA: 0s - loss: 0.9628 - accuracy: 0.6416 - sensitivity_at_specificity: 0.9455 - specificity_at_sensitivity: 0.9565 - recall: 0.5011 - precision: 0.7446\n",
      "Epoch 5: val_accuracy improved from 0.56875 to 0.60625, saving model to ECG_Spectrogram_Model.h5\n",
      "268/268 [==============================] - 41s 152ms/step - loss: 0.9628 - accuracy: 0.6416 - sensitivity_at_specificity: 0.9455 - specificity_at_sensitivity: 0.9565 - recall: 0.5011 - precision: 0.7446 - val_loss: 1.1730 - val_accuracy: 0.6062 - val_sensitivity_at_specificity: 0.9281 - val_specificity_at_sensitivity: 0.9445 - val_recall: 0.5344 - val_precision: 0.6654\n",
      "Epoch 6/150\n",
      "268/268 [==============================] - ETA: 0s - loss: 0.9115 - accuracy: 0.6632 - sensitivity_at_specificity: 0.9552 - specificity_at_sensitivity: 0.9633 - recall: 0.5374 - precision: 0.7518\n",
      "Epoch 6: val_accuracy did not improve from 0.60625\n",
      "268/268 [==============================] - 41s 152ms/step - loss: 0.9115 - accuracy: 0.6632 - sensitivity_at_specificity: 0.9552 - specificity_at_sensitivity: 0.9633 - recall: 0.5374 - precision: 0.7518 - val_loss: 1.4235 - val_accuracy: 0.5344 - val_sensitivity_at_specificity: 0.9000 - val_specificity_at_sensitivity: 0.8984 - val_recall: 0.4656 - val_precision: 0.5602\n",
      "Epoch 7/150\n",
      "268/268 [==============================] - ETA: 0s - loss: 0.8557 - accuracy: 0.6904 - sensitivity_at_specificity: 0.9594 - specificity_at_sensitivity: 0.9716 - recall: 0.5810 - precision: 0.7705\n",
      "Epoch 7: val_accuracy improved from 0.60625 to 0.62813, saving model to ECG_Spectrogram_Model.h5\n",
      "268/268 [==============================] - 41s 153ms/step - loss: 0.8557 - accuracy: 0.6904 - sensitivity_at_specificity: 0.9594 - specificity_at_sensitivity: 0.9716 - recall: 0.5810 - precision: 0.7705 - val_loss: 1.0815 - val_accuracy: 0.6281 - val_sensitivity_at_specificity: 0.9219 - val_specificity_at_sensitivity: 0.9664 - val_recall: 0.5750 - val_precision: 0.7132\n",
      "Epoch 8/150\n",
      "268/268 [==============================] - ETA: 0s - loss: 0.8116 - accuracy: 0.7080 - sensitivity_at_specificity: 0.9647 - specificity_at_sensitivity: 0.9772 - recall: 0.6131 - precision: 0.7846\n",
      "Epoch 8: val_accuracy improved from 0.62813 to 0.69687, saving model to ECG_Spectrogram_Model.h5\n",
      "268/268 [==============================] - 41s 153ms/step - loss: 0.8116 - accuracy: 0.7080 - sensitivity_at_specificity: 0.9647 - specificity_at_sensitivity: 0.9772 - recall: 0.6131 - precision: 0.7846 - val_loss: 1.1432 - val_accuracy: 0.6969 - val_sensitivity_at_specificity: 0.9344 - val_specificity_at_sensitivity: 0.9727 - val_recall: 0.6625 - val_precision: 0.7285\n",
      "Epoch 9/150\n",
      "268/268 [==============================] - ETA: 0s - loss: 0.7820 - accuracy: 0.7209 - sensitivity_at_specificity: 0.9678 - specificity_at_sensitivity: 0.9791 - recall: 0.6332 - precision: 0.7931\n",
      "Epoch 9: val_accuracy did not improve from 0.69687\n",
      "268/268 [==============================] - 41s 152ms/step - loss: 0.7820 - accuracy: 0.7209 - sensitivity_at_specificity: 0.9678 - specificity_at_sensitivity: 0.9791 - recall: 0.6332 - precision: 0.7931 - val_loss: 1.0920 - val_accuracy: 0.6500 - val_sensitivity_at_specificity: 0.9531 - val_specificity_at_sensitivity: 0.9742 - val_recall: 0.6187 - val_precision: 0.7200\n",
      "Epoch 10/150\n",
      "268/268 [==============================] - ETA: 0s - loss: 0.7589 - accuracy: 0.7269 - sensitivity_at_specificity: 0.9705 - specificity_at_sensitivity: 0.9814 - recall: 0.6440 - precision: 0.7955\n",
      "Epoch 10: val_accuracy did not improve from 0.69687\n",
      "268/268 [==============================] - 41s 152ms/step - loss: 0.7589 - accuracy: 0.7269 - sensitivity_at_specificity: 0.9705 - specificity_at_sensitivity: 0.9814 - recall: 0.6440 - precision: 0.7955 - val_loss: 0.8633 - val_accuracy: 0.6969 - val_sensitivity_at_specificity: 0.9594 - val_specificity_at_sensitivity: 0.9859 - val_recall: 0.6562 - val_precision: 0.7609\n",
      "Epoch 11/150\n",
      "268/268 [==============================] - ETA: 0s - loss: 0.7452 - accuracy: 0.7328 - sensitivity_at_specificity: 0.9743 - specificity_at_sensitivity: 0.9829 - recall: 0.6545 - precision: 0.7994\n",
      "Epoch 11: val_accuracy did not improve from 0.69687\n",
      "268/268 [==============================] - 41s 152ms/step - loss: 0.7452 - accuracy: 0.7328 - sensitivity_at_specificity: 0.9743 - specificity_at_sensitivity: 0.9829 - recall: 0.6545 - precision: 0.7994 - val_loss: 1.5775 - val_accuracy: 0.5750 - val_sensitivity_at_specificity: 0.9094 - val_specificity_at_sensitivity: 0.9344 - val_recall: 0.5594 - val_precision: 0.6068\n",
      "Epoch 12/150\n",
      "268/268 [==============================] - ETA: 0s - loss: 0.7325 - accuracy: 0.7353 - sensitivity_at_specificity: 0.9758 - specificity_at_sensitivity: 0.9832 - recall: 0.6617 - precision: 0.7952\n",
      "Epoch 12: val_accuracy did not improve from 0.69687\n",
      "268/268 [==============================] - 41s 152ms/step - loss: 0.7325 - accuracy: 0.7353 - sensitivity_at_specificity: 0.9758 - specificity_at_sensitivity: 0.9832 - recall: 0.6617 - precision: 0.7952 - val_loss: 0.8721 - val_accuracy: 0.6906 - val_sensitivity_at_specificity: 0.9719 - val_specificity_at_sensitivity: 0.9805 - val_recall: 0.6625 - val_precision: 0.7310\n",
      "Epoch 13/150\n",
      "268/268 [==============================] - ETA: 0s - loss: 0.7238 - accuracy: 0.7418 - sensitivity_at_specificity: 0.9733 - specificity_at_sensitivity: 0.9830 - recall: 0.6683 - precision: 0.8016\n",
      "Epoch 13: val_accuracy did not improve from 0.69687\n",
      "268/268 [==============================] - 41s 152ms/step - loss: 0.7238 - accuracy: 0.7418 - sensitivity_at_specificity: 0.9733 - specificity_at_sensitivity: 0.9830 - recall: 0.6683 - precision: 0.8016 - val_loss: 1.0242 - val_accuracy: 0.6938 - val_sensitivity_at_specificity: 0.9375 - val_specificity_at_sensitivity: 0.9758 - val_recall: 0.6562 - val_precision: 0.7095\n"
     ]
    },
    {
     "name": "stdout",
     "output_type": "stream",
     "text": [
      "Epoch 14/150\n",
      "268/268 [==============================] - ETA: 0s - loss: 0.7070 - accuracy: 0.7417 - sensitivity_at_specificity: 0.9768 - specificity_at_sensitivity: 0.9846 - recall: 0.6704 - precision: 0.8017\n",
      "Epoch 14: val_accuracy improved from 0.69687 to 0.70000, saving model to ECG_Spectrogram_Model.h5\n",
      "268/268 [==============================] - 41s 152ms/step - loss: 0.7070 - accuracy: 0.7417 - sensitivity_at_specificity: 0.9768 - specificity_at_sensitivity: 0.9846 - recall: 0.6704 - precision: 0.8017 - val_loss: 1.1192 - val_accuracy: 0.7000 - val_sensitivity_at_specificity: 0.9406 - val_specificity_at_sensitivity: 0.9836 - val_recall: 0.6875 - val_precision: 0.7190\n",
      "Epoch 15/150\n",
      "268/268 [==============================] - ETA: 0s - loss: 0.6886 - accuracy: 0.7541 - sensitivity_at_specificity: 0.9814 - specificity_at_sensitivity: 0.9855 - recall: 0.6896 - precision: 0.8089\n",
      "Epoch 15: val_accuracy improved from 0.70000 to 0.77812, saving model to ECG_Spectrogram_Model.h5\n",
      "268/268 [==============================] - 41s 152ms/step - loss: 0.6886 - accuracy: 0.7541 - sensitivity_at_specificity: 0.9814 - specificity_at_sensitivity: 0.9855 - recall: 0.6896 - precision: 0.8089 - val_loss: 0.6888 - val_accuracy: 0.7781 - val_sensitivity_at_specificity: 0.9812 - val_specificity_at_sensitivity: 0.9875 - val_recall: 0.7469 - val_precision: 0.8047\n",
      "Epoch 16/150\n",
      "268/268 [==============================] - ETA: 0s - loss: 0.6876 - accuracy: 0.7539 - sensitivity_at_specificity: 0.9809 - specificity_at_sensitivity: 0.9854 - recall: 0.6889 - precision: 0.8098\n",
      "Epoch 16: val_accuracy did not improve from 0.77812\n",
      "268/268 [==============================] - 41s 151ms/step - loss: 0.6876 - accuracy: 0.7539 - sensitivity_at_specificity: 0.9809 - specificity_at_sensitivity: 0.9854 - recall: 0.6889 - precision: 0.8098 - val_loss: 0.9328 - val_accuracy: 0.7094 - val_sensitivity_at_specificity: 0.9500 - val_specificity_at_sensitivity: 0.9789 - val_recall: 0.6844 - val_precision: 0.7349\n",
      "Epoch 17/150\n",
      "268/268 [==============================] - ETA: 0s - loss: 0.6629 - accuracy: 0.7593 - sensitivity_at_specificity: 0.9822 - specificity_at_sensitivity: 0.9873 - recall: 0.6958 - precision: 0.8121\n",
      "Epoch 17: val_accuracy did not improve from 0.77812\n",
      "268/268 [==============================] - 41s 151ms/step - loss: 0.6629 - accuracy: 0.7593 - sensitivity_at_specificity: 0.9822 - specificity_at_sensitivity: 0.9873 - recall: 0.6958 - precision: 0.8121 - val_loss: 0.9847 - val_accuracy: 0.6719 - val_sensitivity_at_specificity: 0.9719 - val_specificity_at_sensitivity: 0.9781 - val_recall: 0.6562 - val_precision: 0.7023\n",
      "Epoch 18/150\n",
      "268/268 [==============================] - ETA: 0s - loss: 0.6669 - accuracy: 0.7590 - sensitivity_at_specificity: 0.9817 - specificity_at_sensitivity: 0.9865 - recall: 0.6984 - precision: 0.8105\n",
      "Epoch 18: val_accuracy did not improve from 0.77812\n",
      "268/268 [==============================] - 41s 151ms/step - loss: 0.6669 - accuracy: 0.7590 - sensitivity_at_specificity: 0.9817 - specificity_at_sensitivity: 0.9865 - recall: 0.6984 - precision: 0.8105 - val_loss: 0.9467 - val_accuracy: 0.7312 - val_sensitivity_at_specificity: 0.9594 - val_specificity_at_sensitivity: 0.9859 - val_recall: 0.7063 - val_precision: 0.7434\n",
      "Epoch 19/150\n",
      "268/268 [==============================] - ETA: 0s - loss: 0.6577 - accuracy: 0.7592 - sensitivity_at_specificity: 0.9826 - specificity_at_sensitivity: 0.9871 - recall: 0.7031 - precision: 0.8107\n",
      "Epoch 19: val_accuracy did not improve from 0.77812\n",
      "268/268 [==============================] - 41s 151ms/step - loss: 0.6577 - accuracy: 0.7592 - sensitivity_at_specificity: 0.9826 - specificity_at_sensitivity: 0.9871 - recall: 0.7031 - precision: 0.8107 - val_loss: 1.0179 - val_accuracy: 0.7156 - val_sensitivity_at_specificity: 0.9531 - val_specificity_at_sensitivity: 0.9711 - val_recall: 0.6906 - val_precision: 0.7367\n",
      "Epoch 20/150\n",
      "268/268 [==============================] - ETA: 0s - loss: 0.6497 - accuracy: 0.7654 - sensitivity_at_specificity: 0.9868 - specificity_at_sensitivity: 0.9879 - recall: 0.7080 - precision: 0.8157\n",
      "Epoch 20: val_accuracy did not improve from 0.77812\n",
      "268/268 [==============================] - 41s 151ms/step - loss: 0.6497 - accuracy: 0.7654 - sensitivity_at_specificity: 0.9868 - specificity_at_sensitivity: 0.9879 - recall: 0.7080 - precision: 0.8157 - val_loss: 0.9283 - val_accuracy: 0.7281 - val_sensitivity_at_specificity: 0.9531 - val_specificity_at_sensitivity: 0.9836 - val_recall: 0.7000 - val_precision: 0.7492\n",
      "Epoch 21/150\n",
      "268/268 [==============================] - ETA: 0s - loss: 0.6374 - accuracy: 0.7715 - sensitivity_at_specificity: 0.9852 - specificity_at_sensitivity: 0.9884 - recall: 0.7146 - precision: 0.8211\n",
      "Epoch 21: val_accuracy did not improve from 0.77812\n",
      "268/268 [==============================] - 41s 151ms/step - loss: 0.6374 - accuracy: 0.7715 - sensitivity_at_specificity: 0.9852 - specificity_at_sensitivity: 0.9884 - recall: 0.7146 - precision: 0.8211 - val_loss: 0.7266 - val_accuracy: 0.7781 - val_sensitivity_at_specificity: 0.9812 - val_specificity_at_sensitivity: 0.9883 - val_recall: 0.7344 - val_precision: 0.7966\n",
      "Epoch 22/150\n",
      "268/268 [==============================] - ETA: 0s - loss: 0.6209 - accuracy: 0.7755 - sensitivity_at_specificity: 0.9860 - specificity_at_sensitivity: 0.9893 - recall: 0.7187 - precision: 0.8224\n",
      "Epoch 22: val_accuracy did not improve from 0.77812\n",
      "268/268 [==============================] - 41s 151ms/step - loss: 0.6209 - accuracy: 0.7755 - sensitivity_at_specificity: 0.9860 - specificity_at_sensitivity: 0.9893 - recall: 0.7187 - precision: 0.8224 - val_loss: 0.9168 - val_accuracy: 0.7219 - val_sensitivity_at_specificity: 0.9688 - val_specificity_at_sensitivity: 0.9820 - val_recall: 0.6938 - val_precision: 0.7327\n"
     ]
    }
   ],
   "source": [
    "#Model Execution\n",
    "\n",
    "from keras.callbacks import ModelCheckpoint, EarlyStopping\n",
    "\n",
    "# Initializing Device Specification\n",
    "device_spec = tf.DeviceSpec(job =\"localhost\", replica = 0, device_type = \"GPU\")\n",
    " \n",
    "# Printing the DeviceSpec\n",
    "print('Device Spec: ', device_spec.to_string())\n",
    " \n",
    "# Enabling device logging\n",
    "tf.debugging.set_log_device_placement(True)\n",
    " \n",
    "# Specifying the device\n",
    "with tf.device(device_spec):\n",
    "    \n",
    "#with tf.device('/gpu:10'):\n",
    "    \n",
    "    checkpoint = ModelCheckpoint(\"ECG_Spectrogram_Model.h5\", monitor='val_accuracy', verbose=1, save_best_only=True, save_weights_only=False, mode='auto', period=1)\n",
    "    mycallback=tf.keras.callbacks.EarlyStopping(monitor=\"val_accuracy\", patience=7, mode=\"auto\")\n",
    "    \n",
    "    history = model.fit(\n",
    "          train_data,\n",
    "          #steps_per_epoch=20, \n",
    "          epochs=150,\n",
    "          verbose=1,\n",
    "          validation_data = val_data,\n",
    "          validation_steps=5, \n",
    "          callbacks = [mycallback,checkpoint]\n",
    "    ) "
   ]
  },
  {
   "cell_type": "code",
   "execution_count": 10,
   "metadata": {},
   "outputs": [
    {
     "name": "stdout",
     "output_type": "stream",
     "text": [
      "Training Accuracy:  0.7754554152488708\n",
      "Validation Accuracy:  0.778124988079071\n",
      "Validation Specificity:  0.98828125\n",
      "Validation Sensitivity:  0.981249988079071\n",
      "Validation Recall:  0.746874988079071\n",
      "Validation Precision:  0.8815789222717285\n",
      "Validation Loss:  0.6887587904930115\n"
     ]
    }
   ],
   "source": [
    "Training_Accuracy=history.history['accuracy']\n",
    "Validation_Accuracy=history.history['val_accuracy']\n",
    "Validation_Specificity=history.history['val_specificity_at_sensitivity']\n",
    "Validation_Sensitivity=history.history['val_sensitivity_at_specificity']\n",
    "Validation_Recall=history.history['val_recall']\n",
    "Validation_Precision=history.history['val_precision']\n",
    "Validation_Loss=history.history['val_loss']\n",
    "\n",
    "print(\"Training Accuracy: \",max(Training_Accuracy))\n",
    "print(\"Validation Accuracy: \",max(Validation_Accuracy))\n",
    "print(\"Validation Specificity: \",max(Validation_Specificity))\n",
    "print(\"Validation Sensitivity: \",max(Validation_Sensitivity))\n",
    "print(\"Validation Recall: \",max(Validation_Recall))\n",
    "print(\"Validation Precision: \",max(Validation_Precision))\n",
    "print(\"Validation Loss: \",min(Validation_Loss))"
   ]
  },
  {
   "cell_type": "code",
   "execution_count": 11,
   "metadata": {},
   "outputs": [
    {
     "data": {
      "image/png": "[encoded data removed]",
      "text/plain": [
       "<Figure size 720x432 with 1 Axes>"
      ]
     },
     "metadata": {
      "needs_background": "light"
     },
     "output_type": "display_data"
    }
   ],
   "source": [
    "#Accuracy Graph\n",
    "plt.figure(figsize=(10,6))\n",
    "plt.plot(history.history['accuracy'])\n",
    "plt.plot(history.history['val_accuracy'])\n",
    "plt.title('Model accuracy')\n",
    "plt.ylabel('Accuracy')\n",
    "plt.xlabel('Epoch')\n",
    "plt.legend(['Train', 'Test'], loc='upper left')\n",
    "plt.show()"
   ]
  },
  {
   "cell_type": "code",
   "execution_count": 12,
   "metadata": {},
   "outputs": [
    {
     "data": {
      "image/png": "[encoded data removed]",
      "text/plain": [
       "<Figure size 720x432 with 1 Axes>"
      ]
     },
     "metadata": {
      "needs_background": "light"
     },
     "output_type": "display_data"
    }
   ],
   "source": [
    "#Loss graph\n",
    "plt.figure(figsize=(10,6))\n",
    "plt.plot(history.history['loss'])\n",
    "plt.plot(history.history['val_loss'])\n",
    "plt.title('Model Loss')\n",
    "plt.ylabel('Loss')\n",
    "plt.xlabel('Epoch')\n",
    "plt.legend(['Train', 'Test'], loc='upper left')\n",
    "plt.show()"
   ]
  },
  {
   "cell_type": "code",
   "execution_count": null,
   "metadata": {},
   "outputs": [],
   "source": []
  }
 ],
 "metadata": {
  "accelerator": "GPU",
  "colab": {
   "collapsed_sections": [
    "7e88OLey6Bgd"
   ],
   "provenance": []
  },
  "gpuClass": "standard",
  "kernelspec": {
   "display_name": "Python 3 (ipykernel)",
   "language": "python",
   "name": "python3"
  },
  "language_info": {
   "codemirror_mode": {
    "name": "ipython",
    "version": 3
   },
   "file_extension": ".py",
   "mimetype": "text/x-python",
   "name": "python",
   "nbconvert_exporter": "python",
   "pygments_lexer": "ipython3",
   "version": "3.10.6"
  }
 },
 "nbformat": 4,
 "nbformat_minor": 4
}
