{
 "cells": [
  {
   "cell_type": "markdown",
   "metadata": {
    "id": "SsTzc3oi726u"
   },
   "source": [
    "# **Building a Convolutional Neural Network with Keras**"
   ]
  },
  {
   "cell_type": "code",
   "execution_count": 1,
   "metadata": {},
   "outputs": [
    {
     "name": "stdout",
     "output_type": "stream",
     "text": [
      "2.9.1\n"
     ]
    }
   ],
   "source": [
    "#Tensorflow version\n",
    "\n",
    "import tensorflow as tf\n",
    "print(tf.__version__)"
   ]
  },
  {
   "cell_type": "code",
   "execution_count": 2,
   "metadata": {},
   "outputs": [],
   "source": [
    "#Importing libraries\n",
    "\n",
    "import tensorflow as tf\n",
    "from tensorflow import keras\n",
    "from keras.layers import Input, Conv2D, Dense, Flatten, BatchNormalization, Dropout, MaxPooling2D, GlobalMaxPooling2D\n",
    "from keras.models import Model\n",
    "import matplotlib.pyplot as plt\n",
    "from keras.applications.efficientnet import EfficientNetB0\n",
    "from keras.preprocessing import image\n",
    "#from keras.preprocessing.image import load_img\n",
    "from keras.models import Sequential\n",
    "import numpy as np\n",
    "from tensorflow.keras import regularizers"
   ]
  },
  {
   "cell_type": "code",
   "execution_count": 3,
   "metadata": {},
   "outputs": [],
   "source": [
    "#17000 samples original dataset\n",
    "\n",
    "train_dir='/home/ubuntu/From_Laptop/multi-class-NEW/12-Lead_ECG_version_2/Original_graphs_12_leads_12700/Training/'\n",
    "val_dir='/home/ubuntu/From_Laptop/multi-class-NEW/12-Lead_ECG_version_2/Original_graphs_12_leads_12700/Validation/'"
   ]
  },
  {
   "cell_type": "code",
   "execution_count": 4,
   "metadata": {},
   "outputs": [
    {
     "name": "stdout",
     "output_type": "stream",
     "text": [
      "Found 8877 files belonging to 5 classes.\n"
     ]
    },
    {
     "name": "stderr",
     "output_type": "stream",
     "text": [
      "2023-02-17 13:13:54.049178: I tensorflow/stream_executor/cuda/cuda_gpu_executor.cc:975] successful NUMA node read from SysFS had negative value (-1), but there must be at least one NUMA node, so returning NUMA node zero\n",
      "2023-02-17 13:13:54.147848: I tensorflow/stream_executor/cuda/cuda_gpu_executor.cc:975] successful NUMA node read from SysFS had negative value (-1), but there must be at least one NUMA node, so returning NUMA node zero\n",
      "2023-02-17 13:13:54.148272: I tensorflow/stream_executor/cuda/cuda_gpu_executor.cc:975] successful NUMA node read from SysFS had negative value (-1), but there must be at least one NUMA node, so returning NUMA node zero\n",
      "2023-02-17 13:13:54.174269: I tensorflow/core/platform/cpu_feature_guard.cc:193] This TensorFlow binary is optimized with oneAPI Deep Neural Network Library (oneDNN) to use the following CPU instructions in performance-critical operations:  AVX2 FMA\n",
      "To enable them in other operations, rebuild TensorFlow with the appropriate compiler flags.\n",
      "2023-02-17 13:13:54.174915: I tensorflow/stream_executor/cuda/cuda_gpu_executor.cc:975] successful NUMA node read from SysFS had negative value (-1), but there must be at least one NUMA node, so returning NUMA node zero\n",
      "2023-02-17 13:13:54.175308: I tensorflow/stream_executor/cuda/cuda_gpu_executor.cc:975] successful NUMA node read from SysFS had negative value (-1), but there must be at least one NUMA node, so returning NUMA node zero\n",
      "2023-02-17 13:13:54.175642: I tensorflow/stream_executor/cuda/cuda_gpu_executor.cc:975] successful NUMA node read from SysFS had negative value (-1), but there must be at least one NUMA node, so returning NUMA node zero\n",
      "2023-02-17 13:13:54.639973: I tensorflow/stream_executor/cuda/cuda_gpu_executor.cc:975] successful NUMA node read from SysFS had negative value (-1), but there must be at least one NUMA node, so returning NUMA node zero\n",
      "2023-02-17 13:13:54.640161: I tensorflow/stream_executor/cuda/cuda_gpu_executor.cc:975] successful NUMA node read from SysFS had negative value (-1), but there must be at least one NUMA node, so returning NUMA node zero\n",
      "2023-02-17 13:13:54.640301: I tensorflow/stream_executor/cuda/cuda_gpu_executor.cc:975] successful NUMA node read from SysFS had negative value (-1), but there must be at least one NUMA node, so returning NUMA node zero\n",
      "2023-02-17 13:13:54.640413: I tensorflow/core/common_runtime/gpu/gpu_device.cc:1532] Created device /job:localhost/replica:0/task:0/device:GPU:0 with 7380 MB memory:  -> device: 0, name: NVIDIA GeForce GTX 1080, pci bus id: 0000:00:05.0, compute capability: 6.1\n"
     ]
    },
    {
     "name": "stdout",
     "output_type": "stream",
     "text": [
      "Found 3813 files belonging to 5 classes.\n"
     ]
    }
   ],
   "source": [
    "from tensorflow.keras import layers\n",
    "\n",
    "train_data = tf.keras.preprocessing.image_dataset_from_directory(directory=train_dir,\n",
    "                                                                 image_size=(256,256),\n",
    "                                                                 label_mode='categorical', batch_size=64, \n",
    "                                                                 )\n",
    "val_data = tf.keras.preprocessing.image_dataset_from_directory(directory=val_dir,\n",
    "                                                                 image_size=(256,256),\n",
    "                                                                 label_mode='categorical', batch_size=64,\n",
    "                                                                )"
   ]
  },
  {
   "cell_type": "code",
   "execution_count": 5,
   "metadata": {},
   "outputs": [],
   "source": [
    "#Normalization of the data\n",
    "\n",
    "nrmzln_layer = layers.experimental.preprocessing.Rescaling(1./255)\n",
    "\n",
    "train_data = train_data.map(lambda x,\n",
    "                          y: (nrmzln_layer(x), y))\n",
    "\n",
    "val_data = val_data.map(lambda x,\n",
    "                          y: (nrmzln_layer(x), y))"
   ]
  },
  {
   "cell_type": "code",
   "execution_count": 6,
   "metadata": {},
   "outputs": [],
   "source": [
    "#Custom Model Architecture\n",
    "\n",
    "from keras.layers import LeakyReLU\n",
    "model = tf.keras.models.Sequential([\n",
    "                                    \n",
    "    # First convolution layer \n",
    "    tf.keras.layers.Conv2D(32, 3, activation=LeakyReLU(alpha=0.01),padding=\"same\", input_shape=(256, 256, 3),use_bias=True),\n",
    "    tf.keras.layers.MaxPooling2D(2, 2),\n",
    "    tf.keras.layers.Dropout(0.50),\n",
    "    \n",
    "\n",
    "    # Second convolution layer \n",
    "    tf.keras.layers.Conv2D(64, 3, activation=LeakyReLU(alpha=0.01),padding=\"same\",use_bias=True),\n",
    "    tf.keras.layers.MaxPooling2D(2,2),\n",
    "    BatchNormalization(),\n",
    "    tf.keras.layers.Dropout(0.25),\n",
    "\n",
    "    \n",
    "    # Third convolution layer  \n",
    "    tf.keras.layers.Conv2D(128, 2, activation=LeakyReLU(alpha=0.01),padding=\"same\",use_bias=True),\n",
    "    tf.keras.layers.MaxPooling2D(2,2),\n",
    "    BatchNormalization(),\n",
    "    tf.keras.layers.Dropout(0.15),\n",
    "\n",
    "    # Fourth convolution layer \n",
    "    tf.keras.layers.Conv2D(96, 1, activation=LeakyReLU(alpha=0.01),padding=\"same\",use_bias=True),\n",
    "    tf.keras.layers.MaxPooling2D(2,2),\n",
    "    tf.keras.layers.Dropout(0.10),\n",
    "\n",
    "    # Flatten the pooled feature maps\n",
    "    tf.keras.layers.Flatten(),\n",
    "\n",
    "    # Fully connected hidden layer\n",
    "    tf.keras.layers.Dense(96, activation=LeakyReLU(alpha=0.01),use_bias=True),\n",
    "\n",
    "    # Output layer\n",
    "    tf.keras.layers.Dense(5, activation='softmax',activity_regularizer=regularizers.L2(0.001))  \n",
    "\n",
    "])\n"
   ]
  },
  {
   "cell_type": "code",
   "execution_count": 7,
   "metadata": {},
   "outputs": [
    {
     "name": "stdout",
     "output_type": "stream",
     "text": [
      "Model: \"sequential\"\n",
      "_________________________________________________________________\n",
      " Layer (type)                Output Shape              Param #   \n",
      "=================================================================\n",
      " conv2d (Conv2D)             (None, 256, 256, 32)      896       \n",
      "                                                                 \n",
      " max_pooling2d (MaxPooling2D  (None, 128, 128, 32)     0         \n",
      " )                                                               \n",
      "                                                                 \n",
      " dropout (Dropout)           (None, 128, 128, 32)      0         \n",
      "                                                                 \n",
      " conv2d_1 (Conv2D)           (None, 128, 128, 64)      18496     \n",
      "                                                                 \n",
      " max_pooling2d_1 (MaxPooling  (None, 64, 64, 64)       0         \n",
      " 2D)                                                             \n",
      "                                                                 \n",
      " batch_normalization (BatchN  (None, 64, 64, 64)       256       \n",
      " ormalization)                                                   \n",
      "                                                                 \n",
      " dropout_1 (Dropout)         (None, 64, 64, 64)        0         \n",
      "                                                                 \n",
      " conv2d_2 (Conv2D)           (None, 64, 64, 128)       32896     \n",
      "                                                                 \n",
      " max_pooling2d_2 (MaxPooling  (None, 32, 32, 128)      0         \n",
      " 2D)                                                             \n",
      "                                                                 \n",
      " batch_normalization_1 (Batc  (None, 32, 32, 128)      512       \n",
      " hNormalization)                                                 \n",
      "                                                                 \n",
      " dropout_2 (Dropout)         (None, 32, 32, 128)       0         \n",
      "                                                                 \n",
      " conv2d_3 (Conv2D)           (None, 32, 32, 96)        12384     \n",
      "                                                                 \n",
      " max_pooling2d_3 (MaxPooling  (None, 16, 16, 96)       0         \n",
      " 2D)                                                             \n",
      "                                                                 \n",
      " dropout_3 (Dropout)         (None, 16, 16, 96)        0         \n",
      "                                                                 \n",
      " flatten (Flatten)           (None, 24576)             0         \n",
      "                                                                 \n",
      " dense (Dense)               (None, 96)                2359392   \n",
      "                                                                 \n",
      " dense_1 (Dense)             (None, 5)                 485       \n",
      "                                                                 \n",
      "=================================================================\n",
      "Total params: 2,425,317\n",
      "Trainable params: 2,424,933\n",
      "Non-trainable params: 384\n",
      "_________________________________________________________________\n"
     ]
    }
   ],
   "source": [
    "#print model summary\n",
    "\n",
    "model.summary()"
   ]
  },
  {
   "cell_type": "code",
   "execution_count": 8,
   "metadata": {},
   "outputs": [],
   "source": [
    "#Performance evaluation Metrics delcaration \n",
    "\n",
    "from tensorflow.keras.optimizers import Adam\n",
    "from tensorflow.keras.metrics import SensitivityAtSpecificity,SpecificityAtSensitivity,Recall,Precision\n",
    "\n",
    "model.compile(loss=tf.losses.categorical_crossentropy,\n",
    "              optimizer=Adam(learning_rate=0.001),\n",
    "              metrics=['accuracy',SensitivityAtSpecificity(0.5),SpecificityAtSensitivity(0.5),Recall(0.5),Precision(0.5)]) \n"
   ]
  },
  {
   "cell_type": "code",
   "execution_count": 9,
   "metadata": {},
   "outputs": [
    {
     "name": "stdout",
     "output_type": "stream",
     "text": [
      "Device Spec:  /job:localhost/replica:0/device:GPU:*\n",
      "WARNING:tensorflow:`period` argument is deprecated. Please use `save_freq` to specify the frequency in number of batches seen.\n",
      "Epoch 1/150\n"
     ]
    },
    {
     "name": "stderr",
     "output_type": "stream",
     "text": [
      "2023-02-17 13:14:03.827920: I tensorflow/stream_executor/cuda/cuda_dnn.cc:384] Loaded cuDNN version 8100\n",
      "2023-02-17 13:14:04.167478: I tensorflow/core/platform/default/subprocess.cc:304] Start cannot spawn child process: No such file or directory\n"
     ]
    },
    {
     "name": "stdout",
     "output_type": "stream",
     "text": [
      "139/139 [==============================] - ETA: 0s - loss: 3.1808 - accuracy: 0.5057 - sensitivity_at_specificity: 0.8303 - specificity_at_sensitivity: 0.8761 - recall: 0.3888 - precision: 0.5082\n",
      "Epoch 1: val_accuracy improved from -inf to 0.55625, saving model to ECG_Spectrogram_Model.h5\n",
      "139/139 [==============================] - 27s 161ms/step - loss: 3.1808 - accuracy: 0.5057 - sensitivity_at_specificity: 0.8303 - specificity_at_sensitivity: 0.8761 - recall: 0.3888 - precision: 0.5082 - val_loss: 1.4142 - val_accuracy: 0.5562 - val_sensitivity_at_specificity: 0.7375 - val_specificity_at_sensitivity: 0.8906 - val_recall: 0.0000e+00 - val_precision: 0.0000e+00\n",
      "Epoch 2/150\n",
      "139/139 [==============================] - ETA: 0s - loss: 1.2285 - accuracy: 0.5524 - sensitivity_at_specificity: 0.8800 - specificity_at_sensitivity: 0.9043 - recall: 0.3834 - precision: 0.5777\n",
      "Epoch 2: val_accuracy did not improve from 0.55625\n",
      "139/139 [==============================] - 21s 151ms/step - loss: 1.2285 - accuracy: 0.5524 - sensitivity_at_specificity: 0.8800 - specificity_at_sensitivity: 0.9043 - recall: 0.3834 - precision: 0.5777 - val_loss: 1.8493 - val_accuracy: 0.1719 - val_sensitivity_at_specificity: 0.2594 - val_specificity_at_sensitivity: 0.1039 - val_recall: 0.0000e+00 - val_precision: 0.0000e+00\n",
      "Epoch 3/150\n",
      "139/139 [==============================] - ETA: 0s - loss: 1.1304 - accuracy: 0.5861 - sensitivity_at_specificity: 0.9137 - specificity_at_sensitivity: 0.9314 - recall: 0.4487 - precision: 0.6723\n",
      "Epoch 3: val_accuracy did not improve from 0.55625\n",
      "139/139 [==============================] - 21s 152ms/step - loss: 1.1304 - accuracy: 0.5861 - sensitivity_at_specificity: 0.9137 - specificity_at_sensitivity: 0.9314 - recall: 0.4487 - precision: 0.6723 - val_loss: 1.7863 - val_accuracy: 0.1531 - val_sensitivity_at_specificity: 0.2937 - val_specificity_at_sensitivity: 0.1250 - val_recall: 0.0000e+00 - val_precision: 0.0000e+00\n",
      "Epoch 4/150\n",
      "139/139 [==============================] - ETA: 0s - loss: 1.1220 - accuracy: 0.6017 - sensitivity_at_specificity: 0.9138 - specificity_at_sensitivity: 0.9395 - recall: 0.4646 - precision: 0.6908\n",
      "Epoch 4: val_accuracy did not improve from 0.55625\n",
      "139/139 [==============================] - 21s 151ms/step - loss: 1.1220 - accuracy: 0.6017 - sensitivity_at_specificity: 0.9138 - specificity_at_sensitivity: 0.9395 - recall: 0.4646 - precision: 0.6908 - val_loss: 1.8694 - val_accuracy: 0.2344 - val_sensitivity_at_specificity: 0.8406 - val_specificity_at_sensitivity: 0.7680 - val_recall: 0.2281 - val_precision: 0.2332\n",
      "Epoch 5/150\n",
      "139/139 [==============================] - ETA: 0s - loss: 0.9354 - accuracy: 0.6697 - sensitivity_at_specificity: 0.9480 - specificity_at_sensitivity: 0.9671 - recall: 0.5470 - precision: 0.7614\n",
      "Epoch 5: val_accuracy did not improve from 0.55625\n",
      "139/139 [==============================] - 21s 152ms/step - loss: 0.9354 - accuracy: 0.6697 - sensitivity_at_specificity: 0.9480 - specificity_at_sensitivity: 0.9671 - recall: 0.5470 - precision: 0.7614 - val_loss: 2.2679 - val_accuracy: 0.1531 - val_sensitivity_at_specificity: 0.8938 - val_specificity_at_sensitivity: 0.7609 - val_recall: 0.1531 - val_precision: 0.1531\n",
      "Epoch 6/150\n",
      "139/139 [==============================] - ETA: 0s - loss: 0.8344 - accuracy: 0.7142 - sensitivity_at_specificity: 0.9569 - specificity_at_sensitivity: 0.9772 - recall: 0.6228 - precision: 0.7914\n",
      "Epoch 6: val_accuracy did not improve from 0.55625\n",
      "139/139 [==============================] - 21s 152ms/step - loss: 0.8344 - accuracy: 0.7142 - sensitivity_at_specificity: 0.9569 - specificity_at_sensitivity: 0.9772 - recall: 0.6228 - precision: 0.7914 - val_loss: 2.3398 - val_accuracy: 0.2937 - val_sensitivity_at_specificity: 0.4812 - val_specificity_at_sensitivity: 0.4680 - val_recall: 0.2500 - val_precision: 0.2888\n",
      "Epoch 7/150\n",
      "139/139 [==============================] - ETA: 0s - loss: 0.7978 - accuracy: 0.7240 - sensitivity_at_specificity: 0.9617 - specificity_at_sensitivity: 0.9801 - recall: 0.6503 - precision: 0.7925\n",
      "Epoch 7: val_accuracy did not improve from 0.55625\n",
      "139/139 [==============================] - 21s 152ms/step - loss: 0.7978 - accuracy: 0.7240 - sensitivity_at_specificity: 0.9617 - specificity_at_sensitivity: 0.9801 - recall: 0.6503 - precision: 0.7925 - val_loss: 1.2529 - val_accuracy: 0.4094 - val_sensitivity_at_specificity: 0.9375 - val_specificity_at_sensitivity: 0.8398 - val_recall: 0.3063 - val_precision: 0.4298\n",
      "Epoch 8/150\n",
      "139/139 [==============================] - ETA: 0s - loss: 0.7711 - accuracy: 0.7375 - sensitivity_at_specificity: 0.9645 - specificity_at_sensitivity: 0.9823 - recall: 0.6626 - precision: 0.8001\n",
      "Epoch 8: val_accuracy did not improve from 0.55625\n",
      "139/139 [==============================] - 21s 152ms/step - loss: 0.7711 - accuracy: 0.7375 - sensitivity_at_specificity: 0.9645 - specificity_at_sensitivity: 0.9823 - recall: 0.6626 - precision: 0.8001 - val_loss: 2.6896 - val_accuracy: 0.1750 - val_sensitivity_at_specificity: 0.6219 - val_specificity_at_sensitivity: 0.5719 - val_recall: 0.1750 - val_precision: 0.1783\n"
     ]
    }
   ],
   "source": [
    "#Model Execution\n",
    "\n",
    "from keras.callbacks import ModelCheckpoint, EarlyStopping\n",
    "\n",
    "# Initializing Device Specification\n",
    "device_spec = tf.DeviceSpec(job =\"localhost\", replica = 0, device_type = \"GPU\")\n",
    " \n",
    "# Printing the DeviceSpec\n",
    "print('Device Spec: ', device_spec.to_string())\n",
    " \n",
    "# Enabling device logging\n",
    "tf.debugging.set_log_device_placement(True)\n",
    " \n",
    "# Specifying the device\n",
    "with tf.device(device_spec):\n",
    "    \n",
    "#with tf.device('/gpu:10'):\n",
    "    \n",
    "    checkpoint = ModelCheckpoint(\"ECG_Spectrogram_Model.h5\", monitor='val_accuracy', verbose=1, save_best_only=True, save_weights_only=False, mode='auto', period=1)\n",
    "    mycallback=tf.keras.callbacks.EarlyStopping(monitor=\"val_accuracy\", patience=7, mode=\"auto\")\n",
    "    \n",
    "    history = model.fit(\n",
    "          train_data,\n",
    "          #steps_per_epoch=20, \n",
    "          epochs=150,\n",
    "          verbose=1,\n",
    "          validation_data = val_data,\n",
    "          validation_steps=5, \n",
    "          callbacks = [mycallback,checkpoint]\n",
    "    ) "
   ]
  },
  {
   "cell_type": "code",
   "execution_count": 10,
   "metadata": {},
   "outputs": [
    {
     "name": "stdout",
     "output_type": "stream",
     "text": [
      "Training Accuracy:  0.7375239133834839\n",
      "Validation Accuracy:  0.5562499761581421\n",
      "Validation Specificity:  0.890625\n",
      "Validation Sensitivity:  0.9375\n",
      "Validation Recall:  0.3062500059604645\n",
      "Validation Precision:  0.429824560880661\n",
      "Validation Loss:  1.2529016733169556\n"
     ]
    }
   ],
   "source": [
    "Training_Accuracy=history.history['accuracy']\n",
    "Validation_Accuracy=history.history['val_accuracy']\n",
    "Validation_Specificity=history.history['val_specificity_at_sensitivity']\n",
    "Validation_Sensitivity=history.history['val_sensitivity_at_specificity']\n",
    "Validation_Recall=history.history['val_recall']\n",
    "Validation_Precision=history.history['val_precision']\n",
    "Validation_Loss=history.history['val_loss']\n",
    "\n",
    "print(\"Training Accuracy: \",max(Training_Accuracy))\n",
    "print(\"Validation Accuracy: \",max(Validation_Accuracy))\n",
    "print(\"Validation Specificity: \",max(Validation_Specificity))\n",
    "print(\"Validation Sensitivity: \",max(Validation_Sensitivity))\n",
    "print(\"Validation Recall: \",max(Validation_Recall))\n",
    "print(\"Validation Precision: \",max(Validation_Precision))\n",
    "print(\"Validation Loss: \",min(Validation_Loss))"
   ]
  },
  {
   "cell_type": "code",
   "execution_count": 11,
   "metadata": {},
   "outputs": [
    {
     "data": {
      "image/png": "[encoded data removed]",
      "text/plain": [
       "<Figure size 720x432 with 1 Axes>"
      ]
     },
     "metadata": {
      "needs_background": "light"
     },
     "output_type": "display_data"
    }
   ],
   "source": [
    "#Accuracy Graph\n",
    "plt.figure(figsize=(10,6))\n",
    "plt.plot(history.history['accuracy'])\n",
    "plt.plot(history.history['val_accuracy'])\n",
    "plt.title('Model accuracy')\n",
    "plt.ylabel('Accuracy')\n",
    "plt.xlabel('Epoch')\n",
    "plt.legend(['Train', 'Test'], loc='upper left')\n",
    "plt.show()"
   ]
  },
  {
   "cell_type": "code",
   "execution_count": 12,
   "metadata": {},
   "outputs": [
    {
     "data": {
      "image/png": "[encoded data removed]",
      "text/plain": [
       "<Figure size 720x432 with 1 Axes>"
      ]
     },
     "metadata": {
      "needs_background": "light"
     },
     "output_type": "display_data"
    }
   ],
   "source": [
    "#Loss graph\n",
    "plt.figure(figsize=(10,6))\n",
    "plt.plot(history.history['loss'])\n",
    "plt.plot(history.history['val_loss'])\n",
    "plt.title('Model Loss')\n",
    "plt.ylabel('Loss')\n",
    "plt.xlabel('Epoch')\n",
    "plt.legend(['Train', 'Test'], loc='upper left')\n",
    "plt.show()"
   ]
  },
  {
   "cell_type": "code",
   "execution_count": null,
   "metadata": {},
   "outputs": [],
   "source": []
  }
 ],
 "metadata": {
  "accelerator": "GPU",
  "colab": {
   "collapsed_sections": [
    "7e88OLey6Bgd"
   ],
   "provenance": []
  },
  "gpuClass": "standard",
  "kernelspec": {
   "display_name": "Python 3 (ipykernel)",
   "language": "python",
   "name": "python3"
  },
  "language_info": {
   "codemirror_mode": {
    "name": "ipython",
    "version": 3
   },
   "file_extension": ".py",
   "mimetype": "text/x-python",
   "name": "python",
   "nbconvert_exporter": "python",
   "pygments_lexer": "ipython3",
   "version": "3.10.6"
  }
 },
 "nbformat": 4,
 "nbformat_minor": 4
}
