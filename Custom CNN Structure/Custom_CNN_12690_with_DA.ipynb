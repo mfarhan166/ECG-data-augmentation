{
 "cells": [
  {
   "cell_type": "markdown",
   "metadata": {
    "id": "SsTzc3oi726u"
   },
   "source": [
    "# **Building a Convolutional Neural Network with Keras**"
   ]
  },
  {
   "cell_type": "code",
   "execution_count": 1,
   "metadata": {},
   "outputs": [
    {
     "name": "stdout",
     "output_type": "stream",
     "text": [
      "2.9.1\n"
     ]
    }
   ],
   "source": [
    "#Tensorflow version\n",
    "\n",
    "import tensorflow as tf\n",
    "print(tf.__version__)"
   ]
  },
  {
   "cell_type": "code",
   "execution_count": 2,
   "metadata": {},
   "outputs": [],
   "source": [
    "#Importing libraries\n",
    "\n",
    "import tensorflow as tf\n",
    "from tensorflow import keras\n",
    "from keras.layers import Input, Conv2D, Dense, Flatten, BatchNormalization, Dropout, MaxPooling2D, GlobalMaxPooling2D\n",
    "from keras.models import Model\n",
    "import matplotlib.pyplot as plt\n",
    "from keras.applications.efficientnet import EfficientNetB0\n",
    "from keras.preprocessing import image\n",
    "#from keras.preprocessing.image import load_img\n",
    "from keras.models import Sequential\n",
    "import numpy as np\n",
    "from tensorflow.keras import regularizers"
   ]
  },
  {
   "cell_type": "code",
   "execution_count": 3,
   "metadata": {},
   "outputs": [],
   "source": [
    "# 3 percent with HYP 10 percent (17000)\n",
    "train_dir=\"/home/ubuntu/From_Laptop/multi-class-NEW/12-Lead_ECG_version_2/DA_version_3/Model_Training/3 percent with HYP 10 percent - v2 - 17000/Training/\"\n",
    "val_dir=\"/home/ubuntu/From_Laptop/multi-class-NEW/12-Lead_ECG_version_2/DA_version_3/Model_Training/3 percent with HYP 10 percent - v2 - 17000/Validation/\""
   ]
  },
  {
   "cell_type": "code",
   "execution_count": 4,
   "metadata": {},
   "outputs": [
    {
     "name": "stdout",
     "output_type": "stream",
     "text": [
      "Found 13040 files belonging to 5 classes.\n"
     ]
    },
    {
     "name": "stderr",
     "output_type": "stream",
     "text": [
      "2023-03-31 10:32:19.197724: I tensorflow/stream_executor/cuda/cuda_gpu_executor.cc:975] successful NUMA node read from SysFS had negative value (-1), but there must be at least one NUMA node, so returning NUMA node zero\n",
      "2023-03-31 10:32:19.218960: I tensorflow/stream_executor/cuda/cuda_gpu_executor.cc:975] successful NUMA node read from SysFS had negative value (-1), but there must be at least one NUMA node, so returning NUMA node zero\n",
      "2023-03-31 10:32:19.219289: I tensorflow/stream_executor/cuda/cuda_gpu_executor.cc:975] successful NUMA node read from SysFS had negative value (-1), but there must be at least one NUMA node, so returning NUMA node zero\n",
      "2023-03-31 10:32:19.246236: I tensorflow/core/platform/cpu_feature_guard.cc:193] This TensorFlow binary is optimized with oneAPI Deep Neural Network Library (oneDNN) to use the following CPU instructions in performance-critical operations:  AVX2 FMA\n",
      "To enable them in other operations, rebuild TensorFlow with the appropriate compiler flags.\n",
      "2023-03-31 10:32:19.246626: I tensorflow/stream_executor/cuda/cuda_gpu_executor.cc:975] successful NUMA node read from SysFS had negative value (-1), but there must be at least one NUMA node, so returning NUMA node zero\n",
      "2023-03-31 10:32:19.246910: I tensorflow/stream_executor/cuda/cuda_gpu_executor.cc:975] successful NUMA node read from SysFS had negative value (-1), but there must be at least one NUMA node, so returning NUMA node zero\n",
      "2023-03-31 10:32:19.247071: I tensorflow/stream_executor/cuda/cuda_gpu_executor.cc:975] successful NUMA node read from SysFS had negative value (-1), but there must be at least one NUMA node, so returning NUMA node zero\n",
      "2023-03-31 10:32:19.662277: I tensorflow/stream_executor/cuda/cuda_gpu_executor.cc:975] successful NUMA node read from SysFS had negative value (-1), but there must be at least one NUMA node, so returning NUMA node zero\n",
      "2023-03-31 10:32:19.662472: I tensorflow/stream_executor/cuda/cuda_gpu_executor.cc:975] successful NUMA node read from SysFS had negative value (-1), but there must be at least one NUMA node, so returning NUMA node zero\n",
      "2023-03-31 10:32:19.662626: I tensorflow/stream_executor/cuda/cuda_gpu_executor.cc:975] successful NUMA node read from SysFS had negative value (-1), but there must be at least one NUMA node, so returning NUMA node zero\n",
      "2023-03-31 10:32:19.662749: I tensorflow/core/common_runtime/gpu/gpu_device.cc:1532] Created device /job:localhost/replica:0/task:0/device:GPU:0 with 7380 MB memory:  -> device: 0, name: NVIDIA GeForce GTX 1080, pci bus id: 0000:00:05.0, compute capability: 6.1\n"
     ]
    },
    {
     "name": "stdout",
     "output_type": "stream",
     "text": [
      "Found 5179 files belonging to 5 classes.\n"
     ]
    }
   ],
   "source": [
    "from tensorflow.keras import layers\n",
    "\n",
    "train_data = tf.keras.preprocessing.image_dataset_from_directory(directory=train_dir,\n",
    "                                                                 image_size=(256,256),\n",
    "                                                                 label_mode='categorical', batch_size=64, \n",
    "                                                                 )\n",
    "val_data = tf.keras.preprocessing.image_dataset_from_directory(directory=val_dir,\n",
    "                                                                 image_size=(256,256),\n",
    "                                                                 label_mode='categorical', batch_size=64,\n",
    "                                                                )"
   ]
  },
  {
   "cell_type": "code",
   "execution_count": 5,
   "metadata": {},
   "outputs": [],
   "source": [
    "#Normalization of the data\n",
    "\n",
    "nrmzln_layer = layers.experimental.preprocessing.Rescaling(1./255)\n",
    "\n",
    "train_data = train_data.map(lambda x,\n",
    "                          y: (nrmzln_layer(x), y))\n",
    "\n",
    "val_data = val_data.map(lambda x,\n",
    "                          y: (nrmzln_layer(x), y))"
   ]
  },
  {
   "cell_type": "code",
   "execution_count": 6,
   "metadata": {},
   "outputs": [],
   "source": [
    "#Custom Model Architecture\n",
    "\n",
    "from keras.layers import LeakyReLU\n",
    "model = tf.keras.models.Sequential([\n",
    "                                    \n",
    "    # First convolution layer \n",
    "    tf.keras.layers.Conv2D(32, 3, activation=LeakyReLU(alpha=0.01),padding=\"same\", input_shape=(256, 256, 3),use_bias=True),\n",
    "    tf.keras.layers.MaxPooling2D(2, 2),\n",
    "    tf.keras.layers.Dropout(0.50),\n",
    "    \n",
    "\n",
    "    # Second convolution layer \n",
    "    tf.keras.layers.Conv2D(64, 3, activation=LeakyReLU(alpha=0.01),padding=\"same\",use_bias=True),\n",
    "    tf.keras.layers.MaxPooling2D(2,2),\n",
    "    BatchNormalization(),\n",
    "    tf.keras.layers.Dropout(0.25),\n",
    "\n",
    "    \n",
    "    # Third convolution layer  \n",
    "    tf.keras.layers.Conv2D(128, 2, activation=LeakyReLU(alpha=0.01),padding=\"same\",use_bias=True),\n",
    "    tf.keras.layers.MaxPooling2D(2,2),\n",
    "    BatchNormalization(),\n",
    "    tf.keras.layers.Dropout(0.15),\n",
    "\n",
    "    # Fourth convolution layer \n",
    "    tf.keras.layers.Conv2D(64, 1, activation=LeakyReLU(alpha=0.01),padding=\"same\",use_bias=True),\n",
    "    tf.keras.layers.MaxPooling2D(2,2),\n",
    "    tf.keras.layers.Dropout(0.10),\n",
    "\n",
    "    # Flatten the pooled feature maps\n",
    "    tf.keras.layers.Flatten(),\n",
    "\n",
    "    # Fully connected hidden layer\n",
    "    tf.keras.layers.Dense(96, activation=LeakyReLU(alpha=0.01),use_bias=True),\n",
    "\n",
    "    # Output layer\n",
    "    tf.keras.layers.Dense(5, activation='softmax',activity_regularizer=regularizers.L2(0.001))  \n",
    "\n",
    "])\n"
   ]
  },
  {
   "cell_type": "code",
   "execution_count": 7,
   "metadata": {},
   "outputs": [
    {
     "name": "stdout",
     "output_type": "stream",
     "text": [
      "Model: \"sequential\"\n",
      "_________________________________________________________________\n",
      " Layer (type)                Output Shape              Param #   \n",
      "=================================================================\n",
      " conv2d (Conv2D)             (None, 256, 256, 32)      896       \n",
      "                                                                 \n",
      " max_pooling2d (MaxPooling2D  (None, 128, 128, 32)     0         \n",
      " )                                                               \n",
      "                                                                 \n",
      " dropout (Dropout)           (None, 128, 128, 32)      0         \n",
      "                                                                 \n",
      " conv2d_1 (Conv2D)           (None, 128, 128, 64)      18496     \n",
      "                                                                 \n",
      " max_pooling2d_1 (MaxPooling  (None, 64, 64, 64)       0         \n",
      " 2D)                                                             \n",
      "                                                                 \n",
      " batch_normalization (BatchN  (None, 64, 64, 64)       256       \n",
      " ormalization)                                                   \n",
      "                                                                 \n",
      " dropout_1 (Dropout)         (None, 64, 64, 64)        0         \n",
      "                                                                 \n",
      " conv2d_2 (Conv2D)           (None, 64, 64, 128)       32896     \n",
      "                                                                 \n",
      " max_pooling2d_2 (MaxPooling  (None, 32, 32, 128)      0         \n",
      " 2D)                                                             \n",
      "                                                                 \n",
      " batch_normalization_1 (Batc  (None, 32, 32, 128)      512       \n",
      " hNormalization)                                                 \n",
      "                                                                 \n",
      " dropout_2 (Dropout)         (None, 32, 32, 128)       0         \n",
      "                                                                 \n",
      " conv2d_3 (Conv2D)           (None, 32, 32, 64)        8256      \n",
      "                                                                 \n",
      " max_pooling2d_3 (MaxPooling  (None, 16, 16, 64)       0         \n",
      " 2D)                                                             \n",
      "                                                                 \n",
      " dropout_3 (Dropout)         (None, 16, 16, 64)        0         \n",
      "                                                                 \n",
      " flatten (Flatten)           (None, 16384)             0         \n",
      "                                                                 \n",
      " dense (Dense)               (None, 96)                1572960   \n",
      "                                                                 \n",
      " dense_1 (Dense)             (None, 5)                 485       \n",
      "                                                                 \n",
      "=================================================================\n",
      "Total params: 1,634,757\n",
      "Trainable params: 1,634,373\n",
      "Non-trainable params: 384\n",
      "_________________________________________________________________\n"
     ]
    }
   ],
   "source": [
    "#print model summary\n",
    "\n",
    "model.summary()"
   ]
  },
  {
   "cell_type": "code",
   "execution_count": 8,
   "metadata": {},
   "outputs": [],
   "source": [
    "#Performance evaluation Metrics delcaration \n",
    "\n",
    "from tensorflow.keras.optimizers import Adam\n",
    "from tensorflow.keras.metrics import SensitivityAtSpecificity,SpecificityAtSensitivity,Recall,Precision\n",
    "\n",
    "model.compile(loss=tf.losses.categorical_crossentropy,\n",
    "              optimizer=Adam(learning_rate=0.001),\n",
    "              metrics=['accuracy',SensitivityAtSpecificity(0.5),SpecificityAtSensitivity(0.5),Recall(0.5),Precision(0.5)]) \n"
   ]
  },
  {
   "cell_type": "code",
   "execution_count": 9,
   "metadata": {},
   "outputs": [
    {
     "name": "stdout",
     "output_type": "stream",
     "text": [
      "Device Spec:  /job:localhost/replica:0/device:GPU:*\n",
      "WARNING:tensorflow:`period` argument is deprecated. Please use `save_freq` to specify the frequency in number of batches seen.\n",
      "Epoch 1/150\n"
     ]
    },
    {
     "name": "stderr",
     "output_type": "stream",
     "text": [
      "2023-03-31 10:32:23.124517: I tensorflow/stream_executor/cuda/cuda_dnn.cc:384] Loaded cuDNN version 8100\n",
      "2023-03-31 10:32:23.312331: I tensorflow/core/platform/default/subprocess.cc:304] Start cannot spawn child process: No such file or directory\n"
     ]
    },
    {
     "name": "stdout",
     "output_type": "stream",
     "text": [
      "204/204 [==============================] - ETA: 0s - loss: 2.9972 - accuracy: 0.3485 - sensitivity_at_specificity: 0.6969 - specificity_at_sensitivity: 0.7105 - recall: 0.0928 - precision: 0.3475\n",
      "Epoch 1: val_accuracy improved from -inf to 0.36562, saving model to ECG_Spectrogram_Model.h5\n",
      "204/204 [==============================] - 35s 155ms/step - loss: 2.9972 - accuracy: 0.3485 - sensitivity_at_specificity: 0.6969 - specificity_at_sensitivity: 0.7105 - recall: 0.0928 - precision: 0.3475 - val_loss: 1.4692 - val_accuracy: 0.3656 - val_sensitivity_at_specificity: 0.7188 - val_specificity_at_sensitivity: 0.6375 - val_recall: 0.0000e+00 - val_precision: 0.0000e+00\n",
      "Epoch 2/150\n",
      "204/204 [==============================] - ETA: 0s - loss: 1.3640 - accuracy: 0.4544 - sensitivity_at_specificity: 0.8161 - specificity_at_sensitivity: 0.8338 - recall: 0.2005 - precision: 0.5874\n",
      "Epoch 2: val_accuracy improved from 0.36562 to 0.49062, saving model to ECG_Spectrogram_Model.h5\n",
      "204/204 [==============================] - 31s 150ms/step - loss: 1.3640 - accuracy: 0.4544 - sensitivity_at_specificity: 0.8161 - specificity_at_sensitivity: 0.8338 - recall: 0.2005 - precision: 0.5874 - val_loss: 1.3097 - val_accuracy: 0.4906 - val_sensitivity_at_specificity: 0.8813 - val_specificity_at_sensitivity: 0.8586 - val_recall: 0.1375 - val_precision: 0.8800\n",
      "Epoch 3/150\n",
      "204/204 [==============================] - ETA: 0s - loss: 1.1726 - accuracy: 0.5335 - sensitivity_at_specificity: 0.8978 - specificity_at_sensitivity: 0.9037 - recall: 0.3466 - precision: 0.6789\n",
      "Epoch 3: val_accuracy did not improve from 0.49062\n",
      "204/204 [==============================] - 30s 148ms/step - loss: 1.1726 - accuracy: 0.5335 - sensitivity_at_specificity: 0.8978 - specificity_at_sensitivity: 0.9037 - recall: 0.3466 - precision: 0.6789 - val_loss: 1.5403 - val_accuracy: 0.2344 - val_sensitivity_at_specificity: 0.6094 - val_specificity_at_sensitivity: 0.6156 - val_recall: 0.1187 - val_precision: 0.7600\n",
      "Epoch 4/150\n",
      "204/204 [==============================] - ETA: 0s - loss: 0.9350 - accuracy: 0.6434 - sensitivity_at_specificity: 0.9600 - specificity_at_sensitivity: 0.9591 - recall: 0.5120 - precision: 0.7514\n",
      "Epoch 4: val_accuracy improved from 0.49062 to 0.55313, saving model to ECG_Spectrogram_Model.h5\n",
      "204/204 [==============================] - 31s 150ms/step - loss: 0.9350 - accuracy: 0.6434 - sensitivity_at_specificity: 0.9600 - specificity_at_sensitivity: 0.9591 - recall: 0.5120 - precision: 0.7514 - val_loss: 1.0887 - val_accuracy: 0.5531 - val_sensitivity_at_specificity: 0.9500 - val_specificity_at_sensitivity: 0.9086 - val_recall: 0.4375 - val_precision: 0.6452\n",
      "Epoch 5/150\n",
      "204/204 [==============================] - ETA: 0s - loss: 0.7793 - accuracy: 0.7054 - sensitivity_at_specificity: 0.9783 - specificity_at_sensitivity: 0.9787 - recall: 0.6202 - precision: 0.7823\n",
      "Epoch 5: val_accuracy improved from 0.55313 to 0.76875, saving model to ECG_Spectrogram_Model.h5\n",
      "204/204 [==============================] - 31s 151ms/step - loss: 0.7793 - accuracy: 0.7054 - sensitivity_at_specificity: 0.9783 - specificity_at_sensitivity: 0.9787 - recall: 0.6202 - precision: 0.7823 - val_loss: 0.6682 - val_accuracy: 0.7688 - val_sensitivity_at_specificity: 0.9875 - val_specificity_at_sensitivity: 0.9828 - val_recall: 0.6875 - val_precision: 0.8088\n",
      "Epoch 6/150\n",
      "204/204 [==============================] - ETA: 0s - loss: 0.7152 - accuracy: 0.7285 - sensitivity_at_specificity: 0.9845 - specificity_at_sensitivity: 0.9844 - recall: 0.6587 - precision: 0.7938\n",
      "Epoch 6: val_accuracy did not improve from 0.76875\n",
      "204/204 [==============================] - 31s 150ms/step - loss: 0.7152 - accuracy: 0.7285 - sensitivity_at_specificity: 0.9845 - specificity_at_sensitivity: 0.9844 - recall: 0.6587 - precision: 0.7938 - val_loss: 1.0976 - val_accuracy: 0.6344 - val_sensitivity_at_specificity: 0.9563 - val_specificity_at_sensitivity: 0.9563 - val_recall: 0.5875 - val_precision: 0.6596\n",
      "Epoch 7/150\n",
      "204/204 [==============================] - ETA: 0s - loss: 0.6396 - accuracy: 0.7627 - sensitivity_at_specificity: 0.9885 - specificity_at_sensitivity: 0.9901 - recall: 0.6988 - precision: 0.8191\n",
      "Epoch 7: val_accuracy did not improve from 0.76875\n",
      "204/204 [==============================] - 31s 151ms/step - loss: 0.6396 - accuracy: 0.7627 - sensitivity_at_specificity: 0.9885 - specificity_at_sensitivity: 0.9901 - recall: 0.6988 - precision: 0.8191 - val_loss: 1.1278 - val_accuracy: 0.6500 - val_sensitivity_at_specificity: 0.9062 - val_specificity_at_sensitivity: 0.9672 - val_recall: 0.5656 - val_precision: 0.7510\n",
      "Epoch 8/150\n",
      "204/204 [==============================] - ETA: 0s - loss: 0.5927 - accuracy: 0.7797 - sensitivity_at_specificity: 0.9909 - specificity_at_sensitivity: 0.9925 - recall: 0.7259 - precision: 0.8306\n",
      "Epoch 8: val_accuracy did not improve from 0.76875\n",
      "204/204 [==============================] - 31s 151ms/step - loss: 0.5927 - accuracy: 0.7797 - sensitivity_at_specificity: 0.9909 - specificity_at_sensitivity: 0.9925 - recall: 0.7259 - precision: 0.8306 - val_loss: 0.6824 - val_accuracy: 0.7500 - val_sensitivity_at_specificity: 0.9844 - val_specificity_at_sensitivity: 0.9867 - val_recall: 0.6969 - val_precision: 0.8168\n",
      "Epoch 9/150\n",
      "204/204 [==============================] - ETA: 0s - loss: 0.5549 - accuracy: 0.7972 - sensitivity_at_specificity: 0.9933 - specificity_at_sensitivity: 0.9942 - recall: 0.7518 - precision: 0.8435\n",
      "Epoch 9: val_accuracy improved from 0.76875 to 0.85938, saving model to ECG_Spectrogram_Model.h5\n",
      "204/204 [==============================] - 31s 152ms/step - loss: 0.5549 - accuracy: 0.7972 - sensitivity_at_specificity: 0.9933 - specificity_at_sensitivity: 0.9942 - recall: 0.7518 - precision: 0.8435 - val_loss: 0.4224 - val_accuracy: 0.8594 - val_sensitivity_at_specificity: 1.0000 - val_specificity_at_sensitivity: 0.9930 - val_recall: 0.8344 - val_precision: 0.8990\n",
      "Epoch 10/150\n",
      "204/204 [==============================] - ETA: 0s - loss: 0.5242 - accuracy: 0.7999 - sensitivity_at_specificity: 0.9953 - specificity_at_sensitivity: 0.9957 - recall: 0.7584 - precision: 0.8444\n",
      "Epoch 10: val_accuracy did not improve from 0.85938\n",
      "204/204 [==============================] - 31s 151ms/step - loss: 0.5242 - accuracy: 0.7999 - sensitivity_at_specificity: 0.9953 - specificity_at_sensitivity: 0.9957 - recall: 0.7584 - precision: 0.8444 - val_loss: 1.0950 - val_accuracy: 0.6219 - val_sensitivity_at_specificity: 0.9375 - val_specificity_at_sensitivity: 0.9508 - val_recall: 0.5813 - val_precision: 0.6549\n",
      "Epoch 11/150\n",
      "204/204 [==============================] - ETA: 0s - loss: 0.4920 - accuracy: 0.8186 - sensitivity_at_specificity: 0.9949 - specificity_at_sensitivity: 0.9961 - recall: 0.7793 - precision: 0.8564\n",
      "Epoch 11: val_accuracy did not improve from 0.85938\n",
      "204/204 [==============================] - 31s 151ms/step - loss: 0.4920 - accuracy: 0.8186 - sensitivity_at_specificity: 0.9949 - specificity_at_sensitivity: 0.9961 - recall: 0.7793 - precision: 0.8564 - val_loss: 0.5657 - val_accuracy: 0.8062 - val_sensitivity_at_specificity: 0.9875 - val_specificity_at_sensitivity: 0.9930 - val_recall: 0.7688 - val_precision: 0.8283\n",
      "Epoch 12/150\n",
      "204/204 [==============================] - ETA: 0s - loss: 0.4720 - accuracy: 0.8248 - sensitivity_at_specificity: 0.9975 - specificity_at_sensitivity: 0.9969 - recall: 0.7901 - precision: 0.8592\n",
      "Epoch 12: val_accuracy did not improve from 0.85938\n",
      "204/204 [==============================] - 31s 152ms/step - loss: 0.4720 - accuracy: 0.8248 - sensitivity_at_specificity: 0.9975 - specificity_at_sensitivity: 0.9969 - recall: 0.7901 - precision: 0.8592 - val_loss: 0.7220 - val_accuracy: 0.7375 - val_sensitivity_at_specificity: 0.9844 - val_specificity_at_sensitivity: 0.9820 - val_recall: 0.6906 - val_precision: 0.7568\n",
      "Epoch 13/150\n",
      "204/204 [==============================] - ETA: 0s - loss: 0.4558 - accuracy: 0.8308 - sensitivity_at_specificity: 0.9976 - specificity_at_sensitivity: 0.9972 - recall: 0.7974 - precision: 0.8637\n",
      "Epoch 13: val_accuracy did not improve from 0.85938\n",
      "204/204 [==============================] - 31s 151ms/step - loss: 0.4558 - accuracy: 0.8308 - sensitivity_at_specificity: 0.9976 - specificity_at_sensitivity: 0.9972 - recall: 0.7974 - precision: 0.8637 - val_loss: 0.8418 - val_accuracy: 0.7188 - val_sensitivity_at_specificity: 0.9688 - val_specificity_at_sensitivity: 0.9805 - val_recall: 0.6812 - val_precision: 0.7543\n"
     ]
    },
    {
     "name": "stdout",
     "output_type": "stream",
     "text": [
      "Epoch 14/150\n",
      "204/204 [==============================] - ETA: 0s - loss: 0.4186 - accuracy: 0.8466 - sensitivity_at_specificity: 0.9974 - specificity_at_sensitivity: 0.9980 - recall: 0.8155 - precision: 0.8781\n",
      "Epoch 14: val_accuracy did not improve from 0.85938\n",
      "204/204 [==============================] - 31s 151ms/step - loss: 0.4186 - accuracy: 0.8466 - sensitivity_at_specificity: 0.9974 - specificity_at_sensitivity: 0.9980 - recall: 0.8155 - precision: 0.8781 - val_loss: 0.4527 - val_accuracy: 0.8375 - val_sensitivity_at_specificity: 0.9937 - val_specificity_at_sensitivity: 0.9937 - val_recall: 0.8156 - val_precision: 0.8758\n",
      "Epoch 15/150\n",
      "204/204 [==============================] - ETA: 0s - loss: 0.4075 - accuracy: 0.8505 - sensitivity_at_specificity: 0.9972 - specificity_at_sensitivity: 0.9983 - recall: 0.8230 - precision: 0.8774\n",
      "Epoch 15: val_accuracy did not improve from 0.85938\n",
      "204/204 [==============================] - 31s 150ms/step - loss: 0.4075 - accuracy: 0.8505 - sensitivity_at_specificity: 0.9972 - specificity_at_sensitivity: 0.9983 - recall: 0.8230 - precision: 0.8774 - val_loss: 0.4978 - val_accuracy: 0.8219 - val_sensitivity_at_specificity: 0.9906 - val_specificity_at_sensitivity: 0.9937 - val_recall: 0.8000 - val_precision: 0.8366\n",
      "Epoch 16/150\n",
      "204/204 [==============================] - ETA: 0s - loss: 0.3715 - accuracy: 0.8652 - sensitivity_at_specificity: 0.9984 - specificity_at_sensitivity: 0.9987 - recall: 0.8388 - precision: 0.8906\n",
      "Epoch 16: val_accuracy improved from 0.85938 to 0.86563, saving model to ECG_Spectrogram_Model.h5\n",
      "204/204 [==============================] - 31s 152ms/step - loss: 0.3715 - accuracy: 0.8652 - sensitivity_at_specificity: 0.9984 - specificity_at_sensitivity: 0.9987 - recall: 0.8388 - precision: 0.8906 - val_loss: 0.3478 - val_accuracy: 0.8656 - val_sensitivity_at_specificity: 1.0000 - val_specificity_at_sensitivity: 0.9977 - val_recall: 0.8500 - val_precision: 0.8860\n",
      "Epoch 17/150\n",
      "204/204 [==============================] - ETA: 0s - loss: 0.3793 - accuracy: 0.8600 - sensitivity_at_specificity: 0.9985 - specificity_at_sensitivity: 0.9986 - recall: 0.8340 - precision: 0.8852\n",
      "Epoch 17: val_accuracy did not improve from 0.86563\n",
      "204/204 [==============================] - 31s 151ms/step - loss: 0.3793 - accuracy: 0.8600 - sensitivity_at_specificity: 0.9985 - specificity_at_sensitivity: 0.9986 - recall: 0.8340 - precision: 0.8852 - val_loss: 0.5198 - val_accuracy: 0.8375 - val_sensitivity_at_specificity: 0.9937 - val_specificity_at_sensitivity: 0.9922 - val_recall: 0.8250 - val_precision: 0.8516\n",
      "Epoch 18/150\n",
      "204/204 [==============================] - ETA: 0s - loss: 0.3609 - accuracy: 0.8662 - sensitivity_at_specificity: 0.9978 - specificity_at_sensitivity: 0.9989 - recall: 0.8458 - precision: 0.8905\n",
      "Epoch 18: val_accuracy did not improve from 0.86563\n",
      "204/204 [==============================] - 31s 151ms/step - loss: 0.3609 - accuracy: 0.8662 - sensitivity_at_specificity: 0.9978 - specificity_at_sensitivity: 0.9989 - recall: 0.8458 - precision: 0.8905 - val_loss: 0.7478 - val_accuracy: 0.7500 - val_sensitivity_at_specificity: 0.9844 - val_specificity_at_sensitivity: 0.9898 - val_recall: 0.7125 - val_precision: 0.7862\n",
      "Epoch 19/150\n",
      "204/204 [==============================] - ETA: 0s - loss: 0.3238 - accuracy: 0.8834 - sensitivity_at_specificity: 0.9985 - specificity_at_sensitivity: 0.9992 - recall: 0.8617 - precision: 0.9039\n",
      "Epoch 19: val_accuracy did not improve from 0.86563\n",
      "204/204 [==============================] - 31s 151ms/step - loss: 0.3238 - accuracy: 0.8834 - sensitivity_at_specificity: 0.9985 - specificity_at_sensitivity: 0.9992 - recall: 0.8617 - precision: 0.9039 - val_loss: 0.4556 - val_accuracy: 0.8313 - val_sensitivity_at_specificity: 0.9969 - val_specificity_at_sensitivity: 1.0000 - val_recall: 0.8000 - val_precision: 0.8366\n",
      "Epoch 20/150\n",
      "204/204 [==============================] - ETA: 0s - loss: 0.3320 - accuracy: 0.8808 - sensitivity_at_specificity: 0.9985 - specificity_at_sensitivity: 0.9993 - recall: 0.8590 - precision: 0.9005\n",
      "Epoch 20: val_accuracy improved from 0.86563 to 0.89375, saving model to ECG_Spectrogram_Model.h5\n",
      "204/204 [==============================] - 31s 152ms/step - loss: 0.3320 - accuracy: 0.8808 - sensitivity_at_specificity: 0.9985 - specificity_at_sensitivity: 0.9993 - recall: 0.8590 - precision: 0.9005 - val_loss: 0.2842 - val_accuracy: 0.8938 - val_sensitivity_at_specificity: 0.9937 - val_specificity_at_sensitivity: 1.0000 - val_recall: 0.8844 - val_precision: 0.8956\n",
      "Epoch 21/150\n",
      "204/204 [==============================] - ETA: 0s - loss: 0.3162 - accuracy: 0.8861 - sensitivity_at_specificity: 0.9982 - specificity_at_sensitivity: 0.9993 - recall: 0.8671 - precision: 0.9056\n",
      "Epoch 21: val_accuracy did not improve from 0.89375\n",
      "204/204 [==============================] - 31s 150ms/step - loss: 0.3162 - accuracy: 0.8861 - sensitivity_at_specificity: 0.9982 - specificity_at_sensitivity: 0.9993 - recall: 0.8671 - precision: 0.9056 - val_loss: 0.7266 - val_accuracy: 0.7906 - val_sensitivity_at_specificity: 0.9625 - val_specificity_at_sensitivity: 0.9914 - val_recall: 0.7812 - val_precision: 0.7911\n",
      "Epoch 22/150\n",
      "204/204 [==============================] - ETA: 0s - loss: 0.3111 - accuracy: 0.8880 - sensitivity_at_specificity: 0.9978 - specificity_at_sensitivity: 0.9992 - recall: 0.8670 - precision: 0.9077\n",
      "Epoch 22: val_accuracy did not improve from 0.89375\n",
      "204/204 [==============================] - 31s 151ms/step - loss: 0.3111 - accuracy: 0.8880 - sensitivity_at_specificity: 0.9978 - specificity_at_sensitivity: 0.9992 - recall: 0.8670 - precision: 0.9077 - val_loss: 0.4112 - val_accuracy: 0.8625 - val_sensitivity_at_specificity: 0.9969 - val_specificity_at_sensitivity: 0.9992 - val_recall: 0.8625 - val_precision: 0.8679\n",
      "Epoch 23/150\n",
      "204/204 [==============================] - ETA: 0s - loss: 0.3051 - accuracy: 0.8898 - sensitivity_at_specificity: 0.9988 - specificity_at_sensitivity: 0.9995 - recall: 0.8689 - precision: 0.9086\n",
      "Epoch 23: val_accuracy did not improve from 0.89375\n",
      "204/204 [==============================] - 31s 151ms/step - loss: 0.3051 - accuracy: 0.8898 - sensitivity_at_specificity: 0.9988 - specificity_at_sensitivity: 0.9995 - recall: 0.8689 - precision: 0.9086 - val_loss: 0.3707 - val_accuracy: 0.8813 - val_sensitivity_at_specificity: 0.9875 - val_specificity_at_sensitivity: 0.9984 - val_recall: 0.8656 - val_precision: 0.8850\n",
      "Epoch 24/150\n",
      "204/204 [==============================] - ETA: 0s - loss: 0.2749 - accuracy: 0.8996 - sensitivity_at_specificity: 0.9989 - specificity_at_sensitivity: 0.9996 - recall: 0.8830 - precision: 0.9167\n",
      "Epoch 24: val_accuracy did not improve from 0.89375\n",
      "204/204 [==============================] - 31s 150ms/step - loss: 0.2749 - accuracy: 0.8996 - sensitivity_at_specificity: 0.9989 - specificity_at_sensitivity: 0.9996 - recall: 0.8830 - precision: 0.9167 - val_loss: 0.2910 - val_accuracy: 0.8844 - val_sensitivity_at_specificity: 0.9969 - val_specificity_at_sensitivity: 0.9984 - val_recall: 0.8781 - val_precision: 0.8921\n",
      "Epoch 25/150\n",
      "204/204 [==============================] - ETA: 0s - loss: 0.2650 - accuracy: 0.9031 - sensitivity_at_specificity: 0.9988 - specificity_at_sensitivity: 0.9997 - recall: 0.8877 - precision: 0.9189\n",
      "Epoch 25: val_accuracy improved from 0.89375 to 0.93437, saving model to ECG_Spectrogram_Model.h5\n",
      "204/204 [==============================] - 31s 152ms/step - loss: 0.2650 - accuracy: 0.9031 - sensitivity_at_specificity: 0.9988 - specificity_at_sensitivity: 0.9997 - recall: 0.8877 - precision: 0.9189 - val_loss: 0.1934 - val_accuracy: 0.9344 - val_sensitivity_at_specificity: 0.9969 - val_specificity_at_sensitivity: 1.0000 - val_recall: 0.9344 - val_precision: 0.9373\n",
      "Epoch 26/150\n",
      "204/204 [==============================] - ETA: 0s - loss: 0.2605 - accuracy: 0.9048 - sensitivity_at_specificity: 0.9988 - specificity_at_sensitivity: 0.9997 - recall: 0.8898 - precision: 0.9199\n",
      "Epoch 26: val_accuracy did not improve from 0.93437\n",
      "204/204 [==============================] - 31s 150ms/step - loss: 0.2605 - accuracy: 0.9048 - sensitivity_at_specificity: 0.9988 - specificity_at_sensitivity: 0.9997 - recall: 0.8898 - precision: 0.9199 - val_loss: 0.3850 - val_accuracy: 0.8813 - val_sensitivity_at_specificity: 0.9906 - val_specificity_at_sensitivity: 0.9992 - val_recall: 0.8656 - val_precision: 0.8878\n"
     ]
    },
    {
     "name": "stdout",
     "output_type": "stream",
     "text": [
      "Epoch 27/150\n",
      "204/204 [==============================] - ETA: 0s - loss: 0.2537 - accuracy: 0.9051 - sensitivity_at_specificity: 0.9992 - specificity_at_sensitivity: 0.9996 - recall: 0.8910 - precision: 0.9199\n",
      "Epoch 27: val_accuracy did not improve from 0.93437\n",
      "204/204 [==============================] - 31s 150ms/step - loss: 0.2537 - accuracy: 0.9051 - sensitivity_at_specificity: 0.9992 - specificity_at_sensitivity: 0.9996 - recall: 0.8910 - precision: 0.9199 - val_loss: 0.2460 - val_accuracy: 0.9094 - val_sensitivity_at_specificity: 0.9969 - val_specificity_at_sensitivity: 1.0000 - val_recall: 0.8938 - val_precision: 0.9256\n",
      "Epoch 28/150\n",
      "204/204 [==============================] - ETA: 0s - loss: 0.2337 - accuracy: 0.9122 - sensitivity_at_specificity: 0.9992 - specificity_at_sensitivity: 0.9997 - recall: 0.8996 - precision: 0.9244\n",
      "Epoch 28: val_accuracy did not improve from 0.93437\n",
      "204/204 [==============================] - 31s 151ms/step - loss: 0.2337 - accuracy: 0.9122 - sensitivity_at_specificity: 0.9992 - specificity_at_sensitivity: 0.9997 - recall: 0.8996 - precision: 0.9244 - val_loss: 0.2091 - val_accuracy: 0.9250 - val_sensitivity_at_specificity: 1.0000 - val_specificity_at_sensitivity: 1.0000 - val_recall: 0.9156 - val_precision: 0.9391\n",
      "Epoch 29/150\n",
      "204/204 [==============================] - ETA: 0s - loss: 0.2208 - accuracy: 0.9177 - sensitivity_at_specificity: 0.9994 - specificity_at_sensitivity: 0.9998 - recall: 0.9056 - precision: 0.9306\n",
      "Epoch 29: val_accuracy did not improve from 0.93437\n",
      "204/204 [==============================] - 31s 151ms/step - loss: 0.2208 - accuracy: 0.9177 - sensitivity_at_specificity: 0.9994 - specificity_at_sensitivity: 0.9998 - recall: 0.9056 - precision: 0.9306 - val_loss: 0.2789 - val_accuracy: 0.8906 - val_sensitivity_at_specificity: 1.0000 - val_specificity_at_sensitivity: 1.0000 - val_recall: 0.8906 - val_precision: 0.8962\n",
      "Epoch 30/150\n",
      "204/204 [==============================] - ETA: 0s - loss: 0.2318 - accuracy: 0.9137 - sensitivity_at_specificity: 0.9987 - specificity_at_sensitivity: 0.9998 - recall: 0.9031 - precision: 0.9269\n",
      "Epoch 30: val_accuracy did not improve from 0.93437\n",
      "204/204 [==============================] - 31s 151ms/step - loss: 0.2318 - accuracy: 0.9137 - sensitivity_at_specificity: 0.9987 - specificity_at_sensitivity: 0.9998 - recall: 0.9031 - precision: 0.9269 - val_loss: 0.1996 - val_accuracy: 0.9281 - val_sensitivity_at_specificity: 0.9969 - val_specificity_at_sensitivity: 1.0000 - val_recall: 0.9250 - val_precision: 0.9397\n",
      "Epoch 31/150\n",
      "204/204 [==============================] - ETA: 0s - loss: 0.2195 - accuracy: 0.9194 - sensitivity_at_specificity: 0.9988 - specificity_at_sensitivity: 0.9998 - recall: 0.9084 - precision: 0.9313\n",
      "Epoch 31: val_accuracy did not improve from 0.93437\n",
      "204/204 [==============================] - 31s 150ms/step - loss: 0.2195 - accuracy: 0.9194 - sensitivity_at_specificity: 0.9988 - specificity_at_sensitivity: 0.9998 - recall: 0.9084 - precision: 0.9313 - val_loss: 0.1874 - val_accuracy: 0.9156 - val_sensitivity_at_specificity: 1.0000 - val_specificity_at_sensitivity: 1.0000 - val_recall: 0.9156 - val_precision: 0.9243\n",
      "Epoch 32/150\n",
      "204/204 [==============================] - ETA: 0s - loss: 0.2115 - accuracy: 0.9229 - sensitivity_at_specificity: 0.9986 - specificity_at_sensitivity: 0.9999 - recall: 0.9124 - precision: 0.9334\n",
      "Epoch 32: val_accuracy did not improve from 0.93437\n",
      "204/204 [==============================] - 31s 151ms/step - loss: 0.2115 - accuracy: 0.9229 - sensitivity_at_specificity: 0.9986 - specificity_at_sensitivity: 0.9999 - recall: 0.9124 - precision: 0.9334 - val_loss: 0.2568 - val_accuracy: 0.9156 - val_sensitivity_at_specificity: 0.9906 - val_specificity_at_sensitivity: 0.9977 - val_recall: 0.9062 - val_precision: 0.9206\n"
     ]
    }
   ],
   "source": [
    "#Model Execution\n",
    "\n",
    "from keras.callbacks import ModelCheckpoint, EarlyStopping\n",
    "\n",
    "# Initializing Device Specification\n",
    "device_spec = tf.DeviceSpec(job =\"localhost\", replica = 0, device_type = \"GPU\")\n",
    " \n",
    "# Printing the DeviceSpec\n",
    "print('Device Spec: ', device_spec.to_string())\n",
    " \n",
    "# Enabling device logging\n",
    "tf.debugging.set_log_device_placement(True)\n",
    " \n",
    "# Specifying the device\n",
    "with tf.device(device_spec):\n",
    "    \n",
    "#with tf.device('/gpu:10'):\n",
    "    \n",
    "    checkpoint = ModelCheckpoint(\"ECG_Spectrogram_Model.h5\", monitor='val_accuracy', verbose=1, save_best_only=True, save_weights_only=False, mode='auto', period=1)\n",
    "    mycallback=tf.keras.callbacks.EarlyStopping(monitor=\"val_accuracy\", patience=7, mode=\"auto\")\n",
    "    \n",
    "    history = model.fit(\n",
    "          train_data,\n",
    "          #steps_per_epoch=20, \n",
    "          epochs=150,\n",
    "          verbose=1,\n",
    "          validation_data = val_data,\n",
    "          validation_steps=5, \n",
    "          callbacks = [mycallback,checkpoint]\n",
    "    ) "
   ]
  },
  {
   "cell_type": "code",
   "execution_count": 10,
   "metadata": {},
   "outputs": [
    {
     "name": "stdout",
     "output_type": "stream",
     "text": [
      "Training Accuracy:  0.9229294657707214\n",
      "Validation Accuracy:  0.7733398415148258\n",
      "Validation Specificity:  1.0\n",
      "Validation Sensitivity:  1.0\n",
      "Validation Recall:  0.934374988079071\n",
      "Validation Precision:  0.9396825432777405\n",
      "Validation Loss:  0.18736958503723145\n"
     ]
    }
   ],
   "source": [
    "import statistics\n",
    "Training_Accuracy=history.history['accuracy']\n",
    "Validation_Accuracy=history.history['val_accuracy']\n",
    "Validation_Specificity=history.history['val_specificity_at_sensitivity']\n",
    "Validation_Sensitivity=history.history['val_sensitivity_at_specificity']\n",
    "Validation_Recall=history.history['val_recall']\n",
    "Validation_Precision=history.history['val_precision']\n",
    "Validation_Loss=history.history['val_loss']\n",
    "\n",
    "print(\"Training Accuracy: \",max(Training_Accuracy))\n",
    "print(\"Validation Accuracy: \",statistics.mean(Validation_Accuracy))\n",
    "print(\"Validation Specificity: \",max(Validation_Specificity))\n",
    "print(\"Validation Sensitivity: \",max(Validation_Sensitivity))\n",
    "print(\"Validation Recall: \",max(Validation_Recall))\n",
    "print(\"Validation Precision: \",max(Validation_Precision))\n",
    "print(\"Validation Loss: \",min(Validation_Loss))"
   ]
  },
  {
   "cell_type": "code",
   "execution_count": 11,
   "metadata": {},
   "outputs": [
    {
     "data": {
      "image/png": "[encoded data removed]",
      "text/plain": [
       "<Figure size 720x432 with 1 Axes>"
      ]
     },
     "metadata": {
      "needs_background": "light"
     },
     "output_type": "display_data"
    }
   ],
   "source": [
    "plt.figure(figsize=(10,6))\n",
    "plt.plot(history.history['accuracy'])\n",
    "plt.plot(history.history['val_accuracy'])\n",
    "plt.title('Model accuracy')\n",
    "plt.ylabel('Accuracy')\n",
    "plt.xlabel('Epoch')\n",
    "plt.legend(['Train', 'Validation'], loc='upper left')\n",
    "plt.show()"
   ]
  },
  {
   "cell_type": "code",
   "execution_count": 12,
   "metadata": {},
   "outputs": [
    {
     "data": {
      "image/png": "[encoded data removed]",
      "text/plain": [
       "<Figure size 720x432 with 1 Axes>"
      ]
     },
     "metadata": {
      "needs_background": "light"
     },
     "output_type": "display_data"
    }
   ],
   "source": [
    "plt.figure(figsize=(10,6))\n",
    "plt.plot(history.history['loss'])\n",
    "plt.plot(history.history['val_loss'])\n",
    "plt.title('Model Loss')\n",
    "plt.ylabel('Loss')\n",
    "plt.xlabel('Epoch')\n",
    "plt.legend(['Train', 'Validation'], loc='upper left')\n",
    "plt.show()"
   ]
  },
  {
   "cell_type": "code",
   "execution_count": null,
   "metadata": {},
   "outputs": [],
   "source": []
  },
  {
   "cell_type": "code",
   "execution_count": null,
   "metadata": {},
   "outputs": [],
   "source": []
  }
 ],
 "metadata": {
  "accelerator": "GPU",
  "colab": {
   "collapsed_sections": [
    "7e88OLey6Bgd"
   ],
   "provenance": []
  },
  "gpuClass": "standard",
  "kernelspec": {
   "display_name": "Python 3 (ipykernel)",
   "language": "python",
   "name": "python3"
  },
  "language_info": {
   "codemirror_mode": {
    "name": "ipython",
    "version": 3
   },
   "file_extension": ".py",
   "mimetype": "text/x-python",
   "name": "python",
   "nbconvert_exporter": "python",
   "pygments_lexer": "ipython3",
   "version": "3.10.6"
  }
 },
 "nbformat": 4,
 "nbformat_minor": 4
}
