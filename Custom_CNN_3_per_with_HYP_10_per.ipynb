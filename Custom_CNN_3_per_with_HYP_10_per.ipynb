{
 "cells": [
  {
   "cell_type": "markdown",
   "metadata": {
    "id": "SsTzc3oi726u"
   },
   "source": [
    "# **Building a Convolutional Neural Network with Keras**"
   ]
  },
  {
   "cell_type": "code",
   "execution_count": 1,
   "metadata": {},
   "outputs": [
    {
     "name": "stdout",
     "output_type": "stream",
     "text": [
      "2.9.1\n"
     ]
    }
   ],
   "source": [
    "#Tensorflow version\n",
    "\n",
    "import tensorflow as tf\n",
    "print(tf.__version__)"
   ]
  },
  {
   "cell_type": "code",
   "execution_count": 2,
   "metadata": {},
   "outputs": [],
   "source": [
    "#Importing libraries\n",
    "\n",
    "import tensorflow as tf\n",
    "from tensorflow import keras\n",
    "from keras.layers import Input, Conv2D, Dense, Flatten, BatchNormalization, Dropout, MaxPooling2D, GlobalMaxPooling2D\n",
    "from keras.models import Model\n",
    "import matplotlib.pyplot as plt\n",
    "from keras.applications.efficientnet import EfficientNetB0\n",
    "from keras.preprocessing import image\n",
    "#from keras.preprocessing.image import load_img\n",
    "from keras.models import Sequential\n",
    "import numpy as np\n",
    "from tensorflow.keras import regularizers"
   ]
  },
  {
   "cell_type": "code",
   "execution_count": 3,
   "metadata": {},
   "outputs": [],
   "source": [
    "# 3 percent with HYP 10 percent\n",
    "train_dir='/home/ubuntu/From_Laptop/multi-class-NEW/12-Lead_ECG_version_2/DA_version_3/Model_Training/3 percent with HYP 10 percent - v2/Training/'\n",
    "val_dir='/home/ubuntu/From_Laptop/multi-class-NEW/12-Lead_ECG_version_2/DA_version_3/Model_Training/3 percent with HYP 10 percent - v2/Validation/'\n",
    "\n",
    "# 3 percent with HYP 10 percent\n",
    "#train_dir=\"/home/ubuntu/From_Laptop/multi-class-NEW/12-Lead_ECG_version_2/DA_version_3/Model_Training/3 percent with HYP 20 percent - v2--New/Training/\"\n",
    "#val_dir=\"/home/ubuntu/From_Laptop/multi-class-NEW/12-Lead_ECG_version_2/DA_version_3/Model_Training/3 percent with HYP 20 percent - v2--New/Validation/\"\n",
    "\n",
    "\n",
    "# 20 percent\n",
    "#train_dir='/home/ubuntu/From_Laptop/multi-class-NEW/12-Lead_ECG_version_2/DA_version_3/Model_Training/10 percent/Training/'\n",
    "#val_dir='/home/ubuntu/From_Laptop/multi-class-NEW/12-Lead_ECG_version_2/DA_version_3/Model_Training/10 percent/Validation/'\n",
    "\n",
    "\n",
    "# 3 percent with HYP 10 percent (17000)\n",
    "#train_dir=\"/home/ubuntu/From_Laptop/multi-class-NEW/12-Lead_ECG_version_2/DA_version_3/Model_Training/3 percent with HYP 10 percent - v2 - 17000/Training/\"\n",
    "#val_dir=\"/home/ubuntu/From_Laptop/multi-class-NEW/12-Lead_ECG_version_2/DA_version_3/Model_Training/3 percent with HYP 10 percent - v2 - 17000/Validation/\""
   ]
  },
  {
   "cell_type": "code",
   "execution_count": 4,
   "metadata": {},
   "outputs": [
    {
     "name": "stdout",
     "output_type": "stream",
     "text": [
      "Found 30246 files belonging to 5 classes.\n"
     ]
    },
    {
     "name": "stderr",
     "output_type": "stream",
     "text": [
      "2023-03-23 12:25:45.183379: I tensorflow/stream_executor/cuda/cuda_gpu_executor.cc:975] successful NUMA node read from SysFS had negative value (-1), but there must be at least one NUMA node, so returning NUMA node zero\n",
      "2023-03-23 12:25:45.207941: I tensorflow/stream_executor/cuda/cuda_gpu_executor.cc:975] successful NUMA node read from SysFS had negative value (-1), but there must be at least one NUMA node, so returning NUMA node zero\n",
      "2023-03-23 12:25:45.208159: I tensorflow/stream_executor/cuda/cuda_gpu_executor.cc:975] successful NUMA node read from SysFS had negative value (-1), but there must be at least one NUMA node, so returning NUMA node zero\n",
      "2023-03-23 12:25:45.230241: I tensorflow/core/platform/cpu_feature_guard.cc:193] This TensorFlow binary is optimized with oneAPI Deep Neural Network Library (oneDNN) to use the following CPU instructions in performance-critical operations:  AVX2 FMA\n",
      "To enable them in other operations, rebuild TensorFlow with the appropriate compiler flags.\n",
      "2023-03-23 12:25:45.230738: I tensorflow/stream_executor/cuda/cuda_gpu_executor.cc:975] successful NUMA node read from SysFS had negative value (-1), but there must be at least one NUMA node, so returning NUMA node zero\n",
      "2023-03-23 12:25:45.230927: I tensorflow/stream_executor/cuda/cuda_gpu_executor.cc:975] successful NUMA node read from SysFS had negative value (-1), but there must be at least one NUMA node, so returning NUMA node zero\n",
      "2023-03-23 12:25:45.231072: I tensorflow/stream_executor/cuda/cuda_gpu_executor.cc:975] successful NUMA node read from SysFS had negative value (-1), but there must be at least one NUMA node, so returning NUMA node zero\n",
      "2023-03-23 12:25:45.708923: I tensorflow/stream_executor/cuda/cuda_gpu_executor.cc:975] successful NUMA node read from SysFS had negative value (-1), but there must be at least one NUMA node, so returning NUMA node zero\n",
      "2023-03-23 12:25:45.709113: I tensorflow/stream_executor/cuda/cuda_gpu_executor.cc:975] successful NUMA node read from SysFS had negative value (-1), but there must be at least one NUMA node, so returning NUMA node zero\n",
      "2023-03-23 12:25:45.709254: I tensorflow/stream_executor/cuda/cuda_gpu_executor.cc:975] successful NUMA node read from SysFS had negative value (-1), but there must be at least one NUMA node, so returning NUMA node zero\n",
      "2023-03-23 12:25:45.709369: I tensorflow/core/common_runtime/gpu/gpu_device.cc:1532] Created device /job:localhost/replica:0/task:0/device:GPU:0 with 7380 MB memory:  -> device: 0, name: NVIDIA GeForce GTX 1080, pci bus id: 0000:00:05.0, compute capability: 6.1\n"
     ]
    },
    {
     "name": "stdout",
     "output_type": "stream",
     "text": [
      "Found 8051 files belonging to 5 classes.\n"
     ]
    }
   ],
   "source": [
    "from tensorflow.keras import layers\n",
    "\n",
    "train_data = tf.keras.preprocessing.image_dataset_from_directory(directory=train_dir,\n",
    "                                                                 image_size=(256,256),\n",
    "                                                                 label_mode='categorical', batch_size=64, \n",
    "                                                                 )\n",
    "val_data = tf.keras.preprocessing.image_dataset_from_directory(directory=val_dir,\n",
    "                                                                 image_size=(256,256),\n",
    "                                                                 label_mode='categorical', batch_size=64,\n",
    "                                                                )"
   ]
  },
  {
   "cell_type": "code",
   "execution_count": 5,
   "metadata": {},
   "outputs": [],
   "source": [
    "#Normalization of the data\n",
    "\n",
    "nrmzln_layer = layers.experimental.preprocessing.Rescaling(1./255)\n",
    "\n",
    "train_data = train_data.map(lambda x,\n",
    "                          y: (nrmzln_layer(x), y))\n",
    "\n",
    "val_data = val_data.map(lambda x,\n",
    "                          y: (nrmzln_layer(x), y))"
   ]
  },
  {
   "cell_type": "code",
   "execution_count": 6,
   "metadata": {},
   "outputs": [],
   "source": [
    "#Custom Model Architecture\n",
    "\n",
    "from keras.layers import LeakyReLU\n",
    "model = tf.keras.models.Sequential([\n",
    "                                    \n",
    "    # First convolution layer \n",
    "    tf.keras.layers.Conv2D(32, 3, activation=LeakyReLU(alpha=0.01),padding=\"same\", input_shape=(256, 256, 3),use_bias=True),\n",
    "    tf.keras.layers.MaxPooling2D(2, 2),\n",
    "    tf.keras.layers.Dropout(0.50),\n",
    "    \n",
    "\n",
    "    # Second convolution layer \n",
    "    tf.keras.layers.Conv2D(64, 3, activation=LeakyReLU(alpha=0.01),padding=\"same\",use_bias=True),\n",
    "    tf.keras.layers.MaxPooling2D(2,2),\n",
    "    BatchNormalization(),\n",
    "    tf.keras.layers.Dropout(0.25),\n",
    "\n",
    "    \n",
    "    # Third convolution layer  \n",
    "    tf.keras.layers.Conv2D(128, 2, activation=LeakyReLU(alpha=0.01),padding=\"same\",use_bias=True),\n",
    "    tf.keras.layers.MaxPooling2D(2,2),\n",
    "    BatchNormalization(),\n",
    "    tf.keras.layers.Dropout(0.15),\n",
    "\n",
    "    # Fourth convolution layer \n",
    "    tf.keras.layers.Conv2D(64, 1, activation=LeakyReLU(alpha=0.01),padding=\"same\",use_bias=True),\n",
    "    tf.keras.layers.MaxPooling2D(2,2),\n",
    "    tf.keras.layers.Dropout(0.10),\n",
    "\n",
    "    # Flatten the pooled feature maps\n",
    "    tf.keras.layers.Flatten(),\n",
    "\n",
    "    # Fully connected hidden layer\n",
    "    tf.keras.layers.Dense(96, activation=LeakyReLU(alpha=0.01),use_bias=True),\n",
    "\n",
    "    # Output layer\n",
    "    tf.keras.layers.Dense(5, activation='softmax',activity_regularizer=regularizers.L2(0.001))  \n",
    "\n",
    "])\n"
   ]
  },
  {
   "cell_type": "code",
   "execution_count": 7,
   "metadata": {},
   "outputs": [
    {
     "name": "stdout",
     "output_type": "stream",
     "text": [
      "Model: \"sequential\"\n",
      "_________________________________________________________________\n",
      " Layer (type)                Output Shape              Param #   \n",
      "=================================================================\n",
      " conv2d (Conv2D)             (None, 256, 256, 32)      896       \n",
      "                                                                 \n",
      " max_pooling2d (MaxPooling2D  (None, 128, 128, 32)     0         \n",
      " )                                                               \n",
      "                                                                 \n",
      " dropout (Dropout)           (None, 128, 128, 32)      0         \n",
      "                                                                 \n",
      " conv2d_1 (Conv2D)           (None, 128, 128, 64)      18496     \n",
      "                                                                 \n",
      " max_pooling2d_1 (MaxPooling  (None, 64, 64, 64)       0         \n",
      " 2D)                                                             \n",
      "                                                                 \n",
      " batch_normalization (BatchN  (None, 64, 64, 64)       256       \n",
      " ormalization)                                                   \n",
      "                                                                 \n",
      " dropout_1 (Dropout)         (None, 64, 64, 64)        0         \n",
      "                                                                 \n",
      " conv2d_2 (Conv2D)           (None, 64, 64, 128)       32896     \n",
      "                                                                 \n",
      " max_pooling2d_2 (MaxPooling  (None, 32, 32, 128)      0         \n",
      " 2D)                                                             \n",
      "                                                                 \n",
      " batch_normalization_1 (Batc  (None, 32, 32, 128)      512       \n",
      " hNormalization)                                                 \n",
      "                                                                 \n",
      " dropout_2 (Dropout)         (None, 32, 32, 128)       0         \n",
      "                                                                 \n",
      " conv2d_3 (Conv2D)           (None, 32, 32, 64)        8256      \n",
      "                                                                 \n",
      " max_pooling2d_3 (MaxPooling  (None, 16, 16, 64)       0         \n",
      " 2D)                                                             \n",
      "                                                                 \n",
      " dropout_3 (Dropout)         (None, 16, 16, 64)        0         \n",
      "                                                                 \n",
      " flatten (Flatten)           (None, 16384)             0         \n",
      "                                                                 \n",
      " dense (Dense)               (None, 96)                1572960   \n",
      "                                                                 \n",
      " dense_1 (Dense)             (None, 5)                 485       \n",
      "                                                                 \n",
      "=================================================================\n",
      "Total params: 1,634,757\n",
      "Trainable params: 1,634,373\n",
      "Non-trainable params: 384\n",
      "_________________________________________________________________\n"
     ]
    }
   ],
   "source": [
    "#print model summary\n",
    "\n",
    "model.summary()"
   ]
  },
  {
   "cell_type": "code",
   "execution_count": 8,
   "metadata": {},
   "outputs": [],
   "source": [
    "#Performance evaluation Metrics delcaration \n",
    "\n",
    "from tensorflow.keras.optimizers import Adam\n",
    "from tensorflow.keras.metrics import SensitivityAtSpecificity,SpecificityAtSensitivity,Recall,Precision\n",
    "\n",
    "model.compile(loss=tf.losses.categorical_crossentropy,\n",
    "              optimizer=Adam(learning_rate=0.001),\n",
    "              metrics=['accuracy',SensitivityAtSpecificity(0.5),SpecificityAtSensitivity(0.5),Recall(0.5),Precision(0.5)]) \n"
   ]
  },
  {
   "cell_type": "code",
   "execution_count": 9,
   "metadata": {},
   "outputs": [
    {
     "name": "stdout",
     "output_type": "stream",
     "text": [
      "Device Spec:  /job:localhost/replica:0/device:GPU:*\n",
      "WARNING:tensorflow:`period` argument is deprecated. Please use `save_freq` to specify the frequency in number of batches seen.\n",
      "Epoch 1/150\n"
     ]
    },
    {
     "name": "stderr",
     "output_type": "stream",
     "text": [
      "2023-03-23 12:25:48.277795: I tensorflow/stream_executor/cuda/cuda_dnn.cc:384] Loaded cuDNN version 8100\n",
      "2023-03-23 12:25:48.470006: I tensorflow/core/platform/default/subprocess.cc:304] Start cannot spawn child process: No such file or directory\n"
     ]
    },
    {
     "name": "stdout",
     "output_type": "stream",
     "text": [
      "473/473 [==============================] - ETA: 0s - loss: 2.7552 - accuracy: 0.3122 - sensitivity_at_specificity: 0.6652 - specificity_at_sensitivity: 0.6707 - recall: 0.1420 - precision: 0.3902\n",
      "Epoch 1: val_accuracy improved from -inf to 0.24688, saving model to ECG_Spectrogram_Model.h5\n",
      "473/473 [==============================] - 74s 151ms/step - loss: 2.7552 - accuracy: 0.3122 - sensitivity_at_specificity: 0.6652 - specificity_at_sensitivity: 0.6707 - recall: 0.1420 - precision: 0.3902 - val_loss: 4.0871 - val_accuracy: 0.2469 - val_sensitivity_at_specificity: 0.5156 - val_specificity_at_sensitivity: 0.5289 - val_recall: 0.2469 - val_precision: 0.2469\n",
      "Epoch 2/150\n",
      "473/473 [==============================] - ETA: 0s - loss: 1.0061 - accuracy: 0.6103 - sensitivity_at_specificity: 0.9465 - specificity_at_sensitivity: 0.9469 - recall: 0.5068 - precision: 0.6968\n",
      "Epoch 2: val_accuracy improved from 0.24688 to 0.32812, saving model to ECG_Spectrogram_Model.h5\n",
      "473/473 [==============================] - 71s 150ms/step - loss: 1.0061 - accuracy: 0.6103 - sensitivity_at_specificity: 0.9465 - specificity_at_sensitivity: 0.9469 - recall: 0.5068 - precision: 0.6968 - val_loss: 1.8063 - val_accuracy: 0.3281 - val_sensitivity_at_specificity: 0.7625 - val_specificity_at_sensitivity: 0.7156 - val_recall: 0.2906 - val_precision: 0.3941\n",
      "Epoch 3/150\n",
      "473/473 [==============================] - ETA: 0s - loss: 0.6824 - accuracy: 0.7448 - sensitivity_at_specificity: 0.9859 - specificity_at_sensitivity: 0.9860 - recall: 0.6892 - precision: 0.7982\n",
      "Epoch 3: val_accuracy improved from 0.32812 to 0.65000, saving model to ECG_Spectrogram_Model.h5\n",
      "473/473 [==============================] - 71s 151ms/step - loss: 0.6824 - accuracy: 0.7448 - sensitivity_at_specificity: 0.9859 - specificity_at_sensitivity: 0.9860 - recall: 0.6892 - precision: 0.7982 - val_loss: 0.9325 - val_accuracy: 0.6500 - val_sensitivity_at_specificity: 0.9625 - val_specificity_at_sensitivity: 0.9586 - val_recall: 0.6031 - val_precision: 0.6968\n",
      "Epoch 4/150\n",
      "473/473 [==============================] - ETA: 0s - loss: 0.5610 - accuracy: 0.7964 - sensitivity_at_specificity: 0.9923 - specificity_at_sensitivity: 0.9925 - recall: 0.7558 - precision: 0.8328\n",
      "Epoch 4: val_accuracy improved from 0.65000 to 0.82187, saving model to ECG_Spectrogram_Model.h5\n",
      "473/473 [==============================] - 71s 151ms/step - loss: 0.5610 - accuracy: 0.7964 - sensitivity_at_specificity: 0.9923 - specificity_at_sensitivity: 0.9925 - recall: 0.7558 - precision: 0.8328 - val_loss: 0.5401 - val_accuracy: 0.8219 - val_sensitivity_at_specificity: 0.9937 - val_specificity_at_sensitivity: 0.9953 - val_recall: 0.7312 - val_precision: 0.8897\n",
      "Epoch 5/150\n",
      "473/473 [==============================] - ETA: 0s - loss: 0.5058 - accuracy: 0.8145 - sensitivity_at_specificity: 0.9932 - specificity_at_sensitivity: 0.9950 - recall: 0.7814 - precision: 0.8461\n",
      "Epoch 5: val_accuracy did not improve from 0.82187\n",
      "473/473 [==============================] - 71s 149ms/step - loss: 0.5058 - accuracy: 0.8145 - sensitivity_at_specificity: 0.9932 - specificity_at_sensitivity: 0.9950 - recall: 0.7814 - precision: 0.8461 - val_loss: 0.4694 - val_accuracy: 0.8188 - val_sensitivity_at_specificity: 0.9969 - val_specificity_at_sensitivity: 0.9937 - val_recall: 0.7812 - val_precision: 0.8532\n",
      "Epoch 6/150\n",
      "473/473 [==============================] - ETA: 0s - loss: 0.4535 - accuracy: 0.8340 - sensitivity_at_specificity: 0.9970 - specificity_at_sensitivity: 0.9966 - recall: 0.8057 - precision: 0.8635\n",
      "Epoch 6: val_accuracy improved from 0.82187 to 0.85625, saving model to ECG_Spectrogram_Model.h5\n",
      "473/473 [==============================] - 71s 150ms/step - loss: 0.4535 - accuracy: 0.8340 - sensitivity_at_specificity: 0.9970 - specificity_at_sensitivity: 0.9966 - recall: 0.8057 - precision: 0.8635 - val_loss: 0.4052 - val_accuracy: 0.8562 - val_sensitivity_at_specificity: 1.0000 - val_specificity_at_sensitivity: 0.9961 - val_recall: 0.8250 - val_precision: 0.9072\n",
      "Epoch 7/150\n",
      "473/473 [==============================] - ETA: 0s - loss: 0.4189 - accuracy: 0.8468 - sensitivity_at_specificity: 0.9972 - specificity_at_sensitivity: 0.9973 - recall: 0.8211 - precision: 0.8719\n",
      "Epoch 7: val_accuracy did not improve from 0.85625\n",
      "473/473 [==============================] - 71s 149ms/step - loss: 0.4189 - accuracy: 0.8468 - sensitivity_at_specificity: 0.9972 - specificity_at_sensitivity: 0.9973 - recall: 0.8211 - precision: 0.8719 - val_loss: 0.5022 - val_accuracy: 0.8062 - val_sensitivity_at_specificity: 1.0000 - val_specificity_at_sensitivity: 0.9914 - val_recall: 0.7812 - val_precision: 0.8306\n",
      "Epoch 8/150\n",
      "473/473 [==============================] - ETA: 0s - loss: 0.3846 - accuracy: 0.8572 - sensitivity_at_specificity: 0.9976 - specificity_at_sensitivity: 0.9980 - recall: 0.8350 - precision: 0.8793\n",
      "Epoch 8: val_accuracy did not improve from 0.85625\n",
      "473/473 [==============================] - 71s 149ms/step - loss: 0.3846 - accuracy: 0.8572 - sensitivity_at_specificity: 0.9976 - specificity_at_sensitivity: 0.9980 - recall: 0.8350 - precision: 0.8793 - val_loss: 0.5082 - val_accuracy: 0.8062 - val_sensitivity_at_specificity: 0.9969 - val_specificity_at_sensitivity: 0.9937 - val_recall: 0.7750 - val_precision: 0.8212\n",
      "Epoch 9/150\n",
      "473/473 [==============================] - ETA: 0s - loss: 0.3710 - accuracy: 0.8643 - sensitivity_at_specificity: 0.9978 - specificity_at_sensitivity: 0.9982 - recall: 0.8440 - precision: 0.8850\n",
      "Epoch 9: val_accuracy did not improve from 0.85625\n",
      "473/473 [==============================] - 71s 149ms/step - loss: 0.3710 - accuracy: 0.8643 - sensitivity_at_specificity: 0.9978 - specificity_at_sensitivity: 0.9982 - recall: 0.8440 - precision: 0.8850 - val_loss: 0.5327 - val_accuracy: 0.8156 - val_sensitivity_at_specificity: 0.9937 - val_specificity_at_sensitivity: 0.9930 - val_recall: 0.8000 - val_precision: 0.8339\n",
      "Epoch 10/150\n",
      "473/473 [==============================] - ETA: 0s - loss: 0.3487 - accuracy: 0.8752 - sensitivity_at_specificity: 0.9979 - specificity_at_sensitivity: 0.9984 - recall: 0.8559 - precision: 0.8932\n",
      "Epoch 10: val_accuracy improved from 0.85625 to 0.87813, saving model to ECG_Spectrogram_Model.h5\n",
      "473/473 [==============================] - 71s 150ms/step - loss: 0.3487 - accuracy: 0.8752 - sensitivity_at_specificity: 0.9979 - specificity_at_sensitivity: 0.9984 - recall: 0.8559 - precision: 0.8932 - val_loss: 0.3700 - val_accuracy: 0.8781 - val_sensitivity_at_specificity: 0.9906 - val_specificity_at_sensitivity: 0.9969 - val_recall: 0.8687 - val_precision: 0.8910\n",
      "Epoch 11/150\n",
      "473/473 [==============================] - ETA: 0s - loss: 0.3274 - accuracy: 0.8791 - sensitivity_at_specificity: 0.9980 - specificity_at_sensitivity: 0.9990 - recall: 0.8613 - precision: 0.8971\n",
      "Epoch 11: val_accuracy improved from 0.87813 to 0.89375, saving model to ECG_Spectrogram_Model.h5\n",
      "473/473 [==============================] - 71s 150ms/step - loss: 0.3274 - accuracy: 0.8791 - sensitivity_at_specificity: 0.9980 - specificity_at_sensitivity: 0.9990 - recall: 0.8613 - precision: 0.8971 - val_loss: 0.3149 - val_accuracy: 0.8938 - val_sensitivity_at_specificity: 1.0000 - val_specificity_at_sensitivity: 0.9984 - val_recall: 0.8875 - val_precision: 0.9103\n",
      "Epoch 12/150\n",
      "473/473 [==============================] - ETA: 0s - loss: 0.3128 - accuracy: 0.8861 - sensitivity_at_specificity: 0.9982 - specificity_at_sensitivity: 0.9992 - recall: 0.8702 - precision: 0.9026\n",
      "Epoch 12: val_accuracy did not improve from 0.89375\n",
      "473/473 [==============================] - 71s 150ms/step - loss: 0.3128 - accuracy: 0.8861 - sensitivity_at_specificity: 0.9982 - specificity_at_sensitivity: 0.9992 - recall: 0.8702 - precision: 0.9026 - val_loss: 0.4081 - val_accuracy: 0.8562 - val_sensitivity_at_specificity: 0.9906 - val_specificity_at_sensitivity: 0.9984 - val_recall: 0.8531 - val_precision: 0.8722\n",
      "Epoch 13/150\n",
      "473/473 [==============================] - ETA: 0s - loss: 0.2914 - accuracy: 0.8905 - sensitivity_at_specificity: 0.9987 - specificity_at_sensitivity: 0.9994 - recall: 0.8755 - precision: 0.9049\n",
      "Epoch 13: val_accuracy did not improve from 0.89375\n",
      "473/473 [==============================] - 71s 150ms/step - loss: 0.2914 - accuracy: 0.8905 - sensitivity_at_specificity: 0.9987 - specificity_at_sensitivity: 0.9994 - recall: 0.8755 - precision: 0.9049 - val_loss: 0.3084 - val_accuracy: 0.8875 - val_sensitivity_at_specificity: 1.0000 - val_specificity_at_sensitivity: 0.9977 - val_recall: 0.8781 - val_precision: 0.9006\n"
     ]
    },
    {
     "name": "stdout",
     "output_type": "stream",
     "text": [
      "Epoch 14/150\n",
      "473/473 [==============================] - ETA: 0s - loss: 0.2766 - accuracy: 0.8975 - sensitivity_at_specificity: 0.9985 - specificity_at_sensitivity: 0.9993 - recall: 0.8829 - precision: 0.9113\n",
      "Epoch 14: val_accuracy did not improve from 0.89375\n",
      "473/473 [==============================] - 71s 149ms/step - loss: 0.2766 - accuracy: 0.8975 - sensitivity_at_specificity: 0.9985 - specificity_at_sensitivity: 0.9993 - recall: 0.8829 - precision: 0.9113 - val_loss: 0.3252 - val_accuracy: 0.8938 - val_sensitivity_at_specificity: 0.9937 - val_specificity_at_sensitivity: 0.9984 - val_recall: 0.8781 - val_precision: 0.8978\n",
      "Epoch 15/150\n",
      "473/473 [==============================] - ETA: 0s - loss: 0.2569 - accuracy: 0.9030 - sensitivity_at_specificity: 0.9987 - specificity_at_sensitivity: 0.9995 - recall: 0.8911 - precision: 0.9169\n",
      "Epoch 15: val_accuracy improved from 0.89375 to 0.90312, saving model to ECG_Spectrogram_Model.h5\n",
      "473/473 [==============================] - 71s 150ms/step - loss: 0.2569 - accuracy: 0.9030 - sensitivity_at_specificity: 0.9987 - specificity_at_sensitivity: 0.9995 - recall: 0.8911 - precision: 0.9169 - val_loss: 0.2822 - val_accuracy: 0.9031 - val_sensitivity_at_specificity: 0.9937 - val_specificity_at_sensitivity: 0.9984 - val_recall: 0.9000 - val_precision: 0.9172\n",
      "Epoch 16/150\n",
      "473/473 [==============================] - ETA: 0s - loss: 0.2481 - accuracy: 0.9060 - sensitivity_at_specificity: 0.9983 - specificity_at_sensitivity: 0.9996 - recall: 0.8953 - precision: 0.9180\n",
      "Epoch 16: val_accuracy did not improve from 0.90312\n",
      "473/473 [==============================] - 71s 150ms/step - loss: 0.2481 - accuracy: 0.9060 - sensitivity_at_specificity: 0.9983 - specificity_at_sensitivity: 0.9996 - recall: 0.8953 - precision: 0.9180 - val_loss: 0.3052 - val_accuracy: 0.9031 - val_sensitivity_at_specificity: 0.9906 - val_specificity_at_sensitivity: 0.9984 - val_recall: 0.8938 - val_precision: 0.9167\n",
      "Epoch 17/150\n",
      "473/473 [==============================] - ETA: 0s - loss: 0.2278 - accuracy: 0.9150 - sensitivity_at_specificity: 0.9989 - specificity_at_sensitivity: 0.9998 - recall: 0.9044 - precision: 0.9252\n",
      "Epoch 17: val_accuracy improved from 0.90312 to 0.91562, saving model to ECG_Spectrogram_Model.h5\n",
      "473/473 [==============================] - 71s 151ms/step - loss: 0.2278 - accuracy: 0.9150 - sensitivity_at_specificity: 0.9989 - specificity_at_sensitivity: 0.9998 - recall: 0.9044 - precision: 0.9252 - val_loss: 0.2449 - val_accuracy: 0.9156 - val_sensitivity_at_specificity: 0.9937 - val_specificity_at_sensitivity: 0.9992 - val_recall: 0.9094 - val_precision: 0.9151\n",
      "Epoch 18/150\n",
      "473/473 [==============================] - ETA: 0s - loss: 0.2167 - accuracy: 0.9194 - sensitivity_at_specificity: 0.9985 - specificity_at_sensitivity: 0.9998 - recall: 0.9104 - precision: 0.9296\n",
      "Epoch 18: val_accuracy improved from 0.91562 to 0.92813, saving model to ECG_Spectrogram_Model.h5\n",
      "473/473 [==============================] - 71s 150ms/step - loss: 0.2167 - accuracy: 0.9194 - sensitivity_at_specificity: 0.9985 - specificity_at_sensitivity: 0.9998 - recall: 0.9104 - precision: 0.9296 - val_loss: 0.1963 - val_accuracy: 0.9281 - val_sensitivity_at_specificity: 1.0000 - val_specificity_at_sensitivity: 1.0000 - val_recall: 0.9187 - val_precision: 0.9304\n",
      "Epoch 19/150\n",
      "473/473 [==============================] - ETA: 0s - loss: 0.2010 - accuracy: 0.9240 - sensitivity_at_specificity: 0.9989 - specificity_at_sensitivity: 0.9998 - recall: 0.9153 - precision: 0.9328\n",
      "Epoch 19: val_accuracy improved from 0.92813 to 0.94063, saving model to ECG_Spectrogram_Model.h5\n",
      "473/473 [==============================] - 71s 150ms/step - loss: 0.2010 - accuracy: 0.9240 - sensitivity_at_specificity: 0.9989 - specificity_at_sensitivity: 0.9998 - recall: 0.9153 - precision: 0.9328 - val_loss: 0.1876 - val_accuracy: 0.9406 - val_sensitivity_at_specificity: 0.9937 - val_specificity_at_sensitivity: 1.0000 - val_recall: 0.9406 - val_precision: 0.9436\n",
      "Epoch 20/150\n",
      "473/473 [==============================] - ETA: 0s - loss: 0.1883 - accuracy: 0.9287 - sensitivity_at_specificity: 0.9986 - specificity_at_sensitivity: 0.9999 - recall: 0.9218 - precision: 0.9359\n",
      "Epoch 20: val_accuracy did not improve from 0.94063\n",
      "473/473 [==============================] - 71s 149ms/step - loss: 0.1883 - accuracy: 0.9287 - sensitivity_at_specificity: 0.9986 - specificity_at_sensitivity: 0.9999 - recall: 0.9218 - precision: 0.9359 - val_loss: 0.1961 - val_accuracy: 0.9375 - val_sensitivity_at_specificity: 0.9969 - val_specificity_at_sensitivity: 0.9992 - val_recall: 0.9312 - val_precision: 0.9401\n",
      "Epoch 21/150\n",
      "473/473 [==============================] - ETA: 0s - loss: 0.1794 - accuracy: 0.9322 - sensitivity_at_specificity: 0.9993 - specificity_at_sensitivity: 0.9999 - recall: 0.9252 - precision: 0.9381\n",
      "Epoch 21: val_accuracy did not improve from 0.94063\n",
      "473/473 [==============================] - 71s 150ms/step - loss: 0.1794 - accuracy: 0.9322 - sensitivity_at_specificity: 0.9993 - specificity_at_sensitivity: 0.9999 - recall: 0.9252 - precision: 0.9381 - val_loss: 0.2496 - val_accuracy: 0.9156 - val_sensitivity_at_specificity: 0.9906 - val_specificity_at_sensitivity: 0.9984 - val_recall: 0.9125 - val_precision: 0.9270\n",
      "Epoch 22/150\n",
      "473/473 [==============================] - ETA: 0s - loss: 0.1602 - accuracy: 0.9398 - sensitivity_at_specificity: 0.9986 - specificity_at_sensitivity: 0.9999 - recall: 0.9343 - precision: 0.9464\n",
      "Epoch 22: val_accuracy did not improve from 0.94063\n",
      "473/473 [==============================] - 71s 150ms/step - loss: 0.1602 - accuracy: 0.9398 - sensitivity_at_specificity: 0.9986 - specificity_at_sensitivity: 0.9999 - recall: 0.9343 - precision: 0.9464 - val_loss: 0.2549 - val_accuracy: 0.9219 - val_sensitivity_at_specificity: 0.9875 - val_specificity_at_sensitivity: 0.9992 - val_recall: 0.9156 - val_precision: 0.9272\n",
      "Epoch 23/150\n",
      "473/473 [==============================] - ETA: 0s - loss: 0.1489 - accuracy: 0.9443 - sensitivity_at_specificity: 0.9989 - specificity_at_sensitivity: 0.9999 - recall: 0.9392 - precision: 0.9492\n",
      "Epoch 23: val_accuracy did not improve from 0.94063\n",
      "473/473 [==============================] - 71s 150ms/step - loss: 0.1489 - accuracy: 0.9443 - sensitivity_at_specificity: 0.9989 - specificity_at_sensitivity: 0.9999 - recall: 0.9392 - precision: 0.9492 - val_loss: 0.1500 - val_accuracy: 0.9344 - val_sensitivity_at_specificity: 1.0000 - val_specificity_at_sensitivity: 1.0000 - val_recall: 0.9281 - val_precision: 0.9399\n",
      "Epoch 24/150\n",
      "473/473 [==============================] - ETA: 0s - loss: 0.1370 - accuracy: 0.9493 - sensitivity_at_specificity: 0.9991 - specificity_at_sensitivity: 0.9999 - recall: 0.9449 - precision: 0.9540\n",
      "Epoch 24: val_accuracy improved from 0.94063 to 0.95312, saving model to ECG_Spectrogram_Model.h5\n",
      "473/473 [==============================] - 71s 150ms/step - loss: 0.1370 - accuracy: 0.9493 - sensitivity_at_specificity: 0.9991 - specificity_at_sensitivity: 0.9999 - recall: 0.9449 - precision: 0.9540 - val_loss: 0.1092 - val_accuracy: 0.9531 - val_sensitivity_at_specificity: 1.0000 - val_specificity_at_sensitivity: 1.0000 - val_recall: 0.9500 - val_precision: 0.9590\n",
      "Epoch 25/150\n",
      "473/473 [==============================] - ETA: 0s - loss: 0.1250 - accuracy: 0.9545 - sensitivity_at_specificity: 0.9990 - specificity_at_sensitivity: 0.9999 - recall: 0.9513 - precision: 0.9578\n",
      "Epoch 25: val_accuracy improved from 0.95312 to 0.96250, saving model to ECG_Spectrogram_Model.h5\n",
      "473/473 [==============================] - 71s 150ms/step - loss: 0.1250 - accuracy: 0.9545 - sensitivity_at_specificity: 0.9990 - specificity_at_sensitivity: 0.9999 - recall: 0.9513 - precision: 0.9578 - val_loss: 0.1136 - val_accuracy: 0.9625 - val_sensitivity_at_specificity: 0.9969 - val_specificity_at_sensitivity: 0.9992 - val_recall: 0.9625 - val_precision: 0.9655\n",
      "Epoch 26/150\n",
      "473/473 [==============================] - ETA: 0s - loss: 0.1200 - accuracy: 0.9550 - sensitivity_at_specificity: 0.9992 - specificity_at_sensitivity: 0.9999 - recall: 0.9517 - precision: 0.9587\n",
      "Epoch 26: val_accuracy did not improve from 0.96250\n",
      "473/473 [==============================] - 71s 150ms/step - loss: 0.1200 - accuracy: 0.9550 - sensitivity_at_specificity: 0.9992 - specificity_at_sensitivity: 0.9999 - recall: 0.9517 - precision: 0.9587 - val_loss: 0.1885 - val_accuracy: 0.9375 - val_sensitivity_at_specificity: 0.9969 - val_specificity_at_sensitivity: 0.9992 - val_recall: 0.9375 - val_precision: 0.9404\n"
     ]
    },
    {
     "name": "stdout",
     "output_type": "stream",
     "text": [
      "Epoch 27/150\n",
      "473/473 [==============================] - ETA: 0s - loss: 0.1078 - accuracy: 0.9604 - sensitivity_at_specificity: 0.9990 - specificity_at_sensitivity: 0.9998 - recall: 0.9578 - precision: 0.9630\n",
      "Epoch 27: val_accuracy did not improve from 0.96250\n",
      "473/473 [==============================] - 71s 149ms/step - loss: 0.1078 - accuracy: 0.9604 - sensitivity_at_specificity: 0.9990 - specificity_at_sensitivity: 0.9998 - recall: 0.9578 - precision: 0.9630 - val_loss: 0.5716 - val_accuracy: 0.8687 - val_sensitivity_at_specificity: 0.9594 - val_specificity_at_sensitivity: 0.9961 - val_recall: 0.8656 - val_precision: 0.8711\n",
      "Epoch 28/150\n",
      "473/473 [==============================] - ETA: 0s - loss: 0.0961 - accuracy: 0.9654 - sensitivity_at_specificity: 0.9989 - specificity_at_sensitivity: 0.9999 - recall: 0.9636 - precision: 0.9677\n",
      "Epoch 28: val_accuracy improved from 0.96250 to 0.96875, saving model to ECG_Spectrogram_Model.h5\n",
      "473/473 [==============================] - 71s 150ms/step - loss: 0.0961 - accuracy: 0.9654 - sensitivity_at_specificity: 0.9989 - specificity_at_sensitivity: 0.9999 - recall: 0.9636 - precision: 0.9677 - val_loss: 0.1251 - val_accuracy: 0.9688 - val_sensitivity_at_specificity: 0.9969 - val_specificity_at_sensitivity: 1.0000 - val_recall: 0.9688 - val_precision: 0.9748\n",
      "Epoch 29/150\n",
      "473/473 [==============================] - ETA: 0s - loss: 0.0911 - accuracy: 0.9673 - sensitivity_at_specificity: 0.9993 - specificity_at_sensitivity: 0.9999 - recall: 0.9653 - precision: 0.9694\n",
      "Epoch 29: val_accuracy did not improve from 0.96875\n",
      "473/473 [==============================] - 71s 150ms/step - loss: 0.0911 - accuracy: 0.9673 - sensitivity_at_specificity: 0.9993 - specificity_at_sensitivity: 0.9999 - recall: 0.9653 - precision: 0.9694 - val_loss: 0.1156 - val_accuracy: 0.9563 - val_sensitivity_at_specificity: 0.9969 - val_specificity_at_sensitivity: 0.9992 - val_recall: 0.9563 - val_precision: 0.9563\n",
      "Epoch 30/150\n",
      "473/473 [==============================] - ETA: 0s - loss: 0.0851 - accuracy: 0.9694 - sensitivity_at_specificity: 0.9992 - specificity_at_sensitivity: 0.9999 - recall: 0.9675 - precision: 0.9714\n",
      "Epoch 30: val_accuracy did not improve from 0.96875\n",
      "473/473 [==============================] - 71s 150ms/step - loss: 0.0851 - accuracy: 0.9694 - sensitivity_at_specificity: 0.9992 - specificity_at_sensitivity: 0.9999 - recall: 0.9675 - precision: 0.9714 - val_loss: 0.1953 - val_accuracy: 0.9438 - val_sensitivity_at_specificity: 0.9937 - val_specificity_at_sensitivity: 0.9992 - val_recall: 0.9438 - val_precision: 0.9467\n",
      "Epoch 31/150\n",
      "473/473 [==============================] - ETA: 0s - loss: 0.0787 - accuracy: 0.9723 - sensitivity_at_specificity: 0.9990 - specificity_at_sensitivity: 0.9998 - recall: 0.9712 - precision: 0.9737\n",
      "Epoch 31: val_accuracy did not improve from 0.96875\n",
      "473/473 [==============================] - 71s 150ms/step - loss: 0.0787 - accuracy: 0.9723 - sensitivity_at_specificity: 0.9990 - specificity_at_sensitivity: 0.9998 - recall: 0.9712 - precision: 0.9737 - val_loss: 0.1360 - val_accuracy: 0.9531 - val_sensitivity_at_specificity: 1.0000 - val_specificity_at_sensitivity: 1.0000 - val_recall: 0.9531 - val_precision: 0.9591\n",
      "Epoch 32/150\n",
      "473/473 [==============================] - ETA: 0s - loss: 0.0715 - accuracy: 0.9743 - sensitivity_at_specificity: 0.9992 - specificity_at_sensitivity: 0.9998 - recall: 0.9733 - precision: 0.9757\n",
      "Epoch 32: val_accuracy did not improve from 0.96875\n",
      "473/473 [==============================] - 71s 149ms/step - loss: 0.0715 - accuracy: 0.9743 - sensitivity_at_specificity: 0.9992 - specificity_at_sensitivity: 0.9998 - recall: 0.9733 - precision: 0.9757 - val_loss: 0.0963 - val_accuracy: 0.9625 - val_sensitivity_at_specificity: 1.0000 - val_specificity_at_sensitivity: 1.0000 - val_recall: 0.9625 - val_precision: 0.9625\n",
      "Epoch 33/150\n",
      "473/473 [==============================] - ETA: 0s - loss: 0.0712 - accuracy: 0.9760 - sensitivity_at_specificity: 0.9989 - specificity_at_sensitivity: 0.9998 - recall: 0.9749 - precision: 0.9773\n",
      "Epoch 33: val_accuracy did not improve from 0.96875\n",
      "473/473 [==============================] - 71s 149ms/step - loss: 0.0712 - accuracy: 0.9760 - sensitivity_at_specificity: 0.9989 - specificity_at_sensitivity: 0.9998 - recall: 0.9749 - precision: 0.9773 - val_loss: 0.1412 - val_accuracy: 0.9531 - val_sensitivity_at_specificity: 0.9937 - val_specificity_at_sensitivity: 0.9984 - val_recall: 0.9531 - val_precision: 0.9531\n"
     ]
    }
   ],
   "source": [
    "#Model Execution\n",
    "\n",
    "from keras.callbacks import ModelCheckpoint, EarlyStopping\n",
    "\n",
    "# Initializing Device Specification\n",
    "device_spec = tf.DeviceSpec(job =\"localhost\", replica = 0, device_type = \"GPU\")\n",
    " \n",
    "# Printing the DeviceSpec\n",
    "print('Device Spec: ', device_spec.to_string())\n",
    " \n",
    "# Enabling device logging\n",
    "tf.debugging.set_log_device_placement(True)\n",
    " \n",
    "# Specifying the device\n",
    "with tf.device(device_spec):\n",
    "    \n",
    "#with tf.device('/gpu:10'):\n",
    "    \n",
    "    checkpoint = ModelCheckpoint(\"ECG_Spectrogram_Model.h5\", monitor='val_accuracy', verbose=1, save_best_only=True, save_weights_only=False, mode='auto', period=1)\n",
    "    mycallback=tf.keras.callbacks.EarlyStopping(monitor=\"val_accuracy\", patience=5, mode=\"auto\")\n",
    "    \n",
    "    history = model.fit(\n",
    "          train_data,\n",
    "          #steps_per_epoch=20, \n",
    "          epochs=150,\n",
    "          verbose=1,\n",
    "          validation_data = val_data,\n",
    "          validation_steps=5, \n",
    "          callbacks = [mycallback,checkpoint]\n",
    "    ) "
   ]
  },
  {
   "cell_type": "code",
   "execution_count": 10,
   "metadata": {},
   "outputs": [
    {
     "name": "stdout",
     "output_type": "stream",
     "text": [
      "Training Accuracy:  0.9760298728942871\n",
      "Validation Accuracy:  0.96875\n",
      "Validation Specificity:  1.0\n",
      "Validation Sensitivity:  1.0\n",
      "Validation Recall:  0.96875\n",
      "Validation Precision:  0.9748427867889404\n",
      "Validation Loss:  0.09630703181028366\n"
     ]
    }
   ],
   "source": [
    "Training_Accuracy=history.history['accuracy']\n",
    "Validation_Accuracy=history.history['val_accuracy']\n",
    "Validation_Specificity=history.history['val_specificity_at_sensitivity']\n",
    "Validation_Sensitivity=history.history['val_sensitivity_at_specificity']\n",
    "Validation_Recall=history.history['val_recall']\n",
    "Validation_Precision=history.history['val_precision']\n",
    "Validation_Loss=history.history['val_loss']\n",
    "\n",
    "print(\"Training Accuracy: \",max(Training_Accuracy))\n",
    "print(\"Validation Accuracy: \",max(Validation_Accuracy))\n",
    "print(\"Validation Specificity: \",max(Validation_Specificity))\n",
    "print(\"Validation Sensitivity: \",max(Validation_Sensitivity))\n",
    "print(\"Validation Recall: \",max(Validation_Recall))\n",
    "print(\"Validation Precision: \",max(Validation_Precision))\n",
    "print(\"Validation Loss: \",min(Validation_Loss))"
   ]
  },
  {
   "cell_type": "code",
   "execution_count": 11,
   "metadata": {},
   "outputs": [
    {
     "data": {
      "image/png": "[encoded data removed]",
      "text/plain": [
       "<Figure size 720x432 with 1 Axes>"
      ]
     },
     "metadata": {
      "needs_background": "light"
     },
     "output_type": "display_data"
    }
   ],
   "source": [
    "plt.figure(figsize=(10,6))\n",
    "plt.plot(history.history['accuracy'])\n",
    "plt.plot(history.history['val_accuracy'])\n",
    "plt.title('Model accuracy')\n",
    "plt.ylabel('Accuracy')\n",
    "plt.xlabel('Epoch')\n",
    "plt.legend(['Train', 'Test'], loc='upper left')\n",
    "plt.show()"
   ]
  },
  {
   "cell_type": "code",
   "execution_count": 12,
   "metadata": {},
   "outputs": [
    {
     "data": {
      "image/png": "[encoded data removed]",
      "text/plain": [
       "<Figure size 720x432 with 1 Axes>"
      ]
     },
     "metadata": {
      "needs_background": "light"
     },
     "output_type": "display_data"
    }
   ],
   "source": [
    "plt.figure(figsize=(10,6))\n",
    "plt.plot(history.history['loss'])\n",
    "plt.plot(history.history['val_loss'])\n",
    "plt.title('Model Loss')\n",
    "plt.ylabel('Loss')\n",
    "plt.xlabel('Epoch')\n",
    "plt.legend(['Train', 'Test'], loc='upper left')\n",
    "plt.show()"
   ]
  },
  {
   "cell_type": "code",
   "execution_count": null,
   "metadata": {},
   "outputs": [],
   "source": []
  },
  {
   "cell_type": "code",
   "execution_count": null,
   "metadata": {},
   "outputs": [],
   "source": []
  }
 ],
 "metadata": {
  "accelerator": "GPU",
  "colab": {
   "collapsed_sections": [
    "7e88OLey6Bgd"
   ],
   "provenance": []
  },
  "gpuClass": "standard",
  "kernelspec": {
   "display_name": "Python 3 (ipykernel)",
   "language": "python",
   "name": "python3"
  },
  "language_info": {
   "codemirror_mode": {
    "name": "ipython",
    "version": 3
   },
   "file_extension": ".py",
   "mimetype": "text/x-python",
   "name": "python",
   "nbconvert_exporter": "python",
   "pygments_lexer": "ipython3",
   "version": "3.10.6"
  }
 },
 "nbformat": 4,
 "nbformat_minor": 4
}
